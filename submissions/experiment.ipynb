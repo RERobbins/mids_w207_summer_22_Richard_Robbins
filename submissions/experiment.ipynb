{
 "cells": [
  {
   "cell_type": "code",
   "execution_count": 1,
   "id": "c831dd28-f643-4df0-807d-80f0b1d26d3e",
   "metadata": {},
   "outputs": [],
   "source": [
    "from experiment import *\n",
    "\n",
    "tf.config.set_visible_devices([], \"GPU\")"
   ]
  },
  {
   "cell_type": "code",
   "execution_count": 2,
   "id": "6a0106e0-696b-4f9d-9cfb-c8bd8ae86224",
   "metadata": {},
   "outputs": [],
   "source": [
    "seed_sequence_length = 275\n",
    "seed_vocab_size = 4000\n",
    "seed_hidden_units = 100\n",
    "seed_embeddings = 4"
   ]
  },
  {
   "cell_type": "code",
   "execution_count": 3,
   "id": "6e280b6e-858f-495e-9975-f0e2484b7d19",
   "metadata": {},
   "outputs": [
    {
     "name": "stderr",
     "output_type": "stream",
     "text": [
      "2022-06-30 14:28:41.097206: W tensorflow/core/platform/profile_utils/cpu_utils.cc:128] Failed to get CPU frequency: 0 Hz\n"
     ]
    },
    {
     "name": "stdout",
     "output_type": "stream",
     "text": [
      "782/782 [==============================] - 0s 348us/step - loss: 0.3069 - accuracy: 0.8766\n"
     ]
    },
    {
     "data": {
      "text/plain": [
       "(<keras.engine.sequential.Sequential at 0x1771f4880>,\n",
       " <keras.callbacks.History at 0x28b31b8e0>,\n",
       " 0.8766400218009949)"
      ]
     },
     "execution_count": 3,
     "metadata": {},
     "output_type": "execute_result"
    }
   ],
   "source": [
    "experiment(\n",
    "    sequence_length=seed_sequence_length,\n",
    "    vocab_size=seed_vocab_size,\n",
    "    hidden_units=seed_hidden_units,\n",
    "    embedding_dim=seed_embeddings,\n",
    "    verbose=0,\n",
    ")"
   ]
  },
  {
   "cell_type": "code",
   "execution_count": 4,
   "id": "c130c31d-e8db-4c5a-b420-6ae1ba2c3bab",
   "metadata": {},
   "outputs": [],
   "source": [
    "def next_step(\n",
    "    base_sequence_length, base_vocab_size, base_hidden_units, base_embeddings, rate\n",
    "):\n",
    "    results = {}\n",
    "    for sequence_length in (base_sequence_length, round(base_sequence_length * rate)):\n",
    "        for vocab_size in (base_vocab_size, round(base_vocab_size * rate)):\n",
    "            for hidden_units in (base_hidden_units, round(base_hidden_units * rate)):\n",
    "                for embeddings in (base_embeddings, 2 * base_embeddings):\n",
    "                    _, _, accuracy = experiment(\n",
    "                        sequence_length=sequence_length,\n",
    "                        vocab_size=vocab_size,\n",
    "                        hidden_units=hidden_units,\n",
    "                        embedding_dim=embeddings,\n",
    "                        verbose=0,\n",
    "                    )\n",
    "                    results[\n",
    "                        (sequence_length, vocab_size, hidden_units, embeddings)\n",
    "                    ] = accuracy\n",
    "\n",
    "    max_value_key = max(results, key=results.get)\n",
    "    max_value_accuracy = results[max_value_key]\n",
    "    print(f\"Maximum Accuracy from Step: {max_value_accuracy} with Key: {max_value_key}\")\n",
    "    return max_value_key"
   ]
  },
  {
   "cell_type": "code",
   "execution_count": 5,
   "id": "ad91736e-b46c-472e-9eb4-53e1718cb8b3",
   "metadata": {},
   "outputs": [
    {
     "name": "stdout",
     "output_type": "stream",
     "text": [
      "782/782 [==============================] - 0s 338us/step - loss: 0.3069 - accuracy: 0.8766\n",
      "782/782 [==============================] - 0s 397us/step - loss: 0.3140 - accuracy: 0.8728\n",
      "782/782 [==============================] - 0s 334us/step - loss: 0.2986 - accuracy: 0.8800\n",
      "782/782 [==============================] - 0s 410us/step - loss: 0.3091 - accuracy: 0.8736\n",
      "782/782 [==============================] - 0s 387us/step - loss: 0.3037 - accuracy: 0.8777\n",
      "782/782 [==============================] - 0s 405us/step - loss: 0.3135 - accuracy: 0.8728\n",
      "782/782 [==============================] - 0s 338us/step - loss: 0.2995 - accuracy: 0.8796\n",
      "782/782 [==============================] - 0s 420us/step - loss: 0.3108 - accuracy: 0.8746\n",
      "782/782 [==============================] - 0s 349us/step - loss: 0.3046 - accuracy: 0.8791\n",
      "782/782 [==============================] - 0s 415us/step - loss: 0.3149 - accuracy: 0.8722\n",
      "782/782 [==============================] - 0s 351us/step - loss: 0.3015 - accuracy: 0.8786\n",
      "782/782 [==============================] - 0s 419us/step - loss: 0.3119 - accuracy: 0.8730\n",
      "782/782 [==============================] - 0s 355us/step - loss: 0.3049 - accuracy: 0.8791\n",
      "782/782 [==============================] - 0s 412us/step - loss: 0.3176 - accuracy: 0.8710\n",
      "782/782 [==============================] - 0s 356us/step - loss: 0.2987 - accuracy: 0.8796\n",
      "782/782 [==============================] - 0s 415us/step - loss: 0.3155 - accuracy: 0.8730\n",
      "Maximum Accuracy from Step: 0.8799999952316284 with Key: (275, 4000, 105, 4)\n"
     ]
    },
    {
     "data": {
      "text/plain": [
       "(275, 4000, 105, 4)"
      ]
     },
     "execution_count": 5,
     "metadata": {},
     "output_type": "execute_result"
    }
   ],
   "source": [
    "next_step(\n",
    "    seed_sequence_length, seed_vocab_size, seed_hidden_units, seed_embeddings, 1.05\n",
    ")"
   ]
  },
  {
   "cell_type": "code",
   "execution_count": 7,
   "id": "52bdb6b7-98a7-470b-abf1-a8d31237cc5c",
   "metadata": {},
   "outputs": [
    {
     "name": "stdout",
     "output_type": "stream",
     "text": [
      "782/782 [==============================] - 0s 370us/step - loss: 0.3069 - accuracy: 0.8766\n",
      "782/782 [==============================] - 0s 422us/step - loss: 0.3140 - accuracy: 0.8728\n",
      "782/782 [==============================] - 0s 377us/step - loss: 0.3007 - accuracy: 0.8789\n",
      "782/782 [==============================] - 0s 445us/step - loss: 0.3139 - accuracy: 0.8720\n",
      "782/782 [==============================] - 0s 377us/step - loss: 0.3058 - accuracy: 0.8783\n",
      "782/782 [==============================] - 0s 449us/step - loss: 0.3110 - accuracy: 0.8762\n",
      "782/782 [==============================] - 0s 360us/step - loss: 0.3022 - accuracy: 0.8796\n",
      "782/782 [==============================] - 0s 445us/step - loss: 0.3114 - accuracy: 0.8738\n",
      "782/782 [==============================] - 0s 383us/step - loss: 0.3001 - accuracy: 0.8799\n",
      "782/782 [==============================] - 0s 459us/step - loss: 0.3157 - accuracy: 0.8713\n",
      "782/782 [==============================] - 0s 399us/step - loss: 0.3004 - accuracy: 0.8788\n",
      "782/782 [==============================] - 0s 458us/step - loss: 0.3078 - accuracy: 0.8748\n",
      "782/782 [==============================] - 0s 344us/step - loss: 0.3001 - accuracy: 0.8805\n",
      "782/782 [==============================] - 0s 432us/step - loss: 0.3179 - accuracy: 0.8725\n",
      "782/782 [==============================] - 0s 348us/step - loss: 0.2970 - accuracy: 0.8809\n",
      "782/782 [==============================] - 0s 491us/step - loss: 0.3100 - accuracy: 0.8747\n",
      "Maximum Accuracy from Step: 0.8809199929237366 with Key: (302, 4400, 110, 4)\n",
      "782/782 [==============================] - 0s 381us/step - loss: 0.2970 - accuracy: 0.8809\n",
      "782/782 [==============================] - 0s 472us/step - loss: 0.3100 - accuracy: 0.8747\n",
      "782/782 [==============================] - 0s 377us/step - loss: 0.2972 - accuracy: 0.8804\n",
      "782/782 [==============================] - 0s 499us/step - loss: 0.3068 - accuracy: 0.8757\n",
      "782/782 [==============================] - 0s 385us/step - loss: 0.2991 - accuracy: 0.8815\n",
      "782/782 [==============================] - 0s 473us/step - loss: 0.3094 - accuracy: 0.8753\n",
      "782/782 [==============================] - 0s 388us/step - loss: 0.2998 - accuracy: 0.8791\n",
      "782/782 [==============================] - 0s 525us/step - loss: 0.3093 - accuracy: 0.8753\n",
      "782/782 [==============================] - 0s 432us/step - loss: 0.2969 - accuracy: 0.8811\n",
      "782/782 [==============================] - 0s 487us/step - loss: 0.3154 - accuracy: 0.8731\n",
      "782/782 [==============================] - 0s 408us/step - loss: 0.2972 - accuracy: 0.8800\n",
      "782/782 [==============================] - 0s 494us/step - loss: 0.3069 - accuracy: 0.8761\n",
      "782/782 [==============================] - 0s 396us/step - loss: 0.2949 - accuracy: 0.8826\n"
     ]
    },
    {
     "ename": "InvalidArgumentError",
     "evalue": "Graph execution error:\n\nDetected at node 'Adam/Adam/update/mul_4' defined at (most recent call last):\n    File \"/Users/rerobbins/opt/anaconda3/envs/tf/lib/python3.9/runpy.py\", line 197, in _run_module_as_main\n      return _run_code(code, main_globals, None,\n    File \"/Users/rerobbins/opt/anaconda3/envs/tf/lib/python3.9/runpy.py\", line 87, in _run_code\n      exec(code, run_globals)\n    File \"/Users/rerobbins/opt/anaconda3/envs/tf/lib/python3.9/site-packages/ipykernel_launcher.py\", line 16, in <module>\n      app.launch_new_instance()\n    File \"/Users/rerobbins/opt/anaconda3/envs/tf/lib/python3.9/site-packages/traitlets/config/application.py\", line 846, in launch_instance\n      app.start()\n    File \"/Users/rerobbins/opt/anaconda3/envs/tf/lib/python3.9/site-packages/ipykernel/kernelapp.py\", line 677, in start\n      self.io_loop.start()\n    File \"/Users/rerobbins/opt/anaconda3/envs/tf/lib/python3.9/site-packages/tornado/platform/asyncio.py\", line 199, in start\n      self.asyncio_loop.run_forever()\n    File \"/Users/rerobbins/opt/anaconda3/envs/tf/lib/python3.9/asyncio/base_events.py\", line 601, in run_forever\n      self._run_once()\n    File \"/Users/rerobbins/opt/anaconda3/envs/tf/lib/python3.9/asyncio/base_events.py\", line 1905, in _run_once\n      handle._run()\n    File \"/Users/rerobbins/opt/anaconda3/envs/tf/lib/python3.9/asyncio/events.py\", line 80, in _run\n      self._context.run(self._callback, *self._args)\n    File \"/Users/rerobbins/opt/anaconda3/envs/tf/lib/python3.9/site-packages/ipykernel/kernelbase.py\", line 471, in dispatch_queue\n      await self.process_one()\n    File \"/Users/rerobbins/opt/anaconda3/envs/tf/lib/python3.9/site-packages/ipykernel/kernelbase.py\", line 460, in process_one\n      await dispatch(*args)\n    File \"/Users/rerobbins/opt/anaconda3/envs/tf/lib/python3.9/site-packages/ipykernel/kernelbase.py\", line 367, in dispatch_shell\n      await result\n    File \"/Users/rerobbins/opt/anaconda3/envs/tf/lib/python3.9/site-packages/ipykernel/kernelbase.py\", line 662, in execute_request\n      reply_content = await reply_content\n    File \"/Users/rerobbins/opt/anaconda3/envs/tf/lib/python3.9/site-packages/ipykernel/ipkernel.py\", line 360, in do_execute\n      res = shell.run_cell(code, store_history=store_history, silent=silent)\n    File \"/Users/rerobbins/opt/anaconda3/envs/tf/lib/python3.9/site-packages/ipykernel/zmqshell.py\", line 532, in run_cell\n      return super().run_cell(*args, **kwargs)\n    File \"/Users/rerobbins/opt/anaconda3/envs/tf/lib/python3.9/site-packages/IPython/core/interactiveshell.py\", line 2863, in run_cell\n      result = self._run_cell(\n    File \"/Users/rerobbins/opt/anaconda3/envs/tf/lib/python3.9/site-packages/IPython/core/interactiveshell.py\", line 2909, in _run_cell\n      return runner(coro)\n    File \"/Users/rerobbins/opt/anaconda3/envs/tf/lib/python3.9/site-packages/IPython/core/async_helpers.py\", line 129, in _pseudo_sync_runner\n      coro.send(None)\n    File \"/Users/rerobbins/opt/anaconda3/envs/tf/lib/python3.9/site-packages/IPython/core/interactiveshell.py\", line 3106, in run_cell_async\n      has_raised = await self.run_ast_nodes(code_ast.body, cell_name,\n    File \"/Users/rerobbins/opt/anaconda3/envs/tf/lib/python3.9/site-packages/IPython/core/interactiveshell.py\", line 3309, in run_ast_nodes\n      if await self.run_code(code, result, async_=asy):\n    File \"/Users/rerobbins/opt/anaconda3/envs/tf/lib/python3.9/site-packages/IPython/core/interactiveshell.py\", line 3369, in run_code\n      exec(code_obj, self.user_global_ns, self.user_ns)\n    File \"/var/folders/2v/g4jygx0n1g986bctjf5_bp3m0000gn/T/ipykernel_24181/3064223217.py\", line 7, in <cell line: 6>\n      next_sequence_length, next_vocab_size, next_hidden_units, next_embeddings = next_step(sequence_length, vocab_size, hidden_units, embeddings, 1.10)\n    File \"/var/folders/2v/g4jygx0n1g986bctjf5_bp3m0000gn/T/ipykernel_24181/1170103550.py\", line 9, in next_step\n      _, _, accuracy = experiment(\n    File \"/Users/rerobbins/github/mids-w207/mids_w207_summer_22_Richard_Robbins/submissions/experiment.py\", line 83, in experiment\n      history = model.fit(\n    File \"/Users/rerobbins/opt/anaconda3/envs/tf/lib/python3.9/site-packages/keras/utils/traceback_utils.py\", line 64, in error_handler\n      return fn(*args, **kwargs)\n    File \"/Users/rerobbins/opt/anaconda3/envs/tf/lib/python3.9/site-packages/keras/engine/training.py\", line 1384, in fit\n      tmp_logs = self.train_function(iterator)\n    File \"/Users/rerobbins/opt/anaconda3/envs/tf/lib/python3.9/site-packages/keras/engine/training.py\", line 1021, in train_function\n      return step_function(self, iterator)\n    File \"/Users/rerobbins/opt/anaconda3/envs/tf/lib/python3.9/site-packages/keras/engine/training.py\", line 1010, in step_function\n      outputs = model.distribute_strategy.run(run_step, args=(data,))\n    File \"/Users/rerobbins/opt/anaconda3/envs/tf/lib/python3.9/site-packages/keras/engine/training.py\", line 1000, in run_step\n      outputs = model.train_step(data)\n    File \"/Users/rerobbins/opt/anaconda3/envs/tf/lib/python3.9/site-packages/keras/engine/training.py\", line 863, in train_step\n      self.optimizer.minimize(loss, self.trainable_variables, tape=tape)\n    File \"/Users/rerobbins/opt/anaconda3/envs/tf/lib/python3.9/site-packages/keras/optimizer_v2/optimizer_v2.py\", line 532, in minimize\n      return self.apply_gradients(grads_and_vars, name=name)\n    File \"/Users/rerobbins/opt/anaconda3/envs/tf/lib/python3.9/site-packages/keras/optimizer_v2/optimizer_v2.py\", line 671, in apply_gradients\n      return tf.__internal__.distribute.interim.maybe_merge_call(\n    File \"/Users/rerobbins/opt/anaconda3/envs/tf/lib/python3.9/site-packages/keras/optimizer_v2/optimizer_v2.py\", line 716, in _distributed_apply\n      update_op = distribution.extended.update(\n    File \"/Users/rerobbins/opt/anaconda3/envs/tf/lib/python3.9/site-packages/keras/optimizer_v2/optimizer_v2.py\", line 694, in apply_grad_to_update_var\n      return self._resource_apply_sparse_duplicate_indices(\n    File \"/Users/rerobbins/opt/anaconda3/envs/tf/lib/python3.9/site-packages/keras/optimizer_v2/optimizer_v2.py\", line 1280, in _resource_apply_sparse_duplicate_indices\n      return self._resource_apply_sparse(summed_grad, handle, unique_indices,\n    File \"/Users/rerobbins/opt/anaconda3/envs/tf/lib/python3.9/site-packages/keras/optimizer_v2/adam.py\", line 209, in _resource_apply_sparse\n      v_t = tf.compat.v1.assign(v, v * coefficients['beta_2_t'],\nNode: 'Adam/Adam/update/mul_4'\nIncompatible shapes: [4840,8] vs. [0]\n\t [[{{node Adam/Adam/update/mul_4}}]] [Op:__inference_train_function_960025]",
     "output_type": "error",
     "traceback": [
      "\u001b[0;31m---------------------------------------------------------------------------\u001b[0m",
      "\u001b[0;31mInvalidArgumentError\u001b[0m                      Traceback (most recent call last)",
      "\u001b[1;32m/Users/rerobbins/github/mids-w207/mids_w207_summer_22_Richard_Robbins/submissions/experiment.ipynb Cell 6'\u001b[0m in \u001b[0;36m<cell line: 6>\u001b[0;34m()\u001b[0m\n\u001b[1;32m      <a href='vscode-notebook-cell:/Users/rerobbins/github/mids-w207/mids_w207_summer_22_Richard_Robbins/submissions/experiment.ipynb#ch0000005?line=3'>4</a>\u001b[0m embeddings \u001b[39m=\u001b[39m seed_embeddings\n\u001b[1;32m      <a href='vscode-notebook-cell:/Users/rerobbins/github/mids-w207/mids_w207_summer_22_Richard_Robbins/submissions/experiment.ipynb#ch0000005?line=5'>6</a>\u001b[0m \u001b[39mfor\u001b[39;00m _ \u001b[39min\u001b[39;00m \u001b[39mrange\u001b[39m(\u001b[39m10\u001b[39m):\n\u001b[0;32m----> <a href='vscode-notebook-cell:/Users/rerobbins/github/mids-w207/mids_w207_summer_22_Richard_Robbins/submissions/experiment.ipynb#ch0000005?line=6'>7</a>\u001b[0m     next_sequence_length, next_vocab_size, next_hidden_units, next_embeddings \u001b[39m=\u001b[39m next_step(sequence_length, vocab_size, hidden_units, embeddings, \u001b[39m1.10\u001b[39;49m)\n\u001b[1;32m      <a href='vscode-notebook-cell:/Users/rerobbins/github/mids-w207/mids_w207_summer_22_Richard_Robbins/submissions/experiment.ipynb#ch0000005?line=8'>9</a>\u001b[0m     \u001b[39mif\u001b[39;00m (\n\u001b[1;32m     <a href='vscode-notebook-cell:/Users/rerobbins/github/mids-w207/mids_w207_summer_22_Richard_Robbins/submissions/experiment.ipynb#ch0000005?line=9'>10</a>\u001b[0m         next_sequence_length \u001b[39m==\u001b[39m sequence_length\n\u001b[1;32m     <a href='vscode-notebook-cell:/Users/rerobbins/github/mids-w207/mids_w207_summer_22_Richard_Robbins/submissions/experiment.ipynb#ch0000005?line=10'>11</a>\u001b[0m         \u001b[39mand\u001b[39;00m next_vocab_size \u001b[39m==\u001b[39m vocab_size\n\u001b[1;32m     <a href='vscode-notebook-cell:/Users/rerobbins/github/mids-w207/mids_w207_summer_22_Richard_Robbins/submissions/experiment.ipynb#ch0000005?line=11'>12</a>\u001b[0m         \u001b[39mand\u001b[39;00m next_hidden_units \u001b[39m==\u001b[39m hidden_units\n\u001b[1;32m     <a href='vscode-notebook-cell:/Users/rerobbins/github/mids-w207/mids_w207_summer_22_Richard_Robbins/submissions/experiment.ipynb#ch0000005?line=12'>13</a>\u001b[0m         \u001b[39mand\u001b[39;00m next_embeddings \u001b[39m==\u001b[39m embeddings\n\u001b[1;32m     <a href='vscode-notebook-cell:/Users/rerobbins/github/mids-w207/mids_w207_summer_22_Richard_Robbins/submissions/experiment.ipynb#ch0000005?line=13'>14</a>\u001b[0m     ):\n\u001b[1;32m     <a href='vscode-notebook-cell:/Users/rerobbins/github/mids-w207/mids_w207_summer_22_Richard_Robbins/submissions/experiment.ipynb#ch0000005?line=14'>15</a>\u001b[0m         \u001b[39mbreak\u001b[39;00m\n",
      "\u001b[1;32m/Users/rerobbins/github/mids-w207/mids_w207_summer_22_Richard_Robbins/submissions/experiment.ipynb Cell 4'\u001b[0m in \u001b[0;36mnext_step\u001b[0;34m(base_sequence_length, base_vocab_size, base_hidden_units, base_embeddings, rate)\u001b[0m\n\u001b[1;32m      <a href='vscode-notebook-cell:/Users/rerobbins/github/mids-w207/mids_w207_summer_22_Richard_Robbins/submissions/experiment.ipynb#ch0000003?line=6'>7</a>\u001b[0m         \u001b[39mfor\u001b[39;00m hidden_units \u001b[39min\u001b[39;00m (base_hidden_units, \u001b[39mround\u001b[39m(base_hidden_units \u001b[39m*\u001b[39m rate)):\n\u001b[1;32m      <a href='vscode-notebook-cell:/Users/rerobbins/github/mids-w207/mids_w207_summer_22_Richard_Robbins/submissions/experiment.ipynb#ch0000003?line=7'>8</a>\u001b[0m             \u001b[39mfor\u001b[39;00m embeddings \u001b[39min\u001b[39;00m (base_embeddings, \u001b[39m2\u001b[39m \u001b[39m*\u001b[39m base_embeddings):\n\u001b[0;32m----> <a href='vscode-notebook-cell:/Users/rerobbins/github/mids-w207/mids_w207_summer_22_Richard_Robbins/submissions/experiment.ipynb#ch0000003?line=8'>9</a>\u001b[0m                 _, _, accuracy \u001b[39m=\u001b[39m experiment(\n\u001b[1;32m     <a href='vscode-notebook-cell:/Users/rerobbins/github/mids-w207/mids_w207_summer_22_Richard_Robbins/submissions/experiment.ipynb#ch0000003?line=9'>10</a>\u001b[0m                     sequence_length\u001b[39m=\u001b[39;49msequence_length,\n\u001b[1;32m     <a href='vscode-notebook-cell:/Users/rerobbins/github/mids-w207/mids_w207_summer_22_Richard_Robbins/submissions/experiment.ipynb#ch0000003?line=10'>11</a>\u001b[0m                     vocab_size\u001b[39m=\u001b[39;49mvocab_size,\n\u001b[1;32m     <a href='vscode-notebook-cell:/Users/rerobbins/github/mids-w207/mids_w207_summer_22_Richard_Robbins/submissions/experiment.ipynb#ch0000003?line=11'>12</a>\u001b[0m                     hidden_units\u001b[39m=\u001b[39;49mhidden_units,\n\u001b[1;32m     <a href='vscode-notebook-cell:/Users/rerobbins/github/mids-w207/mids_w207_summer_22_Richard_Robbins/submissions/experiment.ipynb#ch0000003?line=12'>13</a>\u001b[0m                     embedding_dim\u001b[39m=\u001b[39;49membeddings,\n\u001b[1;32m     <a href='vscode-notebook-cell:/Users/rerobbins/github/mids-w207/mids_w207_summer_22_Richard_Robbins/submissions/experiment.ipynb#ch0000003?line=13'>14</a>\u001b[0m                     verbose\u001b[39m=\u001b[39;49m\u001b[39m0\u001b[39;49m,\n\u001b[1;32m     <a href='vscode-notebook-cell:/Users/rerobbins/github/mids-w207/mids_w207_summer_22_Richard_Robbins/submissions/experiment.ipynb#ch0000003?line=14'>15</a>\u001b[0m                 )\n\u001b[1;32m     <a href='vscode-notebook-cell:/Users/rerobbins/github/mids-w207/mids_w207_summer_22_Richard_Robbins/submissions/experiment.ipynb#ch0000003?line=15'>16</a>\u001b[0m                 results[\n\u001b[1;32m     <a href='vscode-notebook-cell:/Users/rerobbins/github/mids-w207/mids_w207_summer_22_Richard_Robbins/submissions/experiment.ipynb#ch0000003?line=16'>17</a>\u001b[0m                     (sequence_length, vocab_size, hidden_units, embeddings)\n\u001b[1;32m     <a href='vscode-notebook-cell:/Users/rerobbins/github/mids-w207/mids_w207_summer_22_Richard_Robbins/submissions/experiment.ipynb#ch0000003?line=17'>18</a>\u001b[0m                 ] \u001b[39m=\u001b[39m accuracy\n\u001b[1;32m     <a href='vscode-notebook-cell:/Users/rerobbins/github/mids-w207/mids_w207_summer_22_Richard_Robbins/submissions/experiment.ipynb#ch0000003?line=19'>20</a>\u001b[0m max_value_key \u001b[39m=\u001b[39m \u001b[39mmax\u001b[39m(results, key\u001b[39m=\u001b[39mresults\u001b[39m.\u001b[39mget)\n",
      "File \u001b[0;32m~/github/mids-w207/mids_w207_summer_22_Richard_Robbins/submissions/experiment.py:83\u001b[0m, in \u001b[0;36mexperiment\u001b[0;34m(sequence_length, vocab_size, hidden_units, embedding_dim, verbose)\u001b[0m\n\u001b[1;32m     72\u001b[0m train_features_reduced, test_features_reduced \u001b[39m=\u001b[39m preprocess(\n\u001b[1;32m     73\u001b[0m     max_length\u001b[39m=\u001b[39msequence_length, max_token_id\u001b[39m=\u001b[39mvocab_size,\n\u001b[1;32m     74\u001b[0m )\n\u001b[1;32m     76\u001b[0m model \u001b[39m=\u001b[39m build_experiment_model(\n\u001b[1;32m     77\u001b[0m     vocab_size\u001b[39m=\u001b[39mvocab_size,\n\u001b[1;32m     78\u001b[0m     sequence_length\u001b[39m=\u001b[39msequence_length,\n\u001b[1;32m     79\u001b[0m     hidden_units\u001b[39m=\u001b[39mhidden_units,\n\u001b[1;32m     80\u001b[0m     embedding_dim\u001b[39m=\u001b[39membedding_dim,\n\u001b[1;32m     81\u001b[0m )\n\u001b[0;32m---> 83\u001b[0m history \u001b[39m=\u001b[39m model\u001b[39m.\u001b[39;49mfit(\n\u001b[1;32m     84\u001b[0m     x\u001b[39m=\u001b[39;49mtrain_features_reduced,\n\u001b[1;32m     85\u001b[0m     y\u001b[39m=\u001b[39;49mY_train,\n\u001b[1;32m     86\u001b[0m     epochs\u001b[39m=\u001b[39;49m\u001b[39m5\u001b[39;49m,\n\u001b[1;32m     87\u001b[0m     batch_size\u001b[39m=\u001b[39;49m\u001b[39m64\u001b[39;49m,\n\u001b[1;32m     88\u001b[0m     validation_split\u001b[39m=\u001b[39;49m\u001b[39m0.1\u001b[39;49m,\n\u001b[1;32m     89\u001b[0m     verbose\u001b[39m=\u001b[39;49mverbose,\n\u001b[1;32m     90\u001b[0m )\n\u001b[1;32m     92\u001b[0m test_accuracy \u001b[39m=\u001b[39m model\u001b[39m.\u001b[39mevaluate(test_features_reduced, Y_test)[\u001b[39m1\u001b[39m]\n\u001b[1;32m     94\u001b[0m \u001b[39mif\u001b[39;00m verbose \u001b[39m==\u001b[39m \u001b[39m1\u001b[39m:\n",
      "File \u001b[0;32m~/opt/anaconda3/envs/tf/lib/python3.9/site-packages/keras/utils/traceback_utils.py:67\u001b[0m, in \u001b[0;36mfilter_traceback.<locals>.error_handler\u001b[0;34m(*args, **kwargs)\u001b[0m\n\u001b[1;32m     65\u001b[0m \u001b[39mexcept\u001b[39;00m \u001b[39mException\u001b[39;00m \u001b[39mas\u001b[39;00m e:  \u001b[39m# pylint: disable=broad-except\u001b[39;00m\n\u001b[1;32m     66\u001b[0m   filtered_tb \u001b[39m=\u001b[39m _process_traceback_frames(e\u001b[39m.\u001b[39m__traceback__)\n\u001b[0;32m---> 67\u001b[0m   \u001b[39mraise\u001b[39;00m e\u001b[39m.\u001b[39mwith_traceback(filtered_tb) \u001b[39mfrom\u001b[39;00m \u001b[39mNone\u001b[39m\n\u001b[1;32m     68\u001b[0m \u001b[39mfinally\u001b[39;00m:\n\u001b[1;32m     69\u001b[0m   \u001b[39mdel\u001b[39;00m filtered_tb\n",
      "File \u001b[0;32m~/opt/anaconda3/envs/tf/lib/python3.9/site-packages/tensorflow/python/eager/execute.py:54\u001b[0m, in \u001b[0;36mquick_execute\u001b[0;34m(op_name, num_outputs, inputs, attrs, ctx, name)\u001b[0m\n\u001b[1;32m     52\u001b[0m \u001b[39mtry\u001b[39;00m:\n\u001b[1;32m     53\u001b[0m   ctx\u001b[39m.\u001b[39mensure_initialized()\n\u001b[0;32m---> 54\u001b[0m   tensors \u001b[39m=\u001b[39m pywrap_tfe\u001b[39m.\u001b[39mTFE_Py_Execute(ctx\u001b[39m.\u001b[39m_handle, device_name, op_name,\n\u001b[1;32m     55\u001b[0m                                       inputs, attrs, num_outputs)\n\u001b[1;32m     56\u001b[0m \u001b[39mexcept\u001b[39;00m core\u001b[39m.\u001b[39m_NotOkStatusException \u001b[39mas\u001b[39;00m e:\n\u001b[1;32m     57\u001b[0m   \u001b[39mif\u001b[39;00m name \u001b[39mis\u001b[39;00m \u001b[39mnot\u001b[39;00m \u001b[39mNone\u001b[39;00m:\n",
      "\u001b[0;31mInvalidArgumentError\u001b[0m: Graph execution error:\n\nDetected at node 'Adam/Adam/update/mul_4' defined at (most recent call last):\n    File \"/Users/rerobbins/opt/anaconda3/envs/tf/lib/python3.9/runpy.py\", line 197, in _run_module_as_main\n      return _run_code(code, main_globals, None,\n    File \"/Users/rerobbins/opt/anaconda3/envs/tf/lib/python3.9/runpy.py\", line 87, in _run_code\n      exec(code, run_globals)\n    File \"/Users/rerobbins/opt/anaconda3/envs/tf/lib/python3.9/site-packages/ipykernel_launcher.py\", line 16, in <module>\n      app.launch_new_instance()\n    File \"/Users/rerobbins/opt/anaconda3/envs/tf/lib/python3.9/site-packages/traitlets/config/application.py\", line 846, in launch_instance\n      app.start()\n    File \"/Users/rerobbins/opt/anaconda3/envs/tf/lib/python3.9/site-packages/ipykernel/kernelapp.py\", line 677, in start\n      self.io_loop.start()\n    File \"/Users/rerobbins/opt/anaconda3/envs/tf/lib/python3.9/site-packages/tornado/platform/asyncio.py\", line 199, in start\n      self.asyncio_loop.run_forever()\n    File \"/Users/rerobbins/opt/anaconda3/envs/tf/lib/python3.9/asyncio/base_events.py\", line 601, in run_forever\n      self._run_once()\n    File \"/Users/rerobbins/opt/anaconda3/envs/tf/lib/python3.9/asyncio/base_events.py\", line 1905, in _run_once\n      handle._run()\n    File \"/Users/rerobbins/opt/anaconda3/envs/tf/lib/python3.9/asyncio/events.py\", line 80, in _run\n      self._context.run(self._callback, *self._args)\n    File \"/Users/rerobbins/opt/anaconda3/envs/tf/lib/python3.9/site-packages/ipykernel/kernelbase.py\", line 471, in dispatch_queue\n      await self.process_one()\n    File \"/Users/rerobbins/opt/anaconda3/envs/tf/lib/python3.9/site-packages/ipykernel/kernelbase.py\", line 460, in process_one\n      await dispatch(*args)\n    File \"/Users/rerobbins/opt/anaconda3/envs/tf/lib/python3.9/site-packages/ipykernel/kernelbase.py\", line 367, in dispatch_shell\n      await result\n    File \"/Users/rerobbins/opt/anaconda3/envs/tf/lib/python3.9/site-packages/ipykernel/kernelbase.py\", line 662, in execute_request\n      reply_content = await reply_content\n    File \"/Users/rerobbins/opt/anaconda3/envs/tf/lib/python3.9/site-packages/ipykernel/ipkernel.py\", line 360, in do_execute\n      res = shell.run_cell(code, store_history=store_history, silent=silent)\n    File \"/Users/rerobbins/opt/anaconda3/envs/tf/lib/python3.9/site-packages/ipykernel/zmqshell.py\", line 532, in run_cell\n      return super().run_cell(*args, **kwargs)\n    File \"/Users/rerobbins/opt/anaconda3/envs/tf/lib/python3.9/site-packages/IPython/core/interactiveshell.py\", line 2863, in run_cell\n      result = self._run_cell(\n    File \"/Users/rerobbins/opt/anaconda3/envs/tf/lib/python3.9/site-packages/IPython/core/interactiveshell.py\", line 2909, in _run_cell\n      return runner(coro)\n    File \"/Users/rerobbins/opt/anaconda3/envs/tf/lib/python3.9/site-packages/IPython/core/async_helpers.py\", line 129, in _pseudo_sync_runner\n      coro.send(None)\n    File \"/Users/rerobbins/opt/anaconda3/envs/tf/lib/python3.9/site-packages/IPython/core/interactiveshell.py\", line 3106, in run_cell_async\n      has_raised = await self.run_ast_nodes(code_ast.body, cell_name,\n    File \"/Users/rerobbins/opt/anaconda3/envs/tf/lib/python3.9/site-packages/IPython/core/interactiveshell.py\", line 3309, in run_ast_nodes\n      if await self.run_code(code, result, async_=asy):\n    File \"/Users/rerobbins/opt/anaconda3/envs/tf/lib/python3.9/site-packages/IPython/core/interactiveshell.py\", line 3369, in run_code\n      exec(code_obj, self.user_global_ns, self.user_ns)\n    File \"/var/folders/2v/g4jygx0n1g986bctjf5_bp3m0000gn/T/ipykernel_24181/3064223217.py\", line 7, in <cell line: 6>\n      next_sequence_length, next_vocab_size, next_hidden_units, next_embeddings = next_step(sequence_length, vocab_size, hidden_units, embeddings, 1.10)\n    File \"/var/folders/2v/g4jygx0n1g986bctjf5_bp3m0000gn/T/ipykernel_24181/1170103550.py\", line 9, in next_step\n      _, _, accuracy = experiment(\n    File \"/Users/rerobbins/github/mids-w207/mids_w207_summer_22_Richard_Robbins/submissions/experiment.py\", line 83, in experiment\n      history = model.fit(\n    File \"/Users/rerobbins/opt/anaconda3/envs/tf/lib/python3.9/site-packages/keras/utils/traceback_utils.py\", line 64, in error_handler\n      return fn(*args, **kwargs)\n    File \"/Users/rerobbins/opt/anaconda3/envs/tf/lib/python3.9/site-packages/keras/engine/training.py\", line 1384, in fit\n      tmp_logs = self.train_function(iterator)\n    File \"/Users/rerobbins/opt/anaconda3/envs/tf/lib/python3.9/site-packages/keras/engine/training.py\", line 1021, in train_function\n      return step_function(self, iterator)\n    File \"/Users/rerobbins/opt/anaconda3/envs/tf/lib/python3.9/site-packages/keras/engine/training.py\", line 1010, in step_function\n      outputs = model.distribute_strategy.run(run_step, args=(data,))\n    File \"/Users/rerobbins/opt/anaconda3/envs/tf/lib/python3.9/site-packages/keras/engine/training.py\", line 1000, in run_step\n      outputs = model.train_step(data)\n    File \"/Users/rerobbins/opt/anaconda3/envs/tf/lib/python3.9/site-packages/keras/engine/training.py\", line 863, in train_step\n      self.optimizer.minimize(loss, self.trainable_variables, tape=tape)\n    File \"/Users/rerobbins/opt/anaconda3/envs/tf/lib/python3.9/site-packages/keras/optimizer_v2/optimizer_v2.py\", line 532, in minimize\n      return self.apply_gradients(grads_and_vars, name=name)\n    File \"/Users/rerobbins/opt/anaconda3/envs/tf/lib/python3.9/site-packages/keras/optimizer_v2/optimizer_v2.py\", line 671, in apply_gradients\n      return tf.__internal__.distribute.interim.maybe_merge_call(\n    File \"/Users/rerobbins/opt/anaconda3/envs/tf/lib/python3.9/site-packages/keras/optimizer_v2/optimizer_v2.py\", line 716, in _distributed_apply\n      update_op = distribution.extended.update(\n    File \"/Users/rerobbins/opt/anaconda3/envs/tf/lib/python3.9/site-packages/keras/optimizer_v2/optimizer_v2.py\", line 694, in apply_grad_to_update_var\n      return self._resource_apply_sparse_duplicate_indices(\n    File \"/Users/rerobbins/opt/anaconda3/envs/tf/lib/python3.9/site-packages/keras/optimizer_v2/optimizer_v2.py\", line 1280, in _resource_apply_sparse_duplicate_indices\n      return self._resource_apply_sparse(summed_grad, handle, unique_indices,\n    File \"/Users/rerobbins/opt/anaconda3/envs/tf/lib/python3.9/site-packages/keras/optimizer_v2/adam.py\", line 209, in _resource_apply_sparse\n      v_t = tf.compat.v1.assign(v, v * coefficients['beta_2_t'],\nNode: 'Adam/Adam/update/mul_4'\nIncompatible shapes: [4840,8] vs. [0]\n\t [[{{node Adam/Adam/update/mul_4}}]] [Op:__inference_train_function_960025]"
     ]
    }
   ],
   "source": [
    "sequence_length = seed_sequence_length\n",
    "vocab_size = seed_vocab_size\n",
    "hidden_units = seed_hidden_units\n",
    "embeddings = seed_embeddings\n",
    "\n",
    "for _ in range(10):\n",
    "    next_sequence_length, next_vocab_size, next_hidden_units, next_embeddings = next_step(sequence_length, vocab_size, hidden_units, embeddings, 1.10)\n",
    "\n",
    "    if (\n",
    "        next_sequence_length == sequence_length\n",
    "        and next_vocab_size == vocab_size\n",
    "        and next_hidden_units == hidden_units\n",
    "        and next_embeddings == embeddings\n",
    "    ):\n",
    "        break\n",
    "\n",
    "    sequence_length = next_sequence_length\n",
    "    vocab_size = next_vocab_size\n",
    "    hidden_units = next_hidden_units\n",
    "    embeddings = next_embeddings"
   ]
  },
  {
   "cell_type": "code",
   "execution_count": null,
   "id": "e8ee3a30-4951-4b7d-aa53-4acff95d6488",
   "metadata": {},
   "outputs": [],
   "source": []
  }
 ],
 "metadata": {
  "kernelspec": {
   "display_name": "Python 3.9.12 ('tf')",
   "language": "python",
   "name": "python3"
  },
  "language_info": {
   "codemirror_mode": {
    "name": "ipython",
    "version": 3
   },
   "file_extension": ".py",
   "mimetype": "text/x-python",
   "name": "python",
   "nbconvert_exporter": "python",
   "pygments_lexer": "ipython3",
   "version": "3.9.12"
  },
  "vscode": {
   "interpreter": {
    "hash": "35d15a1cd8dadd50efd7dc67d5d4964ef4d6df162d72ab0491992c60321de6b1"
   }
  }
 },
 "nbformat": 4,
 "nbformat_minor": 5
}
