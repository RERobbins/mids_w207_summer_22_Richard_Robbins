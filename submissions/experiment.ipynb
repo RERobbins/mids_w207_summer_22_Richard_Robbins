{
 "cells": [
  {
   "cell_type": "code",
   "execution_count": 1,
   "id": "c831dd28-f643-4df0-807d-80f0b1d26d3e",
   "metadata": {},
   "outputs": [
    {
     "name": "stderr",
     "output_type": "stream",
     "text": [
      "2022-07-03 17:59:31.340918: I tensorflow/stream_executor/cuda/cuda_gpu_executor.cc:937] successful NUMA node read from SysFS had negative value (-1), but there must be at least one NUMA node, so returning NUMA node zero\n",
      "2022-07-03 17:59:31.363545: I tensorflow/stream_executor/cuda/cuda_gpu_executor.cc:937] successful NUMA node read from SysFS had negative value (-1), but there must be at least one NUMA node, so returning NUMA node zero\n",
      "2022-07-03 17:59:31.364022: I tensorflow/stream_executor/cuda/cuda_gpu_executor.cc:937] successful NUMA node read from SysFS had negative value (-1), but there must be at least one NUMA node, so returning NUMA node zero\n"
     ]
    }
   ],
   "source": [
    "import math\n",
    "import itertools\n",
    "\n",
    "from experiment import *\n",
    "\n",
    "from tensorflow.python.util import deprecation\n",
    "deprecation._PRINT_DEPRECATION_WARNINGS = False\n",
    "\n",
    "tf.get_logger().setLevel(\"ERROR\")\n",
    "\n",
    "# tf.config.set_visible_devices([], \"GPU\")"
   ]
  },
  {
   "cell_type": "code",
   "execution_count": 2,
   "id": "0fd9ac1a-98d8-41c9-8a73-51a3a484cbe8",
   "metadata": {},
   "outputs": [
    {
     "data": {
      "text/plain": [
       "[PhysicalDevice(name='/physical_device:CPU:0', device_type='CPU'),\n",
       " PhysicalDevice(name='/physical_device:GPU:0', device_type='GPU')]"
      ]
     },
     "execution_count": 2,
     "metadata": {},
     "output_type": "execute_result"
    }
   ],
   "source": [
    "tf.config.list_physical_devices()"
   ]
  },
  {
   "cell_type": "code",
   "execution_count": 3,
   "id": "6a0106e0-696b-4f9d-9cfb-c8bd8ae86224",
   "metadata": {},
   "outputs": [],
   "source": [
    "base_experiment_parameters = {\n",
    "    \"vocab_size\": 3000,\n",
    "    \"sequence_length\": 300,\n",
    "    \"hidden_layers\": [3000, 1500],\n",
    "    \"embedding_dim\": 2,\n",
    "    \"dropout_rate\": 0.5,\n",
    "}\n",
    "\n",
    "experiment_parameters = {\n",
    "    \"vocab_size\": 5168,\n",
    "    \"sequence_length\": 515,\n",
    "    \"hidden_layers\": [5168, 2584],\n",
    "    \"embedding_dim\": 2,\n",
    "    \"dropout_rate\": 0.5,\n",
    "}"
   ]
  },
  {
   "cell_type": "code",
   "execution_count": null,
   "id": "6e280b6e-858f-495e-9975-f0e2484b7d19",
   "metadata": {},
   "outputs": [],
   "source": [
    "experiment(**base_experiment_parameters, verbose=1)"
   ]
  },
  {
   "cell_type": "code",
   "execution_count": null,
   "id": "16a8a63e-ee6b-4bcb-bdfe-fc3fa7ade4fb",
   "metadata": {},
   "outputs": [],
   "source": [
    "experiment(**experiment_parameters, verbose=1)"
   ]
  },
  {
   "cell_type": "code",
   "execution_count": 4,
   "id": "ad91736e-b46c-472e-9eb4-53e1718cb8b3",
   "metadata": {},
   "outputs": [
    {
     "name": "stdout",
     "output_type": "stream",
     "text": [
      "Next Step: vocab_size=5168 sequence_length=515 hidden_layers=[5168, 2584] embedding_dim=2 dropout_rate=0.5 epochs=5 verbose=1 exploration_rate=0.1\n",
      "trial_vocab_size=5688 trial_sequence_length=566 trial_hidden_layers=[5688, 2844, 1422]\n"
     ]
    }
   ],
   "source": [
    "#results, max = next_step(vocab_size=2000, test_run=True)\n",
    "next_step(**experiment_parameters, test_run=True)"
   ]
  },
  {
   "cell_type": "code",
   "execution_count": null,
   "id": "c6213e37-d11e-40c9-be0b-91801a5db9ab",
   "metadata": {},
   "outputs": [],
   "source": [
    "[(key, val) for key, val in results.items() if val > .891]"
   ]
  },
  {
   "cell_type": "code",
   "execution_count": null,
   "id": "52bdb6b7-98a7-470b-abf1-a8d31237cc5c",
   "metadata": {},
   "outputs": [],
   "source": [
    "#for _ in range(10):\n",
    "#    (\n",
    "#        next_sequence_length,\n",
    "#        next_vocab_size,\n",
    "#        next_hidden_units,\n",
    "#        next_embeddings,\n",
    "#    ) = next_step(sequence_length, vocab_size, hidden_units, embeddings, 1.25)\n",
    "\n",
    "#    if (\n",
    "#        next_sequence_length == sequence_length\n",
    "#        and next_vocab_size == vocab_size\n",
    "#        and next_hidden_units == hidden_units\n",
    "#        and next_embeddings == embeddings\n",
    "#    ):\n",
    "#        break\n",
    "\n",
    "#    sequence_length = next_sequence_length\n",
    "#    vocab_size = next_vocab_size\n",
    "#    hidden_units = next_hidden_units\n",
    "#    embeddings = next_embeddings"
   ]
  }
 ],
 "metadata": {
  "kernelspec": {
   "display_name": "Python 3 (ipykernel)",
   "language": "python",
   "name": "python3"
  },
  "language_info": {
   "codemirror_mode": {
    "name": "ipython",
    "version": 3
   },
   "file_extension": ".py",
   "mimetype": "text/x-python",
   "name": "python",
   "nbconvert_exporter": "python",
   "pygments_lexer": "ipython3",
   "version": "3.9.13"
  },
  "vscode": {
   "interpreter": {
    "hash": "35d15a1cd8dadd50efd7dc67d5d4964ef4d6df162d72ab0491992c60321de6b1"
   }
  }
 },
 "nbformat": 4,
 "nbformat_minor": 5
}
