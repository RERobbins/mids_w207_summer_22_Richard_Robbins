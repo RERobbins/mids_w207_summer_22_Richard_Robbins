{
 "cells": [
  {
   "cell_type": "code",
   "execution_count": 1,
   "id": "c831dd28-f643-4df0-807d-80f0b1d26d3e",
   "metadata": {},
   "outputs": [],
   "source": [
    "from experiment import *\n",
    "\n",
    "tf.config.set_visible_devices([], \"GPU\")"
   ]
  },
  {
   "cell_type": "code",
   "execution_count": 2,
   "id": "6a0106e0-696b-4f9d-9cfb-c8bd8ae86224",
   "metadata": {},
   "outputs": [],
   "source": [
    "seed_sequence_length = 275\n",
    "seed_vocab_size = 4000\n",
    "seed_hidden_units = 100\n",
    "seed_embeddings = 4"
   ]
  },
  {
   "cell_type": "code",
   "execution_count": 3,
   "id": "6e280b6e-858f-495e-9975-f0e2484b7d19",
   "metadata": {},
   "outputs": [
    {
     "name": "stderr",
     "output_type": "stream",
     "text": [
      "2022-06-30 12:12:05.684766: W tensorflow/core/platform/profile_utils/cpu_utils.cc:128] Failed to get CPU frequency: 0 Hz\n"
     ]
    },
    {
     "name": "stdout",
     "output_type": "stream",
     "text": [
      "782/782 [==============================] - 0s 310us/step - loss: 0.2863 - accuracy: 0.8832\n"
     ]
    },
    {
     "data": {
      "text/plain": [
       "(<keras.engine.sequential.Sequential at 0x178c18730>,\n",
       " <keras.callbacks.History at 0x17d895160>,\n",
       " 0.8831599950790405)"
      ]
     },
     "execution_count": 3,
     "metadata": {},
     "output_type": "execute_result"
    }
   ],
   "source": [
    "experiment(\n",
    "    sequence_length=seed_sequence_length,\n",
    "    vocab_size=seed_vocab_size,\n",
    "    hidden_units=seed_hidden_units,\n",
    "    embedding_dim=seed_embeddings,\n",
    "    verbose=0,\n",
    ")"
   ]
  },
  {
   "cell_type": "code",
   "execution_count": 4,
   "id": "c130c31d-e8db-4c5a-b420-6ae1ba2c3bab",
   "metadata": {},
   "outputs": [],
   "source": [
    "def next_step(\n",
    "    base_sequence_length, base_vocab_size, base_hidden_units, base_embeddings, rate\n",
    "):\n",
    "    results = {}\n",
    "    for sequence_length in (base_sequence_length, round(base_sequence_length * rate)):\n",
    "        for vocab_size in (base_vocab_size, round(base_vocab_size * rate)):\n",
    "            for hidden_units in (base_hidden_units, round(base_hidden_units * rate)):\n",
    "                for embeddings in (base_embeddings, 2 * base_embeddings):\n",
    "                    _, _, accuracy = experiment(\n",
    "                        sequence_length=sequence_length,\n",
    "                        vocab_size=vocab_size,\n",
    "                        hidden_units=hidden_units,\n",
    "                        embedding_dim=embeddings,\n",
    "                        verbose=0,\n",
    "                    )\n",
    "                    results[\n",
    "                        (sequence_length, vocab_size, hidden_units, embeddings)\n",
    "                    ] = accuracy\n",
    "\n",
    "    max_value_key = max(results, key=results.get)\n",
    "    max_value_accuracy = results[max_value_key]\n",
    "    print(f\"Maximum Accuracy from Step: {max_value_accuracy} with Key: {max_value_key}\")\n",
    "    return max_value_key"
   ]
  },
  {
   "cell_type": "code",
   "execution_count": 5,
   "id": "ad91736e-b46c-472e-9eb4-53e1718cb8b3",
   "metadata": {},
   "outputs": [
    {
     "name": "stdout",
     "output_type": "stream",
     "text": [
      "782/782 [==============================] - 0s 308us/step - loss: 0.2863 - accuracy: 0.8832\n",
      "782/782 [==============================] - 0s 382us/step - loss: 0.2898 - accuracy: 0.8818\n",
      "782/782 [==============================] - 0s 308us/step - loss: 0.2866 - accuracy: 0.8830\n",
      "782/782 [==============================] - 0s 380us/step - loss: 0.2906 - accuracy: 0.8816\n",
      "782/782 [==============================] - 0s 309us/step - loss: 0.2858 - accuracy: 0.8840\n",
      "782/782 [==============================] - 0s 395us/step - loss: 0.2900 - accuracy: 0.8821\n",
      "782/782 [==============================] - 0s 308us/step - loss: 0.2864 - accuracy: 0.8830\n",
      "782/782 [==============================] - 0s 401us/step - loss: 0.2912 - accuracy: 0.8817\n",
      "782/782 [==============================] - 0s 315us/step - loss: 0.2859 - accuracy: 0.8827\n",
      "782/782 [==============================] - 0s 397us/step - loss: 0.2894 - accuracy: 0.8815\n",
      "782/782 [==============================] - 0s 312us/step - loss: 0.2863 - accuracy: 0.8837\n",
      "782/782 [==============================] - 0s 388us/step - loss: 0.2897 - accuracy: 0.8816\n",
      "782/782 [==============================] - 0s 315us/step - loss: 0.2857 - accuracy: 0.8835\n",
      "782/782 [==============================] - 0s 385us/step - loss: 0.2900 - accuracy: 0.8815\n",
      "782/782 [==============================] - 0s 312us/step - loss: 0.2862 - accuracy: 0.8840\n",
      "782/782 [==============================] - 0s 400us/step - loss: 0.2900 - accuracy: 0.8811\n",
      "Maximum Accuracy from Step: 0.8840399980545044 with Key: (289, 4200, 105, 4)\n"
     ]
    },
    {
     "data": {
      "text/plain": [
       "(289, 4200, 105, 4)"
      ]
     },
     "execution_count": 5,
     "metadata": {},
     "output_type": "execute_result"
    }
   ],
   "source": [
    "next_step(\n",
    "    seed_sequence_length, seed_vocab_size, seed_hidden_units, seed_embeddings, 1.05\n",
    ")"
   ]
  },
  {
   "cell_type": "code",
   "execution_count": 7,
   "id": "52bdb6b7-98a7-470b-abf1-a8d31237cc5c",
   "metadata": {},
   "outputs": [
    {
     "name": "stdout",
     "output_type": "stream",
     "text": [
      "782/782 [==============================] - 0s 314us/step - loss: 0.2863 - accuracy: 0.8832\n",
      "782/782 [==============================] - 0s 384us/step - loss: 0.2898 - accuracy: 0.8818\n",
      "782/782 [==============================] - 0s 334us/step - loss: 0.2866 - accuracy: 0.8830\n",
      "782/782 [==============================] - 0s 389us/step - loss: 0.2906 - accuracy: 0.8816\n",
      "782/782 [==============================] - 0s 309us/step - loss: 0.2858 - accuracy: 0.8840\n",
      "782/782 [==============================] - 0s 449us/step - loss: 0.2900 - accuracy: 0.8821\n",
      "782/782 [==============================] - 0s 310us/step - loss: 0.2864 - accuracy: 0.8830\n",
      "782/782 [==============================] - 0s 383us/step - loss: 0.2912 - accuracy: 0.8817\n",
      "782/782 [==============================] - 0s 316us/step - loss: 0.2859 - accuracy: 0.8827\n",
      "782/782 [==============================] - 0s 393us/step - loss: 0.2894 - accuracy: 0.8815\n",
      "782/782 [==============================] - 0s 320us/step - loss: 0.2863 - accuracy: 0.8837\n",
      "782/782 [==============================] - 0s 394us/step - loss: 0.2897 - accuracy: 0.8816\n",
      "782/782 [==============================] - 0s 369us/step - loss: 0.2857 - accuracy: 0.8835\n",
      "782/782 [==============================] - 0s 435us/step - loss: 0.2900 - accuracy: 0.8815\n",
      "782/782 [==============================] - 0s 315us/step - loss: 0.2862 - accuracy: 0.8840\n",
      "782/782 [==============================] - 0s 396us/step - loss: 0.2900 - accuracy: 0.8811\n",
      "Maximum Accuracy from Step: 0.8840399980545044 with Key: (289, 4200, 105, 4)\n",
      "782/782 [==============================] - 0s 379us/step - loss: 0.2862 - accuracy: 0.8840\n",
      "782/782 [==============================] - 0s 429us/step - loss: 0.2900 - accuracy: 0.8811\n",
      "782/782 [==============================] - 0s 345us/step - loss: 0.2858 - accuracy: 0.8838\n",
      "782/782 [==============================] - 0s 408us/step - loss: 0.2903 - accuracy: 0.8820\n",
      "782/782 [==============================] - 0s 342us/step - loss: 0.2851 - accuracy: 0.8840\n",
      "782/782 [==============================] - 0s 407us/step - loss: 0.2887 - accuracy: 0.8816\n",
      "782/782 [==============================] - 0s 319us/step - loss: 0.2845 - accuracy: 0.8845\n",
      "782/782 [==============================] - 0s 414us/step - loss: 0.2901 - accuracy: 0.8819\n",
      "782/782 [==============================] - 0s 313us/step - loss: 0.2855 - accuracy: 0.8840\n",
      "782/782 [==============================] - 0s 396us/step - loss: 0.2889 - accuracy: 0.8827\n",
      "782/782 [==============================] - 0s 336us/step - loss: 0.2853 - accuracy: 0.8832\n",
      "782/782 [==============================] - 0s 392us/step - loss: 0.2891 - accuracy: 0.8820\n",
      "782/782 [==============================] - 0s 354us/step - loss: 0.2843 - accuracy: 0.8842\n",
      "782/782 [==============================] - 0s 404us/step - loss: 0.2872 - accuracy: 0.8831\n",
      "782/782 [==============================] - 0s 320us/step - loss: 0.2840 - accuracy: 0.8839\n",
      "782/782 [==============================] - 0s 411us/step - loss: 0.2878 - accuracy: 0.8828\n",
      "Maximum Accuracy from Step: 0.8844799995422363 with Key: (289, 4410, 110, 4)\n",
      "782/782 [==============================] - 0s 342us/step - loss: 0.2845 - accuracy: 0.8845\n",
      "782/782 [==============================] - 0s 530us/step - loss: 0.2901 - accuracy: 0.8819\n",
      "782/782 [==============================] - 0s 317us/step - loss: 0.2845 - accuracy: 0.8847\n",
      "782/782 [==============================] - 0s 396us/step - loss: 0.2890 - accuracy: 0.8814\n",
      "782/782 [==============================] - 0s 317us/step - loss: 0.2844 - accuracy: 0.8842\n",
      "782/782 [==============================] - 0s 397us/step - loss: 0.2893 - accuracy: 0.8823\n",
      "782/782 [==============================] - 0s 316us/step - loss: 0.2845 - accuracy: 0.8841\n",
      "782/782 [==============================] - 0s 391us/step - loss: 0.2889 - accuracy: 0.8817\n",
      "782/782 [==============================] - 0s 329us/step - loss: 0.2840 - accuracy: 0.8839\n",
      "782/782 [==============================] - 0s 489us/step - loss: 0.2878 - accuracy: 0.8828\n",
      "782/782 [==============================] - 0s 362us/step - loss: 0.2839 - accuracy: 0.8839\n",
      "782/782 [==============================] - 0s 392us/step - loss: 0.2876 - accuracy: 0.8830\n",
      "782/782 [==============================] - 0s 318us/step - loss: 0.2837 - accuracy: 0.8835\n",
      "782/782 [==============================] - 0s 399us/step - loss: 0.2876 - accuracy: 0.8834\n",
      "782/782 [==============================] - 0s 337us/step - loss: 0.2837 - accuracy: 0.8835\n",
      "782/782 [==============================] - 0s 440us/step - loss: 0.2874 - accuracy: 0.8838\n",
      "Maximum Accuracy from Step: 0.8846799731254578 with Key: (289, 4410, 116, 4)\n",
      "782/782 [==============================] - 0s 351us/step - loss: 0.2845 - accuracy: 0.8847\n",
      "782/782 [==============================] - 0s 453us/step - loss: 0.2890 - accuracy: 0.8814\n",
      "782/782 [==============================] - 0s 336us/step - loss: 0.2846 - accuracy: 0.8851\n",
      "782/782 [==============================] - 0s 477us/step - loss: 0.2904 - accuracy: 0.8819\n",
      "782/782 [==============================] - 0s 335us/step - loss: 0.2845 - accuracy: 0.8841\n",
      "782/782 [==============================] - 0s 415us/step - loss: 0.2889 - accuracy: 0.8817\n",
      "782/782 [==============================] - 0s 336us/step - loss: 0.2846 - accuracy: 0.8843\n",
      "782/782 [==============================] - 0s 467us/step - loss: 0.2896 - accuracy: 0.8818\n",
      "782/782 [==============================] - 0s 317us/step - loss: 0.2839 - accuracy: 0.8839\n",
      "782/782 [==============================] - 0s 483us/step - loss: 0.2876 - accuracy: 0.8830\n",
      "782/782 [==============================] - 0s 331us/step - loss: 0.2843 - accuracy: 0.8841\n",
      "782/782 [==============================] - 0s 538us/step - loss: 0.2885 - accuracy: 0.8824\n",
      "782/782 [==============================] - 0s 370us/step - loss: 0.2837 - accuracy: 0.8835\n",
      "782/782 [==============================] - 0s 405us/step - loss: 0.2874 - accuracy: 0.8838\n",
      "782/782 [==============================] - 0s 338us/step - loss: 0.2840 - accuracy: 0.8838\n",
      "782/782 [==============================] - 0s 431us/step - loss: 0.2885 - accuracy: 0.8828\n",
      "Maximum Accuracy from Step: 0.8850799798965454 with Key: (289, 4410, 122, 4)\n",
      "782/782 [==============================] - 0s 345us/step - loss: 0.2846 - accuracy: 0.8851\n",
      "782/782 [==============================] - 0s 466us/step - loss: 0.2904 - accuracy: 0.8819\n",
      "782/782 [==============================] - 0s 384us/step - loss: 0.2849 - accuracy: 0.8845\n",
      "782/782 [==============================] - 0s 444us/step - loss: 0.2920 - accuracy: 0.8813\n",
      "782/782 [==============================] - 0s 350us/step - loss: 0.2846 - accuracy: 0.8843\n",
      "782/782 [==============================] - 0s 418us/step - loss: 0.2896 - accuracy: 0.8818\n",
      "782/782 [==============================] - 0s 338us/step - loss: 0.2850 - accuracy: 0.8842\n",
      "782/782 [==============================] - 0s 413us/step - loss: 0.2921 - accuracy: 0.8815\n",
      "782/782 [==============================] - 0s 325us/step - loss: 0.2843 - accuracy: 0.8841\n",
      "782/782 [==============================] - 0s 410us/step - loss: 0.2885 - accuracy: 0.8824\n",
      "782/782 [==============================] - 0s 353us/step - loss: 0.2845 - accuracy: 0.8846\n",
      "782/782 [==============================] - 0s 410us/step - loss: 0.2899 - accuracy: 0.8813\n",
      "782/782 [==============================] - 0s 319us/step - loss: 0.2840 - accuracy: 0.8838\n",
      "782/782 [==============================] - 0s 407us/step - loss: 0.2885 - accuracy: 0.8828\n",
      "782/782 [==============================] - 0s 315us/step - loss: 0.2842 - accuracy: 0.8840\n",
      "782/782 [==============================] - 0s 409us/step - loss: 0.2893 - accuracy: 0.8823\n",
      "Maximum Accuracy from Step: 0.8850799798965454 with Key: (289, 4410, 122, 4)\n"
     ]
    }
   ],
   "source": [
    "sequence_length = seed_sequence_length\n",
    "vocab_size = seed_vocab_size\n",
    "hidden_units = seed_hidden_units\n",
    "embeddings = seed_embeddings\n",
    "\n",
    "for _ in range(10):\n",
    "    next_sequence_length, next_vocab_size, next_hidden_units, next_embeddings = next_step(sequence_length, vocab_size, hidden_units, embeddings, 1.05)\n",
    "\n",
    "    if (\n",
    "        next_sequence_length == sequence_length\n",
    "        and next_vocab_size == vocab_size\n",
    "        and next_hidden_units == hidden_units\n",
    "        and next_embeddings == embeddings\n",
    "    ):\n",
    "        break\n",
    "\n",
    "    sequence_length = next_sequence_length\n",
    "    vocab_size = next_vocab_size\n",
    "    hidden_units = next_hidden_units\n",
    "    embeddings = next_embeddings"
   ]
  },
  {
   "cell_type": "code",
   "execution_count": null,
   "id": "e8ee3a30-4951-4b7d-aa53-4acff95d6488",
   "metadata": {},
   "outputs": [],
   "source": []
  }
 ],
 "metadata": {
  "kernelspec": {
   "display_name": "Python 3 (ipykernel)",
   "language": "python",
   "name": "python3"
  },
  "language_info": {
   "codemirror_mode": {
    "name": "ipython",
    "version": 3
   },
   "file_extension": ".py",
   "mimetype": "text/x-python",
   "name": "python",
   "nbconvert_exporter": "python",
   "pygments_lexer": "ipython3",
   "version": "3.9.12"
  }
 },
 "nbformat": 4,
 "nbformat_minor": 5
}
