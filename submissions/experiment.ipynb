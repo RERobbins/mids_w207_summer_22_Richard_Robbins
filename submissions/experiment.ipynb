{
 "cells": [
  {
   "cell_type": "code",
   "execution_count": 1,
   "id": "c831dd28-f643-4df0-807d-80f0b1d26d3e",
   "metadata": {},
   "outputs": [
    {
     "name": "stderr",
     "output_type": "stream",
     "text": [
      "2022-06-30 16:02:42.022290: I tensorflow/stream_executor/cuda/cuda_gpu_executor.cc:937] successful NUMA node read from SysFS had negative value (-1), but there must be at least one NUMA node, so returning NUMA node zero\n",
      "2022-06-30 16:02:42.044072: I tensorflow/stream_executor/cuda/cuda_gpu_executor.cc:937] successful NUMA node read from SysFS had negative value (-1), but there must be at least one NUMA node, so returning NUMA node zero\n",
      "2022-06-30 16:02:42.044271: I tensorflow/stream_executor/cuda/cuda_gpu_executor.cc:937] successful NUMA node read from SysFS had negative value (-1), but there must be at least one NUMA node, so returning NUMA node zero\n"
     ]
    }
   ],
   "source": [
    "from experiment import *"
   ]
  },
  {
   "cell_type": "code",
   "execution_count": 2,
   "id": "6a0106e0-696b-4f9d-9cfb-c8bd8ae86224",
   "metadata": {},
   "outputs": [],
   "source": [
    "seed_sequence_length=200\n",
    "seed_vocab_size=3000\n",
    "seed_hidden_units=100\n",
    "seed_embeddings=2"
   ]
  },
  {
   "cell_type": "code",
   "execution_count": 3,
   "id": "6e280b6e-858f-495e-9975-f0e2484b7d19",
   "metadata": {},
   "outputs": [
    {
     "name": "stderr",
     "output_type": "stream",
     "text": [
      "2022-06-30 16:02:45.121224: I tensorflow/core/platform/cpu_feature_guard.cc:142] This TensorFlow binary is optimized with oneAPI Deep Neural Network Library (oneDNN) to use the following CPU instructions in performance-critical operations:  SSE4.1 SSE4.2 AVX AVX2 FMA\n",
      "To enable them in other operations, rebuild TensorFlow with the appropriate compiler flags.\n",
      "2022-06-30 16:02:45.162796: I tensorflow/compiler/mlir/mlir_graph_optimization_pass.cc:185] None of the MLIR Optimization Passes are enabled (registered 2)\n"
     ]
    },
    {
     "name": "stdout",
     "output_type": "stream",
     "text": [
      "782/782 [==============================] - 0s 325us/step - loss: 0.2978 - accuracy: 0.8748\n"
     ]
    },
    {
     "data": {
      "text/plain": [
       "(<keras.engine.sequential.Sequential at 0x7f8df8de9fd0>,\n",
       " <keras.callbacks.History at 0x7f8dddae4490>,\n",
       " 0.8748400211334229)"
      ]
     },
     "execution_count": 3,
     "metadata": {},
     "output_type": "execute_result"
    }
   ],
   "source": [
    "experiment(sequence_length=seed_sequence_length, vocab_size=seed_vocab_size, hidden_units=seed_hidden_units, embedding_dim=seed_embeddings, verbose=0)"
   ]
  },
  {
   "cell_type": "code",
   "execution_count": 15,
   "id": "c130c31d-e8db-4c5a-b420-6ae1ba2c3bab",
   "metadata": {},
   "outputs": [],
   "source": [
    "def next_step (base_sequence_length, base_vocab_size, base_hidden_units, base_embeddings, rate):\n",
    "    results = {}\n",
    "    for sequence_length in (base_sequence_length, round (base_sequence_length * rate)):\n",
    "        for vocab_size in (base_vocab_size, round (base_vocab_size * rate)):\n",
    "            for hidden_units in (base_hidden_units, round (base_hidden_units)):\n",
    "                for embeddings in (base_embeddings, 2 * base_embeddings):\n",
    "                    _, _, accuracy = experiment(sequence_length=sequence_length,\n",
    "                                                vocab_size=vocab_size,\n",
    "                                                hidden_units=hidden_units,\n",
    "                                                embedding_dim=embeddings,\n",
    "                                                verbose=0)\n",
    "                    results[(sequence_length, vocab_size, hidden_units, embeddings)] = accuracy\n",
    "                    \n",
    "    max_value_key = max(results, key=results.get)\n",
    "    max_value_accuracy = results[max_value_key]                \n",
    "    print (f\"Maximum Accuracy from Step: {max_value_accuracy} with Key: {max_value_key}\")\n",
    "    return (max_value_key)"
   ]
  },
  {
   "cell_type": "code",
   "execution_count": 16,
   "id": "ad91736e-b46c-472e-9eb4-53e1718cb8b3",
   "metadata": {},
   "outputs": [
    {
     "name": "stdout",
     "output_type": "stream",
     "text": [
      "782/782 [==============================] - 0s 319us/step - loss: 0.2978 - accuracy: 0.8748\n",
      "782/782 [==============================] - 0s 312us/step - loss: 0.2959 - accuracy: 0.8764\n",
      "782/782 [==============================] - 0s 329us/step - loss: 0.2978 - accuracy: 0.8748\n",
      "782/782 [==============================] - 0s 320us/step - loss: 0.2959 - accuracy: 0.8764\n",
      "782/782 [==============================] - 0s 329us/step - loss: 0.2968 - accuracy: 0.8750\n",
      "782/782 [==============================] - 0s 320us/step - loss: 0.2950 - accuracy: 0.8770\n",
      "782/782 [==============================] - 0s 329us/step - loss: 0.2968 - accuracy: 0.8750\n",
      "782/782 [==============================] - 0s 317us/step - loss: 0.2950 - accuracy: 0.8770\n",
      "782/782 [==============================] - 0s 338us/step - loss: 0.2976 - accuracy: 0.8748\n",
      "782/782 [==============================] - 0s 314us/step - loss: 0.2955 - accuracy: 0.8766\n",
      "782/782 [==============================] - 0s 331us/step - loss: 0.2976 - accuracy: 0.8748\n",
      "782/782 [==============================] - 0s 310us/step - loss: 0.2955 - accuracy: 0.8766\n",
      "782/782 [==============================] - 0s 314us/step - loss: 0.2966 - accuracy: 0.8756\n",
      "782/782 [==============================] - 0s 336us/step - loss: 0.2946 - accuracy: 0.8768\n",
      "782/782 [==============================] - 0s 318us/step - loss: 0.2966 - accuracy: 0.8756\n",
      "782/782 [==============================] - 0s 323us/step - loss: 0.2946 - accuracy: 0.8768\n",
      "Maximum Accuracy from Step: 0.8769999742507935 with Key: (200, 3150, 100, 4)\n"
     ]
    },
    {
     "data": {
      "text/plain": [
       "(200, 3150, 100, 4)"
      ]
     },
     "execution_count": 16,
     "metadata": {},
     "output_type": "execute_result"
    }
   ],
   "source": [
    "next_step(200, 3000, 100, 2, 1.05)"
   ]
  },
  {
   "cell_type": "code",
   "execution_count": null,
   "id": "52bdb6b7-98a7-470b-abf1-a8d31237cc5c",
   "metadata": {},
   "outputs": [
    {
     "name": "stdout",
     "output_type": "stream",
     "text": [
      "782/782 [==============================] - 0s 325us/step - loss: 0.2978 - accuracy: 0.8748\n",
      "782/782 [==============================] - 0s 325us/step - loss: 0.2959 - accuracy: 0.8764\n",
      "782/782 [==============================] - 0s 344us/step - loss: 0.2978 - accuracy: 0.8748\n",
      "782/782 [==============================] - 0s 325us/step - loss: 0.2959 - accuracy: 0.8764\n",
      "782/782 [==============================] - 0s 315us/step - loss: 0.2968 - accuracy: 0.8750\n",
      "782/782 [==============================] - 0s 319us/step - loss: 0.2950 - accuracy: 0.8770\n",
      "782/782 [==============================] - 0s 335us/step - loss: 0.2968 - accuracy: 0.8750\n",
      "782/782 [==============================] - 0s 334us/step - loss: 0.2950 - accuracy: 0.8770\n",
      "782/782 [==============================] - 0s 320us/step - loss: 0.2976 - accuracy: 0.8748\n",
      "782/782 [==============================] - 0s 313us/step - loss: 0.2955 - accuracy: 0.8766\n",
      "782/782 [==============================] - 0s 333us/step - loss: 0.2976 - accuracy: 0.8748\n",
      "782/782 [==============================] - 0s 333us/step - loss: 0.2955 - accuracy: 0.8766\n",
      "782/782 [==============================] - 0s 327us/step - loss: 0.2966 - accuracy: 0.8756\n",
      "782/782 [==============================] - 0s 321us/step - loss: 0.2946 - accuracy: 0.8768\n",
      "782/782 [==============================] - 0s 316us/step - loss: 0.2966 - accuracy: 0.8756\n",
      "782/782 [==============================] - 0s 315us/step - loss: 0.2946 - accuracy: 0.8768\n",
      "Maximum Accuracy from Step: 0.8769999742507935 with Key: (200, 3150, 100, 4)\n",
      "782/782 [==============================] - 0s 313us/step - loss: 0.2950 - accuracy: 0.8770\n",
      "782/782 [==============================] - 0s 328us/step - loss: 0.2994 - accuracy: 0.8749\n",
      "782/782 [==============================] - 0s 312us/step - loss: 0.2950 - accuracy: 0.8770\n",
      "782/782 [==============================] - 0s 329us/step - loss: 0.2994 - accuracy: 0.8749\n",
      "782/782 [==============================] - 0s 312us/step - loss: 0.2942 - accuracy: 0.8772\n",
      "782/782 [==============================] - 0s 327us/step - loss: 0.2988 - accuracy: 0.8753\n",
      "782/782 [==============================] - 0s 319us/step - loss: 0.2942 - accuracy: 0.8772\n",
      "782/782 [==============================] - 0s 335us/step - loss: 0.2988 - accuracy: 0.8753\n",
      "782/782 [==============================] - 0s 324us/step - loss: 0.2946 - accuracy: 0.8768\n",
      "782/782 [==============================] - 0s 329us/step - loss: 0.2985 - accuracy: 0.8745\n",
      "782/782 [==============================] - 0s 325us/step - loss: 0.2946 - accuracy: 0.8768\n",
      "782/782 [==============================] - 0s 321us/step - loss: 0.2985 - accuracy: 0.8745\n",
      "782/782 [==============================] - 0s 318us/step - loss: 0.2936 - accuracy: 0.8776\n",
      "782/782 [==============================] - 0s 308us/step - loss: 0.2977 - accuracy: 0.8750\n",
      "782/782 [==============================] - 0s 329us/step - loss: 0.2936 - accuracy: 0.8776\n",
      "782/782 [==============================] - 0s 309us/step - loss: 0.2977 - accuracy: 0.8750\n",
      "Maximum Accuracy from Step: 0.877560019493103 with Key: (210, 3308, 100, 4)\n",
      "782/782 [==============================] - 0s 325us/step - loss: 0.2936 - accuracy: 0.8776\n",
      "782/782 [==============================] - 0s 314us/step - loss: 0.2977 - accuracy: 0.8750\n",
      "782/782 [==============================] - 0s 314us/step - loss: 0.2936 - accuracy: 0.8776\n",
      "782/782 [==============================] - 0s 323us/step - loss: 0.2977 - accuracy: 0.8750\n",
      "782/782 [==============================] - 0s 317us/step - loss: 0.2933 - accuracy: 0.8775\n",
      "782/782 [==============================] - 0s 312us/step - loss: 0.2981 - accuracy: 0.8745\n",
      "782/782 [==============================] - 0s 313us/step - loss: 0.2933 - accuracy: 0.8775\n",
      "782/782 [==============================] - 0s 324us/step - loss: 0.2981 - accuracy: 0.8745\n",
      "782/782 [==============================] - 0s 337us/step - loss: 0.2922 - accuracy: 0.8773\n",
      "782/782 [==============================] - 0s 315us/step - loss: 0.2962 - accuracy: 0.8758\n",
      "782/782 [==============================] - 0s 319us/step - loss: 0.2922 - accuracy: 0.8773\n",
      "782/782 [==============================] - 0s 323us/step - loss: 0.2962 - accuracy: 0.8758\n",
      "782/782 [==============================] - 0s 325us/step - loss: 0.2921 - accuracy: 0.8776\n",
      "782/782 [==============================] - 0s 319us/step - loss: 0.2964 - accuracy: 0.8753\n",
      "782/782 [==============================] - 0s 322us/step - loss: 0.2921 - accuracy: 0.8776\n",
      "782/782 [==============================] - 0s 324us/step - loss: 0.2964 - accuracy: 0.8753\n",
      "Maximum Accuracy from Step: 0.8776400089263916 with Key: (220, 3473, 100, 4)\n",
      "782/782 [==============================] - 0s 323us/step - loss: 0.2921 - accuracy: 0.8776\n",
      "782/782 [==============================] - 0s 339us/step - loss: 0.2964 - accuracy: 0.8753\n",
      "782/782 [==============================] - 0s 317us/step - loss: 0.2921 - accuracy: 0.8776\n",
      "782/782 [==============================] - 0s 324us/step - loss: 0.2964 - accuracy: 0.8753\n",
      "782/782 [==============================] - 0s 328us/step - loss: 0.2916 - accuracy: 0.8784\n",
      "782/782 [==============================] - 0s 313us/step - loss: 0.2967 - accuracy: 0.8750\n",
      "782/782 [==============================] - 0s 327us/step - loss: 0.2916 - accuracy: 0.8784\n",
      "782/782 [==============================] - 0s 327us/step - loss: 0.2967 - accuracy: 0.8750\n",
      "782/782 [==============================] - 0s 312us/step - loss: 0.2903 - accuracy: 0.8790\n",
      "782/782 [==============================] - 0s 315us/step - loss: 0.2938 - accuracy: 0.8769\n",
      "782/782 [==============================] - 0s 330us/step - loss: 0.2903 - accuracy: 0.8790\n",
      "782/782 [==============================] - 0s 308us/step - loss: 0.2938 - accuracy: 0.8769\n",
      "782/782 [==============================] - 0s 324us/step - loss: 0.2894 - accuracy: 0.8792\n",
      "782/782 [==============================] - 0s 332us/step - loss: 0.2937 - accuracy: 0.8764\n",
      "782/782 [==============================] - 0s 324us/step - loss: 0.2894 - accuracy: 0.8792\n",
      "782/782 [==============================] - 0s 327us/step - loss: 0.2937 - accuracy: 0.8764\n",
      "Maximum Accuracy from Step: 0.8791999816894531 with Key: (231, 3647, 100, 4)\n",
      "782/782 [==============================] - 0s 335us/step - loss: 0.2894 - accuracy: 0.8792\n",
      "782/782 [==============================] - 0s 320us/step - loss: 0.2937 - accuracy: 0.8764\n",
      "782/782 [==============================] - 0s 330us/step - loss: 0.2894 - accuracy: 0.8792\n",
      "782/782 [==============================] - 0s 327us/step - loss: 0.2937 - accuracy: 0.8764\n",
      "782/782 [==============================] - 0s 339us/step - loss: 0.2895 - accuracy: 0.8799\n",
      "782/782 [==============================] - 0s 346us/step - loss: 0.2953 - accuracy: 0.8772\n",
      "782/782 [==============================] - 0s 326us/step - loss: 0.2895 - accuracy: 0.8799\n",
      "782/782 [==============================] - 0s 314us/step - loss: 0.2953 - accuracy: 0.8772\n",
      "782/782 [==============================] - 0s 327us/step - loss: 0.2875 - accuracy: 0.8812\n",
      "782/782 [==============================] - 0s 340us/step - loss: 0.2914 - accuracy: 0.8789\n",
      "782/782 [==============================] - 0s 319us/step - loss: 0.2875 - accuracy: 0.8812\n",
      "782/782 [==============================] - 0s 335us/step - loss: 0.2914 - accuracy: 0.8789\n",
      "782/782 [==============================] - 0s 317us/step - loss: 0.2877 - accuracy: 0.8812\n",
      "782/782 [==============================] - 0s 313us/step - loss: 0.2922 - accuracy: 0.8794\n",
      "782/782 [==============================] - 0s 321us/step - loss: 0.2877 - accuracy: 0.8812\n",
      "782/782 [==============================] - 0s 310us/step - loss: 0.2922 - accuracy: 0.8794\n",
      "Maximum Accuracy from Step: 0.8812000155448914 with Key: (243, 3829, 100, 4)\n",
      "782/782 [==============================] - 0s 322us/step - loss: 0.2877 - accuracy: 0.8812\n",
      "782/782 [==============================] - 0s 329us/step - loss: 0.2922 - accuracy: 0.8794\n",
      "782/782 [==============================] - 0s 319us/step - loss: 0.2877 - accuracy: 0.8812\n",
      "782/782 [==============================] - 0s 324us/step - loss: 0.2922 - accuracy: 0.8794\n",
      "782/782 [==============================] - 0s 342us/step - loss: 0.2879 - accuracy: 0.8811\n",
      "782/782 [==============================] - 0s 322us/step - loss: 0.2933 - accuracy: 0.8795\n",
      "782/782 [==============================] - 0s 329us/step - loss: 0.2879 - accuracy: 0.8811\n",
      "782/782 [==============================] - 0s 324us/step - loss: 0.2933 - accuracy: 0.8795\n",
      "782/782 [==============================] - 0s 322us/step - loss: 0.2863 - accuracy: 0.8823\n",
      "782/782 [==============================] - 0s 332us/step - loss: 0.2896 - accuracy: 0.8812\n",
      "782/782 [==============================] - 0s 324us/step - loss: 0.2863 - accuracy: 0.8823\n",
      "782/782 [==============================] - 0s 322us/step - loss: 0.2896 - accuracy: 0.8812\n",
      "782/782 [==============================] - 0s 317us/step - loss: 0.2865 - accuracy: 0.8821\n",
      "782/782 [==============================] - 0s 330us/step - loss: 0.2905 - accuracy: 0.8813\n",
      "782/782 [==============================] - 0s 320us/step - loss: 0.2865 - accuracy: 0.8821\n",
      "782/782 [==============================] - 0s 319us/step - loss: 0.2905 - accuracy: 0.8813\n",
      "Maximum Accuracy from Step: 0.8822799921035767 with Key: (255, 3829, 100, 4)\n",
      "782/782 [==============================] - 0s 338us/step - loss: 0.2863 - accuracy: 0.8823\n",
      "782/782 [==============================] - 0s 340us/step - loss: 0.2896 - accuracy: 0.8812\n",
      "782/782 [==============================] - 0s 338us/step - loss: 0.2863 - accuracy: 0.8823\n",
      "782/782 [==============================] - 0s 329us/step - loss: 0.2896 - accuracy: 0.8812\n",
      "782/782 [==============================] - 0s 326us/step - loss: 0.2865 - accuracy: 0.8821\n",
      "782/782 [==============================] - 0s 325us/step - loss: 0.2905 - accuracy: 0.8813\n",
      "782/782 [==============================] - 0s 320us/step - loss: 0.2865 - accuracy: 0.8821\n",
      "782/782 [==============================] - 0s 315us/step - loss: 0.2905 - accuracy: 0.8813\n",
      "782/782 [==============================] - 0s 335us/step - loss: 0.2860 - accuracy: 0.8830\n",
      "782/782 [==============================] - 0s 324us/step - loss: 0.2890 - accuracy: 0.8816\n",
      "782/782 [==============================] - 0s 338us/step - loss: 0.2860 - accuracy: 0.8830\n",
      "782/782 [==============================] - 0s 337us/step - loss: 0.2890 - accuracy: 0.8816\n",
      "782/782 [==============================] - 0s 349us/step - loss: 0.2860 - accuracy: 0.8828\n",
      "782/782 [==============================] - 0s 320us/step - loss: 0.2898 - accuracy: 0.8816\n",
      "782/782 [==============================] - 0s 327us/step - loss: 0.2860 - accuracy: 0.8828\n",
      "782/782 [==============================] - 0s 314us/step - loss: 0.2898 - accuracy: 0.8816\n",
      "Maximum Accuracy from Step: 0.8830400109291077 with Key: (268, 3829, 100, 4)\n",
      "782/782 [==============================] - 0s 325us/step - loss: 0.2860 - accuracy: 0.8830\n",
      "782/782 [==============================] - 0s 323us/step - loss: 0.2890 - accuracy: 0.8816\n",
      "782/782 [==============================] - 0s 333us/step - loss: 0.2860 - accuracy: 0.8830\n",
      "782/782 [==============================] - 0s 320us/step - loss: 0.2890 - accuracy: 0.8816\n",
      "782/782 [==============================] - 0s 329us/step - loss: 0.2860 - accuracy: 0.8828\n",
      "782/782 [==============================] - 0s 313us/step - loss: 0.2898 - accuracy: 0.8816\n",
      "782/782 [==============================] - 0s 333us/step - loss: 0.2860 - accuracy: 0.8828\n",
      "782/782 [==============================] - 0s 334us/step - loss: 0.2898 - accuracy: 0.8816\n",
      "782/782 [==============================] - 0s 327us/step - loss: 0.2866 - accuracy: 0.8823\n",
      "782/782 [==============================] - 0s 329us/step - loss: 0.2899 - accuracy: 0.8816\n",
      "782/782 [==============================] - 0s 345us/step - loss: 0.2866 - accuracy: 0.8823\n",
      "782/782 [==============================] - 0s 319us/step - loss: 0.2899 - accuracy: 0.8816\n",
      "782/782 [==============================] - 0s 343us/step - loss: 0.2865 - accuracy: 0.8823\n",
      "782/782 [==============================] - 0s 328us/step - loss: 0.2908 - accuracy: 0.8806\n",
      "782/782 [==============================] - 0s 327us/step - loss: 0.2865 - accuracy: 0.8823\n",
      "782/782 [==============================] - 0s 313us/step - loss: 0.2908 - accuracy: 0.8806\n",
      "Maximum Accuracy from Step: 0.8830400109291077 with Key: (268, 3829, 100, 4)\n",
      "782/782 [==============================] - 0s 328us/step - loss: 0.2860 - accuracy: 0.8830\n",
      "782/782 [==============================] - 0s 328us/step - loss: 0.2890 - accuracy: 0.8816\n",
      "782/782 [==============================] - 0s 343us/step - loss: 0.2860 - accuracy: 0.8830\n",
      "782/782 [==============================] - 0s 336us/step - loss: 0.2890 - accuracy: 0.8816\n",
      "782/782 [==============================] - 0s 328us/step - loss: 0.2860 - accuracy: 0.8828\n",
      "782/782 [==============================] - 0s 318us/step - loss: 0.2898 - accuracy: 0.8816\n",
      "782/782 [==============================] - 0s 326us/step - loss: 0.2860 - accuracy: 0.8828\n",
      "782/782 [==============================] - 0s 328us/step - loss: 0.2898 - accuracy: 0.8816\n",
      "782/782 [==============================] - 0s 352us/step - loss: 0.2866 - accuracy: 0.8823\n",
      "782/782 [==============================] - 0s 323us/step - loss: 0.2899 - accuracy: 0.8816\n",
      "782/782 [==============================] - 0s 331us/step - loss: 0.2866 - accuracy: 0.8823\n",
      "782/782 [==============================] - 0s 322us/step - loss: 0.2899 - accuracy: 0.8816\n",
      "782/782 [==============================] - 0s 352us/step - loss: 0.2865 - accuracy: 0.8823\n",
      "782/782 [==============================] - 0s 337us/step - loss: 0.2908 - accuracy: 0.8806\n",
      "782/782 [==============================] - 0s 355us/step - loss: 0.2865 - accuracy: 0.8823\n",
      "782/782 [==============================] - 0s 323us/step - loss: 0.2908 - accuracy: 0.8806\n",
      "Maximum Accuracy from Step: 0.8830400109291077 with Key: (268, 3829, 100, 4)\n",
      "782/782 [==============================] - 0s 330us/step - loss: 0.2860 - accuracy: 0.8830\n",
      "782/782 [==============================] - 0s 321us/step - loss: 0.2890 - accuracy: 0.8816\n",
      "782/782 [==============================] - 0s 322us/step - loss: 0.2860 - accuracy: 0.8830\n",
      "782/782 [==============================] - 0s 318us/step - loss: 0.2890 - accuracy: 0.8816\n",
      "782/782 [==============================] - 0s 349us/step - loss: 0.2860 - accuracy: 0.8828\n",
      "782/782 [==============================] - 0s 321us/step - loss: 0.2898 - accuracy: 0.8816\n",
      "782/782 [==============================] - 0s 337us/step - loss: 0.2860 - accuracy: 0.8828\n",
      "782/782 [==============================] - 0s 319us/step - loss: 0.2898 - accuracy: 0.8816\n",
      "782/782 [==============================] - 0s 336us/step - loss: 0.2866 - accuracy: 0.8823\n",
      "782/782 [==============================] - 0s 319us/step - loss: 0.2899 - accuracy: 0.8816\n",
      "782/782 [==============================] - 0s 344us/step - loss: 0.2866 - accuracy: 0.8823\n",
      "782/782 [==============================] - 0s 332us/step - loss: 0.2899 - accuracy: 0.8816\n",
      "782/782 [==============================] - 0s 330us/step - loss: 0.2865 - accuracy: 0.8823\n",
      "782/782 [==============================] - 0s 327us/step - loss: 0.2908 - accuracy: 0.8806\n",
      "782/782 [==============================] - 0s 342us/step - loss: 0.2865 - accuracy: 0.8823\n",
      "782/782 [==============================] - 0s 315us/step - loss: 0.2908 - accuracy: 0.8806\n",
      "Maximum Accuracy from Step: 0.8830400109291077 with Key: (268, 3829, 100, 4)\n"
     ]
    }
   ],
   "source": [
    "sequence_length=seed_sequence_length\n",
    "vocab_size=seed_vocab_size\n",
    "hidden_units=seed_hidden_units\n",
    "embeddings=seed_embeddings\n",
    "\n",
    "for _ in range (10):\n",
    "    sequence_length, vocab_size, hidden_units, embeddings = next_step(sequence_length, vocab_size, hidden_units, embeddings, 1.05)\n",
    "\n"
   ]
  },
  {
   "cell_type": "code",
   "execution_count": null,
   "id": "e8ee3a30-4951-4b7d-aa53-4acff95d6488",
   "metadata": {},
   "outputs": [],
   "source": []
  }
 ],
 "metadata": {
  "kernelspec": {
   "display_name": "Python 3 (ipykernel)",
   "language": "python",
   "name": "python3"
  },
  "language_info": {
   "codemirror_mode": {
    "name": "ipython",
    "version": 3
   },
   "file_extension": ".py",
   "mimetype": "text/x-python",
   "name": "python",
   "nbconvert_exporter": "python",
   "pygments_lexer": "ipython3",
   "version": "3.9.13"
  }
 },
 "nbformat": 4,
 "nbformat_minor": 5
}
