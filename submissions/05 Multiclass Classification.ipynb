{
 "cells": [
  {
   "cell_type": "markdown",
   "metadata": {
    "id": "MKsRDH5ZUdfasdv"
   },
   "source": [
    "# Lab 5"
   ]
  },
  {
   "cell_type": "markdown",
   "metadata": {
    "id": "43534tdfgs-v"
   },
   "source": [
    "This lab extends binary logistic regression to [multi-class logistic regression](https://en.wikipedia.org/wiki/Multinomial_logistic_regression), which goes by a variety of names, including *softmax regression*, due to the use of the softmax function, which generalizes the logistic function."
   ]
  },
  {
   "cell_type": "code",
   "execution_count": 1,
   "metadata": {
    "executionInfo": {
     "elapsed": 3490,
     "status": "ok",
     "timestamp": 1620709486769,
     "user": {
      "displayName": "Daniel Gillick",
      "photoUrl": "https://lh3.googleusercontent.com/a-/AOh14Gg9DrSMlwYnG9EolecuJqe8n9m7fpcje4_UbYrhQ10=s64",
      "userId": "01872965353911650729"
     },
     "user_tz": 420
    },
    "id": "7X58hOMTUH-w"
   },
   "outputs": [],
   "source": [
    "# Import the libraries we'll use below.\n",
    "import numpy as np\n",
    "from matplotlib import pyplot as plt\n",
    "import pandas as pd\n",
    "import seaborn as sns  # for nicer plots\n",
    "sns.set(style=\"darkgrid\")  # default style\n",
    "\n",
    "import tensorflow as tf\n",
    "from tensorflow import keras\n",
    "from keras import metrics\n",
    "tf.get_logger().setLevel('INFO')"
   ]
  },
  {
   "cell_type": "markdown",
   "metadata": {
    "id": "4uq43KrCh8pe"
   },
   "source": [
    "We again load the Fashion MNIST dataset, though this time around, we'll use all 10 output classes."
   ]
  },
  {
   "cell_type": "code",
   "execution_count": 2,
   "metadata": {
    "colab": {
     "base_uri": "https://localhost:8080/"
    },
    "executionInfo": {
     "elapsed": 1905,
     "status": "ok",
     "timestamp": 1618441063929,
     "user": {
      "displayName": "Daniel Gillick",
      "photoUrl": "https://lh3.googleusercontent.com/a-/AOh14Gg9DrSMlwYnG9EolecuJqe8n9m7fpcje4_UbYrhQ10=s64",
      "userId": "01872965353911650729"
     },
     "user_tz": 420
    },
    "id": "load_auto_data_set_code",
    "outputId": "36d947cb-8799-4e55-d208-fbc7350c0cc2"
   },
   "outputs": [],
   "source": [
    "from keras.datasets import fashion_mnist\n",
    "\n",
    "# Load the Fashion MNIST dataset.\n",
    "(X_train, Y_train), (X_test, Y_test) = fashion_mnist.load_data()\n",
    "X_train = X_train / 255\n",
    "X_test = X_test / 255\n",
    "\n",
    "# Flatten Y_train and Y_test, so they become vectors of label values.\n",
    "# The label for X_train[0] is in Y_train[0].\n",
    "Y_train = Y_train.flatten()\n",
    "Y_test = Y_test.flatten()\n",
    "\n",
    "label_names = ['t-shirt', 'trouser', 'pullover', 'dress', 'coat',\n",
    "               'sandal', 'shirt', 'sneaker', 'bag', 'ankle boot']\n",
    "\n",
    "# Apply random shufflying to training examples.\n",
    "np.random.seed(0)\n",
    "indices = np.arange(X_train.shape[0])\n",
    "shuffled_indices = np.random.permutation(indices)\n",
    "X_train = X_train[shuffled_indices]\n",
    "Y_train = Y_train[shuffled_indices]"
   ]
  },
  {
   "cell_type": "markdown",
   "metadata": {
    "id": "PsfzNnVFwh0K"
   },
   "source": [
    "### Cross-Entropy Loss\n",
    "\n",
    "Recall the log loss function (also called binary cross-entropy):\n",
    "\n",
    "\\begin{equation}\n",
    "-y log(\\hat{y}) + (1−y)log(1−\\hat{y})\n",
    "\\end{equation}\n",
    "\n",
    "In the above formulation, it is assumed that $y$ is either 0 or 1, so either the left term or the right term is active for each example.\n",
    "\n",
    "The general form for cross-entropy is used when $y$ is assumed to be a label vector with a 1 in the index of the true label and a 0 everywhere else: $y=[0,0,0,0,0,0,0,1,0,0]$ implies a label of \"sneaker\" in this dataset (the 7th label). Accordingly, $\\hat{y}$ is a vector of predicted probabilities. Then the cross-entropy loss is simply:\n",
    "\n",
    "\\begin{equation}\n",
    "-\\sum_{j} y_j log(\\hat{y}_j)\n",
    "\\end{equation}\n",
    "\n",
    "As in the binary case, this summation will have exactly 1 non-zero term where the true label $y_j=1$.\n",
    "\n",
    "Note that this formulation is using a *dense* representation of the label. The corresponding *sparse* representation would use the non-zero index directly ($y=7$)."
   ]
  },
  {
   "cell_type": "markdown",
   "metadata": {
    "id": "09EpBz1w0_Nj"
   },
   "source": [
    "## Build a model\n",
    "\n",
    "Let's construct a model much like we did in the binary classification case, but now with a multi-class output."
   ]
  },
  {
   "cell_type": "markdown",
   "metadata": {
    "id": "75ur9Q_TOoxv"
   },
   "source": [
    "---\n",
    "### Exercise 1 (8 points)\n",
    "\n",
    "Fill in the NotImplemented parts of the build_model function below. You will need to make the following changes to generalize the binary case to the multi-class case:\n",
    "* The output will include 10 probabilities instead of 1.\n",
    "* Use a softmax function instead of a sigmoid.\n",
    "* Use a [sparse_categorical_crossentropy](https://www.tensorflow.org/api_docs/python/tf/keras/losses/sparse_categorical_crossentropy) loss instead of binary_crossentropy. Note that \"sparse\" refers to the use of a sparse index (e.g. 7) to indicate the label rather than a dense vector (e.g. [0,0,0,0,0,0,0,1,0,0]).\n",
    "\n",
    "Check that training works below."
   ]
  },
  {
   "cell_type": "code",
   "execution_count": 3,
   "metadata": {
    "id": "-GeBGPGhQ5bu"
   },
   "outputs": [],
   "source": [
    "def build_model(n_classes, learning_rate=0.01):\n",
    "  \"\"\"Build a multi-class logistic regression model using Keras.\n",
    "\n",
    "  Args:\n",
    "    n_classes: Number of classes in the dataset\n",
    "    learning_rate: The desired learning rate for SGD.\n",
    "\n",
    "  Returns:\n",
    "    model: A tf.keras model (graph).\n",
    "  \"\"\"\n",
    "  tf.keras.backend.clear_session()\n",
    "  np.random.seed(0)\n",
    "  tf.random.set_seed(0)\n",
    "\n",
    "  model = keras.Sequential()\n",
    "  model.add(keras.layers.Flatten())\n",
    "  model.add(keras.layers.Dense(\n",
    "      # YOUR CODE HERE\n",
    "      units=n_classes,\n",
    "      activation='softmax'\n",
    "  ))\n",
    "\n",
    "  optimizer = tf.keras.optimizers.SGD(learning_rate=learning_rate)\n",
    "    \n",
    "  # YOUR CODE HERE\n",
    "  model.compile(loss='sparse_categorical_crossentropy', \n",
    "                optimizer=optimizer, \n",
    "                metrics=['accuracy'])\n",
    "  return model"
   ]
  },
  {
   "cell_type": "markdown",
   "metadata": {
    "id": "DO-d_F58Q-6O"
   },
   "source": [
    "---"
   ]
  },
  {
   "cell_type": "markdown",
   "metadata": {
    "id": "YNpKsUK6jt7-"
   },
   "source": [
    "Make sure your model trains. If you configured it properly, the training loss should get to ~0.55 after 5 epochs."
   ]
  },
  {
   "cell_type": "code",
   "execution_count": 4,
   "metadata": {
    "colab": {
     "base_uri": "https://localhost:8080/",
     "height": 394
    },
    "executionInfo": {
     "elapsed": 7672,
     "status": "ok",
     "timestamp": 1618441373961,
     "user": {
      "displayName": "Daniel Gillick",
      "photoUrl": "https://lh3.googleusercontent.com/a-/AOh14Gg9DrSMlwYnG9EolecuJqe8n9m7fpcje4_UbYrhQ10=s64",
      "userId": "01872965353911650729"
     },
     "user_tz": 420
    },
    "id": "dYRGXpzY1B5x",
    "outputId": "2b30c3ca-cfca-4160-86a9-5026697d685e"
   },
   "outputs": [
    {
     "name": "stderr",
     "output_type": "stream",
     "text": [
      "2022-05-30 17:39:07.461114: I tensorflow/stream_executor/cuda/cuda_gpu_executor.cc:937] successful NUMA node read from SysFS had negative value (-1), but there must be at least one NUMA node, so returning NUMA node zero\n",
      "2022-05-30 17:39:07.495412: I tensorflow/stream_executor/cuda/cuda_gpu_executor.cc:937] successful NUMA node read from SysFS had negative value (-1), but there must be at least one NUMA node, so returning NUMA node zero\n",
      "2022-05-30 17:39:07.496036: I tensorflow/stream_executor/cuda/cuda_gpu_executor.cc:937] successful NUMA node read from SysFS had negative value (-1), but there must be at least one NUMA node, so returning NUMA node zero\n",
      "2022-05-30 17:39:07.497182: I tensorflow/core/platform/cpu_feature_guard.cc:142] This TensorFlow binary is optimized with oneAPI Deep Neural Network Library (oneDNN) to use the following CPU instructions in performance-critical operations:  SSE4.1 SSE4.2 AVX AVX2 FMA\n",
      "To enable them in other operations, rebuild TensorFlow with the appropriate compiler flags.\n",
      "2022-05-30 17:39:07.497842: I tensorflow/stream_executor/cuda/cuda_gpu_executor.cc:937] successful NUMA node read from SysFS had negative value (-1), but there must be at least one NUMA node, so returning NUMA node zero\n",
      "2022-05-30 17:39:07.498609: I tensorflow/stream_executor/cuda/cuda_gpu_executor.cc:937] successful NUMA node read from SysFS had negative value (-1), but there must be at least one NUMA node, so returning NUMA node zero\n",
      "2022-05-30 17:39:07.499172: I tensorflow/stream_executor/cuda/cuda_gpu_executor.cc:937] successful NUMA node read from SysFS had negative value (-1), but there must be at least one NUMA node, so returning NUMA node zero\n",
      "2022-05-30 17:39:07.852581: I tensorflow/stream_executor/cuda/cuda_gpu_executor.cc:937] successful NUMA node read from SysFS had negative value (-1), but there must be at least one NUMA node, so returning NUMA node zero\n",
      "2022-05-30 17:39:07.853082: I tensorflow/stream_executor/cuda/cuda_gpu_executor.cc:937] successful NUMA node read from SysFS had negative value (-1), but there must be at least one NUMA node, so returning NUMA node zero\n",
      "2022-05-30 17:39:07.853526: I tensorflow/stream_executor/cuda/cuda_gpu_executor.cc:937] successful NUMA node read from SysFS had negative value (-1), but there must be at least one NUMA node, so returning NUMA node zero\n",
      "2022-05-30 17:39:07.853941: I tensorflow/core/common_runtime/gpu/gpu_device.cc:1510] Created device /job:localhost/replica:0/task:0/device:GPU:0 with 21644 MB memory:  -> device: 0, name: NVIDIA RTX A5000, pci bus id: 0000:01:00.0, compute capability: 8.6\n",
      "2022-05-30 17:39:08.204874: I tensorflow/compiler/mlir/mlir_graph_optimization_pass.cc:185] None of the MLIR Optimization Passes are enabled (registered 2)\n"
     ]
    },
    {
     "name": "stdout",
     "output_type": "stream",
     "text": [
      "Epoch 1/5\n",
      "69/69 [==============================] - 1s 3ms/step - loss: 1.8627 - accuracy: 0.4294 - val_loss: 1.5144 - val_accuracy: 0.5835\n",
      "Epoch 2/5\n",
      " 1/69 [..............................] - ETA: 0s - loss: 1.5084 - accuracy: 0.5663"
     ]
    },
    {
     "name": "stderr",
     "output_type": "stream",
     "text": [
      "2022-05-30 17:39:08.940682: I tensorflow/stream_executor/cuda/cuda_blas.cc:1760] TensorFloat-32 will be used for the matrix multiplication. This will only be logged once.\n"
     ]
    },
    {
     "name": "stdout",
     "output_type": "stream",
     "text": [
      "69/69 [==============================] - 0s 1ms/step - loss: 1.3360 - accuracy: 0.6317 - val_loss: 1.2265 - val_accuracy: 0.6500\n",
      "Epoch 3/5\n",
      "69/69 [==============================] - 0s 1ms/step - loss: 1.1309 - accuracy: 0.6729 - val_loss: 1.0835 - val_accuracy: 0.6772\n",
      "Epoch 4/5\n",
      "69/69 [==============================] - 0s 1ms/step - loss: 1.0197 - accuracy: 0.6934 - val_loss: 0.9985 - val_accuracy: 0.6920\n",
      "Epoch 5/5\n",
      "69/69 [==============================] - 0s 1ms/step - loss: 0.9486 - accuracy: 0.7078 - val_loss: 0.9405 - val_accuracy: 0.7047\n"
     ]
    },
    {
     "data": {
      "text/html": [
       "<div>\n",
       "<style scoped>\n",
       "    .dataframe tbody tr th:only-of-type {\n",
       "        vertical-align: middle;\n",
       "    }\n",
       "\n",
       "    .dataframe tbody tr th {\n",
       "        vertical-align: top;\n",
       "    }\n",
       "\n",
       "    .dataframe thead th {\n",
       "        text-align: right;\n",
       "    }\n",
       "</style>\n",
       "<table border=\"1\" class=\"dataframe\">\n",
       "  <thead>\n",
       "    <tr style=\"text-align: right;\">\n",
       "      <th></th>\n",
       "      <th>loss</th>\n",
       "      <th>accuracy</th>\n",
       "      <th>val_loss</th>\n",
       "      <th>val_accuracy</th>\n",
       "    </tr>\n",
       "  </thead>\n",
       "  <tbody>\n",
       "    <tr>\n",
       "      <th>0</th>\n",
       "      <td>1.862668</td>\n",
       "      <td>0.429444</td>\n",
       "      <td>1.514383</td>\n",
       "      <td>0.583500</td>\n",
       "    </tr>\n",
       "    <tr>\n",
       "      <th>1</th>\n",
       "      <td>1.336028</td>\n",
       "      <td>0.631704</td>\n",
       "      <td>1.226458</td>\n",
       "      <td>0.650000</td>\n",
       "    </tr>\n",
       "    <tr>\n",
       "      <th>2</th>\n",
       "      <td>1.130947</td>\n",
       "      <td>0.672926</td>\n",
       "      <td>1.083545</td>\n",
       "      <td>0.677167</td>\n",
       "    </tr>\n",
       "    <tr>\n",
       "      <th>3</th>\n",
       "      <td>1.019726</td>\n",
       "      <td>0.693352</td>\n",
       "      <td>0.998474</td>\n",
       "      <td>0.692000</td>\n",
       "    </tr>\n",
       "    <tr>\n",
       "      <th>4</th>\n",
       "      <td>0.948634</td>\n",
       "      <td>0.707778</td>\n",
       "      <td>0.940454</td>\n",
       "      <td>0.704667</td>\n",
       "    </tr>\n",
       "  </tbody>\n",
       "</table>\n",
       "</div>"
      ],
      "text/plain": [
       "       loss  accuracy  val_loss  val_accuracy\n",
       "0  1.862668  0.429444  1.514383      0.583500\n",
       "1  1.336028  0.631704  1.226458      0.650000\n",
       "2  1.130947  0.672926  1.083545      0.677167\n",
       "3  1.019726  0.693352  0.998474      0.692000\n",
       "4  0.948634  0.707778  0.940454      0.704667"
      ]
     },
     "metadata": {},
     "output_type": "display_data"
    }
   ],
   "source": [
    "model = build_model(len(label_names), 0.01)\n",
    "\n",
    "history = model.fit(\n",
    "  x = X_train,\n",
    "  y = Y_train,\n",
    "  epochs=5,\n",
    "  batch_size=784,\n",
    "  validation_split=0.1,\n",
    "  verbose=1)\n",
    "\n",
    "history = pd.DataFrame(history.history)\n",
    "display(history)"
   ]
  },
  {
   "cell_type": "markdown",
   "metadata": {
    "id": "_ALSrErIrrjW"
   },
   "source": [
    "### Evaluation Metrics\n",
    "\n",
    "Classification metrics like accuracy, precision, and recall can all be derived from a confusion matrix which displays the counts for all pairs of true label and predicted label. Correct predictions are on the diagonal and incorrect predictions (confusions) are off the diagonal.\n",
    "\n",
    "First, we need the predicted labels from the model."
   ]
  },
  {
   "cell_type": "code",
   "execution_count": 11,
   "metadata": {
    "colab": {
     "base_uri": "https://localhost:8080/"
    },
    "executionInfo": {
     "elapsed": 8936,
     "status": "ok",
     "timestamp": 1616042832272,
     "user": {
      "displayName": "Daniel Gillick",
      "photoUrl": "https://lh3.googleusercontent.com/a-/AOh14Gg9DrSMlwYnG9EolecuJqe8n9m7fpcje4_UbYrhQ10=s64",
      "userId": "01872965353911650729"
     },
     "user_tz": 420
    },
    "id": "eBdgn9PUsHuq",
    "outputId": "4744e0bb-e67f-413c-ba24-ae7d65d9c69e"
   },
   "outputs": [
    {
     "name": "stdout",
     "output_type": "stream",
     "text": [
      "[9 2 1 ... 3 1 7]\n"
     ]
    }
   ],
   "source": [
    "# Recall that model.predict gives a vector of probabilities for each x.\n",
    "# Get labels by taking the argmax -- the index with the largest probability.\n",
    "test_predictions = np.argmax(model.predict(X_test), axis=-1)\n",
    "print(test_predictions)"
   ]
  },
  {
   "cell_type": "markdown",
   "metadata": {
    "id": "Pr8NOrQmfwsT"
   },
   "source": [
    "Next, we create a confusion matrix and produce an easy-to-read visualization."
   ]
  },
  {
   "cell_type": "code",
   "execution_count": 12,
   "metadata": {
    "colab": {
     "base_uri": "https://localhost:8080/",
     "height": 333
    },
    "executionInfo": {
     "elapsed": 9529,
     "status": "ok",
     "timestamp": 1616042832868,
     "user": {
      "displayName": "Daniel Gillick",
      "photoUrl": "https://lh3.googleusercontent.com/a-/AOh14Gg9DrSMlwYnG9EolecuJqe8n9m7fpcje4_UbYrhQ10=s64",
      "userId": "01872965353911650729"
     },
     "user_tz": 420
    },
    "id": "juOwp33Wx_bR",
    "outputId": "5565824a-cf5f-450f-d54d-faf99c613c70"
   },
   "outputs": [
    {
     "data": {
      "image/png": "[encoded data removed]",
      "text/plain": [
       "<Figure size 432x288 with 1 Axes>"
      ]
     },
     "metadata": {
      "needs_background": "light"
     },
     "output_type": "display_data"
    }
   ],
   "source": [
    "# Create a confusion matrix as a 2D array.\n",
    "confusion_matrix = tf.math.confusion_matrix(Y_test, test_predictions)\n",
    "\n",
    "# Use a heatmap plot to display it.\n",
    "ax = sns.heatmap(confusion_matrix, annot=True, fmt='.3g', cmap='Blues',\n",
    "                 xticklabels=label_names, yticklabels=label_names, cbar=False)\n",
    "\n",
    "# Add axis labels.\n",
    "ax.set(xlabel='Predicted Label', ylabel='True Label')\n",
    "plt.show()"
   ]
  },
  {
   "cell_type": "markdown",
   "metadata": {
    "id": "k-BrE8eaEw60"
   },
   "source": [
    "---\n",
    "### Exercise 2 (8 points)\n",
    "\n",
    "Answer the following questions by studying the confusion matrix (above).\n",
    "\n",
    "1. Which class has the lowest precision? What is that precision? Which class has the highest precision? What is that precision?\n",
    "\n",
    "2. For the class 'sneaker', what class is the largest source of false negatives? What about the largest source of false positives?"
   ]
  },
  {
   "cell_type": "markdown",
   "metadata": {
    "id": "hfQfsvzpVwfK"
   },
   "source": [
    "*Written answer:*\n",
    "\n",
    "1. \n",
    "\n",
    "2."
   ]
  },
  {
   "cell_type": "code",
   "execution_count": 13,
   "metadata": {},
   "outputs": [
    {
     "data": {
      "text/plain": [
       "array([1135,  941, 1006, 1174, 1238,  354,  474, 1322, 1043, 1313],\n",
       "      dtype=int32)"
      ]
     },
     "execution_count": 13,
     "metadata": {},
     "output_type": "execute_result"
    }
   ],
   "source": [
    "tf.math.reduce_sum(confusion_matrix, axis=0).numpy()"
   ]
  },
  {
   "cell_type": "code",
   "execution_count": 14,
   "metadata": {},
   "outputs": [
    {
     "name": "stdout",
     "output_type": "stream",
     "text": [
      "800 [800  26  25  43   0   1 237   0   2   1]\n",
      "901 [  9 901   0  24   4   0   3   0   0   0]\n",
      "563 [ 13  12 563   5 219   0 179   0  15   0]\n",
      "848 [ 93  44  11 848  75   3  71   0  28   1]\n",
      "629 [ 16  14 271  38 629   0 260   0  10   0]\n",
      "343 [  0   0   0   1   0 343   0   8   0   2]\n",
      "206 [ 51   1  97  37  61   0 206   0  21   0]\n",
      "884 [  2   0   0   0   0 345   0 884  31  60]\n",
      "891 [ 15   2  32   4  12  41  44   1 891   1]\n",
      "935 [  1   0   1   0   0 267   0 107   2 935]\n",
      "800 tf.Tensor(1135, shape=(), dtype=int32)\n",
      "901 tf.Tensor(941, shape=(), dtype=int32)\n",
      "563 tf.Tensor(1006, shape=(), dtype=int32)\n",
      "848 tf.Tensor(1174, shape=(), dtype=int32)\n",
      "629 tf.Tensor(1238, shape=(), dtype=int32)\n",
      "343 tf.Tensor(354, shape=(), dtype=int32)\n",
      "206 tf.Tensor(474, shape=(), dtype=int32)\n",
      "884 tf.Tensor(1322, shape=(), dtype=int32)\n",
      "891 tf.Tensor(1043, shape=(), dtype=int32)\n",
      "935 tf.Tensor(1313, shape=(), dtype=int32)\n",
      "t-shirt 0.7048458149779736\n",
      "trouser 0.9574920297555791\n",
      "pullover 0.5596421471172962\n",
      "dress 0.7223168654173765\n",
      "coat 0.5080775444264943\n",
      "sandal 0.9689265536723164\n",
      "shirt 0.4345991561181435\n",
      "sneaker 0.6686838124054463\n",
      "bag 0.8542665388302972\n",
      "ankle boot 0.7121096725057121\n"
     ]
    },
    {
     "data": {
      "text/plain": [
       "[('t-shirt', 0.7048458149779736),\n",
       " ('trouser', 0.9574920297555791),\n",
       " ('pullover', 0.5596421471172962),\n",
       " ('dress', 0.7223168654173765),\n",
       " ('coat', 0.5080775444264943),\n",
       " ('sandal', 0.9689265536723164),\n",
       " ('shirt', 0.4345991561181435),\n",
       " ('sneaker', 0.6686838124054463),\n",
       " ('bag', 0.8542665388302972),\n",
       " ('ankle boot', 0.7121096725057121)]"
      ]
     },
     "execution_count": 14,
     "metadata": {},
     "output_type": "execute_result"
    }
   ],
   "source": [
    "for i in range(confusion_matrix.shape[0]): print(confusion_matrix[i,i].numpy(), confusion_matrix[:,i].numpy())\n",
    "for i in range(confusion_matrix.shape[0]): print(confusion_matrix[i,i].numpy(), tf.reduce_sum(confusion_matrix[:,i]))\n",
    "for i in range(confusion_matrix.shape[0]): print(label_names[i], (confusion_matrix[i,i] / tf.reduce_sum(confusion_matrix[:,i])).numpy())\n",
    "[(label_names[i], (confusion_matrix[i,i] / tf.reduce_sum(confusion_matrix[:,i])).numpy()) for i in range(confusion_matrix.shape[0])]"
   ]
  },
  {
   "cell_type": "markdown",
   "metadata": {
    "id": "bpFmB9v5V4CE"
   },
   "source": [
    "---"
   ]
  },
  {
   "cell_type": "markdown",
   "metadata": {
    "id": "epIqYiQhQpJC"
   },
   "source": [
    "## Analyze Errors\n",
    "\n",
    "A crucial part of the development cycle in Machine Learning is analyzing errors to help understand the shortcomings of the model. While typically we'd want to use the development data for this purpose to preserve the purity of the test set, we'll just use our test split for simplicity.\n",
    "\n",
    "Since the \"shirt\" class seems to be the source for a lot of errors, let's look at some of the confusions."
   ]
  },
  {
   "cell_type": "markdown",
   "metadata": {
    "id": "DLK2zFv2SWAy"
   },
   "source": [
    "---\n",
    "### Exercise 3 (8 points)\n",
    "\n",
    "1. Display 5 images with true label \"shirt\", but predicted label \"coat\" (false negatives for the \"shirt\" class).\n",
    "2. Display 5 images with predicted label \"shirt\", but true label \"coat\" (false positives for the \"shirt\" class)."
   ]
  },
  {
   "cell_type": "code",
   "execution_count": 9,
   "metadata": {
    "id": "xUZfCG1ylVtp"
   },
   "outputs": [],
   "source": [
    "# YOUR CODE HERE"
   ]
  },
  {
   "cell_type": "markdown",
   "metadata": {
    "id": "DCmcQmKXlYK7"
   },
   "source": [
    "---"
   ]
  },
  {
   "cell_type": "markdown",
   "metadata": {
    "id": "dyMHf5pGjkxm"
   },
   "source": [
    "## Visualize Parameters\n",
    "Finally, here's some code that helps visualize the learned parameters for each class."
   ]
  },
  {
   "cell_type": "code",
   "execution_count": 10,
   "metadata": {
    "colab": {
     "base_uri": "https://localhost:8080/",
     "height": 408
    },
    "executionInfo": {
     "elapsed": 12395,
     "status": "ok",
     "timestamp": 1616042835746,
     "user": {
      "displayName": "Daniel Gillick",
      "photoUrl": "https://lh3.googleusercontent.com/a-/AOh14Gg9DrSMlwYnG9EolecuJqe8n9m7fpcje4_UbYrhQ10=s64",
      "userId": "01872965353911650729"
     },
     "user_tz": 420
    },
    "id": "C-6ovDo8jvLH",
    "outputId": "9c2b3eac-bd32-4d3f-9e6c-3eade55f272f"
   },
   "outputs": [
    {
     "data": {
      "image/png": "[encoded data removed]",
      "text/plain": [
       "<Figure size 1152x504 with 10 Axes>"
      ]
     },
     "metadata": {
      "needs_background": "light"
     },
     "output_type": "display_data"
    }
   ],
   "source": [
    "weights, biases = model.layers[1].get_weights()\n",
    "fig, axs = plt.subplots(2, 5, figsize=(16,7))\n",
    "for i, ax in enumerate(axs.flatten()):\n",
    "  ax.imshow(weights[:,i].reshape(28,28), cmap='PRGn')\n",
    "  ax.axis('off')\n",
    "  ax.set_title(label_names[i])\n",
    "plt.show()"
   ]
  }
 ],
 "metadata": {
  "colab": {
   "authorship_tag": "ABX9TyN9qpWEqErz0SpDHvJfddfe",
   "name": "05 Multiclass Classification.ipynb",
   "provenance": [],
   "toc_visible": true
  },
  "kernelspec": {
   "display_name": "Python 3 (ipykernel)",
   "language": "python",
   "name": "python3"
  },
  "language_info": {
   "codemirror_mode": {
    "name": "ipython",
    "version": 3
   },
   "file_extension": ".py",
   "mimetype": "text/x-python",
   "name": "python",
   "nbconvert_exporter": "python",
   "pygments_lexer": "ipython3",
   "version": "3.9.13"
  }
 },
 "nbformat": 4,
 "nbformat_minor": 4
}
