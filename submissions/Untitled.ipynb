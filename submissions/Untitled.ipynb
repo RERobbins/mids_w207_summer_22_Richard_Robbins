{
 "cells": [
  {
   "cell_type": "code",
   "execution_count": 5,
   "id": "4e6df8b0-7bc4-4948-b5fd-a593900d92d2",
   "metadata": {},
   "outputs": [],
   "source": [
    "import json\n",
    "import pickle"
   ]
  },
  {
   "cell_type": "code",
   "execution_count": 11,
   "id": "9e81a3e7-7575-4351-86ba-7c97c9a339e4",
   "metadata": {},
   "outputs": [],
   "source": [
    "with open (\"results_in_play.pickle\", \"rb\") as f:\n",
    "    results=pickle.load(f)"
   ]
  },
  {
   "cell_type": "code",
   "execution_count": 13,
   "id": "44f7ebda-1a37-42c5-9d5f-2b07d95143de",
   "metadata": {},
   "outputs": [
    {
     "data": {
      "text/plain": [
       "[('{\"vocab_size\": 6604, \"sequence_length\": 660, \"hidden_layers\": [6604, 3302], \"embedding_dim\": 2, \"dropout_rate\": 0.4, \"epochs\": 5, \"verbose\": 0}',\n",
       "  0.8952000141143799)]"
      ]
     },
     "execution_count": 13,
     "metadata": {},
     "output_type": "execute_result"
    }
   ],
   "source": [
    "[(key, val) for key, val in results.items() if val > .895]"
   ]
  },
  {
   "cell_type": "code",
   "execution_count": null,
   "id": "f2fa6488-e901-4845-a044-1eb2708a5c5c",
   "metadata": {},
   "outputs": [],
   "source": []
  }
 ],
 "metadata": {
  "kernelspec": {
   "display_name": "Python 3 (ipykernel)",
   "language": "python",
   "name": "python3"
  },
  "language_info": {
   "codemirror_mode": {
    "name": "ipython",
    "version": 3
   },
   "file_extension": ".py",
   "mimetype": "text/x-python",
   "name": "python",
   "nbconvert_exporter": "python",
   "pygments_lexer": "ipython3",
   "version": "3.9.12"
  }
 },
 "nbformat": 4,
 "nbformat_minor": 5
}
