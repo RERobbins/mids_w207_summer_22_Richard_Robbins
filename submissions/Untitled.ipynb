{
 "cells": [
  {
   "cell_type": "code",
   "execution_count": 121,
   "id": "4e6df8b0-7bc4-4948-b5fd-a593900d92d2",
   "metadata": {},
   "outputs": [],
   "source": [
    "import json\n",
    "import pickle"
   ]
  },
  {
   "cell_type": "code",
   "execution_count": 136,
   "id": "9e81a3e7-7575-4351-86ba-7c97c9a339e4",
   "metadata": {},
   "outputs": [],
   "source": [
    "with open (\"results_in_play.pickle\", \"rb\") as f:\n",
    "    results=pickle.load(f)"
   ]
  },
  {
   "cell_type": "code",
   "execution_count": 137,
   "id": "44f7ebda-1a37-42c5-9d5f-2b07d95143de",
   "metadata": {},
   "outputs": [
    {
     "data": {
      "text/plain": [
       "[('{\"vocab_size\": 6896, \"sequence_length\": 685, \"hidden_layers\": [6896, 3448], \"embedding_dim\": 2, \"dropout_rate\": 0.3, \"epochs\": 5, \"verbose\": 0}',\n",
       "  0.897599995136261)]"
      ]
     },
     "execution_count": 137,
     "metadata": {},
     "output_type": "execute_result"
    }
   ],
   "source": [
    "[(key, val) for key, val in results.items() if val > .897]"
   ]
  },
  {
   "cell_type": "code",
   "execution_count": null,
   "id": "d5888340-1692-498a-b8f1-2ce23a8b357a",
   "metadata": {},
   "outputs": [],
   "source": []
  },
  {
   "cell_type": "code",
   "execution_count": null,
   "id": "8d06c238-7923-4ba3-b5d5-56c11db2159f",
   "metadata": {},
   "outputs": [],
   "source": []
  }
 ],
 "metadata": {
  "kernelspec": {
   "display_name": "Python 3 (ipykernel)",
   "language": "python",
   "name": "python3"
  },
  "language_info": {
   "codemirror_mode": {
    "name": "ipython",
    "version": 3
   },
   "file_extension": ".py",
   "mimetype": "text/x-python",
   "name": "python",
   "nbconvert_exporter": "python",
   "pygments_lexer": "ipython3",
   "version": "3.9.13"
  }
 },
 "nbformat": 4,
 "nbformat_minor": 5
}
