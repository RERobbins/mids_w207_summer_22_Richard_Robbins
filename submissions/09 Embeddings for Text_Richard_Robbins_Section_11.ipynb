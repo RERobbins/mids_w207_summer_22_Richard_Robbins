{
 "cells": [
  {
   "cell_type": "markdown",
   "metadata": {
    "id": "MKsRDH5ZUdfasdv"
   },
   "source": [
    "# Lab 9"
   ]
  },
  {
   "cell_type": "markdown",
   "metadata": {
    "id": "43534tdfgs-v"
   },
   "source": [
    "In this lab, we'll train models for sentiment classification and experiment with learned embeddings for text features."
   ]
  },
  {
   "cell_type": "code",
   "execution_count": 92,
   "metadata": {
    "id": "7X58hOMTUH-w"
   },
   "outputs": [],
   "source": [
    "# Import the libraries we'll use below.\n",
    "import numpy as np\n",
    "import pandas as pd\n",
    "import seaborn as sns  # for nicer plots\n",
    "from matplotlib import pyplot as plt\n",
    "\n",
    "sns.set(style=\"darkgrid\")  # default style\n",
    "import plotly.graph_objs as plotly  # for interactive plots\n",
    "import tensorflow as tf\n",
    "from tensorflow.keras.datasets import imdb"
   ]
  },
  {
   "cell_type": "markdown",
   "metadata": {
    "id": "eqppUDpmdptk"
   },
   "source": [
    "## Data for Sentiment Classification\n",
    "\n",
    "In this lab, we'll train a *sentiment* classifier for movie reviews. That is, the input is the text of a movie review and the output is the probability the input was a positive review. The target labels are binary, 0 for negative and 1 for positive.\n",
    "\n",
    "Our data includes 50,000 movie reviews on IMDB. The data comes pre-segmented into train and test splits. The [data loading function](https://www.tensorflow.org/api_docs/python/tf/keras/datasets/imdb/load_data) below also splits each input text into tokens (words) and maps the words to integer values. Each input is a sequence of integers corresponding to the words."
   ]
  },
  {
   "cell_type": "code",
   "execution_count": 93,
   "metadata": {
    "colab": {
     "base_uri": "https://localhost:8080/"
    },
    "executionInfo": {
     "elapsed": 5870,
     "status": "ok",
     "timestamp": 1646684495083,
     "user": {
      "displayName": "Daniel Gillick",
      "photoUrl": "https://lh3.googleusercontent.com/a-/AOh14Gg9DrSMlwYnG9EolecuJqe8n9m7fpcje4_UbYrhQ10=s64",
      "userId": "01872965353911650729"
     },
     "user_tz": 600
    },
    "id": "s6M-asvhQWV_",
    "outputId": "1aca520b-e1b6-4006-ac44-78ff33ac6da9"
   },
   "outputs": [
    {
     "name": "stdout",
     "output_type": "stream",
     "text": [
      "X_train.shape: (25000,)\n",
      "Y_train.shape: (25000,)\n",
      "X_test.shape: (25000,)\n",
      "Y_test.shape: (25000,)\n",
      "First training example data: [1, 14, 22, 16, 43, 530, 973, 1622, 1385, 65, 458, 4468, 66, 3941, 4, 173, 36, 256, 5, 25, 100, 43, 838, 112, 50, 670, 22665, 9, 35, 480, 284, 5, 150, 4, 172, 112, 167, 21631, 336, 385, 39, 4, 172, 4536, 1111, 17, 546, 38, 13, 447, 4, 192, 50, 16, 6, 147, 2025, 19, 14, 22, 4, 1920, 4613, 469, 4, 22, 71, 87, 12, 16, 43, 530, 38, 76, 15, 13, 1247, 4, 22, 17, 515, 17, 12, 16, 626, 18, 19193, 5, 62, 386, 12, 8, 316, 8, 106, 5, 4, 2223, 5244, 16, 480, 66, 3785, 33, 4, 130, 12, 16, 38, 619, 5, 25, 124, 51, 36, 135, 48, 25, 1415, 33, 6, 22, 12, 215, 28, 77, 52, 5, 14, 407, 16, 82, 10311, 8, 4, 107, 117, 5952, 15, 256, 4, 31050, 7, 3766, 5, 723, 36, 71, 43, 530, 476, 26, 400, 317, 46, 7, 4, 12118, 1029, 13, 104, 88, 4, 381, 15, 297, 98, 32, 2071, 56, 26, 141, 6, 194, 7486, 18, 4, 226, 22, 21, 134, 476, 26, 480, 5, 144, 30, 5535, 18, 51, 36, 28, 224, 92, 25, 104, 4, 226, 65, 16, 38, 1334, 88, 12, 16, 283, 5, 16, 4472, 113, 103, 32, 15, 16, 5345, 19, 178, 32]\n",
      "First training example label: 1\n"
     ]
    }
   ],
   "source": [
    "(X_train, Y_train), (X_test, Y_test) = imdb.load_data(\n",
    "    path=\"imdb.npz\",\n",
    "    num_words=None,\n",
    "    skip_top=0,\n",
    "    maxlen=None,\n",
    "    seed=113,\n",
    "    start_char=1,\n",
    "    oov_char=2,\n",
    "    index_from=3,\n",
    ")\n",
    "\n",
    "print(\"X_train.shape:\", X_train.shape)\n",
    "print(\"Y_train.shape:\", Y_train.shape)\n",
    "print(\"X_test.shape:\", X_test.shape)\n",
    "print(\"Y_test.shape:\", Y_test.shape)\n",
    "\n",
    "print(\"First training example data:\", X_train[0])\n",
    "print(\"First training example label:\", Y_train[0])"
   ]
  },
  {
   "cell_type": "markdown",
   "metadata": {
    "id": "MyIWiy-4gQK-"
   },
   "source": [
    "So our first training example is a positive review. But that sequence of integer IDs is hard to read. The data loader provides a dictionary mapping words to IDs. Let's create a reverse index.\n"
   ]
  },
  {
   "cell_type": "code",
   "execution_count": 94,
   "metadata": {
    "colab": {
     "base_uri": "https://localhost:8080/"
    },
    "executionInfo": {
     "elapsed": 801,
     "status": "ok",
     "timestamp": 1646684508506,
     "user": {
      "displayName": "Daniel Gillick",
      "photoUrl": "https://lh3.googleusercontent.com/a-/AOh14Gg9DrSMlwYnG9EolecuJqe8n9m7fpcje4_UbYrhQ10=s64",
      "userId": "01872965353911650729"
     },
     "user_tz": 600
    },
    "id": "HQ-qATkhUj7c",
    "outputId": "eea86a69-fe6a-4cdb-ac8c-9307a5118e47"
   },
   "outputs": [
    {
     "name": "stdout",
     "output_type": "stream",
     "text": [
      "Largest ID: 88587\n"
     ]
    }
   ],
   "source": [
    "# The imdb dataset comes with an index mapping words to integers.\n",
    "# In the index the words are ordered by frequency they occur.\n",
    "index = imdb.get_word_index()\n",
    "\n",
    "# Because we used index_from=3 (above), setting aside ids below 3 for special\n",
    "# symbols, we need to add 3 to the index values.\n",
    "index = dict([(key, value + 3) for (key, value) in index.items()])\n",
    "\n",
    "# Create a reverse index so we can lookup tokens assigned to each id.\n",
    "reverse_index = dict([(value, key) for (key, value) in index.items()])\n",
    "reverse_index[1] = \"<START>\"  # start of input\n",
    "reverse_index[2] = \"#\"  # out-of-vocabulary (OOV)\n",
    "reverse_index[3] = \"<UNUSED>\"\n",
    "\n",
    "max_id = max(reverse_index.keys())\n",
    "print(\"Largest ID:\", max_id)"
   ]
  },
  {
   "cell_type": "markdown",
   "metadata": {
    "id": "h76-b07ehWNQ"
   },
   "source": [
    "Note that our index (and reverse index) have over 88,000 tokens. That's quite a large vocabulary! Let's also write a decoding function for our data."
   ]
  },
  {
   "cell_type": "code",
   "execution_count": 95,
   "metadata": {
    "colab": {
     "base_uri": "https://localhost:8080/"
    },
    "executionInfo": {
     "elapsed": 358,
     "status": "ok",
     "timestamp": 1646684531998,
     "user": {
      "displayName": "Daniel Gillick",
      "photoUrl": "https://lh3.googleusercontent.com/a-/AOh14Gg9DrSMlwYnG9EolecuJqe8n9m7fpcje4_UbYrhQ10=s64",
      "userId": "01872965353911650729"
     },
     "user_tz": 600
    },
    "id": "UjobmouHS5Dm",
    "outputId": "29975a48-7fda-4600-bd0c-693c35dd8a54"
   },
   "outputs": [
    {
     "name": "stdout",
     "output_type": "stream",
     "text": [
      "[1, 14, 22, 16, 43, 530, 973, 1622, 1385, 65, 458, 4468, 66, 3941, 4, 173, 36, 256, 5, 25, 100, 43, 838, 112, 50, 670, 22665, 9, 35, 480, 284, 5, 150, 4, 172, 112, 167, 21631, 336, 385, 39, 4, 172, 4536, 1111, 17, 546, 38, 13, 447, 4, 192, 50, 16, 6, 147, 2025, 19, 14, 22, 4, 1920, 4613, 469, 4, 22, 71, 87, 12, 16, 43, 530, 38, 76, 15, 13, 1247, 4, 22, 17, 515, 17, 12, 16, 626, 18, 19193, 5, 62, 386, 12, 8, 316, 8, 106, 5, 4, 2223, 5244, 16, 480, 66, 3785, 33, 4, 130, 12, 16, 38, 619, 5, 25, 124, 51, 36, 135, 48, 25, 1415, 33, 6, 22, 12, 215, 28, 77, 52, 5, 14, 407, 16, 82, 10311, 8, 4, 107, 117, 5952, 15, 256, 4, 31050, 7, 3766, 5, 723, 36, 71, 43, 530, 476, 26, 400, 317, 46, 7, 4, 12118, 1029, 13, 104, 88, 4, 381, 15, 297, 98, 32, 2071, 56, 26, 141, 6, 194, 7486, 18, 4, 226, 22, 21, 134, 476, 26, 480, 5, 144, 30, 5535, 18, 51, 36, 28, 224, 92, 25, 104, 4, 226, 65, 16, 38, 1334, 88, 12, 16, 283, 5, 16, 4472, 113, 103, 32, 15, 16, 5345, 19, 178, 32]\n",
      "<START> this film was just brilliant casting location scenery story direction everyone's really suited the part they played and you could just imagine being there robert redford's is an amazing actor and now the same being director norman's father came from the same scottish island as myself so i loved the fact there was a real connection with this film the witty remarks throughout the film were great it was just brilliant so much that i bought the film as soon as it was released for retail and would recommend it to everyone to watch and the fly fishing was amazing really cried at the end it was so sad and you know what they say if you cry at a film it must have been good and this definitely was also congratulations to the two little boy's that played the part's of norman and paul they were just brilliant children are often left out of the praising list i think because the stars that play them all grown up are such a big profile for the whole film but these children are amazing and should be praised for what they have done don't you think the whole story was so lovely because it was true and was someone's life after all that was shared with us all\n"
     ]
    }
   ],
   "source": [
    "def decode(token_ids):\n",
    "    \"\"\"Return a string with the decoded text given a list of token ids.\"\"\"\n",
    "    # Try looking up each id in the index, but return '#' (for OOV) if not found.\n",
    "    tokens = [reverse_index.get(i, \"#\") for i in token_ids]\n",
    "\n",
    "    # Connect the string tokens with a space.\n",
    "    return \" \".join(tokens)\n",
    "\n",
    "\n",
    "# Show the ids corresponding tokens in the first example.\n",
    "print(X_train[0])\n",
    "print(decode(X_train[0]))"
   ]
  },
  {
   "cell_type": "markdown",
   "metadata": {
    "id": "g47w5CackGBA"
   },
   "source": [
    "### Text Lengths\n",
    "As usual, let's start with some data analysis. How long are the reviews? Is there a difference in length between positive and negative reviews? A histogram will help answer these questions."
   ]
  },
  {
   "cell_type": "code",
   "execution_count": 96,
   "metadata": {
    "colab": {
     "base_uri": "https://localhost:8080/",
     "height": 305
    },
    "executionInfo": {
     "elapsed": 762,
     "status": "ok",
     "timestamp": 1646684547021,
     "user": {
      "displayName": "Daniel Gillick",
      "photoUrl": "https://lh3.googleusercontent.com/a-/AOh14Gg9DrSMlwYnG9EolecuJqe8n9m7fpcje4_UbYrhQ10=s64",
      "userId": "01872965353911650729"
     },
     "user_tz": 600
    },
    "id": "kEOgzo8Gk3r7",
    "outputId": "e7446ffd-10c5-4c64-a5bc-7cab81a1d73f"
   },
   "outputs": [
    {
     "data": {
      "image/png": "[encoded data removed]",
      "text/plain": [
       "<Figure size 432x288 with 1 Axes>"
      ]
     },
     "metadata": {},
     "output_type": "display_data"
    },
    {
     "name": "stdout",
     "output_type": "stream",
     "text": [
      "Longest positive review: 2494\n",
      "Longest negative review: 1571\n"
     ]
    }
   ],
   "source": [
    "# Create a list of lengths for training examples with a positive label.\n",
    "text_lengths_pos = [len(x) for (i, x) in enumerate(X_train) if Y_train[i]]\n",
    "\n",
    "# And a list of lengths for training examples with a negative label.\n",
    "text_lengths_neg = [len(x) for (i, x) in enumerate(X_train) if not Y_train[i]]\n",
    "\n",
    "# The histogram function can take a list of inputs and corresponding labels.\n",
    "plt.hist(\n",
    "    [text_lengths_pos, text_lengths_neg],\n",
    "    bins=20,\n",
    "    range=(0, 1000),\n",
    "    label=[\"positive\", \"negative\"],\n",
    ")\n",
    "plt.legend()\n",
    "plt.show()\n",
    "\n",
    "# Also check the longest reviews.\n",
    "print(\"Longest positive review:\", max(text_lengths_pos))\n",
    "print(\"Longest negative review:\", max(text_lengths_neg))"
   ]
  },
  {
   "cell_type": "markdown",
   "metadata": {
    "id": "c3ZE9gpkml3a"
   },
   "source": [
    "---\n",
    "### Exercise 1: Token Counts (8 points)\n",
    "For each of the given tokens, construct a table with the number of positive training examples that include that token and the number of negative training examples that include that token. For reference, here are the counts for the first two tokens:\n",
    "\n",
    "|Token|Pos Count|Neg Count|\n",
    "|-|-|-|\n",
    "|good|4767|4849|\n",
    "|bad|1491|4396|"
   ]
  },
  {
   "cell_type": "code",
   "execution_count": 97,
   "metadata": {
    "id": "8YOYo6d01aWI"
   },
   "outputs": [
    {
     "data": {
      "text/html": [
       "<div>\n",
       "<style scoped>\n",
       "    .dataframe tbody tr th:only-of-type {\n",
       "        vertical-align: middle;\n",
       "    }\n",
       "\n",
       "    .dataframe tbody tr th {\n",
       "        vertical-align: top;\n",
       "    }\n",
       "\n",
       "    .dataframe thead th {\n",
       "        text-align: right;\n",
       "    }\n",
       "</style>\n",
       "<table border=\"1\" class=\"dataframe\">\n",
       "  <thead>\n",
       "    <tr style=\"text-align: right;\">\n",
       "      <th></th>\n",
       "      <th>Token</th>\n",
       "      <th>Pos Count</th>\n",
       "      <th>Neg Count</th>\n",
       "    </tr>\n",
       "  </thead>\n",
       "  <tbody>\n",
       "    <tr>\n",
       "      <th>0</th>\n",
       "      <td>good</td>\n",
       "      <td>4767</td>\n",
       "      <td>4849</td>\n",
       "    </tr>\n",
       "    <tr>\n",
       "      <th>1</th>\n",
       "      <td>bad</td>\n",
       "      <td>1491</td>\n",
       "      <td>4396</td>\n",
       "    </tr>\n",
       "    <tr>\n",
       "      <th>2</th>\n",
       "      <td>amazing</td>\n",
       "      <td>868</td>\n",
       "      <td>240</td>\n",
       "    </tr>\n",
       "    <tr>\n",
       "      <th>3</th>\n",
       "      <td>boring</td>\n",
       "      <td>301</td>\n",
       "      <td>1205</td>\n",
       "    </tr>\n",
       "    <tr>\n",
       "      <th>4</th>\n",
       "      <td>laugh</td>\n",
       "      <td>525</td>\n",
       "      <td>685</td>\n",
       "    </tr>\n",
       "    <tr>\n",
       "      <th>5</th>\n",
       "      <td>cry</td>\n",
       "      <td>231</td>\n",
       "      <td>114</td>\n",
       "    </tr>\n",
       "  </tbody>\n",
       "</table>\n",
       "</div>"
      ],
      "text/plain": [
       "     Token  Pos Count  Neg Count\n",
       "0     good       4767       4849\n",
       "1      bad       1491       4396\n",
       "2  amazing        868        240\n",
       "3   boring        301       1205\n",
       "4    laugh        525        685\n",
       "5      cry        231        114"
      ]
     },
     "execution_count": 97,
     "metadata": {},
     "output_type": "execute_result"
    }
   ],
   "source": [
    "tokens = [\"good\", \"bad\", \"amazing\", \"boring\", \"laugh\", \"cry\"]\n",
    "# YOUR CODE HERE\n",
    "\n",
    "result = []\n",
    "\n",
    "for token in tokens:\n",
    "    pos = [\n",
    "        idx\n",
    "        for (idx, review) in enumerate(X_train)\n",
    "        if index[token] in review and Y_train[idx]\n",
    "    ]\n",
    "    neg = [\n",
    "        idx\n",
    "        for (idx, review) in enumerate(X_train)\n",
    "        if index[token] in review and not Y_train[idx]\n",
    "    ]\n",
    "    result.append([token, len(pos), len(neg)])\n",
    "\n",
    "pd.DataFrame(result, columns=[\"Token\", \"Pos Count\", \"Neg Count\"])"
   ]
  },
  {
   "cell_type": "markdown",
   "metadata": {},
   "source": [
    "---"
   ]
  },
  {
   "cell_type": "markdown",
   "metadata": {
    "id": "hhzt-LnQ1m8w"
   },
   "source": [
    "## Feature Representation\n",
    "Consider the difference between the pixel features we used for image classification and the text features we are now dealing with.\n",
    "\n",
    "An image had 784 pixel positions. At each position, there is a single value in [0,1] (after normalization).\n",
    "\n",
    "In contrast, a review has a variable number of ordered tokens (up to 2494 in the training examples). Each token occurs in a particular position. We can think of the token positions much like the 784 pixel positions, except that some of the trailing positions are empty, since review lengths vary.  At each token position, there is a single token, one of the 88587 entries in the vocabulary. So we can think of a review as a (2500, 90000) matrix: At each of ~2500 token positions, we have 1 of ~90000 token ids.\n",
    "\n",
    "This representation would have 2500 * 90000 = 225 million features -- quite a lot more complexity than the images, though as you'll see below, we will make some simplifying assumptions, reducing both the number of token positions and the number of vocabulary items."
   ]
  },
  {
   "cell_type": "markdown",
   "metadata": {
    "id": "Jm_F5JmWyfko"
   },
   "source": [
    "### Padding and Reduced Length\n",
    "As is clear from the length histogram, the current representation of the review text is a variable-length array. Since fixed-length arrays are easier to work with in Tensorflow, let's add special padding tokens at the end of each review until they are all the same length.\n",
    "\n",
    "We'll also use this operation to limit the number of token positions by truncating all reviews to a specified length. In the code below, as an example, we pad all training inputs to length 300."
   ]
  },
  {
   "cell_type": "code",
   "execution_count": 98,
   "metadata": {
    "colab": {
     "base_uri": "https://localhost:8080/"
    },
    "executionInfo": {
     "elapsed": 766,
     "status": "ok",
     "timestamp": 1646684609342,
     "user": {
      "displayName": "Daniel Gillick",
      "photoUrl": "https://lh3.googleusercontent.com/a-/AOh14Gg9DrSMlwYnG9EolecuJqe8n9m7fpcje4_UbYrhQ10=s64",
      "userId": "01872965353911650729"
     },
     "user_tz": 600
    },
    "id": "a4ou8bSUCWOx",
    "outputId": "be4bc9e1-47aa-4f82-e23b-569f8d6128a4"
   },
   "outputs": [
    {
     "name": "stdout",
     "output_type": "stream",
     "text": [
      "Length of X_train[0]: 218\n",
      "Length of X_train_padded[0]: 300\n",
      "[    1    14    22    16    43   530   973  1622  1385    65   458  4468\n",
      "    66  3941     4   173    36   256     5    25   100    43   838   112\n",
      "    50   670 22665     9    35   480   284     5   150     4   172   112\n",
      "   167 21631   336   385    39     4   172  4536  1111    17   546    38\n",
      "    13   447     4   192    50    16     6   147  2025    19    14    22\n",
      "     4  1920  4613   469     4    22    71    87    12    16    43   530\n",
      "    38    76    15    13  1247     4    22    17   515    17    12    16\n",
      "   626    18 19193     5    62   386    12     8   316     8   106     5\n",
      "     4  2223  5244    16   480    66  3785    33     4   130    12    16\n",
      "    38   619     5    25   124    51    36   135    48    25  1415    33\n",
      "     6    22    12   215    28    77    52     5    14   407    16    82\n",
      " 10311     8     4   107   117  5952    15   256     4 31050     7  3766\n",
      "     5   723    36    71    43   530   476    26   400   317    46     7\n",
      "     4 12118  1029    13   104    88     4   381    15   297    98    32\n",
      "  2071    56    26   141     6   194  7486    18     4   226    22    21\n",
      "   134   476    26   480     5   144    30  5535    18    51    36    28\n",
      "   224    92    25   104     4   226    65    16    38  1334    88    12\n",
      "    16   283     5    16  4472   113   103    32    15    16  5345    19\n",
      "   178    32     0     0     0     0     0     0     0     0     0     0\n",
      "     0     0     0     0     0     0     0     0     0     0     0     0\n",
      "     0     0     0     0     0     0     0     0     0     0     0     0\n",
      "     0     0     0     0     0     0     0     0     0     0     0     0\n",
      "     0     0     0     0     0     0     0     0     0     0     0     0\n",
      "     0     0     0     0     0     0     0     0     0     0     0     0\n",
      "     0     0     0     0     0     0     0     0     0     0     0     0]\n"
     ]
    }
   ],
   "source": [
    "def pad_data(sequences, max_length):\n",
    "    # Keras has a convenient utility for padding a sequence.\n",
    "    # Also make sure we get a numpy array rather than an array of lists.\n",
    "    return np.array(\n",
    "        list(\n",
    "            tf.keras.preprocessing.sequence.pad_sequences(\n",
    "                sequences, maxlen=max_length, padding=\"post\", value=0\n",
    "            )\n",
    "        )\n",
    "    )\n",
    "\n",
    "\n",
    "# Pad and truncate to 300 tokens.\n",
    "X_train_padded = pad_data(X_train, max_length=300)\n",
    "\n",
    "# Check the padded output.\n",
    "print(\"Length of X_train[0]:\", len(X_train[0]))\n",
    "print(\"Length of X_train_padded[0]:\", len(X_train_padded[0]))\n",
    "print(X_train_padded[0])"
   ]
  },
  {
   "cell_type": "markdown",
   "metadata": {
    "id": "lFEmcwBjL4e_"
   },
   "source": [
    "### Reduced Vocabulary\n",
    "We also want to be able to limit the vocabulary size. Since our padding function produces fixed-length sequences in a numpy matrix, we can use clever numpy indexing to efficiently replace all token ids larger than some value with the designated out-of-vocabulary (OOV) id.\n",
    "\n",
    "In the code below, as an example, we'll keep just token ids less than 1000, replacing all others with OOV."
   ]
  },
  {
   "cell_type": "code",
   "execution_count": 99,
   "metadata": {
    "colab": {
     "base_uri": "https://localhost:8080/"
    },
    "executionInfo": {
     "elapsed": 347,
     "status": "ok",
     "timestamp": 1646684634116,
     "user": {
      "displayName": "Daniel Gillick",
      "photoUrl": "https://lh3.googleusercontent.com/a-/AOh14Gg9DrSMlwYnG9EolecuJqe8n9m7fpcje4_UbYrhQ10=s64",
      "userId": "01872965353911650729"
     },
     "user_tz": 600
    },
    "id": "21qpyEgGNQeB",
    "outputId": "148ce890-4376-4c5a-f96a-9fb50cbe9538"
   },
   "outputs": [
    {
     "name": "stdout",
     "output_type": "stream",
     "text": [
      "[  1  14  22  16  43 530 973   2   2  65 458   2  66   2   4 173  36 256\n",
      "   5  25 100  43 838 112  50 670   2   9  35 480 284   5 150   4 172 112\n",
      " 167   2 336 385  39   4 172   2   2  17 546  38  13 447   4 192  50  16\n",
      "   6 147   2  19  14  22   4   2   2 469   4  22  71  87  12  16  43 530\n",
      "  38  76  15  13   2   4  22  17 515  17  12  16 626  18   2   5  62 386\n",
      "  12   8 316   8 106   5   4   2   2  16 480  66   2  33   4 130  12  16\n",
      "  38 619   5  25 124  51  36 135  48  25   2  33   6  22  12 215  28  77\n",
      "  52   5  14 407  16  82   2   8   4 107 117   2  15 256   4   2   7   2\n",
      "   5 723  36  71  43 530 476  26 400 317  46   7   4   2   2  13 104  88\n",
      "   4 381  15 297  98  32   2  56  26 141   6 194   2  18   4 226  22  21\n",
      " 134 476  26 480   5 144  30   2  18  51  36  28 224  92  25 104   4 226\n",
      "  65  16  38   2  88  12  16 283   5  16   2 113 103  32  15  16   2  19\n",
      " 178  32   0   0   0   0   0   0   0   0   0   0   0   0   0   0   0   0\n",
      "   0   0   0   0   0   0   0   0   0   0   0   0   0   0   0   0   0   0\n",
      "   0   0   0   0   0   0   0   0   0   0   0   0   0   0   0   0   0   0\n",
      "   0   0   0   0   0   0   0   0   0   0   0   0   0   0   0   0   0   0\n",
      "   0   0   0   0   0   0   0   0   0   0   0   0]\n",
      "<START> this film was just brilliant casting # # story direction # really # the part they played and you could just imagine being there robert # is an amazing actor and now the same being director # father came from the same # # as myself so i loved the fact there was a real # with this film the # # throughout the film were great it was just brilliant so much that i # the film as soon as it was released for # and would recommend it to everyone to watch and the # # was amazing really # at the end it was so sad and you know what they say if you # at a film it must have been good and this definitely was also # to the two little # that played the # of # and paul they were just brilliant children are often left out of the # # i think because the stars that play them all # up are such a big # for the whole film but these children are amazing and should be # for what they have done don't you think the whole story was so # because it was true and was # life after all that was # with us all # # # # # # # # # # # # # # # # # # # # # # # # # # # # # # # # # # # # # # # # # # # # # # # # # # # # # # # # # # # # # # # # # # # # # # # # # # # # # # # # # #\n"
     ]
    }
   ],
   "source": [
    "def limit_vocab(sequences, max_token_id, oov_id=2):\n",
    "    \"\"\"Replace token ids greater than or equal to max_token_id with the oov_id.\"\"\"\n",
    "    reduced_sequences = np.copy(sequences)\n",
    "    reduced_sequences[reduced_sequences >= max_token_id] = oov_id\n",
    "    return reduced_sequences\n",
    "\n",
    "\n",
    "# Reduce vocabulary to 1000 tokens.\n",
    "X_train_reduced = limit_vocab(X_train_padded, max_token_id=1000)\n",
    "print(X_train_reduced[0])\n",
    "\n",
    "# Decode to see what this looks like in tokens. Note the '#' for OOVs.\n",
    "print(decode(X_train_reduced[0]))"
   ]
  },
  {
   "cell_type": "markdown",
   "metadata": {
    "id": "d24mOPC6ybC4"
   },
   "source": [
    "### One-hot Encoding\n",
    "Our current feature representations are **sparse**. That is, we only keep track of the token ids that are present in the input. A **one-hot** encoding replaces a value like 22 (corresponding to 'film') with an array with a single 1 at position 22 and zeros everywhere else. This will be very memory-inefficient, but we'll do it anyway for clarity.\n",
    "\n",
    "As discussed above, let's dramatically reduce both the number of token positions (review length) and the number of token ids (vocabulary). We'll clip each review after 20 tokens (so 2500 -> 20) and keep only the most common 1000 tokens (so 90000 -> 1000)."
   ]
  },
  {
   "cell_type": "code",
   "execution_count": 100,
   "metadata": {
    "colab": {
     "base_uri": "https://localhost:8080/"
    },
    "executionInfo": {
     "elapsed": 1777,
     "status": "ok",
     "timestamp": 1646684668163,
     "user": {
      "displayName": "Daniel Gillick",
      "photoUrl": "https://lh3.googleusercontent.com/a-/AOh14Gg9DrSMlwYnG9EolecuJqe8n9m7fpcje4_UbYrhQ10=s64",
      "userId": "01872965353911650729"
     },
     "user_tz": 600
    },
    "id": "EXzkqVL3Jufj",
    "outputId": "69a06ea3-61e2-4d2b-ed57-69c51ee2c5f4"
   },
   "outputs": [
    {
     "name": "stdout",
     "output_type": "stream",
     "text": [
      "X_train_one_hot shape: (25000, 20, 1000)\n"
     ]
    }
   ],
   "source": [
    "# Keras has a util to create one-hot encodings.\n",
    "X_train_padded = pad_data(X_train, max_length=20)\n",
    "X_train_reduced = limit_vocab(X_train_padded, max_token_id=1000)\n",
    "X_train_one_hot = tf.keras.utils.to_categorical(X_train_reduced)\n",
    "print(\"X_train_one_hot shape:\", X_train_one_hot.shape)"
   ]
  },
  {
   "cell_type": "markdown",
   "metadata": {
    "id": "B5RvIN4w66Ej"
   },
   "source": [
    "Note the shape of the one-hot encoded features. For each of our 25000 training examples, we have a 20 x 1000 matrix. That is, for each of 20 token positions, we have a vector of 1000 elements containing a single 1 and 999 zeros.\n",
    "\n",
    "We can think of these 1000-dimensional one-hot arrays as **embeddings**. Each token in the input has a 1000-dimensional representation. But because of the one-hot setup, the distance between each pair of tokens is the same ([1,0,0,...], [0,1,0,...], etc.). By contrast, learned embeddings result in meaningful distances between pairs of tokens. We'll get to that soon."
   ]
  },
  {
   "cell_type": "markdown",
   "metadata": {
    "id": "296Cnt647b5c"
   },
   "source": [
    "## Logistic Regression with One-Hot Encodings\n",
    "Let's start with something familiar -- logistic regression. Since our feature representation is in 2 dimensions (20 x 1000), we need to flatten it to pass it to Keras (remember we did this with the pixel data too). Let's try two strategies for flattening.\n",
    "\n",
    "1. Flatten by *concatenating* (as we did with pixels), turning (20 x 1000) data into (20000,) data. The result is a separate feature for each token at each position.\n",
    "2. Flatten by *averaging* over token positions, turning (20 x 1000) data into (1000,) data. The result is an array with average token counts, ignoring position.\n",
    "\n",
    "NOTE: Our prior assignments have used the standard Stochastic Gradient Descent (SGD) optimizer to compute the gradient from an estimate of the loss (based on the current mini-batch). There are many alternative optimizers. Here we'll use the **Adam** optimizer, which sometimes gives better results. One key characteristic of Adam is that it effectively uses a different learning rate for each parameter rather than a fixed learning rate as in SGD."
   ]
  },
  {
   "cell_type": "code",
   "execution_count": 101,
   "metadata": {
    "id": "6m6eebM-0dUW"
   },
   "outputs": [],
   "source": [
    "def build_onehot_model(average_over_positions=False):\n",
    "    \"\"\"Build a tf.keras model for one-hot data.\"\"\"\n",
    "    # Clear session and remove randomness.\n",
    "    tf.keras.backend.clear_session()\n",
    "    tf.random.set_seed(0)\n",
    "\n",
    "    model = tf.keras.Sequential()\n",
    "    if average_over_positions:\n",
    "        # This layer averages over the first dimension of the input by default.\n",
    "        model.add(tf.keras.layers.GlobalAveragePooling1D())\n",
    "    else:\n",
    "        # Concatenate.\n",
    "        model.add(tf.keras.layers.Flatten())\n",
    "    model.add(\n",
    "        tf.keras.layers.Dense(\n",
    "            units=1,  # output dim (for binary classification)\n",
    "            activation=\"sigmoid\",  # sigmoid activation for classification\n",
    "        )\n",
    "    )\n",
    "\n",
    "    model.compile(\n",
    "        loss=\"binary_crossentropy\",  # this is a classification task\n",
    "        optimizer=\"adam\",  # fancy optimizer\n",
    "        metrics=[\"accuracy\"],\n",
    "    )\n",
    "\n",
    "    return model"
   ]
  },
  {
   "cell_type": "markdown",
   "metadata": {
    "id": "NY3W_1-OSZ2X"
   },
   "source": [
    "Now let's try fitting the model to our training data and check performance metrics on the validation (held-out) data. But first, here's a function for plotting the learning curves given the training history object we get from Keras."
   ]
  },
  {
   "cell_type": "code",
   "execution_count": 102,
   "metadata": {
    "id": "cOVmajSuMjN6"
   },
   "outputs": [],
   "source": [
    "def plot_history(history):\n",
    "    plt.ylabel(\"Loss\")\n",
    "    plt.xlabel(\"Epoch\")\n",
    "    plt.xticks(range(0, len(history[\"loss\"] + 1)))\n",
    "    plt.plot(history[\"loss\"], label=\"training\", marker=\"o\")\n",
    "    plt.plot(history[\"val_loss\"], label=\"validation\", marker=\"o\")\n",
    "    plt.legend()\n",
    "    plt.show()"
   ]
  },
  {
   "cell_type": "code",
   "execution_count": 103,
   "metadata": {
    "colab": {
     "base_uri": "https://localhost:8080/",
     "height": 478
    },
    "executionInfo": {
     "elapsed": 22140,
     "status": "ok",
     "timestamp": 1646684718388,
     "user": {
      "displayName": "Daniel Gillick",
      "photoUrl": "https://lh3.googleusercontent.com/a-/AOh14Gg9DrSMlwYnG9EolecuJqe8n9m7fpcje4_UbYrhQ10=s64",
      "userId": "01872965353911650729"
     },
     "user_tz": 600
    },
    "id": "MyE4PgX70_op",
    "outputId": "3de05dfa-f372-4b77-ba43-f212c2f47c1e"
   },
   "outputs": [
    {
     "name": "stdout",
     "output_type": "stream",
     "text": [
      "Epoch 1/5\n",
      "  8/352 [..............................] - ETA: 2s - loss: 0.6924 - accuracy: 0.5039  "
     ]
    },
    {
     "name": "stderr",
     "output_type": "stream",
     "text": [
      "2022-06-28 19:44:21.134067: I tensorflow/core/grappler/optimizers/custom_graph_optimizer_registry.cc:113] Plugin optimizer for device_type GPU is enabled.\n"
     ]
    },
    {
     "name": "stdout",
     "output_type": "stream",
     "text": [
      "352/352 [==============================] - 2s 6ms/step - loss: 0.6788 - accuracy: 0.6117 - val_loss: 0.6668 - val_accuracy: 0.6448\n",
      "Epoch 2/5\n",
      "  1/352 [..............................] - ETA: 2s - loss: 0.6583 - accuracy: 0.7344"
     ]
    },
    {
     "name": "stderr",
     "output_type": "stream",
     "text": [
      "2022-06-28 19:44:23.306520: I tensorflow/core/grappler/optimizers/custom_graph_optimizer_registry.cc:113] Plugin optimizer for device_type GPU is enabled.\n"
     ]
    },
    {
     "name": "stdout",
     "output_type": "stream",
     "text": [
      "352/352 [==============================] - 2s 6ms/step - loss: 0.6335 - accuracy: 0.7421 - val_loss: 0.6462 - val_accuracy: 0.6700\n",
      "Epoch 3/5\n",
      "352/352 [==============================] - 2s 6ms/step - loss: 0.5968 - accuracy: 0.7753 - val_loss: 0.6301 - val_accuracy: 0.6676\n",
      "Epoch 4/5\n",
      "352/352 [==============================] - 2s 6ms/step - loss: 0.5667 - accuracy: 0.7963 - val_loss: 0.6188 - val_accuracy: 0.6792\n",
      "Epoch 5/5\n",
      "352/352 [==============================] - 2s 6ms/step - loss: 0.5411 - accuracy: 0.8085 - val_loss: 0.6096 - val_accuracy: 0.6808\n"
     ]
    },
    {
     "data": {
      "image/png": "[encoded data removed]",
      "text/plain": [
       "<Figure size 432x288 with 1 Axes>"
      ]
     },
     "metadata": {},
     "output_type": "display_data"
    }
   ],
   "source": [
    "model = build_onehot_model()\n",
    "\n",
    "# Fit the model.\n",
    "history = model.fit(\n",
    "    x=X_train_one_hot,  # one-hot training data\n",
    "    y=Y_train,  # corresponding binary labels\n",
    "    epochs=5,  # number of passes through the training data\n",
    "    batch_size=64,  # mini-batch size\n",
    "    validation_split=0.1,  # use a fraction of the examples for validation\n",
    "    verbose=1,  # display some progress output during training\n",
    ")\n",
    "\n",
    "# Convert the return value into a DataFrame so we can see the train loss\n",
    "# and binary accuracy after every epoch.\n",
    "history = pd.DataFrame(history.history)\n",
    "plot_history(history)"
   ]
  },
  {
   "cell_type": "markdown",
   "metadata": {
    "id": "QuCh9aQPv7F_"
   },
   "source": [
    "---\n",
    "### Exercise 2: Comparing logistic regression models (8 points)\n",
    "Train the one-hot model using both the concatenating and the averaging strategies and compare the results. Let's call these *LR-C* (Logistic Regression Concatenating) and *LR-A* (Logistic Regression Averaging). Then answer the following questions:\n",
    "\n",
    "1. What are the final training and validation accuracies for LR-C and LR-A?\n",
    "2. How many parameters are there in each model?\n",
    "3. Would you say that either model is overfitting? Why or why not?\n",
    "4. Briefly describe how LR-C differs from LR-A. How do you explain the relationship between their respective validation accuracy results? "
   ]
  },
  {
   "cell_type": "code",
   "execution_count": 104,
   "metadata": {},
   "outputs": [
    {
     "name": "stdout",
     "output_type": "stream",
     "text": [
      "\n",
      "Train Concatenating Model\n",
      "\n",
      "Epoch 1/5\n",
      " 15/352 [>.............................] - ETA: 2s - loss: 0.6932 - accuracy: 0.5125"
     ]
    },
    {
     "name": "stderr",
     "output_type": "stream",
     "text": [
      "2022-06-28 19:44:32.826973: I tensorflow/core/grappler/optimizers/custom_graph_optimizer_registry.cc:113] Plugin optimizer for device_type GPU is enabled.\n"
     ]
    },
    {
     "name": "stdout",
     "output_type": "stream",
     "text": [
      "352/352 [==============================] - 3s 7ms/step - loss: 0.6788 - accuracy: 0.6117 - val_loss: 0.6668 - val_accuracy: 0.6448\n",
      "Epoch 2/5\n",
      "  1/352 [..............................] - ETA: 2s - loss: 0.6583 - accuracy: 0.7344"
     ]
    },
    {
     "name": "stderr",
     "output_type": "stream",
     "text": [
      "2022-06-28 19:44:35.120859: I tensorflow/core/grappler/optimizers/custom_graph_optimizer_registry.cc:113] Plugin optimizer for device_type GPU is enabled.\n"
     ]
    },
    {
     "name": "stdout",
     "output_type": "stream",
     "text": [
      "352/352 [==============================] - 2s 6ms/step - loss: 0.6335 - accuracy: 0.7421 - val_loss: 0.6462 - val_accuracy: 0.6700\n",
      "Epoch 3/5\n",
      "352/352 [==============================] - 2s 6ms/step - loss: 0.5968 - accuracy: 0.7753 - val_loss: 0.6301 - val_accuracy: 0.6676\n",
      "Epoch 4/5\n",
      "352/352 [==============================] - 2s 6ms/step - loss: 0.5667 - accuracy: 0.7963 - val_loss: 0.6188 - val_accuracy: 0.6792\n",
      "Epoch 5/5\n",
      "352/352 [==============================] - 2s 6ms/step - loss: 0.5411 - accuracy: 0.8085 - val_loss: 0.6096 - val_accuracy: 0.6808\n",
      "\n",
      "Train Averaging Model\n",
      "\n",
      "Epoch 1/5\n",
      "  7/352 [..............................] - ETA: 3s - loss: 0.6935 - accuracy: 0.4799  "
     ]
    },
    {
     "name": "stderr",
     "output_type": "stream",
     "text": [
      "2022-06-28 19:44:44.888270: I tensorflow/core/grappler/optimizers/custom_graph_optimizer_registry.cc:113] Plugin optimizer for device_type GPU is enabled.\n"
     ]
    },
    {
     "name": "stdout",
     "output_type": "stream",
     "text": [
      "352/352 [==============================] - 3s 7ms/step - loss: 0.6907 - accuracy: 0.6072 - val_loss: 0.6885 - val_accuracy: 0.6340\n",
      "Epoch 2/5\n"
     ]
    },
    {
     "name": "stderr",
     "output_type": "stream",
     "text": [
      "2022-06-28 19:44:47.264080: I tensorflow/core/grappler/optimizers/custom_graph_optimizer_registry.cc:113] Plugin optimizer for device_type GPU is enabled.\n"
     ]
    },
    {
     "name": "stdout",
     "output_type": "stream",
     "text": [
      "352/352 [==============================] - 2s 6ms/step - loss: 0.6856 - accuracy: 0.6717 - val_loss: 0.6839 - val_accuracy: 0.6624\n",
      "Epoch 3/5\n",
      "352/352 [==============================] - 2s 6ms/step - loss: 0.6807 - accuracy: 0.6737 - val_loss: 0.6792 - val_accuracy: 0.6832\n",
      "Epoch 4/5\n",
      "352/352 [==============================] - 2s 6ms/step - loss: 0.6760 - accuracy: 0.6968 - val_loss: 0.6750 - val_accuracy: 0.6848\n",
      "Epoch 5/5\n",
      "352/352 [==============================] - 2s 6ms/step - loss: 0.6714 - accuracy: 0.6960 - val_loss: 0.6710 - val_accuracy: 0.6864\n",
      "\n",
      "Concatenating Model\n"
     ]
    },
    {
     "data": {
      "image/png": "[encoded data removed]",
      "text/plain": [
       "<Figure size 432x288 with 1 Axes>"
      ]
     },
     "metadata": {},
     "output_type": "display_data"
    },
    {
     "name": "stdout",
     "output_type": "stream",
     "text": [
      "Averaging Model\n"
     ]
    },
    {
     "data": {
      "image/png": "[encoded data removed]",
      "text/plain": [
       "<Figure size 432x288 with 1 Axes>"
      ]
     },
     "metadata": {},
     "output_type": "display_data"
    }
   ],
   "source": [
    "lr_c = build_onehot_model(average_over_positions=False)\n",
    "lr_a = build_onehot_model(average_over_positions=True)\n",
    "\n",
    "print(\"\\nTrain Concatenating Model\\n\")\n",
    "\n",
    "lr_c_history = lr_c.fit(\n",
    "    x=X_train_one_hot,  # one-hot training data\n",
    "    y=Y_train,  # corresponding binary labels\n",
    "    epochs=5,  # number of passes through the training data\n",
    "    batch_size=64,  # mini-batch size\n",
    "    validation_split=0.1,  # use a fraction of the examples for validation\n",
    "    verbose=1,  # display some progress output during training\n",
    ")\n",
    "\n",
    "print(\"\\nTrain Averaging Model\\n\")\n",
    "\n",
    "lr_a_history = lr_a.fit(\n",
    "    x=X_train_one_hot,  # one-hot training data\n",
    "    y=Y_train,  # corresponding binary labels\n",
    "    epochs=5,  # number of passes through the training data\n",
    "    batch_size=64,  # mini-batch size\n",
    "    validation_split=0.1,  # use a fraction of the examples for validation\n",
    "    verbose=1,  # display some progress output during training\n",
    ")\n",
    "\n",
    "lr_c_history=pd.DataFrame(lr_c_history.history)\n",
    "lr_a_history=pd.DataFrame(lr_a_history.history)\n",
    "\n",
    "print()\n",
    "print(\"Concatenating Model\")\n",
    "plot_history(lr_c_history)\n",
    "print(\"Averaging Model\")\n",
    "plot_history(lr_a_history)"
   ]
  },
  {
   "cell_type": "code",
   "execution_count": 105,
   "metadata": {},
   "outputs": [
    {
     "name": "stdout",
     "output_type": "stream",
     "text": [
      "Concatenating model summary:\n",
      "Model: \"sequential\"\n",
      "_________________________________________________________________\n",
      " Layer (type)                Output Shape              Param #   \n",
      "=================================================================\n",
      " flatten (Flatten)           (None, 20000)             0         \n",
      "                                                                 \n",
      " dense (Dense)               (None, 1)                 20001     \n",
      "                                                                 \n",
      "=================================================================\n",
      "Total params: 20,001\n",
      "Trainable params: 20,001\n",
      "Non-trainable params: 0\n",
      "_________________________________________________________________\n"
     ]
    }
   ],
   "source": [
    "print(\"Concatenating model summary:\")\n",
    "lr_c.summary()"
   ]
  },
  {
   "cell_type": "code",
   "execution_count": 106,
   "metadata": {},
   "outputs": [
    {
     "name": "stdout",
     "output_type": "stream",
     "text": [
      "Averaging model summary\n",
      "Model: \"sequential\"\n",
      "_________________________________________________________________\n",
      " Layer (type)                Output Shape              Param #   \n",
      "=================================================================\n",
      " global_average_pooling1d (G  (None, 1000)             0         \n",
      " lobalAveragePooling1D)                                          \n",
      "                                                                 \n",
      " dense (Dense)               (None, 1)                 1001      \n",
      "                                                                 \n",
      "=================================================================\n",
      "Total params: 1,001\n",
      "Trainable params: 1,001\n",
      "Non-trainable params: 0\n",
      "_________________________________________________________________\n"
     ]
    }
   ],
   "source": [
    "print(\"Averaging model summary\")\n",
    "lr_a.summary()"
   ]
  },
  {
   "cell_type": "markdown",
   "metadata": {
    "id": "CEAN5BejHc__"
   },
   "source": [
    "*Written answers:*\n",
    "\n",
    "1. Concatenating model, final training accuracy: 0.8085, final validation accurary: 0.6808  \n",
    "Averaging model, final training accuracy: 0.6960, final validation accuracy: 0.6864\n",
    "\n",
    "2. The concatenating model has 20,001 parameters and the averaging model has 1,001 parameters.\n",
    "\n",
    "3. Overfitting is typically evidenced by training accuracy far exceeding test accuracy.  In this instance, the training accuracy of the concatenating model is about 11% above validation accuracy, which does indicate a degree of overfitting.  On the other hand, the training accuracy of the averaging model is only about 1% above test accuracy, which does not indicate overfitting for that model.\n",
    "\n",
    "4. The primary difference between the two models is the number of feaures.  The additional features present in the concatening model makes that model more prone to overfitting.  By reducing dimensionality, the averaging model is less prone to overfitting and the use of averaging seems to capture the relevant information from the data necessary for the model to work, this is demonstrated by the fact that the differences between the validation accuracy of the two models is immaterial.  This dynamic is similar to what we observe with the use of principal component analysis on other machine learning data sets."
   ]
  },
  {
   "cell_type": "markdown",
   "metadata": {},
   "source": [
    "---"
   ]
  },
  {
   "cell_type": "markdown",
   "metadata": {
    "id": "sJIBRqK7lsjG"
   },
   "source": [
    "## Logistic Regression with Embeddings\n",
    "Next, let's train model that replaces one-hot representations of each token with learned embeddings.\n",
    "\n",
    "The code below uses a Keras Embedding layer, which expects to receive a sparse (rather than one-hot) representation. That is, it expects a (padded) sequence of token ids; for each id, it looks up the corresponding embedding vector."
   ]
  },
  {
   "cell_type": "code",
   "execution_count": 107,
   "metadata": {
    "id": "ho6uOeCaBs2e"
   },
   "outputs": [],
   "source": [
    "def build_embeddings_model(\n",
    "    average_over_positions=False, vocab_size=1000, sequence_length=20, embedding_dim=2\n",
    "):\n",
    "    \"\"\"Build a tf.keras model using embeddings.\"\"\"\n",
    "    # Clear session and remove randomness.\n",
    "    tf.keras.backend.clear_session()\n",
    "    tf.random.set_seed(0)\n",
    "\n",
    "    model = tf.keras.Sequential()\n",
    "    model.add(\n",
    "        tf.keras.layers.Embedding(\n",
    "            input_dim=vocab_size, output_dim=embedding_dim, input_length=sequence_length\n",
    "        )\n",
    "    )\n",
    "\n",
    "    if average_over_positions:\n",
    "        # This layer averages over the first dimension of the input by default.\n",
    "        model.add(tf.keras.layers.GlobalAveragePooling1D())\n",
    "    else:\n",
    "        # Concatenate.\n",
    "        model.add(tf.keras.layers.Flatten())\n",
    "    model.add(\n",
    "        tf.keras.layers.Dense(\n",
    "            units=1,  # output dim (for binary classification)\n",
    "            activation=\"sigmoid\",  # apply the sigmoid function!\n",
    "        )\n",
    "    )\n",
    "\n",
    "    model.compile(loss=\"binary_crossentropy\", optimizer=\"adam\", metrics=[\"accuracy\"])\n",
    "\n",
    "    return model"
   ]
  },
  {
   "cell_type": "markdown",
   "metadata": {
    "id": "eyhoEjAiFSNB"
   },
   "source": [
    "Try training the model as before. We'll use the averaging strategy rather than the concatenating strategy for dealing with the token sequence. That is, we'll look up embedding vectors for each token. Then we'll average them to produce a single vector. Then we'll traing a logistic regression with that vector as input to predict the binary label."
   ]
  },
  {
   "cell_type": "code",
   "execution_count": 108,
   "metadata": {
    "colab": {
     "base_uri": "https://localhost:8080/",
     "height": 478
    },
    "executionInfo": {
     "elapsed": 5490,
     "status": "ok",
     "timestamp": 1646684762935,
     "user": {
      "displayName": "Daniel Gillick",
      "photoUrl": "https://lh3.googleusercontent.com/a-/AOh14Gg9DrSMlwYnG9EolecuJqe8n9m7fpcje4_UbYrhQ10=s64",
      "userId": "01872965353911650729"
     },
     "user_tz": 600
    },
    "id": "uYUE5UwkxoU8",
    "outputId": "20a4c237-8c49-4b24-9ea1-e0f325cb9908"
   },
   "outputs": [
    {
     "name": "stdout",
     "output_type": "stream",
     "text": [
      "Epoch 1/5\n",
      "  5/352 [..............................] - ETA: 5s - loss: 0.6935 - accuracy: 0.4750  "
     ]
    },
    {
     "name": "stderr",
     "output_type": "stream",
     "text": [
      "2022-06-28 19:44:56.495374: I tensorflow/core/grappler/optimizers/custom_graph_optimizer_registry.cc:113] Plugin optimizer for device_type GPU is enabled.\n"
     ]
    },
    {
     "name": "stdout",
     "output_type": "stream",
     "text": [
      "352/352 [==============================] - 4s 11ms/step - loss: 0.6892 - accuracy: 0.6205 - val_loss: 0.6834 - val_accuracy: 0.6512\n",
      "Epoch 2/5\n"
     ]
    },
    {
     "name": "stderr",
     "output_type": "stream",
     "text": [
      "2022-06-28 19:45:00.440127: I tensorflow/core/grappler/optimizers/custom_graph_optimizer_registry.cc:113] Plugin optimizer for device_type GPU is enabled.\n"
     ]
    },
    {
     "name": "stdout",
     "output_type": "stream",
     "text": [
      "352/352 [==============================] - 4s 11ms/step - loss: 0.6721 - accuracy: 0.6861 - val_loss: 0.6621 - val_accuracy: 0.6840\n",
      "Epoch 3/5\n",
      "352/352 [==============================] - 4s 11ms/step - loss: 0.6460 - accuracy: 0.6978 - val_loss: 0.6362 - val_accuracy: 0.6964\n",
      "Epoch 4/5\n",
      "352/352 [==============================] - 4s 11ms/step - loss: 0.6186 - accuracy: 0.7116 - val_loss: 0.6130 - val_accuracy: 0.7048\n",
      "Epoch 5/5\n",
      "352/352 [==============================] - 4s 11ms/step - loss: 0.5942 - accuracy: 0.7185 - val_loss: 0.5939 - val_accuracy: 0.7112\n"
     ]
    },
    {
     "data": {
      "image/png": "[encoded data removed]",
      "text/plain": [
       "<Figure size 432x288 with 1 Axes>"
      ]
     },
     "metadata": {},
     "output_type": "display_data"
    }
   ],
   "source": [
    "model = build_embeddings_model(\n",
    "    average_over_positions=True, vocab_size=1000, sequence_length=20, embedding_dim=2\n",
    ")\n",
    "history = model.fit(\n",
    "    x=X_train_reduced,  # our sparse padded training data\n",
    "    y=Y_train,  # corresponding binary labels\n",
    "    epochs=5,  # number of passes through the training data\n",
    "    batch_size=64,  # mini-batch size\n",
    "    validation_split=0.1,  # use a fraction of the examples for validation\n",
    "    verbose=1,  # display some progress output during training\n",
    ")\n",
    "\n",
    "history = pd.DataFrame(history.history)\n",
    "plot_history(history)"
   ]
  },
  {
   "cell_type": "markdown",
   "metadata": {
    "id": "V3k__61hFnag"
   },
   "source": [
    "---\n",
    "### Exercise 3: Experiments with embeddings (8 points)\n",
    "Train 6 models with embedding sizes in [2,4,8,16,32,64], keeping other settings fixed. Use the averaging strategy rather than the concatenating strategy.\n",
    "\n",
    "1. Construct a table with the training and validation accuracies of each model (after 5 training epochs).\n",
    "2. Compute the number of parameters in each model.\n",
    "3. Do learned embeddings appear to provide improved performance over the one-hot encoding? Why?"
   ]
  },
  {
   "cell_type": "code",
   "execution_count": 109,
   "metadata": {},
   "outputs": [
    {
     "name": "stdout",
     "output_type": "stream",
     "text": [
      "Epoch 1/5\n",
      "  5/352 [..............................] - ETA: 4s - loss: 0.6938 - accuracy: 0.4563  "
     ]
    },
    {
     "name": "stderr",
     "output_type": "stream",
     "text": [
      "2022-06-28 19:45:16.411085: I tensorflow/core/grappler/optimizers/custom_graph_optimizer_registry.cc:113] Plugin optimizer for device_type GPU is enabled.\n"
     ]
    },
    {
     "name": "stdout",
     "output_type": "stream",
     "text": [
      "352/352 [==============================] - 4s 11ms/step - loss: 0.6835 - accuracy: 0.5887 - val_loss: 0.6625 - val_accuracy: 0.6440\n",
      "Epoch 2/5\n",
      "  1/352 [..............................] - ETA: 3s - loss: 0.6686 - accuracy: 0.5781"
     ]
    },
    {
     "name": "stderr",
     "output_type": "stream",
     "text": [
      "2022-06-28 19:45:20.252544: I tensorflow/core/grappler/optimizers/custom_graph_optimizer_registry.cc:113] Plugin optimizer for device_type GPU is enabled.\n"
     ]
    },
    {
     "name": "stdout",
     "output_type": "stream",
     "text": [
      "352/352 [==============================] - 4s 11ms/step - loss: 0.6152 - accuracy: 0.7033 - val_loss: 0.5811 - val_accuracy: 0.7104\n",
      "Epoch 3/5\n",
      "352/352 [==============================] - 4s 11ms/step - loss: 0.5465 - accuracy: 0.7332 - val_loss: 0.5444 - val_accuracy: 0.7264\n",
      "Epoch 4/5\n",
      "352/352 [==============================] - 4s 11ms/step - loss: 0.5159 - accuracy: 0.7482 - val_loss: 0.5324 - val_accuracy: 0.7272\n",
      "Epoch 5/5\n",
      "352/352 [==============================] - 4s 11ms/step - loss: 0.5016 - accuracy: 0.7549 - val_loss: 0.5274 - val_accuracy: 0.7272\n",
      "Epoch 1/5\n",
      "  4/352 [..............................] - ETA: 5s - loss: 0.6924 - accuracy: 0.5469  "
     ]
    },
    {
     "name": "stderr",
     "output_type": "stream",
     "text": [
      "2022-06-28 19:45:35.651826: I tensorflow/core/grappler/optimizers/custom_graph_optimizer_registry.cc:113] Plugin optimizer for device_type GPU is enabled.\n"
     ]
    },
    {
     "name": "stdout",
     "output_type": "stream",
     "text": [
      "352/352 [==============================] - 4s 11ms/step - loss: 0.6792 - accuracy: 0.6060 - val_loss: 0.6507 - val_accuracy: 0.6600\n",
      "Epoch 2/5\n",
      "  1/352 [..............................] - ETA: 4s - loss: 0.6606 - accuracy: 0.6250"
     ]
    },
    {
     "name": "stderr",
     "output_type": "stream",
     "text": [
      "2022-06-28 19:45:39.558521: I tensorflow/core/grappler/optimizers/custom_graph_optimizer_registry.cc:113] Plugin optimizer for device_type GPU is enabled.\n"
     ]
    },
    {
     "name": "stdout",
     "output_type": "stream",
     "text": [
      "352/352 [==============================] - 4s 11ms/step - loss: 0.5924 - accuracy: 0.7169 - val_loss: 0.5644 - val_accuracy: 0.7084\n",
      "Epoch 3/5\n",
      "352/352 [==============================] - 4s 11ms/step - loss: 0.5261 - accuracy: 0.7435 - val_loss: 0.5378 - val_accuracy: 0.7204\n",
      "Epoch 4/5\n",
      "352/352 [==============================] - 4s 11ms/step - loss: 0.5001 - accuracy: 0.7556 - val_loss: 0.5311 - val_accuracy: 0.7300\n",
      "Epoch 5/5\n",
      "352/352 [==============================] - 4s 11ms/step - loss: 0.4874 - accuracy: 0.7620 - val_loss: 0.5292 - val_accuracy: 0.7312\n",
      "Epoch 1/5\n",
      "  4/352 [..............................] - ETA: 6s - loss: 0.6897 - accuracy: 0.5625  "
     ]
    },
    {
     "name": "stderr",
     "output_type": "stream",
     "text": [
      "2022-06-28 19:45:54.940182: I tensorflow/core/grappler/optimizers/custom_graph_optimizer_registry.cc:113] Plugin optimizer for device_type GPU is enabled.\n"
     ]
    },
    {
     "name": "stdout",
     "output_type": "stream",
     "text": [
      "352/352 [==============================] - 4s 11ms/step - loss: 0.6830 - accuracy: 0.5778 - val_loss: 0.6537 - val_accuracy: 0.6568\n",
      "Epoch 2/5\n",
      "  1/352 [..............................] - ETA: 4s - loss: 0.6616 - accuracy: 0.6406"
     ]
    },
    {
     "name": "stderr",
     "output_type": "stream",
     "text": [
      "2022-06-28 19:45:58.837483: I tensorflow/core/grappler/optimizers/custom_graph_optimizer_registry.cc:113] Plugin optimizer for device_type GPU is enabled.\n"
     ]
    },
    {
     "name": "stdout",
     "output_type": "stream",
     "text": [
      "352/352 [==============================] - 4s 11ms/step - loss: 0.5809 - accuracy: 0.7202 - val_loss: 0.5495 - val_accuracy: 0.7152\n",
      "Epoch 3/5\n",
      "352/352 [==============================] - 4s 11ms/step - loss: 0.5094 - accuracy: 0.7524 - val_loss: 0.5288 - val_accuracy: 0.7348\n",
      "Epoch 4/5\n",
      "352/352 [==============================] - 4s 12ms/step - loss: 0.4846 - accuracy: 0.7651 - val_loss: 0.5245 - val_accuracy: 0.7328\n",
      "Epoch 5/5\n",
      "352/352 [==============================] - 4s 12ms/step - loss: 0.4710 - accuracy: 0.7720 - val_loss: 0.5241 - val_accuracy: 0.7376\n",
      "Epoch 1/5\n",
      "  1/352 [..............................] - ETA: 2:48 - loss: 0.6911 - accuracy: 0.5781"
     ]
    },
    {
     "name": "stderr",
     "output_type": "stream",
     "text": [
      "2022-06-28 19:46:15.686775: I tensorflow/core/grappler/optimizers/custom_graph_optimizer_registry.cc:113] Plugin optimizer for device_type GPU is enabled.\n"
     ]
    },
    {
     "name": "stdout",
     "output_type": "stream",
     "text": [
      "352/352 [==============================] - 5s 13ms/step - loss: 0.6632 - accuracy: 0.6282 - val_loss: 0.6010 - val_accuracy: 0.7024\n",
      "Epoch 2/5\n",
      "  1/352 [..............................] - ETA: 3s - loss: 0.6078 - accuracy: 0.6719"
     ]
    },
    {
     "name": "stderr",
     "output_type": "stream",
     "text": [
      "2022-06-28 19:46:20.130859: I tensorflow/core/grappler/optimizers/custom_graph_optimizer_registry.cc:113] Plugin optimizer for device_type GPU is enabled.\n"
     ]
    },
    {
     "name": "stdout",
     "output_type": "stream",
     "text": [
      "352/352 [==============================] - 4s 13ms/step - loss: 0.5383 - accuracy: 0.7382 - val_loss: 0.5338 - val_accuracy: 0.7260\n",
      "Epoch 3/5\n",
      "352/352 [==============================] - 4s 11ms/step - loss: 0.4898 - accuracy: 0.7621 - val_loss: 0.5254 - val_accuracy: 0.7332\n",
      "Epoch 4/5\n",
      "352/352 [==============================] - 4s 11ms/step - loss: 0.4665 - accuracy: 0.7747 - val_loss: 0.5258 - val_accuracy: 0.7300\n",
      "Epoch 5/5\n",
      "352/352 [==============================] - 4s 11ms/step - loss: 0.4487 - accuracy: 0.7883 - val_loss: 0.5293 - val_accuracy: 0.7316\n",
      "Epoch 1/5\n",
      "  1/352 [..............................] - ETA: 1:27 - loss: 0.6947 - accuracy: 0.4688"
     ]
    },
    {
     "name": "stderr",
     "output_type": "stream",
     "text": [
      "2022-06-28 19:46:36.506533: I tensorflow/core/grappler/optimizers/custom_graph_optimizer_registry.cc:113] Plugin optimizer for device_type GPU is enabled.\n"
     ]
    },
    {
     "name": "stdout",
     "output_type": "stream",
     "text": [
      "352/352 [==============================] - 4s 12ms/step - loss: 0.6422 - accuracy: 0.6484 - val_loss: 0.5630 - val_accuracy: 0.7120\n",
      "Epoch 2/5\n"
     ]
    },
    {
     "name": "stderr",
     "output_type": "stream",
     "text": [
      "2022-06-28 19:46:40.508665: I tensorflow/core/grappler/optimizers/custom_graph_optimizer_registry.cc:113] Plugin optimizer for device_type GPU is enabled.\n"
     ]
    },
    {
     "name": "stdout",
     "output_type": "stream",
     "text": [
      "352/352 [==============================] - 4s 11ms/step - loss: 0.5131 - accuracy: 0.7485 - val_loss: 0.5271 - val_accuracy: 0.7276\n",
      "Epoch 3/5\n",
      "352/352 [==============================] - 4s 11ms/step - loss: 0.4766 - accuracy: 0.7692 - val_loss: 0.5265 - val_accuracy: 0.7344\n",
      "Epoch 4/5\n",
      "352/352 [==============================] - 4s 11ms/step - loss: 0.4504 - accuracy: 0.7863 - val_loss: 0.5308 - val_accuracy: 0.7280\n",
      "Epoch 5/5\n",
      "352/352 [==============================] - 4s 11ms/step - loss: 0.4256 - accuracy: 0.8048 - val_loss: 0.5402 - val_accuracy: 0.7224\n",
      "Epoch 1/5\n",
      "  1/352 [..............................] - ETA: 1:32 - loss: 0.6905 - accuracy: 0.5625"
     ]
    },
    {
     "name": "stderr",
     "output_type": "stream",
     "text": [
      "2022-06-28 19:46:55.726133: I tensorflow/core/grappler/optimizers/custom_graph_optimizer_registry.cc:113] Plugin optimizer for device_type GPU is enabled.\n"
     ]
    },
    {
     "name": "stdout",
     "output_type": "stream",
     "text": [
      "352/352 [==============================] - 5s 12ms/step - loss: 0.6266 - accuracy: 0.6578 - val_loss: 0.5480 - val_accuracy: 0.7232\n"
     ]
    },
    {
     "name": "stderr",
     "output_type": "stream",
     "text": [
      "2022-06-28 19:46:59.950976: I tensorflow/core/grappler/optimizers/custom_graph_optimizer_registry.cc:113] Plugin optimizer for device_type GPU is enabled.\n"
     ]
    },
    {
     "name": "stdout",
     "output_type": "stream",
     "text": [
      "Epoch 2/5\n",
      "352/352 [==============================] - 4s 11ms/step - loss: 0.4993 - accuracy: 0.7557 - val_loss: 0.5259 - val_accuracy: 0.7316\n",
      "Epoch 3/5\n",
      "352/352 [==============================] - 4s 11ms/step - loss: 0.4593 - accuracy: 0.7822 - val_loss: 0.5308 - val_accuracy: 0.7316\n",
      "Epoch 4/5\n",
      "352/352 [==============================] - 4s 11ms/step - loss: 0.4214 - accuracy: 0.8088 - val_loss: 0.5414 - val_accuracy: 0.7288\n",
      "Epoch 5/5\n",
      "352/352 [==============================] - 4s 11ms/step - loss: 0.3845 - accuracy: 0.8311 - val_loss: 0.5617 - val_accuracy: 0.7200\n"
     ]
    }
   ],
   "source": [
    "model_list = [build_embeddings_model(embedding_dim=pow(2,x+1)) for x in range(6)]\n",
    "history_list = [model.fit(\n",
    "    x=X_train_reduced,  # our sparse padded training data\n",
    "    y=Y_train,  # corresponding binary labels\n",
    "    epochs=5,  # number of passes through the training data\n",
    "    batch_size=64,  # mini-batch size\n",
    "    validation_split=0.1,  # use a fraction of the examples for validation\n",
    "    verbose=1,  # display some progress output during training\n",
    "    ) for model in model_list]"
   ]
  },
  {
   "cell_type": "code",
   "execution_count": 110,
   "metadata": {},
   "outputs": [],
   "source": [
    "result = [(pow(2, idx+1),\n",
    "           history_list[idx].history['accuracy'][-1],\n",
    "           history_list[idx].history['val_accuracy'][-1]) for idx in range(len(history_list))]\n",
    "accuracy_table = pd.DataFrame(result, columns=['embeddings', 'training accuracy', 'validation accuracy'])\n"
   ]
  },
  {
   "cell_type": "code",
   "execution_count": 111,
   "metadata": {},
   "outputs": [],
   "source": [
    "import re\n",
    "\n",
    "def get_total_parameters(model):\n",
    "    stringlist = []\n",
    "    model.summary(print_fn=lambda x: stringlist.append(x))\n",
    "    summarystring = \"\\n\".join(stringlist)\n",
    "    total_parameter_string = re.search(\"Total params: (.*)\\n\", summarystring).group(1)\n",
    "    return (total_parameter_string)\n",
    "\n",
    "result = [(pow(2, idx + 1), get_total_parameters(model)) for (idx, model) in enumerate (models)]\n",
    "parameter_table = pd.DataFrame(result, columns=['embeddings', 'total parameters'])"
   ]
  },
  {
   "cell_type": "markdown",
   "metadata": {
    "id": "O7t46ZdX2ofd"
   },
   "source": [
    "*Written answers:*\n",
    "\n",
    "1. A table with the training and validation accuracies of each model (after 5 training epochs)."
   ]
  },
  {
   "cell_type": "code",
   "execution_count": 112,
   "metadata": {},
   "outputs": [
    {
     "data": {
      "text/html": [
       "<div>\n",
       "<style scoped>\n",
       "    .dataframe tbody tr th:only-of-type {\n",
       "        vertical-align: middle;\n",
       "    }\n",
       "\n",
       "    .dataframe tbody tr th {\n",
       "        vertical-align: top;\n",
       "    }\n",
       "\n",
       "    .dataframe thead th {\n",
       "        text-align: right;\n",
       "    }\n",
       "</style>\n",
       "<table border=\"1\" class=\"dataframe\">\n",
       "  <thead>\n",
       "    <tr style=\"text-align: right;\">\n",
       "      <th></th>\n",
       "      <th>embeddings</th>\n",
       "      <th>training accuracy</th>\n",
       "      <th>validation accuracy</th>\n",
       "    </tr>\n",
       "  </thead>\n",
       "  <tbody>\n",
       "    <tr>\n",
       "      <th>0</th>\n",
       "      <td>2</td>\n",
       "      <td>0.754933</td>\n",
       "      <td>0.7272</td>\n",
       "    </tr>\n",
       "    <tr>\n",
       "      <th>1</th>\n",
       "      <td>4</td>\n",
       "      <td>0.761956</td>\n",
       "      <td>0.7312</td>\n",
       "    </tr>\n",
       "    <tr>\n",
       "      <th>2</th>\n",
       "      <td>8</td>\n",
       "      <td>0.771956</td>\n",
       "      <td>0.7376</td>\n",
       "    </tr>\n",
       "    <tr>\n",
       "      <th>3</th>\n",
       "      <td>16</td>\n",
       "      <td>0.788267</td>\n",
       "      <td>0.7316</td>\n",
       "    </tr>\n",
       "    <tr>\n",
       "      <th>4</th>\n",
       "      <td>32</td>\n",
       "      <td>0.804844</td>\n",
       "      <td>0.7224</td>\n",
       "    </tr>\n",
       "    <tr>\n",
       "      <th>5</th>\n",
       "      <td>64</td>\n",
       "      <td>0.831111</td>\n",
       "      <td>0.7200</td>\n",
       "    </tr>\n",
       "  </tbody>\n",
       "</table>\n",
       "</div>"
      ],
      "text/plain": [
       "   embeddings  training accuracy  validation accuracy\n",
       "0           2           0.754933               0.7272\n",
       "1           4           0.761956               0.7312\n",
       "2           8           0.771956               0.7376\n",
       "3          16           0.788267               0.7316\n",
       "4          32           0.804844               0.7224\n",
       "5          64           0.831111               0.7200"
      ]
     },
     "execution_count": 112,
     "metadata": {},
     "output_type": "execute_result"
    }
   ],
   "source": [
    "accuracy_table"
   ]
  },
  {
   "cell_type": "markdown",
   "metadata": {},
   "source": [
    "2. Compute the number of parameters in each model."
   ]
  },
  {
   "cell_type": "code",
   "execution_count": 113,
   "metadata": {},
   "outputs": [
    {
     "data": {
      "text/html": [
       "<div>\n",
       "<style scoped>\n",
       "    .dataframe tbody tr th:only-of-type {\n",
       "        vertical-align: middle;\n",
       "    }\n",
       "\n",
       "    .dataframe tbody tr th {\n",
       "        vertical-align: top;\n",
       "    }\n",
       "\n",
       "    .dataframe thead th {\n",
       "        text-align: right;\n",
       "    }\n",
       "</style>\n",
       "<table border=\"1\" class=\"dataframe\">\n",
       "  <thead>\n",
       "    <tr style=\"text-align: right;\">\n",
       "      <th></th>\n",
       "      <th>embeddings</th>\n",
       "      <th>total parameters</th>\n",
       "    </tr>\n",
       "  </thead>\n",
       "  <tbody>\n",
       "    <tr>\n",
       "      <th>0</th>\n",
       "      <td>2</td>\n",
       "      <td>2,041</td>\n",
       "    </tr>\n",
       "    <tr>\n",
       "      <th>1</th>\n",
       "      <td>4</td>\n",
       "      <td>4,081</td>\n",
       "    </tr>\n",
       "    <tr>\n",
       "      <th>2</th>\n",
       "      <td>8</td>\n",
       "      <td>8,161</td>\n",
       "    </tr>\n",
       "    <tr>\n",
       "      <th>3</th>\n",
       "      <td>16</td>\n",
       "      <td>16,321</td>\n",
       "    </tr>\n",
       "    <tr>\n",
       "      <th>4</th>\n",
       "      <td>32</td>\n",
       "      <td>32,641</td>\n",
       "    </tr>\n",
       "    <tr>\n",
       "      <th>5</th>\n",
       "      <td>64</td>\n",
       "      <td>65,281</td>\n",
       "    </tr>\n",
       "  </tbody>\n",
       "</table>\n",
       "</div>"
      ],
      "text/plain": [
       "   embeddings total parameters\n",
       "0           2            2,041\n",
       "1           4            4,081\n",
       "2           8            8,161\n",
       "3          16           16,321\n",
       "4          32           32,641\n",
       "5          64           65,281"
      ]
     },
     "execution_count": 113,
     "metadata": {},
     "output_type": "execute_result"
    }
   ],
   "source": [
    "parameter_table"
   ]
  },
  {
   "cell_type": "markdown",
   "metadata": {},
   "source": [
    "3. Do learned embeddings appear to provide improved performance over the one-hot encoding? Why?\n",
    "\n",
    "The learned embeddings models have a validation accuracy of .72 to .74 compared with .68 to .69 for the one-hot encoding-based models.  In other words, we see accuracy improving by approximately four percent when moving to learned embeddings from one-hot encoding."
   ]
  },
  {
   "cell_type": "markdown",
   "metadata": {},
   "source": [
    "---"
   ]
  },
  {
   "cell_type": "markdown",
   "metadata": {
    "id": "i2dWOuxqKHA6"
   },
   "source": [
    "## Inspecting Learned Embeddings\n",
    "Let's retrieve the learned embedding parameters from the trained model and plot the token embeddings.\n",
    "\n",
    "The model layers in a Keras Sequential model are stored as a list and the embeddings are the first layer. We can use the get_weights() function to get a numpy array with the parameters."
   ]
  },
  {
   "cell_type": "code",
   "execution_count": 114,
   "metadata": {
    "colab": {
     "base_uri": "https://localhost:8080/",
     "height": 86
    },
    "executionInfo": {
     "elapsed": 355,
     "status": "ok",
     "timestamp": 1646684774106,
     "user": {
      "displayName": "Daniel Gillick",
      "photoUrl": "https://lh3.googleusercontent.com/a-/AOh14Gg9DrSMlwYnG9EolecuJqe8n9m7fpcje4_UbYrhQ10=s64",
      "userId": "01872965353911650729"
     },
     "user_tz": 600
    },
    "id": "bfsbGSwkaFjo",
    "outputId": "d9d74723-012f-464f-a9f3-8a41d8178868"
   },
   "outputs": [
    {
     "data": {
      "text/plain": [
       "[<keras.layers.embeddings.Embedding at 0x291285e80>,\n",
       " <keras.layers.pooling.GlobalAveragePooling1D at 0x28a2ca9a0>,\n",
       " <keras.layers.core.dense.Dense at 0x28882cf70>]"
      ]
     },
     "metadata": {},
     "output_type": "display_data"
    },
    {
     "data": {
      "text/plain": [
       "(1000, 2)"
      ]
     },
     "metadata": {},
     "output_type": "display_data"
    }
   ],
   "source": [
    "# Display the model layers.\n",
    "display(model.layers)\n",
    "\n",
    "# Retrieve the embeddings layer, which itself is wrapped in a list.\n",
    "embeddings = model.layers[0].get_weights()[0]\n",
    "display(embeddings.shape)"
   ]
  },
  {
   "cell_type": "markdown",
   "metadata": {
    "id": "apPWscNwcXTE"
   },
   "source": [
    "Now we'll use a fancy plotting tool called *plotly* to show the embeddings with hovertext so you can move your mouse over the points to see the corresponding tokens."
   ]
  },
  {
   "cell_type": "code",
   "execution_count": 115,
   "metadata": {
    "colab": {
     "base_uri": "https://localhost:8080/",
     "height": 542
    },
    "executionInfo": {
     "elapsed": 453,
     "status": "ok",
     "timestamp": 1646684778338,
     "user": {
      "displayName": "Daniel Gillick",
      "photoUrl": "https://lh3.googleusercontent.com/a-/AOh14Gg9DrSMlwYnG9EolecuJqe8n9m7fpcje4_UbYrhQ10=s64",
      "userId": "01872965353911650729"
     },
     "user_tz": 600
    },
    "id": "5RZMTrA0KttL",
    "outputId": "f5ec9b65-84bb-4c28-c673-cf86a87112df"
   },
   "outputs": [
    {
     "data": {
      "application/vnd.plotly.v1+json": {
       "config": {
        "plotlyServerURL": "https://plot.ly"
       },
       "data": [
        {
         "hoverinfo": "text",
         "mode": "markers",
         "text": [
          "game",
          "past",
          "able",
          "b",
          "days",
          "turns",
          "child",
          "they're",
          "hand",
          "flick",
          "enjoyed",
          "act",
          "genre",
          "town",
          "favorite",
          "soon",
          "kill",
          "starts",
          "sometimes",
          "car",
          "gave",
          "run",
          "late",
          "eyes",
          "actress",
          "etc",
          "directed",
          "horrible",
          "won't",
          "viewer",
          "brilliant",
          "parts",
          "self",
          "themselves",
          "hour",
          "expect",
          "thinking",
          "stories",
          "stuff",
          "girls",
          "obviously",
          "blood",
          "decent",
          "city",
          "voice",
          "highly",
          "myself",
          "feeling",
          "fight",
          "except",
          "slow",
          "matter",
          "type",
          "anyway",
          "kid",
          "roles",
          "killed",
          "heard",
          "god",
          "age",
          "says",
          "moment",
          "took",
          "leave",
          "writer",
          "strong",
          "cannot",
          "violence",
          "police",
          "hit",
          "stop",
          "happens",
          "particularly",
          "known",
          "involved",
          "happened",
          "extremely",
          "daughter",
          "obvious",
          "told",
          "chance",
          "living",
          "coming",
          "lack",
          "alone",
          "experience",
          "wouldn't",
          "including",
          "murder",
          "attempt",
          "s",
          "please",
          "james",
          "happen",
          "wonder",
          "crap",
          "ago",
          "brother",
          "film's",
          "gore",
          "none",
          "complete",
          "interest",
          "score",
          "group",
          "cut",
          "simple",
          "save",
          "ok",
          "hell",
          "looked",
          "career",
          "number",
          "song",
          "possible",
          "seriously",
          "annoying",
          "shown",
          "exactly",
          "sad",
          "running",
          "musical",
          "serious",
          "taken",
          "yourself",
          "whose",
          "released",
          "cinematography",
          "david",
          "scary",
          "ends",
          "english",
          "hero",
          "usually",
          "hours",
          "reality",
          "opening",
          "i'll",
          "across",
          "today",
          "jokes",
          "light",
          "hilarious",
          "somewhat",
          "usual",
          "started",
          "cool",
          "ridiculous",
          "body",
          "relationship",
          "view",
          "level",
          "opinion",
          "change",
          "happy",
          "middle",
          "taking",
          "wish",
          "husband",
          "finds",
          "saying",
          "order",
          "talking",
          "ones",
          "documentary",
          "shots",
          "huge",
          "novel",
          "female",
          "mostly",
          "robert",
          "power",
          "episodes",
          "room",
          "important",
          "rating",
          "talent",
          "five",
          "major",
          "turned",
          "strange",
          "word",
          "modern",
          "call",
          "apparently",
          "disappointed",
          "single",
          "events",
          "due",
          "four",
          "songs",
          "basically",
          "attention",
          "7",
          "knows",
          "clearly",
          "supporting",
          "knew",
          "british",
          "television",
          "comic",
          "non",
          "fast",
          "earth",
          "country",
          "future",
          "cheap",
          "class",
          "thriller",
          "8",
          "silly",
          "king",
          "problems",
          "aren't",
          "easily",
          "words",
          "tells",
          "miss",
          "jack",
          "local",
          "sequence",
          "bring",
          "entertainment",
          "paul",
          "beyond",
          "upon",
          "whether",
          "predictable",
          "moving",
          "similar",
          "straight",
          "romantic",
          "sets",
          "review",
          "falls",
          "oscar",
          "mystery",
          "enjoyable",
          "needs",
          "appears",
          "talk",
          "rock",
          "george",
          "giving",
          "eye",
          "richard",
          "within",
          "ten",
          "animation",
          "message",
          "theater",
          "near",
          "above",
          "dull",
          "nearly",
          "sequel",
          "theme",
          "points",
          "'",
          "stand",
          "mention",
          "lady",
          "bunch",
          "add",
          "feels",
          "herself",
          "release",
          "red",
          "team",
          "storyline",
          "surprised",
          "ways",
          "using",
          "named",
          "haven't",
          "lots",
          "easy",
          "fantastic",
          "begins",
          "actual",
          "working",
          "effort",
          "york",
          "die",
          "hate",
          "french",
          "minute",
          "tale",
          "clear",
          "stay",
          "9",
          "elements",
          "feature",
          "among",
          "follow",
          "comments",
          "re",
          "viewers",
          "avoid",
          "sister",
          "showing",
          "typical",
          "editing",
          "what's",
          "famous",
          "tried",
          "sorry",
          "dialog",
          "check",
          "fall",
          "period",
          "season",
          "form",
          "certain",
          "filmed",
          "weak",
          "soundtrack",
          "means",
          "buy",
          "material",
          "somehow",
          "realistic",
          "figure",
          "crime",
          "doubt",
          "gone",
          "peter",
          "tom",
          "kept",
          "viewing",
          "t",
          "general",
          "leads",
          "greatest",
          "space",
          "lame",
          "suspense",
          "dance",
          "imagine",
          "brought",
          "third",
          "atmosphere",
          "hear",
          "particular",
          "sequences",
          "whatever",
          "parents",
          "move",
          "lee",
          "indeed",
          "learn",
          "rent",
          "de",
          "eventually",
          "note",
          "deal",
          "average",
          "reviews",
          "wait",
          "forget",
          "japanese",
          "sexual",
          "poorly",
          "premise",
          "okay",
          "zombie",
          "surprise",
          "believable",
          "stage",
          "possibly",
          "sit",
          "who's",
          "decided",
          "expected",
          "you've",
          "subject",
          "nature",
          "became",
          "difficult",
          "free",
          "killing",
          "screenplay",
          "truth",
          "romance",
          "dr",
          "nor",
          "reading",
          "needed",
          "question",
          "leaves",
          "street",
          "20",
          "meets",
          "hot",
          "unless",
          "begin",
          "baby",
          "superb",
          "credits",
          "imdb",
          "otherwise",
          "write",
          "shame",
          "let's",
          "situation",
          "dramatic",
          "memorable",
          "directors",
          "earlier",
          "meet",
          "disney",
          "open",
          "dog",
          "badly",
          "joe",
          "male",
          "weird",
          "acted",
          "forced",
          "laughs",
          "sci",
          "emotional",
          "older",
          "realize",
          "fi",
          "dream",
          "society",
          "writers",
          "interested",
          "footage",
          "forward",
          "comment",
          "crazy",
          "deep",
          "sounds",
          "plus",
          "beauty",
          "whom",
          "america",
          "fantasy",
          "directing",
          "keeps",
          "ask",
          "development",
          "features",
          "air",
          "quickly",
          "mess",
          "creepy",
          "towards",
          "perfectly",
          "mark",
          "worked",
          "box",
          "cheesy",
          "unique",
          "setting",
          "hands",
          "plenty",
          "result",
          "previous",
          "brings",
          "effect",
          "e",
          "total",
          "personal",
          "incredibly",
          "rate",
          "fire",
          "monster",
          "business",
          "leading",
          "apart",
          "casting",
          "admit",
          "joke",
          "powerful",
          "appear",
          "background",
          "telling",
          "girlfriend",
          "meant",
          "christmas",
          "hardly",
          "present",
          "battle",
          "potential",
          "create",
          "bill",
          "break",
          "pay",
          "masterpiece",
          "gay",
          "political",
          "return",
          "dumb",
          "fails",
          "fighting",
          "various",
          "era"
         ],
         "textposition": "bottom left",
         "type": "scatter",
         "x": [
          -0.2539171874523163,
          -0.13834816217422485,
          -0.015445142984390259,
          0.02880694344639778,
          -0.3088676631450653,
          0.03053327091038227,
          -0.1031123474240303,
          0.1550855189561844,
          0.3154553771018982,
          0.19129759073257446,
          -0.568812370300293,
          0.20934724807739258,
          -0.39441975951194763,
          -0.04100218042731285,
          -0.8304944634437561,
          -0.2954438030719757,
          0.37389233708381653,
          0.09821992367506027,
          -0.2722306549549103,
          0.24870099127292633,
          -0.04866759851574898,
          0.26599356532096863,
          -0.11973901093006134,
          -0.057016290724277496,
          -0.046218834817409515,
          0.2687263488769531,
          0.13027654588222504,
          0.8123353719711304,
          -0.13253799080848694,
          -0.02758435532450676,
          -0.7048787474632263,
          -0.14785142242908478,
          0.2620418965816498,
          0.06447510421276093,
          0.24771149456501007,
          0.17668171226978302,
          0.14395514130592346,
          -0.3428798317909241,
          -0.12235072255134583,
          0.010511791333556175,
          0.2752455770969391,
          -0.13152138888835907,
          0.49129968881607056,
          -0.12790286540985107,
          -0.1827971488237381,
          -1.343819499015808,
          -0.060234230011701584,
          -0.1613294631242752,
          -0.013566982932388783,
          0.4504891633987427,
          0.04652000963687897,
          -0.12302089482545853,
          -0.010606978088617325,
          0.02565688267350197,
          0.23461540043354034,
          -0.1119159534573555,
          0.2855586111545563,
          -0.16858763992786407,
          0.32628732919692993,
          -0.24239172041416168,
          0.042626358568668365,
          -0.024259809404611588,
          0.16156047582626343,
          0.16702106595039368,
          0.24988746643066406,
          -0.31843066215515137,
          -0.0036229388788342476,
          0.06038349121809006,
          -0.09895507246255875,
          -0.48598989844322205,
          0.17746061086654663,
          0.40562644600868225,
          0.12486802786588669,
          -0.0862165316939354,
          0.2022075057029724,
          0.06386978179216385,
          0.0373765304684639,
          -0.07577726244926453,
          0.3813020586967468,
          0.03810412436723709,
          -0.6894925832748413,
          0.07964026182889938,
          -0.12672863900661469,
          0.5511047840118408,
          -0.021327471360564232,
          -0.39985087513923645,
          0.7095251679420471,
          -0.37494343519210815,
          -0.05072448402643204,
          0.5766125917434692,
          0.11278306692838669,
          0.2887732982635498,
          -0.2643240690231323,
          -0.07702348381280899,
          0.2084239423274994,
          1.0003435611724854,
          -0.15394870936870575,
          0.03899209201335907,
          0.18286937475204468,
          0.5430063605308533,
          0.38044577836990356,
          0.3802027106285095,
          0.15282770991325378,
          -0.17585042119026184,
          -0.0054665980860590935,
          -0.09385253489017487,
          -0.21632470190525055,
          0.9912758469581604,
          0.30496343970298767,
          0.29154807329177856,
          0.4679369628429413,
          0.25339847803115845,
          -0.179326593875885,
          0.014133661054074764,
          0.062393173575401306,
          0.28565531969070435,
          0.4897088408470154,
          -0.120814748108387,
          -0.16978751122951508,
          0.31039339303970337,
          0.15275131165981293,
          -0.23695361614227295,
          -0.016570409759879112,
          0.07365459203720093,
          0.4833955466747284,
          -0.06963375210762024,
          -0.21518142521381378,
          -0.11824719607830048,
          0.024541039019823074,
          0.294732004404068,
          -0.11636296659708023,
          -0.3736157715320587,
          -0.17570292949676514,
          0.013844438828527927,
          0.3702120780944824,
          -0.2838231325149536,
          -0.0796232596039772,
          0.0836409330368042,
          -0.004705455619841814,
          -0.8463039994239807,
          0.21822883188724518,
          -0.399334579706192,
          -0.27290457487106323,
          -0.061933644115924835,
          -0.0965312123298645,
          0.25950998067855835,
          -0.31455227732658386,
          0.5587084293365479,
          0.06743385642766953,
          -0.22243158519268036,
          -0.17706602811813354,
          0.13246186077594757,
          0.17076662182807922,
          -0.23815834522247314,
          -0.42727991938591003,
          0.008358504623174667,
          0.05602453276515007,
          -0.12801593542099,
          0.106070376932621,
          -0.16112595796585083,
          0.30316370725631714,
          -0.04777589440345764,
          -0.17289482057094574,
          -0.04177636280655861,
          -0.15250664949417114,
          0.2440977245569229,
          0.3122536838054657,
          0.0058879428543150425,
          0.11601503193378448,
          0.11065886914730072,
          -0.09241298586130142,
          0.09485885500907898,
          -0.3381461799144745,
          0.0982854887843132,
          -0.2741023004055023,
          0.275336891412735,
          0.2743343412876129,
          0.21462926268577576,
          0.1971561163663864,
          0.35838595032691956,
          -0.04580758512020111,
          0.1997731626033783,
          -0.23448790609836578,
          0.18580520153045654,
          0.15597914159297943,
          0.08980847895145416,
          0.06188131868839264,
          -0.025445276871323586,
          0.10134723037481308,
          0.024550478905439377,
          0.053715627640485764,
          0.12469461560249329,
          -0.26173582673072815,
          -1.2937692403793335,
          -0.148964986205101,
          0.2521900534629822,
          -0.15657444298267365,
          0.30479469895362854,
          0.0232988391071558,
          -0.2892281711101532,
          -0.22532165050506592,
          0.12589405477046967,
          0.16437183320522308,
          0.04724214971065521,
          -0.1442055106163025,
          -0.3577745854854584,
          0.6726577877998352,
          0.06215621903538704,
          -0.3818987309932709,
          -1.3327473402023315,
          0.266923189163208,
          0.017650198191404343,
          0.06686263531446457,
          0.1617356240749359,
          -0.26848509907722473,
          -0.11229878664016724,
          -0.21439619362354279,
          -0.4022497236728668,
          -0.10322944819927216,
          0.19947656989097595,
          -0.22078853845596313,
          -0.3537282943725586,
          -0.1612943708896637,
          -0.212257519364357,
          0.03315040096640587,
          0.025734469294548035,
          -0.18020080029964447,
          0.46199390292167664,
          -0.5426903963088989,
          -0.04085477814078331,
          0.10993152111768723,
          -0.435406893491745,
          -0.04597892239689827,
          0.20933149755001068,
          0.2047809660434723,
          -0.5060350298881531,
          -0.11328497529029846,
          -0.6943002343177795,
          0.1647111028432846,
          0.12534092366695404,
          -0.04775388166308403,
          -0.17293088138103485,
          0.1268833428621292,
          -0.03374846652150154,
          0.048485927283763885,
          -0.12764297425746918,
          -0.15601862967014313,
          -0.01596406288444996,
          -0.035571787506341934,
          -0.38972100615501404,
          0.2858377695083618,
          0.03428082540631294,
          -0.045092832297086716,
          0.7098779678344727,
          -0.1744406521320343,
          0.08415310084819794,
          0.14235083758831024,
          0.14170071482658386,
          0.1255202293395996,
          -0.15705375373363495,
          -0.05946808308362961,
          -0.21834391355514526,
          0.009687165729701519,
          -0.07789258658885956,
          0.06817547976970673,
          -0.282050222158432,
          -0.36778202652931213,
          0.16712580621242523,
          -0.08225459605455399,
          0.0657469853758812,
          -0.021682169288396835,
          -0.13552461564540863,
          0.17234115302562714,
          0.3172800540924072,
          -0.40146559476852417,
          -0.0634722113609314,
          -0.12023285776376724,
          -0.5552378296852112,
          -0.08558758348226547,
          0.3282051086425781,
          -0.05923128128051758,
          0.5270350575447083,
          -0.08806357532739639,
          0.2919415235519409,
          0.2759222686290741,
          -0.038403045386075974,
          0.2346946895122528,
          -0.4068332016468048,
          0.29524698853492737,
          0.5854769945144653,
          -1.120941162109375,
          -0.16621075570583344,
          0.04406347870826721,
          -0.1543860286474228,
          -0.03975391760468483,
          -0.08783009648323059,
          -0.01407044567167759,
          -0.05553782358765602,
          1.4435728788375854,
          0.08509842306375504,
          -0.13739854097366333,
          -0.18839271366596222,
          0.07520003616809845,
          0.0366164967417717,
          -0.29246023297309875,
          -0.029744867235422134,
          0.7304937839508057,
          0.2069990038871765,
          -0.39248159527778625,
          -0.09666366130113602,
          -0.18133173882961273,
          -0.26545602083206177,
          0.020236285403370857,
          -0.19217443466186523,
          0.07754793018102646,
          0.4700847864151001,
          -0.30127689242362976,
          -0.030064810067415237,
          -0.250669926404953,
          0.2728233337402344,
          -0.0987233817577362,
          -0.4472092390060425,
          0.05734534189105034,
          -0.1755295991897583,
          -0.053597353398799896,
          -0.10093674808740616,
          -0.08837436884641647,
          -0.2628331780433655,
          -0.001734354649670422,
          -0.5382347702980042,
          0.45325666666030884,
          0.15298154950141907,
          -0.09079805016517639,
          -0.6287100315093994,
          0.12254643440246582,
          0.7549161911010742,
          -0.061685629189014435,
          -0.32835206389427185,
          -0.06013723090291023,
          -0.2062000036239624,
          -0.056121036410331726,
          -0.4165341258049011,
          -0.17473691701889038,
          -0.16273188591003418,
          -0.20137779414653778,
          0.14087465405464172,
          -0.04719879478216171,
          0.14651480317115784,
          0.42905259132385254,
          0.004501299001276493,
          -0.05389024317264557,
          0.35703521966934204,
          -0.036718547344207764,
          -0.15185323357582092,
          0.0674917995929718,
          -0.1336309015750885,
          0.06767095625400543,
          0.1787206530570984,
          -0.07583122700452805,
          -0.060036711394786835,
          -0.21939373016357422,
          0.1428026556968689,
          0.5682159066200256,
          0.2657524049282074,
          0.4118335247039795,
          0.1866137534379959,
          -0.09141875803470612,
          -0.3065107464790344,
          -0.02939346246421337,
          0.05333323776721954,
          0.29573026299476624,
          -0.07063593715429306,
          0.15632008016109467,
          0.11310892552137375,
          0.0214170403778553,
          0.14583919942378998,
          -0.4575132131576538,
          -0.09904132038354874,
          -0.4364253580570221,
          0.4760168194770813,
          0.2270897477865219,
          -0.10884421318769455,
          -0.0008723697392269969,
          -0.36941176652908325,
          0.1678738296031952,
          0.13283361494541168,
          -0.12777972221374512,
          -0.11745176464319229,
          -0.04505590349435806,
          -0.09558477997779846,
          0.023277634754776955,
          0.12355276197195053,
          -0.047234341502189636,
          0.26437124609947205,
          0.9939457774162292,
          0.15428777039051056,
          0.10025379806756973,
          -0.5371096134185791,
          0.2764038145542145,
          0.13560894131660461,
          0.4808856248855591,
          0.5443140864372253,
          0.5044943690299988,
          -0.005065598525106907,
          -0.3082669973373413,
          -0.21645213663578033,
          -0.14014825224876404,
          0.19951105117797852,
          -0.13745824992656708,
          0.18391694128513336,
          -0.14231494069099426,
          -0.38074326515197754,
          0.11714282631874084,
          0.4650954604148865,
          0.2840087413787842,
          0.23652778565883636,
          -0.20586133003234863,
          0.006747708655893803,
          0.19841177761554718,
          0.015456733293831348,
          -0.1109662652015686,
          -0.1788693517446518,
          -0.019981781020760536,
          0.2689834535121918,
          -0.16941393911838531,
          -0.13208433985710144,
          -0.2383425235748291,
          0.1744990348815918,
          -0.3445737659931183,
          -0.023346561938524246,
          -0.275179922580719,
          0.19646872580051422,
          0.002042696811258793,
          -0.23552297055721283,
          0.14663197100162506,
          0.027964485809206963,
          -0.42682307958602905,
          -0.10719706863164902,
          -0.2579076290130615,
          -0.31305915117263794,
          -0.054367538541555405,
          -0.2606751024723053,
          -0.020919162780046463,
          0.05683649331331253,
          -0.10668911039829254,
          -0.22893211245536804,
          0.1937621831893921,
          0.8901219964027405,
          -0.12058176845312119,
          0.020353030413389206,
          -0.42881932854652405,
          0.1938505619764328,
          0.21487152576446533,
          0.06605958193540573,
          0.25672605633735657,
          -0.3473559319972992,
          0.004422968253493309,
          0.10240306705236435,
          -0.030938729643821716,
          0.4385322630405426,
          0.12372130900621414,
          -0.25060346722602844,
          0.04767704755067825,
          0.2905457615852356,
          0.5328585505485535,
          -0.210198774933815,
          0.004058084450662136,
          -0.24398285150527954,
          -0.12065644562244415,
          0.18645727634429932,
          0.10077373683452606,
          -0.20197933912277222,
          0.13342535495758057,
          0.1098228394985199,
          -0.10913602262735367,
          0.5681992769241333,
          -0.6222695708274841,
          0.0760878175497055,
          -0.04079864174127579,
          -0.008947968482971191,
          -0.07538212835788727,
          0.21598123013973236,
          0.05087457597255707,
          0.22044625878334045,
          -0.1862231343984604,
          0.0319688506424427,
          0.2958904802799225,
          -0.04309592768549919,
          -0.19416950643062592,
          0.3818260133266449,
          0.43333736062049866,
          -0.4937334954738617,
          0.321819931268692,
          -0.08824789524078369,
          0.06912916153669357,
          0.3669896721839905,
          0.4671095013618469,
          -0.2192714363336563,
          -0.11685863137245178,
          -0.41385430097579956
         ],
         "y": [
          0.19243089854717255,
          0.15749099850654602,
          0.007407513912767172,
          -0.0644010379910469,
          0.24150903522968292,
          -0.03421718254685402,
          0.13973112404346466,
          -0.12094312161207199,
          -0.2872592508792877,
          -0.23439644277095795,
          0.5574647188186646,
          -0.16499978303909302,
          0.37276691198349,
          0.03369846194982529,
          0.7425035834312439,
          0.24209558963775635,
          -0.30760180950164795,
          -0.11075212806463242,
          0.2681431770324707,
          -0.24603848159313202,
          0.08194561302661896,
          -0.3114296495914459,
          0.04592074081301689,
          0.06649547070264816,
          0.05363266170024872,
          -0.28485268354415894,
          -0.06616692245006561,
          -0.8688384294509888,
          0.13460658490657806,
          0.006469030864536762,
          0.7640379071235657,
          0.1291680932044983,
          -0.24553634226322174,
          -0.0351514033973217,
          -0.23928047716617584,
          -0.13538452982902527,
          -0.11843130737543106,
          0.35496148467063904,
          0.14014770090579987,
          -0.032359085977077484,
          -0.28559377789497375,
          0.07515057176351547,
          -0.4638378322124481,
          0.09723274409770966,
          0.15279269218444824,
          1.3677740097045898,
          0.009254349395632744,
          0.0746820941567421,
          0.001141078770160675,
          -0.3890848159790039,
          -0.052713748067617416,
          0.13619893789291382,
          0.03591293469071388,
          -0.08651194721460342,
          -0.26708924770355225,
          0.12375661730766296,
          -0.2589867413043976,
          0.13709436357021332,
          -0.334288090467453,
          0.20109817385673523,
          -0.06704749166965485,
          0.012671789154410362,
          -0.13947725296020508,
          -0.20514945685863495,
          -0.2155853807926178,
          0.2837603688240051,
          -0.028710780665278435,
          -0.07616359740495682,
          0.08970478177070618,
          0.4825409948825836,
          -0.19728343188762665,
          -0.44296994805336,
          -0.08034025132656097,
          0.09527990967035294,
          -0.19702410697937012,
          -0.06217137351632118,
          -0.03298109397292137,
          0.050251055508852005,
          -0.42729929089546204,
          -0.01882019080221653,
          0.7062282562255859,
          -0.03315921500325203,
          0.13086022436618805,
          -0.5995736122131348,
          -0.01218181848526001,
          0.4112575352191925,
          -0.740882158279419,
          0.38617920875549316,
          0.009052581153810024,
          -0.6087837219238281,
          -0.13522228598594666,
          -0.2531141936779022,
          0.24406757950782776,
          0.09789490699768066,
          -0.1877995878458023,
          -0.9380944967269897,
          0.1671498715877533,
          -0.05885414779186249,
          -0.1580975204706192,
          -0.535424530506134,
          -0.3884730041027069,
          -0.3910086750984192,
          -0.17930099368095398,
          0.20005089044570923,
          0.02944226935505867,
          0.04355831444263458,
          0.17901799082756042,
          -1.0377411842346191,
          -0.3125189542770386,
          -0.2564854025840759,
          -0.3918612003326416,
          -0.20654697716236115,
          0.19594360888004303,
          0.021263791248202324,
          -0.03522636741399765,
          -0.2794981598854065,
          -0.5029187202453613,
          0.025871699675917625,
          0.08802763372659683,
          -0.23939795792102814,
          -0.1593557596206665,
          0.14749784767627716,
          -0.010164907202124596,
          -0.019123850390315056,
          -0.547733724117279,
          0.06672947108745575,
          0.22625920176506042,
          0.06497672945261002,
          -0.09318576753139496,
          -0.3021330237388611,
          0.12981165945529938,
          0.3980196416378021,
          0.18009190261363983,
          -0.06381874531507492,
          -0.32612791657447815,
          0.24970604479312897,
          0.053098537027835846,
          -0.09101534634828568,
          0.02636013925075531,
          0.7867864370346069,
          -0.16828326880931854,
          0.3281058371067047,
          0.1921461522579193,
          0.044480618089437485,
          0.06666380912065506,
          -0.18227452039718628,
          0.31623610854148865,
          -0.49416109919548035,
          -0.11053493618965149,
          0.2701278030872345,
          0.14800584316253662,
          -0.09108138084411621,
          -0.13127347826957703,
          0.19908447563648224,
          0.44201529026031494,
          -0.02859930321574211,
          -0.03665410727262497,
          0.17787796258926392,
          -0.0760837271809578,
          0.1878330409526825,
          -0.34792760014533997,
          0.026308193802833557,
          0.19816747307777405,
          0.07251652330160141,
          0.1695413887500763,
          -0.20990575850009918,
          -0.33447912335395813,
          0.0728987604379654,
          -0.1256021410226822,
          -0.10854855179786682,
          0.1177092045545578,
          -0.06984639167785645,
          0.3061286509037018,
          -0.0646282285451889,
          0.22602801024913788,
          -0.2719419002532959,
          -0.2736869752407074,
          -0.19825255870819092,
          -0.2279002070426941,
          -0.28608766198158264,
          0.024314820766448975,
          -0.23984886705875397,
          0.28762856125831604,
          -0.19768010079860687,
          -0.11322097480297089,
          -0.0870935246348381,
          -0.1316126585006714,
          0.01639874093234539,
          -0.12842747569084167,
          -0.05687914416193962,
          -0.07127724587917328,
          -0.13596661388874054,
          0.24165958166122437,
          1.3412978649139404,
          0.2171553522348404,
          -0.19094328582286835,
          0.14416125416755676,
          -0.28446248173713684,
          -0.036169156432151794,
          0.2693670392036438,
          0.20043838024139404,
          -0.07489098608493805,
          -0.2375633716583252,
          -0.08099637180566788,
          0.08785975724458694,
          0.3562949597835541,
          -0.622838020324707,
          -0.05580013617873192,
          0.34923526644706726,
          1.3266775608062744,
          -0.2394929826259613,
          -0.0030698031187057495,
          -0.09712579101324081,
          -0.19219759106636047,
          0.27586352825164795,
          0.05940743163228035,
          0.2844252288341522,
          0.3977850675582886,
          0.13493232429027557,
          -0.23115570843219757,
          0.2552027106285095,
          0.3497985899448395,
          0.22448870539665222,
          0.21278135478496552,
          -0.02122052200138569,
          -0.03719978407025337,
          0.21048223972320557,
          -0.42649856209754944,
          0.5268374085426331,
          0.11542899161577225,
          -0.0802995041012764,
          0.3597570061683655,
          -0.022128498181700706,
          -0.15134571492671967,
          -0.21319471299648285,
          0.5019307732582092,
          0.08219123631715775,
          0.6496133804321289,
          -0.18846289813518524,
          -0.19925552606582642,
          0.032412800937891006,
          0.26552674174308777,
          -0.13051004707813263,
          0.09993159025907516,
          0.044901348650455475,
          0.08748941123485565,
          0.16937586665153503,
          0.06770369410514832,
          0.027484465390443802,
          0.43365979194641113,
          -0.22309722006320953,
          -0.08946143090724945,
          0.0471663735806942,
          -0.7238612771034241,
          0.13497672975063324,
          -0.14299386739730835,
          -0.06820056587457657,
          -0.08143320679664612,
          -0.15469303727149963,
          0.13752442598342896,
          0.11337713897228241,
          0.25862616300582886,
          0.04690851643681526,
          0.06302685290575027,
          -0.043852608650922775,
          0.24353283643722534,
          0.3819158375263214,
          -0.17382241785526276,
          0.05408032238483429,
          -0.09030711650848389,
          0.041434645652770996,
          0.1236521378159523,
          -0.22036699950695038,
          -0.2927980422973633,
          0.4314151108264923,
          0.022390970960259438,
          0.14852719008922577,
          0.6037216186523438,
          0.009380962699651718,
          -0.2779117822647095,
          0.058765146881341934,
          -0.5052525401115417,
          0.08591004461050034,
          -0.28234434127807617,
          -0.2568562924861908,
          0.06278075277805328,
          -0.22945629060268402,
          0.45149874687194824,
          -0.29085949063301086,
          -0.6538784503936768,
          1.1095415353775024,
          0.22862793505191803,
          -0.07269415259361267,
          0.15856368839740753,
          0.050380513072013855,
          0.009413938969373703,
          -0.05581878870725632,
          0.09587476402521133,
          -1.3839975595474243,
          -0.14653252065181732,
          0.11645358055830002,
          0.17552316188812256,
          -0.13933317363262177,
          -0.08905889093875885,
          0.21536888182163239,
          -0.0446675680577755,
          -0.7259238362312317,
          -0.2049723118543625,
          0.36800968647003174,
          0.09867825359106064,
          0.1844809502363205,
          0.26026493310928345,
          -0.008199536241590977,
          0.15081432461738586,
          -0.06401793658733368,
          -0.515796959400177,
          0.30818551778793335,
          0.09306474030017853,
          0.23801341652870178,
          -0.21946075558662415,
          0.026661796495318413,
          0.395412415266037,
          -0.11174815148115158,
          0.1581859141588211,
          0.032464027404785156,
          0.10956168174743652,
          0.022923845797777176,
          0.2678074836730957,
          -0.05260857939720154,
          0.5927518010139465,
          -0.4259260594844818,
          -0.09537068754434586,
          0.064971923828125,
          0.5608562231063843,
          -0.11515044420957565,
          -0.6584072709083557,
          0.11688175797462463,
          0.2712906301021576,
          0.015516298823058605,
          0.21841953694820404,
          0.04164049029350281,
          0.4336026608943939,
          0.18420203030109406,
          0.11835218220949173,
          0.2740466296672821,
          -0.14749988913536072,
          0.03073941543698311,
          -0.20427419245243073,
          -0.4637902081012726,
          0.008416750468313694,
          0.08959557861089706,
          -0.3701121509075165,
          0.11365214735269547,
          0.11296121776103973,
          -0.041102852672338486,
          0.057535551488399506,
          -0.06791584193706512,
          -0.1116781234741211,
          0.01358796562999487,
          0.04220103845000267,
          0.2129664421081543,
          -0.08873194456100464,
          -0.6034471392631531,
          -0.2771233916282654,
          -0.43424826860427856,
          -0.13337919116020203,
          0.09824296832084656,
          0.26938164234161377,
          0.01579618826508522,
          -0.05644434690475464,
          -0.2725219428539276,
          0.12916094064712524,
          -0.14494751393795013,
          -0.08616533875465393,
          -0.019639717414975166,
          -0.09767614305019379,
          0.3752310574054718,
          0.05531971529126167,
          0.4352686107158661,
          -0.46531942486763,
          -0.3028429448604584,
          0.10266812145709991,
          0.01929228939116001,
          0.3516232669353485,
          -0.14755165576934814,
          -0.1015281081199646,
          0.1712159514427185,
          0.12291619181632996,
          0.10481783002614975,
          0.08434724807739258,
          -0.03236112371087074,
          -0.10263996571302414,
          0.03026781789958477,
          -0.25443679094314575,
          -0.9638572335243225,
          -0.19432054460048676,
          -0.07420019060373306,
          0.585412859916687,
          -0.2709116041660309,
          -0.17894931137561798,
          -0.4164857864379883,
          -0.47759732604026794,
          -0.4035370945930481,
          -0.033495303243398666,
          0.3713459074497223,
          0.23550598323345184,
          0.21715615689754486,
          -0.23076404631137848,
          0.17129336297512054,
          -0.18410304188728333,
          0.1133083775639534,
          0.35522428154945374,
          -0.1401282548904419,
          -0.47781792283058167,
          -0.22568298876285553,
          -0.21857082843780518,
          0.1276921033859253,
          -0.00633387453854084,
          -0.15021498501300812,
          -0.044723235070705414,
          0.16307562589645386,
          0.14990806579589844,
          0.03053622506558895,
          -0.2061188817024231,
          0.14724357426166534,
          0.1791481375694275,
          0.28330931067466736,
          -0.24938330054283142,
          0.36367836594581604,
          0.01269462052732706,
          0.2789976894855499,
          -0.13375665247440338,
          0.026669180020689964,
          0.1778891533613205,
          -0.11459507793188095,
          -0.017948461696505547,
          0.43778929114341736,
          0.1253429353237152,
          0.2800990343093872,
          0.3166476786136627,
          0.07640545815229416,
          0.18060430884361267,
          0.07213479280471802,
          -0.05590582266449928,
          0.11119569838047028,
          0.30942580103874207,
          -0.1588343381881714,
          -0.8001527190208435,
          0.1199517697095871,
          0.021478639915585518,
          0.47873780131340027,
          -0.18987229466438293,
          -0.146687850356102,
          0.008362486958503723,
          -0.31492191553115845,
          0.3313220143318176,
          -0.06129715219140053,
          -0.1091112270951271,
          -0.014395426958799362,
          -0.4658844470977783,
          -0.13833732903003693,
          0.24643850326538086,
          -0.023517344146966934,
          -0.31276261806488037,
          -0.5486505031585693,
          0.2004394829273224,
          -0.0288503747433424,
          0.22607357800006866,
          0.07391595840454102,
          -0.242686927318573,
          -0.07089097052812576,
          0.26255711913108826,
          -0.1763678342103958,
          -0.17627005279064178,
          0.09702763706445694,
          -0.4964556097984314,
          0.5882731676101685,
          -0.05721617490053177,
          0.025665679946541786,
          0.005618529859930277,
          0.12235661596059799,
          -0.20185990631580353,
          -0.06162254884839058,
          -0.26708298921585083,
          0.15913847088813782,
          0.023526592180132866,
          -0.2754826843738556,
          -0.0032612320501357317,
          0.18021075427532196,
          -0.3669750690460205,
          -0.48048561811447144,
          0.43592387437820435,
          -0.3273850679397583,
          0.10725738108158112,
          -0.06479600071907043,
          -0.33331528306007385,
          -0.49840161204338074,
          0.148927241563797,
          0.1613333523273468,
          0.41931840777397156
         ]
        }
       ],
       "layout": {
        "hovermode": "closest",
        "template": {
         "data": {
          "bar": [
           {
            "error_x": {
             "color": "#2a3f5f"
            },
            "error_y": {
             "color": "#2a3f5f"
            },
            "marker": {
             "line": {
              "color": "#E5ECF6",
              "width": 0.5
             },
             "pattern": {
              "fillmode": "overlay",
              "size": 10,
              "solidity": 0.2
             }
            },
            "type": "bar"
           }
          ],
          "barpolar": [
           {
            "marker": {
             "line": {
              "color": "#E5ECF6",
              "width": 0.5
             },
             "pattern": {
              "fillmode": "overlay",
              "size": 10,
              "solidity": 0.2
             }
            },
            "type": "barpolar"
           }
          ],
          "carpet": [
           {
            "aaxis": {
             "endlinecolor": "#2a3f5f",
             "gridcolor": "white",
             "linecolor": "white",
             "minorgridcolor": "white",
             "startlinecolor": "#2a3f5f"
            },
            "baxis": {
             "endlinecolor": "#2a3f5f",
             "gridcolor": "white",
             "linecolor": "white",
             "minorgridcolor": "white",
             "startlinecolor": "#2a3f5f"
            },
            "type": "carpet"
           }
          ],
          "choropleth": [
           {
            "colorbar": {
             "outlinewidth": 0,
             "ticks": ""
            },
            "type": "choropleth"
           }
          ],
          "contour": [
           {
            "colorbar": {
             "outlinewidth": 0,
             "ticks": ""
            },
            "colorscale": [
             [
              0,
              "#0d0887"
             ],
             [
              0.1111111111111111,
              "#46039f"
             ],
             [
              0.2222222222222222,
              "#7201a8"
             ],
             [
              0.3333333333333333,
              "#9c179e"
             ],
             [
              0.4444444444444444,
              "#bd3786"
             ],
             [
              0.5555555555555556,
              "#d8576b"
             ],
             [
              0.6666666666666666,
              "#ed7953"
             ],
             [
              0.7777777777777778,
              "#fb9f3a"
             ],
             [
              0.8888888888888888,
              "#fdca26"
             ],
             [
              1,
              "#f0f921"
             ]
            ],
            "type": "contour"
           }
          ],
          "contourcarpet": [
           {
            "colorbar": {
             "outlinewidth": 0,
             "ticks": ""
            },
            "type": "contourcarpet"
           }
          ],
          "heatmap": [
           {
            "colorbar": {
             "outlinewidth": 0,
             "ticks": ""
            },
            "colorscale": [
             [
              0,
              "#0d0887"
             ],
             [
              0.1111111111111111,
              "#46039f"
             ],
             [
              0.2222222222222222,
              "#7201a8"
             ],
             [
              0.3333333333333333,
              "#9c179e"
             ],
             [
              0.4444444444444444,
              "#bd3786"
             ],
             [
              0.5555555555555556,
              "#d8576b"
             ],
             [
              0.6666666666666666,
              "#ed7953"
             ],
             [
              0.7777777777777778,
              "#fb9f3a"
             ],
             [
              0.8888888888888888,
              "#fdca26"
             ],
             [
              1,
              "#f0f921"
             ]
            ],
            "type": "heatmap"
           }
          ],
          "heatmapgl": [
           {
            "colorbar": {
             "outlinewidth": 0,
             "ticks": ""
            },
            "colorscale": [
             [
              0,
              "#0d0887"
             ],
             [
              0.1111111111111111,
              "#46039f"
             ],
             [
              0.2222222222222222,
              "#7201a8"
             ],
             [
              0.3333333333333333,
              "#9c179e"
             ],
             [
              0.4444444444444444,
              "#bd3786"
             ],
             [
              0.5555555555555556,
              "#d8576b"
             ],
             [
              0.6666666666666666,
              "#ed7953"
             ],
             [
              0.7777777777777778,
              "#fb9f3a"
             ],
             [
              0.8888888888888888,
              "#fdca26"
             ],
             [
              1,
              "#f0f921"
             ]
            ],
            "type": "heatmapgl"
           }
          ],
          "histogram": [
           {
            "marker": {
             "pattern": {
              "fillmode": "overlay",
              "size": 10,
              "solidity": 0.2
             }
            },
            "type": "histogram"
           }
          ],
          "histogram2d": [
           {
            "colorbar": {
             "outlinewidth": 0,
             "ticks": ""
            },
            "colorscale": [
             [
              0,
              "#0d0887"
             ],
             [
              0.1111111111111111,
              "#46039f"
             ],
             [
              0.2222222222222222,
              "#7201a8"
             ],
             [
              0.3333333333333333,
              "#9c179e"
             ],
             [
              0.4444444444444444,
              "#bd3786"
             ],
             [
              0.5555555555555556,
              "#d8576b"
             ],
             [
              0.6666666666666666,
              "#ed7953"
             ],
             [
              0.7777777777777778,
              "#fb9f3a"
             ],
             [
              0.8888888888888888,
              "#fdca26"
             ],
             [
              1,
              "#f0f921"
             ]
            ],
            "type": "histogram2d"
           }
          ],
          "histogram2dcontour": [
           {
            "colorbar": {
             "outlinewidth": 0,
             "ticks": ""
            },
            "colorscale": [
             [
              0,
              "#0d0887"
             ],
             [
              0.1111111111111111,
              "#46039f"
             ],
             [
              0.2222222222222222,
              "#7201a8"
             ],
             [
              0.3333333333333333,
              "#9c179e"
             ],
             [
              0.4444444444444444,
              "#bd3786"
             ],
             [
              0.5555555555555556,
              "#d8576b"
             ],
             [
              0.6666666666666666,
              "#ed7953"
             ],
             [
              0.7777777777777778,
              "#fb9f3a"
             ],
             [
              0.8888888888888888,
              "#fdca26"
             ],
             [
              1,
              "#f0f921"
             ]
            ],
            "type": "histogram2dcontour"
           }
          ],
          "mesh3d": [
           {
            "colorbar": {
             "outlinewidth": 0,
             "ticks": ""
            },
            "type": "mesh3d"
           }
          ],
          "parcoords": [
           {
            "line": {
             "colorbar": {
              "outlinewidth": 0,
              "ticks": ""
             }
            },
            "type": "parcoords"
           }
          ],
          "pie": [
           {
            "automargin": true,
            "type": "pie"
           }
          ],
          "scatter": [
           {
            "marker": {
             "colorbar": {
              "outlinewidth": 0,
              "ticks": ""
             }
            },
            "type": "scatter"
           }
          ],
          "scatter3d": [
           {
            "line": {
             "colorbar": {
              "outlinewidth": 0,
              "ticks": ""
             }
            },
            "marker": {
             "colorbar": {
              "outlinewidth": 0,
              "ticks": ""
             }
            },
            "type": "scatter3d"
           }
          ],
          "scattercarpet": [
           {
            "marker": {
             "colorbar": {
              "outlinewidth": 0,
              "ticks": ""
             }
            },
            "type": "scattercarpet"
           }
          ],
          "scattergeo": [
           {
            "marker": {
             "colorbar": {
              "outlinewidth": 0,
              "ticks": ""
             }
            },
            "type": "scattergeo"
           }
          ],
          "scattergl": [
           {
            "marker": {
             "colorbar": {
              "outlinewidth": 0,
              "ticks": ""
             }
            },
            "type": "scattergl"
           }
          ],
          "scattermapbox": [
           {
            "marker": {
             "colorbar": {
              "outlinewidth": 0,
              "ticks": ""
             }
            },
            "type": "scattermapbox"
           }
          ],
          "scatterpolar": [
           {
            "marker": {
             "colorbar": {
              "outlinewidth": 0,
              "ticks": ""
             }
            },
            "type": "scatterpolar"
           }
          ],
          "scatterpolargl": [
           {
            "marker": {
             "colorbar": {
              "outlinewidth": 0,
              "ticks": ""
             }
            },
            "type": "scatterpolargl"
           }
          ],
          "scatterternary": [
           {
            "marker": {
             "colorbar": {
              "outlinewidth": 0,
              "ticks": ""
             }
            },
            "type": "scatterternary"
           }
          ],
          "surface": [
           {
            "colorbar": {
             "outlinewidth": 0,
             "ticks": ""
            },
            "colorscale": [
             [
              0,
              "#0d0887"
             ],
             [
              0.1111111111111111,
              "#46039f"
             ],
             [
              0.2222222222222222,
              "#7201a8"
             ],
             [
              0.3333333333333333,
              "#9c179e"
             ],
             [
              0.4444444444444444,
              "#bd3786"
             ],
             [
              0.5555555555555556,
              "#d8576b"
             ],
             [
              0.6666666666666666,
              "#ed7953"
             ],
             [
              0.7777777777777778,
              "#fb9f3a"
             ],
             [
              0.8888888888888888,
              "#fdca26"
             ],
             [
              1,
              "#f0f921"
             ]
            ],
            "type": "surface"
           }
          ],
          "table": [
           {
            "cells": {
             "fill": {
              "color": "#EBF0F8"
             },
             "line": {
              "color": "white"
             }
            },
            "header": {
             "fill": {
              "color": "#C8D4E3"
             },
             "line": {
              "color": "white"
             }
            },
            "type": "table"
           }
          ]
         },
         "layout": {
          "annotationdefaults": {
           "arrowcolor": "#2a3f5f",
           "arrowhead": 0,
           "arrowwidth": 1
          },
          "autotypenumbers": "strict",
          "coloraxis": {
           "colorbar": {
            "outlinewidth": 0,
            "ticks": ""
           }
          },
          "colorscale": {
           "diverging": [
            [
             0,
             "#8e0152"
            ],
            [
             0.1,
             "#c51b7d"
            ],
            [
             0.2,
             "#de77ae"
            ],
            [
             0.3,
             "#f1b6da"
            ],
            [
             0.4,
             "#fde0ef"
            ],
            [
             0.5,
             "#f7f7f7"
            ],
            [
             0.6,
             "#e6f5d0"
            ],
            [
             0.7,
             "#b8e186"
            ],
            [
             0.8,
             "#7fbc41"
            ],
            [
             0.9,
             "#4d9221"
            ],
            [
             1,
             "#276419"
            ]
           ],
           "sequential": [
            [
             0,
             "#0d0887"
            ],
            [
             0.1111111111111111,
             "#46039f"
            ],
            [
             0.2222222222222222,
             "#7201a8"
            ],
            [
             0.3333333333333333,
             "#9c179e"
            ],
            [
             0.4444444444444444,
             "#bd3786"
            ],
            [
             0.5555555555555556,
             "#d8576b"
            ],
            [
             0.6666666666666666,
             "#ed7953"
            ],
            [
             0.7777777777777778,
             "#fb9f3a"
            ],
            [
             0.8888888888888888,
             "#fdca26"
            ],
            [
             1,
             "#f0f921"
            ]
           ],
           "sequentialminus": [
            [
             0,
             "#0d0887"
            ],
            [
             0.1111111111111111,
             "#46039f"
            ],
            [
             0.2222222222222222,
             "#7201a8"
            ],
            [
             0.3333333333333333,
             "#9c179e"
            ],
            [
             0.4444444444444444,
             "#bd3786"
            ],
            [
             0.5555555555555556,
             "#d8576b"
            ],
            [
             0.6666666666666666,
             "#ed7953"
            ],
            [
             0.7777777777777778,
             "#fb9f3a"
            ],
            [
             0.8888888888888888,
             "#fdca26"
            ],
            [
             1,
             "#f0f921"
            ]
           ]
          },
          "colorway": [
           "#636efa",
           "#EF553B",
           "#00cc96",
           "#ab63fa",
           "#FFA15A",
           "#19d3f3",
           "#FF6692",
           "#B6E880",
           "#FF97FF",
           "#FECB52"
          ],
          "font": {
           "color": "#2a3f5f"
          },
          "geo": {
           "bgcolor": "white",
           "lakecolor": "white",
           "landcolor": "#E5ECF6",
           "showlakes": true,
           "showland": true,
           "subunitcolor": "white"
          },
          "hoverlabel": {
           "align": "left"
          },
          "hovermode": "closest",
          "mapbox": {
           "style": "light"
          },
          "paper_bgcolor": "white",
          "plot_bgcolor": "#E5ECF6",
          "polar": {
           "angularaxis": {
            "gridcolor": "white",
            "linecolor": "white",
            "ticks": ""
           },
           "bgcolor": "#E5ECF6",
           "radialaxis": {
            "gridcolor": "white",
            "linecolor": "white",
            "ticks": ""
           }
          },
          "scene": {
           "xaxis": {
            "backgroundcolor": "#E5ECF6",
            "gridcolor": "white",
            "gridwidth": 2,
            "linecolor": "white",
            "showbackground": true,
            "ticks": "",
            "zerolinecolor": "white"
           },
           "yaxis": {
            "backgroundcolor": "#E5ECF6",
            "gridcolor": "white",
            "gridwidth": 2,
            "linecolor": "white",
            "showbackground": true,
            "ticks": "",
            "zerolinecolor": "white"
           },
           "zaxis": {
            "backgroundcolor": "#E5ECF6",
            "gridcolor": "white",
            "gridwidth": 2,
            "linecolor": "white",
            "showbackground": true,
            "ticks": "",
            "zerolinecolor": "white"
           }
          },
          "shapedefaults": {
           "line": {
            "color": "#2a3f5f"
           }
          },
          "ternary": {
           "aaxis": {
            "gridcolor": "white",
            "linecolor": "white",
            "ticks": ""
           },
           "baxis": {
            "gridcolor": "white",
            "linecolor": "white",
            "ticks": ""
           },
           "bgcolor": "#E5ECF6",
           "caxis": {
            "gridcolor": "white",
            "linecolor": "white",
            "ticks": ""
           }
          },
          "title": {
           "x": 0.05
          },
          "xaxis": {
           "automargin": true,
           "gridcolor": "white",
           "linecolor": "white",
           "ticks": "",
           "title": {
            "standoff": 15
           },
           "zerolinecolor": "white",
           "zerolinewidth": 2
          },
          "yaxis": {
           "automargin": true,
           "gridcolor": "white",
           "linecolor": "white",
           "ticks": "",
           "title": {
            "standoff": 15
           },
           "zerolinecolor": "white",
           "zerolinewidth": 2
          }
         }
        },
        "title": {
         "text": "Word Embeddings"
        }
       }
      }
     },
     "metadata": {},
     "output_type": "display_data"
    }
   ],
   "source": [
    "def plot_2d_embeddings(embeddings, id_start=1, count=100):\n",
    "    # Get 1st and 2nd embedding dims for the desired tokens.\n",
    "    x1 = embeddings[id_start : id_start + count, 0]\n",
    "    x2 = embeddings[id_start : id_start + count, 1]\n",
    "\n",
    "    # Get the corresponding words from the reverse index (for labeling).\n",
    "    tokens = [reverse_index[i] for i in range(id_start, id_start + count)]\n",
    "\n",
    "    # Plot with the plotly library.\n",
    "    data = plotly.Scatter(\n",
    "        x=x1,\n",
    "        y=x2,\n",
    "        text=tokens,\n",
    "        mode=\"markers\",\n",
    "        textposition=\"bottom left\",\n",
    "        hoverinfo=\"text\",\n",
    "    )\n",
    "    fig = plotly.Figure(\n",
    "        data=[data], layout=plotly.Layout(title=\"Word Embeddings\", hovermode=\"closest\")\n",
    "    )\n",
    "    fig.show()\n",
    "\n",
    "\n",
    "# Very frequent tokens tend to be more syntactic than semantic, so let's plot\n",
    "# some rarer words.\n",
    "plot_2d_embeddings(embeddings, id_start=500, count=500)"
   ]
  },
  {
   "cell_type": "markdown",
   "metadata": {
    "id": "Z3Mm8MjRcZ20"
   },
   "source": [
    "---\n",
    "### Exercise 4: Interpretting Embeddings (8 points)\n",
    "Notice that the 2-D embeddings fall in a narrow diagonal band.\n",
    "\n",
    "1. Have the learned embeddings separated positive and negative words? What is the most negative word? Does this make sense?\n",
    "2. Give 2 examples of words that seem to have surprising embedding values and try to explain their positions. For example, what's going on with the tokens '7', '8', and '9'?\n",
    "3. The embedding for 'crazy' is very close to (0,0). Explain what this means in terms of the model's output.\n",
    "4. Can you explain what you think the 2 learned embedding dimensions mean, if anything?"
   ]
  },
  {
   "cell_type": "markdown",
   "metadata": {
    "id": "x_qAAvvo2y3t"
   },
   "source": [
    "*Written answers:*\n",
    "\n",
    "1. \n",
    "2. \n",
    "3. \n",
    "4. \n"
   ]
  },
  {
   "cell_type": "markdown",
   "metadata": {},
   "source": [
    "---"
   ]
  },
  {
   "cell_type": "markdown",
   "metadata": {
    "id": "IXCitmUvxfwb"
   },
   "source": [
    "## Scaling Up!\n",
    "Remember how we limited our input sequences to 20 tokens and 1000 vocabulary entries? Let's see how well we can do using more data and bigger models (more parameters)."
   ]
  },
  {
   "cell_type": "markdown",
   "metadata": {
    "id": "OKZDEGS7xzr6"
   },
   "source": [
    "### Exercise 5: Improve Results (8 points)\n",
    "Using pieces of code from above, set up and train a model that improves the validation accuracy to at least 80%. You should include the following elements:\n",
    "\n",
    "1. Truncate and pad input to the desired length.\n",
    "2. Limit vocabulary to the desired size.\n",
    "3. Set up a model using embeddings.\n",
    "4. Add an additional layer or layers (after the embeddings layer and before the output layer).\n",
    "5. Evaluate on the test data. Remember to apply the same pre-processing to the test data. You can use model.evaluate()."
   ]
  },
  {
   "cell_type": "code",
   "execution_count": 116,
   "metadata": {
    "id": "ekbJ4sIq2hID"
   },
   "outputs": [],
   "source": [
    "# YOUR CODE HERE"
   ]
  },
  {
   "cell_type": "markdown",
   "metadata": {
    "id": "7EEJI9yC2jOJ"
   },
   "source": [
    "---"
   ]
  }
 ],
 "metadata": {
  "colab": {
   "authorship_tag": "ABX9TyMbG/uKJC3itEUb58OjZyV3",
   "name": "09 Embeddings for Text.ipynb",
   "provenance": []
  },
  "kernelspec": {
   "display_name": "Python 3.9.12 ('tf')",
   "language": "python",
   "name": "python3"
  },
  "language_info": {
   "codemirror_mode": {
    "name": "ipython",
    "version": 3
   },
   "file_extension": ".py",
   "mimetype": "text/x-python",
   "name": "python",
   "nbconvert_exporter": "python",
   "pygments_lexer": "ipython3",
   "version": "3.9.12"
  },
  "vscode": {
   "interpreter": {
    "hash": "35d15a1cd8dadd50efd7dc67d5d4964ef4d6df162d72ab0491992c60321de6b1"
   }
  }
 },
 "nbformat": 4,
 "nbformat_minor": 4
}
