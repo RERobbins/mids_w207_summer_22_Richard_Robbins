{
 "cells": [
  {
   "cell_type": "markdown",
   "metadata": {
    "id": "MKsRDH5ZUdfasdv"
   },
   "source": [
    "# Lab 9"
   ]
  },
  {
   "cell_type": "markdown",
   "metadata": {
    "id": "43534tdfgs-v"
   },
   "source": [
    "In this lab, we'll train models for sentiment classification and experiment with learned embeddings for text features."
   ]
  },
  {
   "cell_type": "code",
   "execution_count": 1,
   "metadata": {
    "id": "7X58hOMTUH-w"
   },
   "outputs": [
    {
     "name": "stderr",
     "output_type": "stream",
     "text": [
      "2022-07-04 16:06:05.427170: I tensorflow/stream_executor/cuda/cuda_gpu_executor.cc:937] successful NUMA node read from SysFS had negative value (-1), but there must be at least one NUMA node, so returning NUMA node zero\n",
      "2022-07-04 16:06:05.458947: I tensorflow/stream_executor/cuda/cuda_gpu_executor.cc:937] successful NUMA node read from SysFS had negative value (-1), but there must be at least one NUMA node, so returning NUMA node zero\n",
      "2022-07-04 16:06:05.459746: I tensorflow/stream_executor/cuda/cuda_gpu_executor.cc:937] successful NUMA node read from SysFS had negative value (-1), but there must be at least one NUMA node, so returning NUMA node zero\n"
     ]
    }
   ],
   "source": [
    "# Import the libraries we'll use below.\n",
    "import re\n",
    "\n",
    "import numpy as np\n",
    "import pandas as pd\n",
    "import plotly.graph_objs as plotly  # for interactive plots\n",
    "import seaborn as sns  # for nicer plots\n",
    "from matplotlib import pyplot as plt\n",
    "\n",
    "sns.set(style=\"darkgrid\")  # default style\n",
    "\n",
    "import tensorflow as tf\n",
    "from tensorflow.keras.datasets import imdb\n",
    "\n",
    "tf.get_logger().setLevel(\"INFO\")\n",
    "tf.config.set_visible_devices([], \"GPU\")"
   ]
  },
  {
   "cell_type": "markdown",
   "metadata": {
    "id": "eqppUDpmdptk"
   },
   "source": [
    "## Data for Sentiment Classification\n",
    "\n",
    "In this lab, we'll train a *sentiment* classifier for movie reviews. That is, the input is the text of a movie review and the output is the probability the input was a positive review. The target labels are binary, 0 for negative and 1 for positive.\n",
    "\n",
    "Our data includes 50,000 movie reviews on IMDB. The data comes pre-segmented into train and test splits. The [data loading function](https://www.tensorflow.org/api_docs/python/tf/keras/datasets/imdb/load_data) below also splits each input text into tokens (words) and maps the words to integer values. Each input is a sequence of integers corresponding to the words."
   ]
  },
  {
   "cell_type": "code",
   "execution_count": 2,
   "metadata": {
    "colab": {
     "base_uri": "https://localhost:8080/"
    },
    "executionInfo": {
     "elapsed": 5870,
     "status": "ok",
     "timestamp": 1646684495083,
     "user": {
      "displayName": "Daniel Gillick",
      "photoUrl": "https://lh3.googleusercontent.com/a-/AOh14Gg9DrSMlwYnG9EolecuJqe8n9m7fpcje4_UbYrhQ10=s64",
      "userId": "01872965353911650729"
     },
     "user_tz": 600
    },
    "id": "s6M-asvhQWV_",
    "outputId": "1aca520b-e1b6-4006-ac44-78ff33ac6da9"
   },
   "outputs": [
    {
     "name": "stdout",
     "output_type": "stream",
     "text": [
      "X_train.shape: (25000,)\n",
      "Y_train.shape: (25000,)\n",
      "X_test.shape: (25000,)\n",
      "Y_test.shape: (25000,)\n",
      "First training example data: [1, 14, 22, 16, 43, 530, 973, 1622, 1385, 65, 458, 4468, 66, 3941, 4, 173, 36, 256, 5, 25, 100, 43, 838, 112, 50, 670, 22665, 9, 35, 480, 284, 5, 150, 4, 172, 112, 167, 21631, 336, 385, 39, 4, 172, 4536, 1111, 17, 546, 38, 13, 447, 4, 192, 50, 16, 6, 147, 2025, 19, 14, 22, 4, 1920, 4613, 469, 4, 22, 71, 87, 12, 16, 43, 530, 38, 76, 15, 13, 1247, 4, 22, 17, 515, 17, 12, 16, 626, 18, 19193, 5, 62, 386, 12, 8, 316, 8, 106, 5, 4, 2223, 5244, 16, 480, 66, 3785, 33, 4, 130, 12, 16, 38, 619, 5, 25, 124, 51, 36, 135, 48, 25, 1415, 33, 6, 22, 12, 215, 28, 77, 52, 5, 14, 407, 16, 82, 10311, 8, 4, 107, 117, 5952, 15, 256, 4, 31050, 7, 3766, 5, 723, 36, 71, 43, 530, 476, 26, 400, 317, 46, 7, 4, 12118, 1029, 13, 104, 88, 4, 381, 15, 297, 98, 32, 2071, 56, 26, 141, 6, 194, 7486, 18, 4, 226, 22, 21, 134, 476, 26, 480, 5, 144, 30, 5535, 18, 51, 36, 28, 224, 92, 25, 104, 4, 226, 65, 16, 38, 1334, 88, 12, 16, 283, 5, 16, 4472, 113, 103, 32, 15, 16, 5345, 19, 178, 32]\n",
      "First training example label: 1\n"
     ]
    }
   ],
   "source": [
    "(X_train, Y_train), (X_test, Y_test) = imdb.load_data(\n",
    "    path=\"imdb.npz\",\n",
    "    num_words=None,\n",
    "    skip_top=0,\n",
    "    maxlen=None,\n",
    "    seed=113,\n",
    "    start_char=1,\n",
    "    oov_char=2,\n",
    "    index_from=3,\n",
    ")\n",
    "\n",
    "print(\"X_train.shape:\", X_train.shape)\n",
    "print(\"Y_train.shape:\", Y_train.shape)\n",
    "print(\"X_test.shape:\", X_test.shape)\n",
    "print(\"Y_test.shape:\", Y_test.shape)\n",
    "\n",
    "print(\"First training example data:\", X_train[0])\n",
    "print(\"First training example label:\", Y_train[0])"
   ]
  },
  {
   "cell_type": "markdown",
   "metadata": {
    "id": "MyIWiy-4gQK-"
   },
   "source": [
    "So our first training example is a positive review. But that sequence of integer IDs is hard to read. The data loader provides a dictionary mapping words to IDs. Let's create a reverse index.\n"
   ]
  },
  {
   "cell_type": "code",
   "execution_count": 3,
   "metadata": {
    "colab": {
     "base_uri": "https://localhost:8080/"
    },
    "executionInfo": {
     "elapsed": 801,
     "status": "ok",
     "timestamp": 1646684508506,
     "user": {
      "displayName": "Daniel Gillick",
      "photoUrl": "https://lh3.googleusercontent.com/a-/AOh14Gg9DrSMlwYnG9EolecuJqe8n9m7fpcje4_UbYrhQ10=s64",
      "userId": "01872965353911650729"
     },
     "user_tz": 600
    },
    "id": "HQ-qATkhUj7c",
    "outputId": "eea86a69-fe6a-4cdb-ac8c-9307a5118e47"
   },
   "outputs": [
    {
     "name": "stdout",
     "output_type": "stream",
     "text": [
      "Largest ID: 88587\n"
     ]
    }
   ],
   "source": [
    "# The imdb dataset comes with an index mapping words to integers.\n",
    "# In the index the words are ordered by frequency they occur.\n",
    "index = imdb.get_word_index()\n",
    "\n",
    "# Because we used index_from=3 (above), setting aside ids below 3 for special\n",
    "# symbols, we need to add 3 to the index values.\n",
    "index = dict([(key, value + 3) for (key, value) in index.items()])\n",
    "\n",
    "# Create a reverse index so we can lookup tokens assigned to each id.\n",
    "reverse_index = dict([(value, key) for (key, value) in index.items()])\n",
    "reverse_index[1] = \"<START>\"  # start of input\n",
    "reverse_index[2] = \"#\"  # out-of-vocabulary (OOV)\n",
    "reverse_index[3] = \"<UNUSED>\"\n",
    "\n",
    "max_id = max(reverse_index.keys())\n",
    "print(\"Largest ID:\", max_id)"
   ]
  },
  {
   "cell_type": "markdown",
   "metadata": {
    "id": "h76-b07ehWNQ"
   },
   "source": [
    "Note that our index (and reverse index) have over 88,000 tokens. That's quite a large vocabulary! Let's also write a decoding function for our data."
   ]
  },
  {
   "cell_type": "code",
   "execution_count": 4,
   "metadata": {
    "colab": {
     "base_uri": "https://localhost:8080/"
    },
    "executionInfo": {
     "elapsed": 358,
     "status": "ok",
     "timestamp": 1646684531998,
     "user": {
      "displayName": "Daniel Gillick",
      "photoUrl": "https://lh3.googleusercontent.com/a-/AOh14Gg9DrSMlwYnG9EolecuJqe8n9m7fpcje4_UbYrhQ10=s64",
      "userId": "01872965353911650729"
     },
     "user_tz": 600
    },
    "id": "UjobmouHS5Dm",
    "outputId": "29975a48-7fda-4600-bd0c-693c35dd8a54"
   },
   "outputs": [
    {
     "name": "stdout",
     "output_type": "stream",
     "text": [
      "[1, 14, 22, 16, 43, 530, 973, 1622, 1385, 65, 458, 4468, 66, 3941, 4, 173, 36, 256, 5, 25, 100, 43, 838, 112, 50, 670, 22665, 9, 35, 480, 284, 5, 150, 4, 172, 112, 167, 21631, 336, 385, 39, 4, 172, 4536, 1111, 17, 546, 38, 13, 447, 4, 192, 50, 16, 6, 147, 2025, 19, 14, 22, 4, 1920, 4613, 469, 4, 22, 71, 87, 12, 16, 43, 530, 38, 76, 15, 13, 1247, 4, 22, 17, 515, 17, 12, 16, 626, 18, 19193, 5, 62, 386, 12, 8, 316, 8, 106, 5, 4, 2223, 5244, 16, 480, 66, 3785, 33, 4, 130, 12, 16, 38, 619, 5, 25, 124, 51, 36, 135, 48, 25, 1415, 33, 6, 22, 12, 215, 28, 77, 52, 5, 14, 407, 16, 82, 10311, 8, 4, 107, 117, 5952, 15, 256, 4, 31050, 7, 3766, 5, 723, 36, 71, 43, 530, 476, 26, 400, 317, 46, 7, 4, 12118, 1029, 13, 104, 88, 4, 381, 15, 297, 98, 32, 2071, 56, 26, 141, 6, 194, 7486, 18, 4, 226, 22, 21, 134, 476, 26, 480, 5, 144, 30, 5535, 18, 51, 36, 28, 224, 92, 25, 104, 4, 226, 65, 16, 38, 1334, 88, 12, 16, 283, 5, 16, 4472, 113, 103, 32, 15, 16, 5345, 19, 178, 32]\n",
      "<START> this film was just brilliant casting location scenery story direction everyone's really suited the part they played and you could just imagine being there robert redford's is an amazing actor and now the same being director norman's father came from the same scottish island as myself so i loved the fact there was a real connection with this film the witty remarks throughout the film were great it was just brilliant so much that i bought the film as soon as it was released for retail and would recommend it to everyone to watch and the fly fishing was amazing really cried at the end it was so sad and you know what they say if you cry at a film it must have been good and this definitely was also congratulations to the two little boy's that played the part's of norman and paul they were just brilliant children are often left out of the praising list i think because the stars that play them all grown up are such a big profile for the whole film but these children are amazing and should be praised for what they have done don't you think the whole story was so lovely because it was true and was someone's life after all that was shared with us all\n"
     ]
    }
   ],
   "source": [
    "def decode(token_ids):\n",
    "    \"\"\"Return a string with the decoded text given a list of token ids.\"\"\"\n",
    "    # Try looking up each id in the index, but return '#' (for OOV) if not found.\n",
    "    tokens = [reverse_index.get(i, \"#\") for i in token_ids]\n",
    "\n",
    "    # Connect the string tokens with a space.\n",
    "    return \" \".join(tokens)\n",
    "\n",
    "\n",
    "# Show the ids corresponding tokens in the first example.\n",
    "print(X_train[0])\n",
    "print(decode(X_train[0]))"
   ]
  },
  {
   "cell_type": "markdown",
   "metadata": {
    "id": "g47w5CackGBA"
   },
   "source": [
    "### Text Lengths\n",
    "As usual, let's start with some data analysis. How long are the reviews? Is there a difference in length between positive and negative reviews? A histogram will help answer these questions."
   ]
  },
  {
   "cell_type": "code",
   "execution_count": 5,
   "metadata": {
    "colab": {
     "base_uri": "https://localhost:8080/",
     "height": 305
    },
    "executionInfo": {
     "elapsed": 762,
     "status": "ok",
     "timestamp": 1646684547021,
     "user": {
      "displayName": "Daniel Gillick",
      "photoUrl": "https://lh3.googleusercontent.com/a-/AOh14Gg9DrSMlwYnG9EolecuJqe8n9m7fpcje4_UbYrhQ10=s64",
      "userId": "01872965353911650729"
     },
     "user_tz": 600
    },
    "id": "kEOgzo8Gk3r7",
    "outputId": "e7446ffd-10c5-4c64-a5bc-7cab81a1d73f"
   },
   "outputs": [
    {
     "data": {
      "image/png": "[encoded data removed]",
      "text/plain": [
       "<Figure size 432x288 with 1 Axes>"
      ]
     },
     "metadata": {
      "needs_background": "light"
     },
     "output_type": "display_data"
    },
    {
     "name": "stdout",
     "output_type": "stream",
     "text": [
      "Longest positive review: 2494\n",
      "Longest negative review: 1571\n"
     ]
    }
   ],
   "source": [
    "# Create a list of lengths for training examples with a positive label.\n",
    "text_lengths_pos = [len(x) for (i, x) in enumerate(X_train) if Y_train[i]]\n",
    "\n",
    "# And a list of lengths for training examples with a negative label.\n",
    "text_lengths_neg = [len(x) for (i, x) in enumerate(X_train) if not Y_train[i]]\n",
    "\n",
    "# The histogram function can take a list of inputs and corresponding labels.\n",
    "plt.hist(\n",
    "    [text_lengths_pos, text_lengths_neg],\n",
    "    bins=20,\n",
    "    range=(0, 1000),\n",
    "    label=[\"positive\", \"negative\"],\n",
    ")\n",
    "plt.legend()\n",
    "plt.show()\n",
    "\n",
    "# Also check the longest reviews.\n",
    "print(\"Longest positive review:\", max(text_lengths_pos))\n",
    "print(\"Longest negative review:\", max(text_lengths_neg))"
   ]
  },
  {
   "cell_type": "markdown",
   "metadata": {
    "id": "c3ZE9gpkml3a"
   },
   "source": [
    "---\n",
    "### Exercise 1: Token Counts (8 points)\n",
    "For each of the given tokens, construct a table with the number of positive training examples that include that token and the number of negative training examples that include that token. For reference, here are the counts for the first two tokens:\n",
    "\n",
    "|Token|Pos Count|Neg Count|\n",
    "|-|-|-|\n",
    "|good|4767|4849|\n",
    "|bad|1491|4396|"
   ]
  },
  {
   "cell_type": "code",
   "execution_count": 6,
   "metadata": {
    "id": "8YOYo6d01aWI"
   },
   "outputs": [
    {
     "data": {
      "text/html": [
       "<div>\n",
       "<style scoped>\n",
       "    .dataframe tbody tr th:only-of-type {\n",
       "        vertical-align: middle;\n",
       "    }\n",
       "\n",
       "    .dataframe tbody tr th {\n",
       "        vertical-align: top;\n",
       "    }\n",
       "\n",
       "    .dataframe thead th {\n",
       "        text-align: right;\n",
       "    }\n",
       "</style>\n",
       "<table border=\"1\" class=\"dataframe\">\n",
       "  <thead>\n",
       "    <tr style=\"text-align: right;\">\n",
       "      <th></th>\n",
       "      <th>Token</th>\n",
       "      <th>Pos Count</th>\n",
       "      <th>Neg Count</th>\n",
       "    </tr>\n",
       "  </thead>\n",
       "  <tbody>\n",
       "    <tr>\n",
       "      <th>0</th>\n",
       "      <td>good</td>\n",
       "      <td>4767</td>\n",
       "      <td>4849</td>\n",
       "    </tr>\n",
       "    <tr>\n",
       "      <th>1</th>\n",
       "      <td>bad</td>\n",
       "      <td>1491</td>\n",
       "      <td>4396</td>\n",
       "    </tr>\n",
       "    <tr>\n",
       "      <th>2</th>\n",
       "      <td>amazing</td>\n",
       "      <td>868</td>\n",
       "      <td>240</td>\n",
       "    </tr>\n",
       "    <tr>\n",
       "      <th>3</th>\n",
       "      <td>boring</td>\n",
       "      <td>301</td>\n",
       "      <td>1205</td>\n",
       "    </tr>\n",
       "    <tr>\n",
       "      <th>4</th>\n",
       "      <td>laugh</td>\n",
       "      <td>525</td>\n",
       "      <td>685</td>\n",
       "    </tr>\n",
       "    <tr>\n",
       "      <th>5</th>\n",
       "      <td>cry</td>\n",
       "      <td>231</td>\n",
       "      <td>114</td>\n",
       "    </tr>\n",
       "  </tbody>\n",
       "</table>\n",
       "</div>"
      ],
      "text/plain": [
       "     Token  Pos Count  Neg Count\n",
       "0     good       4767       4849\n",
       "1      bad       1491       4396\n",
       "2  amazing        868        240\n",
       "3   boring        301       1205\n",
       "4    laugh        525        685\n",
       "5      cry        231        114"
      ]
     },
     "execution_count": 6,
     "metadata": {},
     "output_type": "execute_result"
    }
   ],
   "source": [
    "tokens = [\"good\", \"bad\", \"amazing\", \"boring\", \"laugh\", \"cry\"]\n",
    "# YOUR CODE HERE\n",
    "\n",
    "result = []\n",
    "\n",
    "for token in tokens:\n",
    "    pos = [\n",
    "        idx\n",
    "        for (idx, review) in enumerate(X_train)\n",
    "        if index[token] in review and Y_train[idx]\n",
    "    ]\n",
    "    neg = [\n",
    "        idx\n",
    "        for (idx, review) in enumerate(X_train)\n",
    "        if index[token] in review and not Y_train[idx]\n",
    "    ]\n",
    "    result.append([token, len(pos), len(neg)])\n",
    "\n",
    "pd.DataFrame(result, columns=[\"Token\", \"Pos Count\", \"Neg Count\"])"
   ]
  },
  {
   "cell_type": "markdown",
   "metadata": {},
   "source": [
    "---"
   ]
  },
  {
   "cell_type": "markdown",
   "metadata": {
    "id": "hhzt-LnQ1m8w"
   },
   "source": [
    "## Feature Representation\n",
    "Consider the difference between the pixel features we used for image classification and the text features we are now dealing with.\n",
    "\n",
    "An image had 784 pixel positions. At each position, there is a single value in [0,1] (after normalization).\n",
    "\n",
    "In contrast, a review has a variable number of ordered tokens (up to 2494 in the training examples). Each token occurs in a particular position. We can think of the token positions much like the 784 pixel positions, except that some of the trailing positions are empty, since review lengths vary.  At each token position, there is a single token, one of the 88587 entries in the vocabulary. So we can think of a review as a (2500, 90000) matrix: At each of ~2500 token positions, we have 1 of ~90000 token ids.\n",
    "\n",
    "This representation would have 2500 * 90000 = 225 million features -- quite a lot more complexity than the images, though as you'll see below, we will make some simplifying assumptions, reducing both the number of token positions and the number of vocabulary items."
   ]
  },
  {
   "cell_type": "markdown",
   "metadata": {
    "id": "Jm_F5JmWyfko"
   },
   "source": [
    "### Padding and Reduced Length\n",
    "As is clear from the length histogram, the current representation of the review text is a variable-length array. Since fixed-length arrays are easier to work with in Tensorflow, let's add special padding tokens at the end of each review until they are all the same length.\n",
    "\n",
    "We'll also use this operation to limit the number of token positions by truncating all reviews to a specified length. In the code below, as an example, we pad all training inputs to length 300."
   ]
  },
  {
   "cell_type": "code",
   "execution_count": 7,
   "metadata": {
    "colab": {
     "base_uri": "https://localhost:8080/"
    },
    "executionInfo": {
     "elapsed": 766,
     "status": "ok",
     "timestamp": 1646684609342,
     "user": {
      "displayName": "Daniel Gillick",
      "photoUrl": "https://lh3.googleusercontent.com/a-/AOh14Gg9DrSMlwYnG9EolecuJqe8n9m7fpcje4_UbYrhQ10=s64",
      "userId": "01872965353911650729"
     },
     "user_tz": 600
    },
    "id": "a4ou8bSUCWOx",
    "outputId": "be4bc9e1-47aa-4f82-e23b-569f8d6128a4"
   },
   "outputs": [
    {
     "name": "stdout",
     "output_type": "stream",
     "text": [
      "Length of X_train[0]: 218\n",
      "Length of X_train_padded[0]: 300\n",
      "[    1    14    22    16    43   530   973  1622  1385    65   458  4468\n",
      "    66  3941     4   173    36   256     5    25   100    43   838   112\n",
      "    50   670 22665     9    35   480   284     5   150     4   172   112\n",
      "   167 21631   336   385    39     4   172  4536  1111    17   546    38\n",
      "    13   447     4   192    50    16     6   147  2025    19    14    22\n",
      "     4  1920  4613   469     4    22    71    87    12    16    43   530\n",
      "    38    76    15    13  1247     4    22    17   515    17    12    16\n",
      "   626    18 19193     5    62   386    12     8   316     8   106     5\n",
      "     4  2223  5244    16   480    66  3785    33     4   130    12    16\n",
      "    38   619     5    25   124    51    36   135    48    25  1415    33\n",
      "     6    22    12   215    28    77    52     5    14   407    16    82\n",
      " 10311     8     4   107   117  5952    15   256     4 31050     7  3766\n",
      "     5   723    36    71    43   530   476    26   400   317    46     7\n",
      "     4 12118  1029    13   104    88     4   381    15   297    98    32\n",
      "  2071    56    26   141     6   194  7486    18     4   226    22    21\n",
      "   134   476    26   480     5   144    30  5535    18    51    36    28\n",
      "   224    92    25   104     4   226    65    16    38  1334    88    12\n",
      "    16   283     5    16  4472   113   103    32    15    16  5345    19\n",
      "   178    32     0     0     0     0     0     0     0     0     0     0\n",
      "     0     0     0     0     0     0     0     0     0     0     0     0\n",
      "     0     0     0     0     0     0     0     0     0     0     0     0\n",
      "     0     0     0     0     0     0     0     0     0     0     0     0\n",
      "     0     0     0     0     0     0     0     0     0     0     0     0\n",
      "     0     0     0     0     0     0     0     0     0     0     0     0\n",
      "     0     0     0     0     0     0     0     0     0     0     0     0]\n"
     ]
    }
   ],
   "source": [
    "def pad_data(sequences, max_length):\n",
    "    # Keras has a convenient utility for padding a sequence.\n",
    "    # Also make sure we get a numpy array rather than an array of lists.\n",
    "    return np.array(\n",
    "        list(\n",
    "            tf.keras.preprocessing.sequence.pad_sequences(\n",
    "                sequences, maxlen=max_length, padding=\"post\", value=0\n",
    "            )\n",
    "        )\n",
    "    )\n",
    "\n",
    "\n",
    "# Pad and truncate to 300 tokens.\n",
    "X_train_padded = pad_data(X_train, max_length=300)\n",
    "\n",
    "# Check the padded output.\n",
    "print(\"Length of X_train[0]:\", len(X_train[0]))\n",
    "print(\"Length of X_train_padded[0]:\", len(X_train_padded[0]))\n",
    "print(X_train_padded[0])"
   ]
  },
  {
   "cell_type": "markdown",
   "metadata": {
    "id": "lFEmcwBjL4e_"
   },
   "source": [
    "### Reduced Vocabulary\n",
    "We also want to be able to limit the vocabulary size. Since our padding function produces fixed-length sequences in a numpy matrix, we can use clever numpy indexing to efficiently replace all token ids larger than some value with the designated out-of-vocabulary (OOV) id.\n",
    "\n",
    "In the code below, as an example, we'll keep just token ids less than 1000, replacing all others with OOV."
   ]
  },
  {
   "cell_type": "code",
   "execution_count": 8,
   "metadata": {
    "colab": {
     "base_uri": "https://localhost:8080/"
    },
    "executionInfo": {
     "elapsed": 347,
     "status": "ok",
     "timestamp": 1646684634116,
     "user": {
      "displayName": "Daniel Gillick",
      "photoUrl": "https://lh3.googleusercontent.com/a-/AOh14Gg9DrSMlwYnG9EolecuJqe8n9m7fpcje4_UbYrhQ10=s64",
      "userId": "01872965353911650729"
     },
     "user_tz": 600
    },
    "id": "21qpyEgGNQeB",
    "outputId": "148ce890-4376-4c5a-f96a-9fb50cbe9538"
   },
   "outputs": [
    {
     "name": "stdout",
     "output_type": "stream",
     "text": [
      "[  1  14  22  16  43 530 973   2   2  65 458   2  66   2   4 173  36 256\n",
      "   5  25 100  43 838 112  50 670   2   9  35 480 284   5 150   4 172 112\n",
      " 167   2 336 385  39   4 172   2   2  17 546  38  13 447   4 192  50  16\n",
      "   6 147   2  19  14  22   4   2   2 469   4  22  71  87  12  16  43 530\n",
      "  38  76  15  13   2   4  22  17 515  17  12  16 626  18   2   5  62 386\n",
      "  12   8 316   8 106   5   4   2   2  16 480  66   2  33   4 130  12  16\n",
      "  38 619   5  25 124  51  36 135  48  25   2  33   6  22  12 215  28  77\n",
      "  52   5  14 407  16  82   2   8   4 107 117   2  15 256   4   2   7   2\n",
      "   5 723  36  71  43 530 476  26 400 317  46   7   4   2   2  13 104  88\n",
      "   4 381  15 297  98  32   2  56  26 141   6 194   2  18   4 226  22  21\n",
      " 134 476  26 480   5 144  30   2  18  51  36  28 224  92  25 104   4 226\n",
      "  65  16  38   2  88  12  16 283   5  16   2 113 103  32  15  16   2  19\n",
      " 178  32   0   0   0   0   0   0   0   0   0   0   0   0   0   0   0   0\n",
      "   0   0   0   0   0   0   0   0   0   0   0   0   0   0   0   0   0   0\n",
      "   0   0   0   0   0   0   0   0   0   0   0   0   0   0   0   0   0   0\n",
      "   0   0   0   0   0   0   0   0   0   0   0   0   0   0   0   0   0   0\n",
      "   0   0   0   0   0   0   0   0   0   0   0   0]\n",
      "<START> this film was just brilliant casting # # story direction # really # the part they played and you could just imagine being there robert # is an amazing actor and now the same being director # father came from the same # # as myself so i loved the fact there was a real # with this film the # # throughout the film were great it was just brilliant so much that i # the film as soon as it was released for # and would recommend it to everyone to watch and the # # was amazing really # at the end it was so sad and you know what they say if you # at a film it must have been good and this definitely was also # to the two little # that played the # of # and paul they were just brilliant children are often left out of the # # i think because the stars that play them all # up are such a big # for the whole film but these children are amazing and should be # for what they have done don't you think the whole story was so # because it was true and was # life after all that was # with us all # # # # # # # # # # # # # # # # # # # # # # # # # # # # # # # # # # # # # # # # # # # # # # # # # # # # # # # # # # # # # # # # # # # # # # # # # # # # # # # # # #\n"
     ]
    }
   ],
   "source": [
    "def limit_vocab(sequences, max_token_id, oov_id=2):\n",
    "    \"\"\"Replace token ids greater than or equal to max_token_id with the oov_id.\"\"\"\n",
    "    reduced_sequences = np.copy(sequences)\n",
    "    reduced_sequences[reduced_sequences >= max_token_id] = oov_id\n",
    "    return reduced_sequences\n",
    "\n",
    "\n",
    "# Reduce vocabulary to 1000 tokens.\n",
    "X_train_reduced = limit_vocab(X_train_padded, max_token_id=1000)\n",
    "print(X_train_reduced[0])\n",
    "\n",
    "# Decode to see what this looks like in tokens. Note the '#' for OOVs.\n",
    "print(decode(X_train_reduced[0]))"
   ]
  },
  {
   "cell_type": "markdown",
   "metadata": {
    "id": "d24mOPC6ybC4"
   },
   "source": [
    "### One-hot Encoding\n",
    "Our current feature representations are **sparse**. That is, we only keep track of the token ids that are present in the input. A **one-hot** encoding replaces a value like 22 (corresponding to 'film') with an array with a single 1 at position 22 and zeros everywhere else. This will be very memory-inefficient, but we'll do it anyway for clarity.\n",
    "\n",
    "As discussed above, let's dramatically reduce both the number of token positions (review length) and the number of token ids (vocabulary). We'll clip each review after 20 tokens (so 2500 -> 20) and keep only the most common 1000 tokens (so 90000 -> 1000)."
   ]
  },
  {
   "cell_type": "code",
   "execution_count": 9,
   "metadata": {
    "colab": {
     "base_uri": "https://localhost:8080/"
    },
    "executionInfo": {
     "elapsed": 1777,
     "status": "ok",
     "timestamp": 1646684668163,
     "user": {
      "displayName": "Daniel Gillick",
      "photoUrl": "https://lh3.googleusercontent.com/a-/AOh14Gg9DrSMlwYnG9EolecuJqe8n9m7fpcje4_UbYrhQ10=s64",
      "userId": "01872965353911650729"
     },
     "user_tz": 600
    },
    "id": "EXzkqVL3Jufj",
    "outputId": "69a06ea3-61e2-4d2b-ed57-69c51ee2c5f4"
   },
   "outputs": [
    {
     "name": "stdout",
     "output_type": "stream",
     "text": [
      "X_train_one_hot shape: (25000, 20, 1000)\n"
     ]
    }
   ],
   "source": [
    "# Keras has a util to create one-hot encodings.\n",
    "X_train_padded = pad_data(X_train, max_length=20)\n",
    "X_train_reduced = limit_vocab(X_train_padded, max_token_id=1000)\n",
    "X_train_one_hot = tf.keras.utils.to_categorical(X_train_reduced)\n",
    "print(\"X_train_one_hot shape:\", X_train_one_hot.shape)"
   ]
  },
  {
   "cell_type": "markdown",
   "metadata": {
    "id": "B5RvIN4w66Ej"
   },
   "source": [
    "Note the shape of the one-hot encoded features. For each of our 25000 training examples, we have a 20 x 1000 matrix. That is, for each of 20 token positions, we have a vector of 1000 elements containing a single 1 and 999 zeros.\n",
    "\n",
    "We can think of these 1000-dimensional one-hot arrays as **embeddings**. Each token in the input has a 1000-dimensional representation. But because of the one-hot setup, the distance between each pair of tokens is the same ([1,0,0,...], [0,1,0,...], etc.). By contrast, learned embeddings result in meaningful distances between pairs of tokens. We'll get to that soon."
   ]
  },
  {
   "cell_type": "markdown",
   "metadata": {
    "id": "296Cnt647b5c"
   },
   "source": [
    "## Logistic Regression with One-Hot Encodings\n",
    "Let's start with something familiar -- logistic regression. Since our feature representation is in 2 dimensions (20 x 1000), we need to flatten it to pass it to Keras (remember we did this with the pixel data too). Let's try two strategies for flattening.\n",
    "\n",
    "1. Flatten by *concatenating* (as we did with pixels), turning (20 x 1000) data into (20000,) data. The result is a separate feature for each token at each position.\n",
    "2. Flatten by *averaging* over token positions, turning (20 x 1000) data into (1000,) data. The result is an array with average token counts, ignoring position.\n",
    "\n",
    "NOTE: Our prior assignments have used the standard Stochastic Gradient Descent (SGD) optimizer to compute the gradient from an estimate of the loss (based on the current mini-batch). There are many alternative optimizers. Here we'll use the **Adam** optimizer, which sometimes gives better results. One key characteristic of Adam is that it effectively uses a different learning rate for each parameter rather than a fixed learning rate as in SGD."
   ]
  },
  {
   "cell_type": "code",
   "execution_count": 10,
   "metadata": {
    "id": "6m6eebM-0dUW"
   },
   "outputs": [],
   "source": [
    "def build_onehot_model(average_over_positions=False):\n",
    "    \"\"\"Build a tf.keras model for one-hot data.\"\"\"\n",
    "    # Clear session and remove randomness.\n",
    "    tf.keras.backend.clear_session()\n",
    "    tf.random.set_seed(0)\n",
    "\n",
    "    model = tf.keras.Sequential()\n",
    "    if average_over_positions:\n",
    "        # This layer averages over the first dimension of the input by default.\n",
    "        model.add(tf.keras.layers.GlobalAveragePooling1D())\n",
    "    else:\n",
    "        # Concatenate.\n",
    "        model.add(tf.keras.layers.Flatten())\n",
    "    model.add(\n",
    "        tf.keras.layers.Dense(\n",
    "            units=1,  # output dim (for binary classification)\n",
    "            activation=\"sigmoid\",  # sigmoid activation for classification\n",
    "        )\n",
    "    )\n",
    "\n",
    "    model.compile(\n",
    "        loss=\"binary_crossentropy\",  # this is a classification task\n",
    "        optimizer=\"adam\",  # fancy optimizer\n",
    "        metrics=[\"accuracy\"],\n",
    "    )\n",
    "\n",
    "    return model"
   ]
  },
  {
   "cell_type": "markdown",
   "metadata": {
    "id": "NY3W_1-OSZ2X"
   },
   "source": [
    "Now let's try fitting the model to our training data and check performance metrics on the validation (held-out) data. But first, here's a function for plotting the learning curves given the training history object we get from Keras.\n",
    "\n",
    "**Note to Grader** I replaced the loss history plotting function with a more comprehensive reporting function that plots loss and accuracy during training and displays final training and validation accuracy as well as the number of parameters in the model."
   ]
  },
  {
   "cell_type": "code",
   "execution_count": 11,
   "metadata": {
    "id": "cOVmajSuMjN6"
   },
   "outputs": [],
   "source": [
    "def history_report(model, history, caption=None):\n",
    "    if caption:\n",
    "        print(caption)\n",
    "    if not isinstance(history, pd.DataFrame):\n",
    "        history = pd.DataFrame(history.history)\n",
    "    plot_loss_history(history)\n",
    "    plot_accuracy_history(history)\n",
    "\n",
    "    final_training_accuracy, final_validation_accuracy = get_final_accuracy(history)\n",
    "\n",
    "    print(f\"Final training accuracy: {final_training_accuracy:.4f}\")\n",
    "    print(f\"Final validation accuracy: {final_validation_accuracy:.4f}\")\n",
    "    print(f\"Model parameter count: {get_total_parameters(model):,}\")\n",
    "\n",
    "\n",
    "def plot_loss_history(history):\n",
    "    if not isinstance(history, pd.DataFrame):\n",
    "        history = pd.DataFrame(history.history)\n",
    "    plt.ylabel(\"Loss\")\n",
    "    plt.xlabel(\"Epoch\")\n",
    "    plt.xticks(range(0, len(history[\"loss\"] + 1)))\n",
    "    plt.plot(history[\"loss\"], label=\"training\", marker=\"o\")\n",
    "    plt.plot(history[\"val_loss\"], label=\"validation\", marker=\"o\")\n",
    "    plt.legend()\n",
    "    plt.show()\n",
    "\n",
    "\n",
    "def plot_accuracy_history(history):\n",
    "    if not isinstance(history, pd.DataFrame):\n",
    "        history = pd.DataFrame(history.history)\n",
    "    plt.ylabel(\"Accuracy\")\n",
    "    plt.xlabel(\"Epoch\")\n",
    "    plt.xticks(range(0, len(history[\"accuracy\"] + 1)))\n",
    "    plt.plot(history[\"accuracy\"], label=\"training\", marker=\"o\")\n",
    "    plt.plot(history[\"val_accuracy\"], label=\"validation\", marker=\"o\")\n",
    "    plt.legend()\n",
    "    plt.show()\n",
    "\n",
    "\n",
    "def get_final_accuracy(history):\n",
    "    if not isinstance(history, pd.DataFrame):\n",
    "        history = pd.DataFrame(history.history)\n",
    "    return history[\"accuracy\"].values[-1], history[\"val_accuracy\"].values[-1]\n",
    "\n",
    "\n",
    "def get_total_parameters(model):\n",
    "    stringlist = []\n",
    "    model.summary(print_fn=lambda x: stringlist.append(x))\n",
    "    summarystring = \"\\n\".join(stringlist)\n",
    "    total_parameter_string = re.search(\"Total params: (.*)\\n\", summarystring).group(1)\n",
    "    return int(total_parameter_string.replace(\",\", \"\"))"
   ]
  },
  {
   "cell_type": "code",
   "execution_count": 12,
   "metadata": {
    "colab": {
     "base_uri": "https://localhost:8080/",
     "height": 478
    },
    "executionInfo": {
     "elapsed": 22140,
     "status": "ok",
     "timestamp": 1646684718388,
     "user": {
      "displayName": "Daniel Gillick",
      "photoUrl": "https://lh3.googleusercontent.com/a-/AOh14Gg9DrSMlwYnG9EolecuJqe8n9m7fpcje4_UbYrhQ10=s64",
      "userId": "01872965353911650729"
     },
     "user_tz": 600
    },
    "id": "MyE4PgX70_op",
    "outputId": "3de05dfa-f372-4b77-ba43-f212c2f47c1e"
   },
   "outputs": [
    {
     "name": "stderr",
     "output_type": "stream",
     "text": [
      "2022-07-04 16:27:13.353487: I tensorflow/core/platform/cpu_feature_guard.cc:142] This TensorFlow binary is optimized with oneAPI Deep Neural Network Library (oneDNN) to use the following CPU instructions in performance-critical operations:  SSE4.1 SSE4.2 AVX AVX2 FMA\n",
      "To enable them in other operations, rebuild TensorFlow with the appropriate compiler flags.\n",
      "2022-07-04 16:27:15.165146: I tensorflow/compiler/mlir/mlir_graph_optimization_pass.cc:185] None of the MLIR Optimization Passes are enabled (registered 2)\n"
     ]
    },
    {
     "name": "stdout",
     "output_type": "stream",
     "text": [
      "Epoch 1/5\n",
      "352/352 [==============================] - 2s 5ms/step - loss: 0.6790 - accuracy: 0.6068 - val_loss: 0.6661 - val_accuracy: 0.6552\n",
      "Epoch 2/5\n",
      "352/352 [==============================] - 2s 4ms/step - loss: 0.6337 - accuracy: 0.7413 - val_loss: 0.6456 - val_accuracy: 0.6700\n",
      "Epoch 3/5\n",
      "352/352 [==============================] - 2s 5ms/step - loss: 0.5970 - accuracy: 0.7754 - val_loss: 0.6295 - val_accuracy: 0.6756\n",
      "Epoch 4/5\n",
      "352/352 [==============================] - 1s 4ms/step - loss: 0.5668 - accuracy: 0.7960 - val_loss: 0.6184 - val_accuracy: 0.6784\n",
      "Epoch 5/5\n",
      "352/352 [==============================] - 1s 4ms/step - loss: 0.5412 - accuracy: 0.8100 - val_loss: 0.6092 - val_accuracy: 0.6816\n",
      "\n"
     ]
    },
    {
     "data": {
      "image/png": "[encoded data removed]",
      "text/plain": [
       "<Figure size 432x288 with 1 Axes>"
      ]
     },
     "metadata": {
      "needs_background": "light"
     },
     "output_type": "display_data"
    },
    {
     "data": {
      "image/png": "[encoded data removed]",
      "text/plain": [
       "<Figure size 432x288 with 1 Axes>"
      ]
     },
     "metadata": {
      "needs_background": "light"
     },
     "output_type": "display_data"
    },
    {
     "name": "stdout",
     "output_type": "stream",
     "text": [
      "Final training accuracy: 0.8100\n",
      "Final validation accuracy: 0.6816\n",
      "Model parameter count: 20,001\n"
     ]
    }
   ],
   "source": [
    "model = build_onehot_model()\n",
    "\n",
    "# Fit the model.\n",
    "history = model.fit(\n",
    "    x=X_train_one_hot,  # one-hot training data\n",
    "    y=Y_train,  # corresponding binary labels\n",
    "    epochs=5,  # number of passes through the training data\n",
    "    batch_size=64,  # mini-batch size\n",
    "    validation_split=0.1,  # use a fraction of the examples for validation\n",
    "    verbose=1,  # display some progress output during training\n",
    ")\n",
    "\n",
    "# Convert the return value into a DataFrame so we can see the train loss and binary accuracy after every epoch.\n",
    "\n",
    "# history_ = pd.DataFrame(history.history)\n",
    "# plot_loss_history(history)\n",
    "\n",
    "print()\n",
    "history_report(model, history)"
   ]
  },
  {
   "cell_type": "markdown",
   "metadata": {
    "id": "QuCh9aQPv7F_"
   },
   "source": [
    "---\n",
    "### Exercise 2: Comparing logistic regression models (8 points)\n",
    "Train the one-hot model using both the concatenating and the averaging strategies and compare the results. Let's call these *LR-C* (Logistic Regression Concatenating) and *LR-A* (Logistic Regression Averaging). Then answer the following questions:\n",
    "\n",
    "1. What are the final training and validation accuracies for LR-C and LR-A?\n",
    "2. How many parameters are there in each model?\n",
    "3. Would you say that either model is overfitting? Why or why not?\n",
    "4. Briefly describe how LR-C differs from LR-A. How do you explain the relationship between their respective validation accuracy results? "
   ]
  },
  {
   "cell_type": "code",
   "execution_count": 13,
   "metadata": {},
   "outputs": [
    {
     "name": "stdout",
     "output_type": "stream",
     "text": [
      "Train Concatenating Model:\n",
      "Epoch 1/5\n",
      "352/352 [==============================] - 2s 6ms/step - loss: 0.6790 - accuracy: 0.6068 - val_loss: 0.6661 - val_accuracy: 0.6552\n",
      "Epoch 2/5\n",
      "352/352 [==============================] - 2s 5ms/step - loss: 0.6337 - accuracy: 0.7413 - val_loss: 0.6456 - val_accuracy: 0.6700\n",
      "Epoch 3/5\n",
      "352/352 [==============================] - 2s 5ms/step - loss: 0.5970 - accuracy: 0.7754 - val_loss: 0.6295 - val_accuracy: 0.6756\n",
      "Epoch 4/5\n",
      "352/352 [==============================] - 2s 5ms/step - loss: 0.5668 - accuracy: 0.7960 - val_loss: 0.6184 - val_accuracy: 0.6784\n",
      "Epoch 5/5\n",
      "352/352 [==============================] - 2s 5ms/step - loss: 0.5412 - accuracy: 0.8100 - val_loss: 0.6092 - val_accuracy: 0.6816\n",
      "\n",
      "Train Averaging Model:\n",
      "Epoch 1/5\n",
      "352/352 [==============================] - 2s 3ms/step - loss: 0.6909 - accuracy: 0.5864 - val_loss: 0.6886 - val_accuracy: 0.6332\n",
      "Epoch 2/5\n",
      "352/352 [==============================] - 1s 3ms/step - loss: 0.6858 - accuracy: 0.6652 - val_loss: 0.6840 - val_accuracy: 0.6680\n",
      "Epoch 3/5\n",
      "352/352 [==============================] - 1s 2ms/step - loss: 0.6809 - accuracy: 0.6718 - val_loss: 0.6793 - val_accuracy: 0.6816\n",
      "Epoch 4/5\n",
      "352/352 [==============================] - 1s 3ms/step - loss: 0.6762 - accuracy: 0.6944 - val_loss: 0.6751 - val_accuracy: 0.6892\n",
      "Epoch 5/5\n",
      "352/352 [==============================] - 1s 3ms/step - loss: 0.6716 - accuracy: 0.6958 - val_loss: 0.6711 - val_accuracy: 0.6888\n",
      "\n",
      "Concatenating Model\n"
     ]
    },
    {
     "data": {
      "image/png": "[encoded data removed]",
      "text/plain": [
       "<Figure size 432x288 with 1 Axes>"
      ]
     },
     "metadata": {
      "needs_background": "light"
     },
     "output_type": "display_data"
    },
    {
     "data": {
      "image/png": "[encoded data removed]",
      "text/plain": [
       "<Figure size 432x288 with 1 Axes>"
      ]
     },
     "metadata": {
      "needs_background": "light"
     },
     "output_type": "display_data"
    },
    {
     "name": "stdout",
     "output_type": "stream",
     "text": [
      "Final training accuracy: 0.8100\n",
      "Final validation accuracy: 0.6816\n",
      "Model parameter count: 20,001\n",
      "\n",
      "Averaging Model\n"
     ]
    },
    {
     "data": {
      "image/png": "[encoded data removed]",
      "text/plain": [
       "<Figure size 432x288 with 1 Axes>"
      ]
     },
     "metadata": {
      "needs_background": "light"
     },
     "output_type": "display_data"
    },
    {
     "data": {
      "image/png": "[encoded data removed]",
      "text/plain": [
       "<Figure size 432x288 with 1 Axes>"
      ]
     },
     "metadata": {
      "needs_background": "light"
     },
     "output_type": "display_data"
    },
    {
     "name": "stdout",
     "output_type": "stream",
     "text": [
      "Final training accuracy: 0.6958\n",
      "Final validation accuracy: 0.6888\n",
      "Model parameter count: 1,001\n"
     ]
    }
   ],
   "source": [
    "lr_c = build_onehot_model(average_over_positions=False)\n",
    "lr_a = build_onehot_model(average_over_positions=True)\n",
    "\n",
    "print(\"Train Concatenating Model:\")\n",
    "\n",
    "lr_c_history = lr_c.fit(\n",
    "    x=X_train_one_hot,  # one-hot training data\n",
    "    y=Y_train,  # corresponding binary labels\n",
    "    epochs=5,  # number of passes through the training data\n",
    "    batch_size=64,  # mini-batch size\n",
    "    validation_split=0.1,  # use a fraction of the examples for validation\n",
    "    verbose=1,  # display some progress output during training\n",
    ")\n",
    "\n",
    "print()\n",
    "print(\"Train Averaging Model:\")\n",
    "\n",
    "lr_a_history = lr_a.fit(\n",
    "    x=X_train_one_hot,  # one-hot training data\n",
    "    y=Y_train,  # corresponding binary labels\n",
    "    epochs=5,  # number of passes through the training data\n",
    "    batch_size=64,  # mini-batch size\n",
    "    validation_split=0.1,  # use a fraction of the examples for validation\n",
    "    verbose=1,  # display some progress output during training\n",
    ")\n",
    "\n",
    "print()\n",
    "history_report(lr_c, lr_c_history, \"Concatenating Model\")\n",
    "print()\n",
    "history_report(lr_a, lr_a_history, \"Averaging Model\")"
   ]
  },
  {
   "cell_type": "markdown",
   "metadata": {
    "id": "CEAN5BejHc__"
   },
   "source": [
    "*Written answers:*\n",
    "\n",
    "1. Final training and validation accuracies for LR-C and LR-A.\n",
    "| Model         | Training | Validation |\n",
    "|---------------|----------|------------|\n",
    "| Concatenating (LR-C) | 0.8100   | 0.6816     |\n",
    "| Averaging (LR-A)     | 0.6958   | 0.6888     |\n",
    "\n",
    "\n",
    "2. The concatenating model has `20,001` parameters and the averaging model has `1,001` parameters.\n",
    "\n",
    "3. Overfitting means that the model captures the patterns in the training data well but fails to generalize well to unseen data.  A model can also suffer from underfitting, which means that it is not complex enough to capture the pattern in the training data and therefore also suffers from low performance on unseen data.\n",
    "\n",
    "    The training loss for the concatenating model loss is declining more rapidly than the validation loss, i.e., the gap between them grows wider with each epoch.  Moreover, the training accuracy for the model continues to increase while the validation accuracy appears to have come close to levelling off.  There is also a gap of approximately 13% between the final training and validation accuracy of the model.   On balance, these observations suggest that the model is capturing patterns in the training data without the ability to generalize. With subsequent epochs I expect that overfitting will be much more clearly evident.\n",
    "    \n",
    "    In contrast, the averaging model does not show evidence of overfitting.  The training and validation loss for that model are close to each other for each epoch.  Similarly, starting with  the second epoch, the the training and validation accuracy at each point are close to each other.  This model is behaving in a reasonably consistent fashion on both the training and validation data.  We do not see evidence that it has captured training data patterns without being able to generalize.\n",
    "\n",
    "4. The primary difference between the two models is the number of features (after taking into consideration the reduction in features by virtue of the averaging function) and the accompanying very large difference in the number of model parameters.  The additional features present in the concatening model makes that model more prone to overfitting, as does the related additional number of parameters in the concatenating model.  By reducing dimensionality, the averaging model is less prone to overfitting.  Reducing dimensionality without losing the predictive power of the underlying features is what makes this approach work, which is similar in spirit to what we see with principal component analysis."
   ]
  },
  {
   "cell_type": "markdown",
   "metadata": {},
   "source": [
    "---"
   ]
  },
  {
   "cell_type": "markdown",
   "metadata": {
    "id": "sJIBRqK7lsjG"
   },
   "source": [
    "## Logistic Regression with Embeddings\n",
    "Next, let's train model that replaces one-hot representations of each token with learned embeddings.\n",
    "\n",
    "The code below uses a Keras Embedding layer, which expects to receive a sparse (rather than one-hot) representation. That is, it expects a (padded) sequence of token ids; for each id, it looks up the corresponding embedding vector."
   ]
  },
  {
   "cell_type": "code",
   "execution_count": 14,
   "metadata": {
    "id": "ho6uOeCaBs2e"
   },
   "outputs": [],
   "source": [
    "def build_embeddings_model(\n",
    "    average_over_positions=False, vocab_size=1000, sequence_length=20, embedding_dim=2\n",
    "):\n",
    "    \"\"\"Build a tf.keras model using embeddings.\"\"\"\n",
    "    # Clear session and remove randomness.\n",
    "    tf.keras.backend.clear_session()\n",
    "    tf.random.set_seed(0)\n",
    "\n",
    "    model = tf.keras.Sequential()\n",
    "    model.add(\n",
    "        tf.keras.layers.Embedding(\n",
    "            input_dim=vocab_size, output_dim=embedding_dim, input_length=sequence_length\n",
    "        )\n",
    "    )\n",
    "\n",
    "    if average_over_positions:\n",
    "        # This layer averages over the first dimension of the input by default.\n",
    "        model.add(tf.keras.layers.GlobalAveragePooling1D())\n",
    "    else:\n",
    "        # Concatenate.\n",
    "        model.add(tf.keras.layers.Flatten())\n",
    "\n",
    "    model.add(\n",
    "        tf.keras.layers.Dense(\n",
    "            units=1,  # output dim (for binary classification)\n",
    "            activation=\"sigmoid\",  # apply the sigmoid function!\n",
    "        )\n",
    "    )\n",
    "\n",
    "    model.compile(loss=\"binary_crossentropy\", optimizer=\"adam\", metrics=[\"accuracy\"])\n",
    "\n",
    "    return model"
   ]
  },
  {
   "cell_type": "markdown",
   "metadata": {
    "id": "eyhoEjAiFSNB"
   },
   "source": [
    "Try training the model as before. We'll use the averaging strategy rather than the concatenating strategy for dealing with the token sequence. That is, we'll look up embedding vectors for each token. Then we'll average them to produce a single vector. Then we'll traing a logistic regression with that vector as input to predict the binary label."
   ]
  },
  {
   "cell_type": "code",
   "execution_count": 15,
   "metadata": {
    "colab": {
     "base_uri": "https://localhost:8080/",
     "height": 478
    },
    "executionInfo": {
     "elapsed": 5490,
     "status": "ok",
     "timestamp": 1646684762935,
     "user": {
      "displayName": "Daniel Gillick",
      "photoUrl": "https://lh3.googleusercontent.com/a-/AOh14Gg9DrSMlwYnG9EolecuJqe8n9m7fpcje4_UbYrhQ10=s64",
      "userId": "01872965353911650729"
     },
     "user_tz": 600
    },
    "id": "uYUE5UwkxoU8",
    "outputId": "20a4c237-8c49-4b24-9ea1-e0f325cb9908"
   },
   "outputs": [
    {
     "name": "stdout",
     "output_type": "stream",
     "text": [
      "Epoch 1/5\n",
      "352/352 [==============================] - 1s 1ms/step - loss: 0.6891 - accuracy: 0.6316 - val_loss: 0.6829 - val_accuracy: 0.6612\n",
      "Epoch 2/5\n",
      "352/352 [==============================] - 0s 1ms/step - loss: 0.6713 - accuracy: 0.6893 - val_loss: 0.6610 - val_accuracy: 0.6860\n",
      "Epoch 3/5\n",
      "352/352 [==============================] - 0s 1ms/step - loss: 0.6448 - accuracy: 0.7018 - val_loss: 0.6349 - val_accuracy: 0.6980\n",
      "Epoch 4/5\n",
      "352/352 [==============================] - 0s 1ms/step - loss: 0.6174 - accuracy: 0.7140 - val_loss: 0.6119 - val_accuracy: 0.7040\n",
      "Epoch 5/5\n",
      "352/352 [==============================] - 0s 1ms/step - loss: 0.5933 - accuracy: 0.7190 - val_loss: 0.5931 - val_accuracy: 0.7100\n",
      "\n"
     ]
    },
    {
     "data": {
      "image/png": "[encoded data removed]",
      "text/plain": [
       "<Figure size 432x288 with 1 Axes>"
      ]
     },
     "metadata": {
      "needs_background": "light"
     },
     "output_type": "display_data"
    },
    {
     "data": {
      "image/png": "[encoded data removed]",
      "text/plain": [
       "<Figure size 432x288 with 1 Axes>"
      ]
     },
     "metadata": {
      "needs_background": "light"
     },
     "output_type": "display_data"
    },
    {
     "name": "stdout",
     "output_type": "stream",
     "text": [
      "Final training accuracy: 0.7190\n",
      "Final validation accuracy: 0.7100\n",
      "Model parameter count: 2,003\n"
     ]
    }
   ],
   "source": [
    "model = build_embeddings_model(\n",
    "    average_over_positions=True, vocab_size=1000, sequence_length=20, embedding_dim=2\n",
    ")\n",
    "history = model.fit(\n",
    "    x=X_train_reduced,  # our sparse padded training data\n",
    "    y=Y_train,  # corresponding binary labels\n",
    "    epochs=5,  # number of passes through the training data\n",
    "    batch_size=64,  # mini-batch size\n",
    "    validation_split=0.1,  # use a fraction of the examples for validation\n",
    "    verbose=1,  # display some progress output during training\n",
    ")\n",
    "\n",
    "print()\n",
    "history_report(model, history)"
   ]
  },
  {
   "cell_type": "markdown",
   "metadata": {
    "id": "V3k__61hFnag"
   },
   "source": [
    "---\n",
    "### Exercise 3: Experiments with embeddings (8 points)\n",
    "Train 6 models with embedding sizes in [2,4,8,16,32,64], keeping other settings fixed. Use the averaging strategy rather than the concatenating strategy.\n",
    "\n",
    "1. Construct a table with the training and validation accuracies of each model (after 5 training epochs).\n",
    "2. Compute the number of parameters in each model.\n",
    "3. Do learned embeddings appear to provide improved performance over the one-hot encoding? Why?"
   ]
  },
  {
   "cell_type": "code",
   "execution_count": 16,
   "metadata": {},
   "outputs": [
    {
     "name": "stdout",
     "output_type": "stream",
     "text": [
      "Epoch 1/5\n",
      "352/352 [==============================] - 1s 1ms/step - loss: 0.6891 - accuracy: 0.6316 - val_loss: 0.6829 - val_accuracy: 0.6612\n",
      "Epoch 2/5\n",
      "352/352 [==============================] - 0s 918us/step - loss: 0.6713 - accuracy: 0.6893 - val_loss: 0.6610 - val_accuracy: 0.6860\n",
      "Epoch 3/5\n",
      "352/352 [==============================] - 0s 805us/step - loss: 0.6448 - accuracy: 0.7018 - val_loss: 0.6349 - val_accuracy: 0.6980\n",
      "Epoch 4/5\n",
      "352/352 [==============================] - 0s 989us/step - loss: 0.6174 - accuracy: 0.7140 - val_loss: 0.6119 - val_accuracy: 0.7040\n",
      "Epoch 5/5\n",
      "352/352 [==============================] - 0s 1ms/step - loss: 0.5933 - accuracy: 0.7190 - val_loss: 0.5931 - val_accuracy: 0.7100\n",
      "Epoch 1/5\n",
      "352/352 [==============================] - 2s 4ms/step - loss: 0.6846 - accuracy: 0.6379 - val_loss: 0.6731 - val_accuracy: 0.6668\n",
      "Epoch 2/5\n",
      "352/352 [==============================] - 0s 997us/step - loss: 0.6531 - accuracy: 0.6973 - val_loss: 0.6377 - val_accuracy: 0.7004\n",
      "Epoch 3/5\n",
      "352/352 [==============================] - 0s 915us/step - loss: 0.6141 - accuracy: 0.7124 - val_loss: 0.6042 - val_accuracy: 0.7044\n",
      "Epoch 4/5\n",
      "352/352 [==============================] - 0s 1ms/step - loss: 0.5814 - accuracy: 0.7222 - val_loss: 0.5807 - val_accuracy: 0.7128\n",
      "Epoch 5/5\n",
      "352/352 [==============================] - 0s 1ms/step - loss: 0.5573 - accuracy: 0.7302 - val_loss: 0.5646 - val_accuracy: 0.7164\n",
      "Epoch 1/5\n",
      "352/352 [==============================] - 1s 1ms/step - loss: 0.6798 - accuracy: 0.6510 - val_loss: 0.6603 - val_accuracy: 0.6748\n",
      "Epoch 2/5\n",
      "352/352 [==============================] - 0s 1ms/step - loss: 0.6296 - accuracy: 0.7083 - val_loss: 0.6096 - val_accuracy: 0.7040\n",
      "Epoch 3/5\n",
      "352/352 [==============================] - 0s 971us/step - loss: 0.5806 - accuracy: 0.7212 - val_loss: 0.5751 - val_accuracy: 0.7132\n",
      "Epoch 4/5\n",
      "352/352 [==============================] - 0s 1ms/step - loss: 0.5488 - accuracy: 0.7327 - val_loss: 0.5564 - val_accuracy: 0.7216\n",
      "Epoch 5/5\n",
      "352/352 [==============================] - 0s 974us/step - loss: 0.5290 - accuracy: 0.7413 - val_loss: 0.5457 - val_accuracy: 0.7208\n",
      "Epoch 1/5\n",
      "352/352 [==============================] - 1s 1ms/step - loss: 0.6706 - accuracy: 0.6575 - val_loss: 0.6400 - val_accuracy: 0.6860\n",
      "Epoch 2/5\n",
      "352/352 [==============================] - 0s 1ms/step - loss: 0.5993 - accuracy: 0.7148 - val_loss: 0.5806 - val_accuracy: 0.7096\n",
      "Epoch 3/5\n",
      "352/352 [==============================] - 0s 1ms/step - loss: 0.5493 - accuracy: 0.7308 - val_loss: 0.5531 - val_accuracy: 0.7208\n",
      "Epoch 4/5\n",
      "352/352 [==============================] - 0s 1ms/step - loss: 0.5238 - accuracy: 0.7418 - val_loss: 0.5418 - val_accuracy: 0.7204\n",
      "Epoch 5/5\n",
      "352/352 [==============================] - 0s 1ms/step - loss: 0.5102 - accuracy: 0.7484 - val_loss: 0.5365 - val_accuracy: 0.7268\n",
      "Epoch 1/5\n",
      "352/352 [==============================] - 1s 2ms/step - loss: 0.6580 - accuracy: 0.6629 - val_loss: 0.6147 - val_accuracy: 0.6944\n",
      "Epoch 2/5\n",
      "352/352 [==============================] - 1s 2ms/step - loss: 0.5686 - accuracy: 0.7231 - val_loss: 0.5574 - val_accuracy: 0.7172\n",
      "Epoch 3/5\n",
      "352/352 [==============================] - 1s 1ms/step - loss: 0.5258 - accuracy: 0.7407 - val_loss: 0.5403 - val_accuracy: 0.7252\n",
      "Epoch 4/5\n",
      "352/352 [==============================] - 1s 2ms/step - loss: 0.5082 - accuracy: 0.7464 - val_loss: 0.5354 - val_accuracy: 0.7276\n",
      "Epoch 5/5\n",
      "352/352 [==============================] - 1s 2ms/step - loss: 0.5001 - accuracy: 0.7520 - val_loss: 0.5338 - val_accuracy: 0.7300\n",
      "Epoch 1/5\n",
      "352/352 [==============================] - 1s 2ms/step - loss: 0.6424 - accuracy: 0.6670 - val_loss: 0.5872 - val_accuracy: 0.7088\n",
      "Epoch 2/5\n",
      "352/352 [==============================] - 1s 2ms/step - loss: 0.5429 - accuracy: 0.7327 - val_loss: 0.5431 - val_accuracy: 0.7220\n",
      "Epoch 3/5\n",
      "352/352 [==============================] - 1s 2ms/step - loss: 0.5115 - accuracy: 0.7446 - val_loss: 0.5352 - val_accuracy: 0.7312\n",
      "Epoch 4/5\n",
      "352/352 [==============================] - 1s 2ms/step - loss: 0.5004 - accuracy: 0.7496 - val_loss: 0.5346 - val_accuracy: 0.7296\n",
      "Epoch 5/5\n",
      "352/352 [==============================] - 1s 2ms/step - loss: 0.4962 - accuracy: 0.7551 - val_loss: 0.5348 - val_accuracy: 0.7284\n"
     ]
    }
   ],
   "source": [
    "model_list = [\n",
    "    build_embeddings_model(average_over_positions=True, embedding_dim=pow(2, x + 1))\n",
    "    for x in range(6)\n",
    "]\n",
    "\n",
    "history_list = [\n",
    "    model.fit(\n",
    "        x=X_train_reduced,  # our sparse padded training data\n",
    "        y=Y_train,  # corresponding binary labels\n",
    "        epochs=5,  # number of passes through the training data\n",
    "        batch_size=64,  # mini-batch size\n",
    "        validation_split=0.1,  # use a fraction of the examples for validation\n",
    "        verbose=1,  # display some progress output during training\n",
    "    )\n",
    "    for model in model_list\n",
    "]"
   ]
  },
  {
   "cell_type": "markdown",
   "metadata": {
    "id": "O7t46ZdX2ofd"
   },
   "source": [
    "*Written answers:*\n",
    "\n",
    "1. A table with the training and validation accuracies of each model (after 5 training epochs)."
   ]
  },
  {
   "cell_type": "code",
   "execution_count": 17,
   "metadata": {},
   "outputs": [
    {
     "data": {
      "text/html": [
       "<div>\n",
       "<style scoped>\n",
       "    .dataframe tbody tr th:only-of-type {\n",
       "        vertical-align: middle;\n",
       "    }\n",
       "\n",
       "    .dataframe tbody tr th {\n",
       "        vertical-align: top;\n",
       "    }\n",
       "\n",
       "    .dataframe thead th {\n",
       "        text-align: right;\n",
       "    }\n",
       "</style>\n",
       "<table border=\"1\" class=\"dataframe\">\n",
       "  <thead>\n",
       "    <tr style=\"text-align: right;\">\n",
       "      <th></th>\n",
       "      <th>embedding size</th>\n",
       "      <th>training accuracy</th>\n",
       "      <th>validation accuracy</th>\n",
       "    </tr>\n",
       "  </thead>\n",
       "  <tbody>\n",
       "    <tr>\n",
       "      <th>0</th>\n",
       "      <td>2</td>\n",
       "      <td>0.718978</td>\n",
       "      <td>0.7100</td>\n",
       "    </tr>\n",
       "    <tr>\n",
       "      <th>1</th>\n",
       "      <td>4</td>\n",
       "      <td>0.730222</td>\n",
       "      <td>0.7164</td>\n",
       "    </tr>\n",
       "    <tr>\n",
       "      <th>2</th>\n",
       "      <td>8</td>\n",
       "      <td>0.741333</td>\n",
       "      <td>0.7208</td>\n",
       "    </tr>\n",
       "    <tr>\n",
       "      <th>3</th>\n",
       "      <td>16</td>\n",
       "      <td>0.748400</td>\n",
       "      <td>0.7268</td>\n",
       "    </tr>\n",
       "    <tr>\n",
       "      <th>4</th>\n",
       "      <td>32</td>\n",
       "      <td>0.752000</td>\n",
       "      <td>0.7300</td>\n",
       "    </tr>\n",
       "    <tr>\n",
       "      <th>5</th>\n",
       "      <td>64</td>\n",
       "      <td>0.755111</td>\n",
       "      <td>0.7284</td>\n",
       "    </tr>\n",
       "  </tbody>\n",
       "</table>\n",
       "</div>"
      ],
      "text/plain": [
       "   embedding size  training accuracy  validation accuracy\n",
       "0               2           0.718978               0.7100\n",
       "1               4           0.730222               0.7164\n",
       "2               8           0.741333               0.7208\n",
       "3              16           0.748400               0.7268\n",
       "4              32           0.752000               0.7300\n",
       "5              64           0.755111               0.7284"
      ]
     },
     "execution_count": 17,
     "metadata": {},
     "output_type": "execute_result"
    }
   ],
   "source": [
    "result = [\n",
    "    (\n",
    "        pow(2, idx + 1),\n",
    "        history_list[idx].history[\"accuracy\"][-1],\n",
    "        history_list[idx].history[\"val_accuracy\"][-1],\n",
    "    )\n",
    "    for idx in range(len(history_list))\n",
    "]\n",
    "\n",
    "pd.DataFrame(\n",
    "    result, columns=[\"embedding size\", \"training accuracy\", \"validation accuracy\"]\n",
    ")"
   ]
  },
  {
   "cell_type": "markdown",
   "metadata": {},
   "source": [
    "2. Compute the number of parameters in each model."
   ]
  },
  {
   "cell_type": "markdown",
   "metadata": {},
   "source": [
    "**Manual Calculation**\n",
    "\n",
    "1. Each dimension in the embedding layer has a number of parameters equal to the vocabulary size, `v`.\n",
    "2. The output layer has a parameter for each dimension in the embedding layer plus 1.\n",
    "3. The total number of parameters for a model with vocabulary size `v` and embeddings with dimension `n` is `vn + n + 1`, i.e., `(v + 1)n + 1`.\n"
   ]
  },
  {
   "cell_type": "code",
   "execution_count": 18,
   "metadata": {},
   "outputs": [
    {
     "data": {
      "text/html": [
       "<div>\n",
       "<style scoped>\n",
       "    .dataframe tbody tr th:only-of-type {\n",
       "        vertical-align: middle;\n",
       "    }\n",
       "\n",
       "    .dataframe tbody tr th {\n",
       "        vertical-align: top;\n",
       "    }\n",
       "\n",
       "    .dataframe thead th {\n",
       "        text-align: right;\n",
       "    }\n",
       "</style>\n",
       "<table border=\"1\" class=\"dataframe\">\n",
       "  <thead>\n",
       "    <tr style=\"text-align: right;\">\n",
       "      <th></th>\n",
       "      <th>embedding size</th>\n",
       "      <th>vocabulary size</th>\n",
       "      <th>total parameters</th>\n",
       "    </tr>\n",
       "  </thead>\n",
       "  <tbody>\n",
       "    <tr>\n",
       "      <th>0</th>\n",
       "      <td>2</td>\n",
       "      <td>1000</td>\n",
       "      <td>2003</td>\n",
       "    </tr>\n",
       "    <tr>\n",
       "      <th>1</th>\n",
       "      <td>4</td>\n",
       "      <td>1000</td>\n",
       "      <td>4005</td>\n",
       "    </tr>\n",
       "    <tr>\n",
       "      <th>2</th>\n",
       "      <td>8</td>\n",
       "      <td>1000</td>\n",
       "      <td>8009</td>\n",
       "    </tr>\n",
       "    <tr>\n",
       "      <th>3</th>\n",
       "      <td>16</td>\n",
       "      <td>1000</td>\n",
       "      <td>16017</td>\n",
       "    </tr>\n",
       "    <tr>\n",
       "      <th>4</th>\n",
       "      <td>32</td>\n",
       "      <td>1000</td>\n",
       "      <td>32033</td>\n",
       "    </tr>\n",
       "    <tr>\n",
       "      <th>5</th>\n",
       "      <td>64</td>\n",
       "      <td>1000</td>\n",
       "      <td>64065</td>\n",
       "    </tr>\n",
       "  </tbody>\n",
       "</table>\n",
       "</div>"
      ],
      "text/plain": [
       "   embedding size  vocabulary size  total parameters\n",
       "0               2             1000              2003\n",
       "1               4             1000              4005\n",
       "2               8             1000              8009\n",
       "3              16             1000             16017\n",
       "4              32             1000             32033\n",
       "5              64             1000             64065"
      ]
     },
     "execution_count": 18,
     "metadata": {},
     "output_type": "execute_result"
    }
   ],
   "source": [
    "# total parameters = embeddings + embeddings*1000 + 1\n",
    "v = 1000\n",
    "result = [\n",
    "    (pow(2, idx + 1), v, pow(2, idx + 1) * (v + 1) + 1)\n",
    "    for (idx, model) in enumerate(model_list)\n",
    "]\n",
    "\n",
    "pd.DataFrame(result, columns=[\"embedding size\", \"vocabulary size\", \"total parameters\"])"
   ]
  },
  {
   "cell_type": "markdown",
   "metadata": {},
   "source": [
    "**Confirm Manual Calculation by Examining the Models**"
   ]
  },
  {
   "cell_type": "code",
   "execution_count": 19,
   "metadata": {},
   "outputs": [
    {
     "data": {
      "text/html": [
       "<div>\n",
       "<style scoped>\n",
       "    .dataframe tbody tr th:only-of-type {\n",
       "        vertical-align: middle;\n",
       "    }\n",
       "\n",
       "    .dataframe tbody tr th {\n",
       "        vertical-align: top;\n",
       "    }\n",
       "\n",
       "    .dataframe thead th {\n",
       "        text-align: right;\n",
       "    }\n",
       "</style>\n",
       "<table border=\"1\" class=\"dataframe\">\n",
       "  <thead>\n",
       "    <tr style=\"text-align: right;\">\n",
       "      <th></th>\n",
       "      <th>embedding size</th>\n",
       "      <th>total parameters</th>\n",
       "    </tr>\n",
       "  </thead>\n",
       "  <tbody>\n",
       "    <tr>\n",
       "      <th>0</th>\n",
       "      <td>2</td>\n",
       "      <td>2003</td>\n",
       "    </tr>\n",
       "    <tr>\n",
       "      <th>1</th>\n",
       "      <td>4</td>\n",
       "      <td>4005</td>\n",
       "    </tr>\n",
       "    <tr>\n",
       "      <th>2</th>\n",
       "      <td>8</td>\n",
       "      <td>8009</td>\n",
       "    </tr>\n",
       "    <tr>\n",
       "      <th>3</th>\n",
       "      <td>16</td>\n",
       "      <td>16017</td>\n",
       "    </tr>\n",
       "    <tr>\n",
       "      <th>4</th>\n",
       "      <td>32</td>\n",
       "      <td>32033</td>\n",
       "    </tr>\n",
       "    <tr>\n",
       "      <th>5</th>\n",
       "      <td>64</td>\n",
       "      <td>64065</td>\n",
       "    </tr>\n",
       "  </tbody>\n",
       "</table>\n",
       "</div>"
      ],
      "text/plain": [
       "   embedding size  total parameters\n",
       "0               2              2003\n",
       "1               4              4005\n",
       "2               8              8009\n",
       "3              16             16017\n",
       "4              32             32033\n",
       "5              64             64065"
      ]
     },
     "execution_count": 19,
     "metadata": {},
     "output_type": "execute_result"
    }
   ],
   "source": [
    "result = [\n",
    "    (pow(2, idx + 1), get_total_parameters(model))\n",
    "    for (idx, model) in enumerate(model_list)\n",
    "]\n",
    "\n",
    "pd.DataFrame(result, columns=[\"embedding size\", \"total parameters\"])"
   ]
  },
  {
   "cell_type": "markdown",
   "metadata": {},
   "source": [
    "3. Do learned embeddings appear to provide improved performance over the one-hot encoding? Why?\n",
    "\n",
    "The learned embeddings models have a validation accuracy of .71 to .73 compared with .68 to .69 for the one-hot encoding-based models.  In other words, we see accuracy improving by approximately three to four percent when moving to learned embeddings from one-hot encoding.  The one-hot encodings look at tokens in isolation and derive no predictive power from the proximity to other tokens.  Learned embeddings impound information about context, surrounding tokens.  The additional information represented by learned embeddings is responsible for the enhanced performance."
   ]
  },
  {
   "cell_type": "markdown",
   "metadata": {},
   "source": [
    "---"
   ]
  },
  {
   "cell_type": "markdown",
   "metadata": {
    "id": "i2dWOuxqKHA6"
   },
   "source": [
    "## Inspecting Learned Embeddings\n",
    "Let's retrieve the learned embedding parameters from the trained model and plot the token embeddings.\n",
    "\n",
    "The model layers in a Keras Sequential model are stored as a list and the embeddings are the first layer. We can use the get_weights() function to get a numpy array with the parameters."
   ]
  },
  {
   "cell_type": "code",
   "execution_count": 20,
   "metadata": {
    "colab": {
     "base_uri": "https://localhost:8080/",
     "height": 86
    },
    "executionInfo": {
     "elapsed": 355,
     "status": "ok",
     "timestamp": 1646684774106,
     "user": {
      "displayName": "Daniel Gillick",
      "photoUrl": "https://lh3.googleusercontent.com/a-/AOh14Gg9DrSMlwYnG9EolecuJqe8n9m7fpcje4_UbYrhQ10=s64",
      "userId": "01872965353911650729"
     },
     "user_tz": 600
    },
    "id": "bfsbGSwkaFjo",
    "outputId": "d9d74723-012f-464f-a9f3-8a41d8178868"
   },
   "outputs": [
    {
     "data": {
      "text/plain": [
       "[<keras.layers.embeddings.Embedding at 0x7f2556717a30>,\n",
       " <keras.layers.pooling.GlobalAveragePooling1D at 0x7f24e8543c40>,\n",
       " <keras.layers.core.Dense at 0x7f24e9f05430>]"
      ]
     },
     "metadata": {},
     "output_type": "display_data"
    },
    {
     "data": {
      "text/plain": [
       "(1000, 2)"
      ]
     },
     "metadata": {},
     "output_type": "display_data"
    }
   ],
   "source": [
    "# Display the model layers.\n",
    "display(model.layers)\n",
    "\n",
    "# Retrieve the embeddings layer, which itself is wrapped in a list.\n",
    "embeddings = model.layers[0].get_weights()[0]\n",
    "display(embeddings.shape)"
   ]
  },
  {
   "cell_type": "markdown",
   "metadata": {
    "id": "apPWscNwcXTE"
   },
   "source": [
    "Now we'll use a fancy plotting tool called *plotly* to show the embeddings with hovertext so you can move your mouse over the points to see the corresponding tokens."
   ]
  },
  {
   "cell_type": "code",
   "execution_count": null,
   "metadata": {
    "colab": {
     "base_uri": "https://localhost:8080/",
     "height": 542
    },
    "executionInfo": {
     "elapsed": 453,
     "status": "ok",
     "timestamp": 1646684778338,
     "user": {
      "displayName": "Daniel Gillick",
      "photoUrl": "https://lh3.googleusercontent.com/a-/AOh14Gg9DrSMlwYnG9EolecuJqe8n9m7fpcje4_UbYrhQ10=s64",
      "userId": "01872965353911650729"
     },
     "user_tz": 600
    },
    "id": "5RZMTrA0KttL",
    "outputId": "f5ec9b65-84bb-4c28-c673-cf86a87112df"
   },
   "outputs": [],
   "source": [
    "def plot_2d_embeddings(embeddings, id_start=1, count=100):\n",
    "    # Get 1st and 2nd embedding dims for the desired tokens.\n",
    "    x1 = embeddings[id_start : id_start + count, 0]\n",
    "    x2 = embeddings[id_start : id_start + count, 1]\n",
    "\n",
    "    # Get the corresponding words from the reverse index (for labeling).\n",
    "    tokens = [reverse_index[i] for i in range(id_start, id_start + count)]\n",
    "\n",
    "    # Plot with the plotly library.\n",
    "    data = plotly.Scatter(\n",
    "        x=x1,\n",
    "        y=x2,\n",
    "        text=tokens,\n",
    "        mode=\"markers\",\n",
    "        textposition=\"bottom left\",\n",
    "        hoverinfo=\"text\",\n",
    "    )\n",
    "    fig = plotly.Figure(\n",
    "        data=[data], layout=plotly.Layout(title=\"Word Embeddings\", hovermode=\"closest\")\n",
    "    )\n",
    "    fig.show()\n",
    "\n",
    "\n",
    "# Very frequent tokens tend to be more syntactic than semantic, so let's plot\n",
    "# some rarer words.\n",
    "plot_2d_embeddings(embeddings, id_start=500, count=500)"
   ]
  },
  {
   "cell_type": "markdown",
   "metadata": {
    "id": "Z3Mm8MjRcZ20"
   },
   "source": [
    "---\n",
    "### Exercise 4: Interpretting Embeddings (8 points)\n",
    "Notice that the 2-D embeddings fall in a narrow diagonal band.\n",
    "\n",
    "1. Have the learned embeddings separated positive and negative words? What is the most negative word? Does this make sense?\n",
    "2. Give 2 examples of words that seem to have surprising embedding values and try to explain their positions. For example, what's going on with the tokens '7', '8', and '9'?\n",
    "3. The embedding for 'crazy' is very close to (0,0). Explain what this means in terms of the model's output.\n",
    "4. Can you explain what you think the 2 learned embedding dimensions mean, if anything?"
   ]
  },
  {
   "cell_type": "markdown",
   "metadata": {
    "id": "x_qAAvvo2y3t"
   },
   "source": [
    "*Written answers:*\n",
    "\n",
    "1. The learned embeddings separate positive from negative words.  The most negative word is `avoid`.  That makes sense.  It is a clear and unambiguous expression of negative sentiment.\n",
    "2. Examples of words that seem to have surprising embedding values:\n",
    "   - At first glance, it seems odd that tokens `7`, `8` and `9` are positive (and especially odd that `9` has a lower positive association than `7` or `8`).  However, in connection with any ratings system, such as IMDB, those numbers are typically used to express a high rating on a ten point scale, as in, \"I rate this movie an 8.\"  \n",
    "   - I am surprised by the positive association for `today`.  It could be that people who are very enthusiastic about movies tend to reference the fact that they saw the movie 'today' and felt moved to provide a positive rating swiftly.  On the other hand, I'm not sure why someone who disliked the movie wouldn't be similarly motived to expression their then-recent dissatisfaction.  \n",
    "    - I do not understand why `write` and `effort` have modest negative connotations.  Someone can praise or criticize the writing or the apparent effort or lack thereof.  Perhaps people who tend to discusss the writing or effort usually do so in a negative sense and when they praise a movie, it is with reference to other attributes.\n",
    "3. The embedding for `crazy` at nearly (0,0) means that that word provides little to no predictive information about sentiment, that it is just as likely to be used in a positive as a negative fashion and therefor has little impact on the model's output.\n",
    "4. I think that one axis is a weight for negative sentiment and the other axis for positive sentiment.  Those two numbers are co-linear which would explain why we have a reasonably straight line.\n"
   ]
  },
  {
   "cell_type": "markdown",
   "metadata": {},
   "source": [
    "---"
   ]
  },
  {
   "cell_type": "markdown",
   "metadata": {
    "id": "IXCitmUvxfwb"
   },
   "source": [
    "## Scaling Up!\n",
    "Remember how we limited our input sequences to 20 tokens and 1000 vocabulary entries? Let's see how well we can do using more data and bigger models (more parameters)."
   ]
  },
  {
   "cell_type": "markdown",
   "metadata": {
    "id": "OKZDEGS7xzr6"
   },
   "source": [
    "### Exercise 5: Improve Results (8 points)\n",
    "Using pieces of code from above, set up and train a model that improves the validation accuracy to at least 80%. You should include the following elements:\n",
    "\n",
    "1. Truncate and pad input to the desired length.\n",
    "2. Limit vocabulary to the desired size.\n",
    "3. Set up a model using embeddings.\n",
    "4. Add an additional layer or layers (after the embeddings layer and before the output layer).\n",
    "5. Evaluate on the test data. Remember to apply the same pre-processing to the test data. You can use model.evaluate()."
   ]
  },
  {
   "cell_type": "code",
   "execution_count": 22,
   "metadata": {
    "id": "ekbJ4sIq2hID"
   },
   "outputs": [],
   "source": [
    "# Some useful constants for the scaled up model.\n",
    "\n",
    "DEFAULT_SEQUENCE_SIZE = 300\n",
    "DEFAULT_MAX_TOKEN_ID = 4512\n",
    "DEFAULT_HIDDEN_LAYERS = [4512, 2256, 1128, 564]\n",
    "DEFAULT_EMBEDDING_DIM = 5\n",
    "DEFAULT_DROPOUT_RATE = 0.6\n",
    "\n",
    "# Preprocess handles truncation, padding and vocabulary limits\n",
    "\n",
    "def preprocess(\n",
    "    train_sequences=X_train,\n",
    "    test_sequences=X_test,\n",
    "    max_length=DEFAULT_SEQUENCE_SIZE,\n",
    "    max_token_id=DEFAULT_MAX_TOKEN_ID,\n",
    "    oov_id=2,\n",
    "):\n",
    "    sequence_sets = [train_sequences, test_sequences]\n",
    "\n",
    "    result_sets = [\n",
    "        np.array(\n",
    "            list(\n",
    "                tf.keras.preprocessing.sequence.pad_sequences(\n",
    "                    sequence_set, maxlen=max_length, padding=\"post\", value=0\n",
    "                )\n",
    "            )\n",
    "        )\n",
    "        for sequence_set in sequence_sets\n",
    "    ]\n",
    "\n",
    "    for result_set in result_sets:\n",
    "        result_set[result_set >= max_token_id] = oov_id\n",
    "\n",
    "    return result_sets[0], result_sets[1]\n",
    "\n",
    "\n",
    "# Build a model according to the parameters included below.\n",
    "# The model incorporates dropout layers after the averaging layer and\n",
    "# after each successive layer prior to the output layer.\n",
    "\n",
    "\n",
    "def build_experiment_model(\n",
    "    vocab_size=DEFAULT_MAX_TOKEN_ID,\n",
    "    sequence_length=DEFAULT_SEQUENCE_SIZE,\n",
    "    hidden_layers=DEFAULT_HIDDEN_LAYERS,\n",
    "    embedding_dim=DEFAULT_EMBEDDING_DIM,\n",
    "    dropout_rate=DEFAULT_DROPOUT_RATE,\n",
    "):\n",
    "    \"\"\"Build a tf.keras model using embeddings.\"\"\"\n",
    "    # Clear session and remove randomness.\n",
    "    tf.keras.backend.clear_session()\n",
    "    tf.random.set_seed(0)\n",
    "\n",
    "    model = tf.keras.Sequential()\n",
    "    model.add(\n",
    "        tf.keras.layers.Embedding(\n",
    "            input_dim=vocab_size, output_dim=embedding_dim, input_length=sequence_length\n",
    "        )\n",
    "    )\n",
    "\n",
    "    model.add(tf.keras.layers.GlobalAveragePooling1D())\n",
    "\n",
    "    for hidden_layer in hidden_layers:\n",
    "        model.add(tf.keras.layers.Dropout(rate=dropout_rate))\n",
    "        model.add(tf.keras.layers.Dense(units=hidden_layer, activation=\"relu\"))\n",
    "\n",
    "    model.add(tf.keras.layers.Dropout(rate=0.5))\n",
    "\n",
    "    model.add(\n",
    "        tf.keras.layers.Dense(\n",
    "            units=1,  # output dim (for binary classification)\n",
    "            activation=\"sigmoid\",  # apply the sigmoid function!\n",
    "        )\n",
    "    )\n",
    "\n",
    "    model.compile(loss=\"binary_crossentropy\", optimizer=\"adam\", metrics=[\"accuracy\"])\n",
    "\n",
    "    return model\n",
    "\n",
    "# The experiment function is the main driver.  It calls the functions\n",
    "# to preprocess the data, build the model, fit the model, and report results.\n",
    "\n",
    "def experiment(\n",
    "    sequence_length=DEFAULT_SEQUENCE_SIZE,\n",
    "    vocab_size=DEFAULT_MAX_TOKEN_ID,\n",
    "    hidden_layers=DEFAULT_HIDDEN_LAYERS,\n",
    "    embedding_dim=DEFAULT_EMBEDDING_DIM,\n",
    "    dropout_rate=DEFAULT_DROPOUT_RATE,\n",
    "    epochs=5,\n",
    "    verbose=1,\n",
    "):\n",
    "\n",
    "    train_features_reduced, test_features_reduced = preprocess(\n",
    "        max_length=sequence_length, max_token_id=vocab_size,\n",
    "    )\n",
    "\n",
    "    model = build_experiment_model(\n",
    "        vocab_size=vocab_size,\n",
    "        sequence_length=sequence_length,\n",
    "        hidden_layers=hidden_layers,\n",
    "        embedding_dim=embedding_dim,\n",
    "        dropout_rate=dropout_rate,\n",
    "    )\n",
    "\n",
    "    history = model.fit(\n",
    "        x=train_features_reduced,\n",
    "        y=Y_train,\n",
    "        epochs=epochs,\n",
    "        batch_size=64,\n",
    "        validation_split=0.1,\n",
    "        verbose=verbose,\n",
    "    )\n",
    "\n",
    "    _, validation_accuracy = get_final_accuracy(history)\n",
    "    test_accuracy = model.evaluate(test_features_reduced, Y_test, verbose=0)\n",
    "\n",
    "    if verbose == 1:\n",
    "        history_report(model, history)\n",
    "\n",
    "    return model, history, validation_accuracy, test_accuracy, test_features_reduced\n"
   ]
  },
  {
   "cell_type": "code",
   "execution_count": 28,
   "metadata": {},
   "outputs": [],
   "source": [
    "expansion_1_parameters = {\n",
    "    \"vocab_size\": 3000,\n",
    "    \"sequence_length\": 300,\n",
    "    \"hidden_layers\": [3000, 1500],\n",
    "    \"embedding_dim\": 2,\n",
    "    \"dropout_rate\": 0.5,\n",
    "}\n",
    "\n",
    "expansion_2_parameters = {\n",
    "    \"vocab_size\": 6896,\n",
    "    \"sequence_length\": 685,\n",
    "    \"hidden_layers\": [6896, 3448],\n",
    "    \"embedding_dim\": 2,\n",
    "    \"dropout_rate\": .3,\n",
    "}"
   ]
  },
  {
   "cell_type": "markdown",
   "metadata": {},
   "source": [
    "Here are two scaled up models, one that achieves `87.92%` validation accuracy and a second that achieves `89.76%` capacity but which is significantly larger by parameter count.  Each model has two hidden layers.  In order to reduce overfitting, each model includes dropout layers after the averaging layer as well as after each successive layer before the output layer."
   ]
  },
  {
   "cell_type": "markdown",
   "metadata": {},
   "source": [
    "|         | sequence | vocabulary | hidden layers | dropout rate | embedding dimension | parameters |\n",
    "|---------|----------|------------|---------------|--------------|---------------------|------------:|\n",
    "| model 1 | 300      | 3000       | [3000, 1500]  | .5           | 2                   |  4,518,001 |\n",
    "| model 2 | 685      | 6996       | [6896, 3448]  | .3           | 2                   | 23,818,785 |"
   ]
  },
  {
   "cell_type": "markdown",
   "metadata": {},
   "source": [
    "|         | sequence length | vocabulary size | hidden layer units | dropout rate | embedding dimension | parameter count |\n",
    "|---------|-----------------|-----------------|--------------------|--------------|---------------------|-----------------|\n",
    "| model 1 | 300             | 3000            | [3000, 1500]       | .5           | 2                   | 4,518,001       |\n",
    "| model 2 | 685             | 6896            | [6896, 3448]       | .3           | 2                   | 23,818,785     |"
   ]
  },
  {
   "cell_type": "markdown",
   "metadata": {},
   "source": [
    "First Scaled Up Model"
   ]
  },
  {
   "cell_type": "code",
   "execution_count": 24,
   "metadata": {},
   "outputs": [
    {
     "name": "stdout",
     "output_type": "stream",
     "text": [
      "Epoch 1/5\n",
      "352/352 [==============================] - 10s 26ms/step - loss: 0.6187 - accuracy: 0.6095 - val_loss: 0.3848 - val_accuracy: 0.8424\n",
      "Epoch 2/5\n",
      "352/352 [==============================] - 9s 25ms/step - loss: 0.4360 - accuracy: 0.7680 - val_loss: 0.3247 - val_accuracy: 0.8716\n",
      "Epoch 3/5\n",
      "352/352 [==============================] - 8s 24ms/step - loss: 0.3945 - accuracy: 0.7925 - val_loss: 0.3120 - val_accuracy: 0.8704\n",
      "Epoch 4/5\n",
      "352/352 [==============================] - 9s 25ms/step - loss: 0.3844 - accuracy: 0.7976 - val_loss: 0.3028 - val_accuracy: 0.8760\n",
      "Epoch 5/5\n",
      "352/352 [==============================] - 9s 25ms/step - loss: 0.3723 - accuracy: 0.7997 - val_loss: 0.3010 - val_accuracy: 0.8792\n"
     ]
    },
    {
     "data": {
      "image/png": "[encoded data removed]",
      "text/plain": [
       "<Figure size 432x288 with 1 Axes>"
      ]
     },
     "metadata": {
      "needs_background": "light"
     },
     "output_type": "display_data"
    },
    {
     "data": {
      "image/png": "[encoded data removed]",
      "text/plain": [
       "<Figure size 432x288 with 1 Axes>"
      ]
     },
     "metadata": {
      "needs_background": "light"
     },
     "output_type": "display_data"
    },
    {
     "name": "stdout",
     "output_type": "stream",
     "text": [
      "Final training accuracy: 0.7997\n",
      "Final validation accuracy: 0.8792\n",
      "Model parameter count: 4,518,001\n"
     ]
    }
   ],
   "source": [
    "model, _, _, _, test_features_reduced = experiment(**expansion_1_parameters)"
   ]
  },
  {
   "cell_type": "code",
   "execution_count": 25,
   "metadata": {},
   "outputs": [
    {
     "name": "stdout",
     "output_type": "stream",
     "text": [
      "Model: \"sequential\"\n",
      "_________________________________________________________________\n",
      "Layer (type)                 Output Shape              Param #   \n",
      "=================================================================\n",
      "embedding (Embedding)        (None, 300, 2)            6000      \n",
      "_________________________________________________________________\n",
      "global_average_pooling1d (Gl (None, 2)                 0         \n",
      "_________________________________________________________________\n",
      "dropout (Dropout)            (None, 2)                 0         \n",
      "_________________________________________________________________\n",
      "dense (Dense)                (None, 3000)              9000      \n",
      "_________________________________________________________________\n",
      "dropout_1 (Dropout)          (None, 3000)              0         \n",
      "_________________________________________________________________\n",
      "dense_1 (Dense)              (None, 1500)              4501500   \n",
      "_________________________________________________________________\n",
      "dropout_2 (Dropout)          (None, 1500)              0         \n",
      "_________________________________________________________________\n",
      "dense_2 (Dense)              (None, 1)                 1501      \n",
      "=================================================================\n",
      "Total params: 4,518,001\n",
      "Trainable params: 4,518,001\n",
      "Non-trainable params: 0\n",
      "_________________________________________________________________\n"
     ]
    }
   ],
   "source": [
    "model.summary()"
   ]
  },
  {
   "cell_type": "code",
   "execution_count": 26,
   "metadata": {},
   "outputs": [
    {
     "name": "stdout",
     "output_type": "stream",
     "text": [
      "782/782 [==============================] - 3s 4ms/step - loss: 0.2943 - accuracy: 0.8772\n"
     ]
    },
    {
     "data": {
      "text/plain": [
       "[0.2943364679813385, 0.8772000074386597]"
      ]
     },
     "execution_count": 26,
     "metadata": {},
     "output_type": "execute_result"
    }
   ],
   "source": [
    "model.evaluate(test_features_reduced, Y_test)"
   ]
  },
  {
   "cell_type": "markdown",
   "metadata": {},
   "source": [
    "Second Scaled Up Model"
   ]
  },
  {
   "cell_type": "code",
   "execution_count": 29,
   "metadata": {},
   "outputs": [
    {
     "name": "stdout",
     "output_type": "stream",
     "text": [
      "Epoch 1/5\n",
      "352/352 [==============================] - 23s 64ms/step - loss: 0.6928 - accuracy: 0.5097 - val_loss: 0.6788 - val_accuracy: 0.6276\n",
      "Epoch 2/5\n",
      "352/352 [==============================] - 22s 64ms/step - loss: 0.4408 - accuracy: 0.7866 - val_loss: 0.3200 - val_accuracy: 0.8712\n",
      "Epoch 3/5\n",
      "352/352 [==============================] - 22s 64ms/step - loss: 0.3177 - accuracy: 0.8578 - val_loss: 0.3018 - val_accuracy: 0.8836\n",
      "Epoch 4/5\n",
      "352/352 [==============================] - 22s 64ms/step - loss: 0.2846 - accuracy: 0.8721 - val_loss: 0.2942 - val_accuracy: 0.8884\n",
      "Epoch 5/5\n",
      "352/352 [==============================] - 22s 64ms/step - loss: 0.2659 - accuracy: 0.8812 - val_loss: 0.2869 - val_accuracy: 0.8976\n"
     ]
    },
    {
     "data": {
      "image/png": "[encoded data removed]",
      "text/plain": [
       "<Figure size 432x288 with 1 Axes>"
      ]
     },
     "metadata": {
      "needs_background": "light"
     },
     "output_type": "display_data"
    },
    {
     "data": {
      "image/png": "[encoded data removed]",
      "text/plain": [
       "<Figure size 432x288 with 1 Axes>"
      ]
     },
     "metadata": {
      "needs_background": "light"
     },
     "output_type": "display_data"
    },
    {
     "name": "stdout",
     "output_type": "stream",
     "text": [
      "Final training accuracy: 0.8812\n",
      "Final validation accuracy: 0.8976\n",
      "Model parameter count: 23,818,785\n"
     ]
    }
   ],
   "source": [
    "model, _, _, _, test_features_reduced = experiment(**expansion_2_parameters)"
   ]
  },
  {
   "cell_type": "code",
   "execution_count": 30,
   "metadata": {},
   "outputs": [
    {
     "name": "stdout",
     "output_type": "stream",
     "text": [
      "Model: \"sequential\"\n",
      "_________________________________________________________________\n",
      "Layer (type)                 Output Shape              Param #   \n",
      "=================================================================\n",
      "embedding (Embedding)        (None, 685, 2)            13792     \n",
      "_________________________________________________________________\n",
      "global_average_pooling1d (Gl (None, 2)                 0         \n",
      "_________________________________________________________________\n",
      "dropout (Dropout)            (None, 2)                 0         \n",
      "_________________________________________________________________\n",
      "dense (Dense)                (None, 6896)              20688     \n",
      "_________________________________________________________________\n",
      "dropout_1 (Dropout)          (None, 6896)              0         \n",
      "_________________________________________________________________\n",
      "dense_1 (Dense)              (None, 3448)              23780856  \n",
      "_________________________________________________________________\n",
      "dropout_2 (Dropout)          (None, 3448)              0         \n",
      "_________________________________________________________________\n",
      "dense_2 (Dense)              (None, 1)                 3449      \n",
      "=================================================================\n",
      "Total params: 23,818,785\n",
      "Trainable params: 23,818,785\n",
      "Non-trainable params: 0\n",
      "_________________________________________________________________\n"
     ]
    }
   ],
   "source": [
    "model.summary()"
   ]
  },
  {
   "cell_type": "code",
   "execution_count": 31,
   "metadata": {},
   "outputs": [
    {
     "name": "stdout",
     "output_type": "stream",
     "text": [
      "782/782 [==============================] - 4s 5ms/step - loss: 0.2820 - accuracy: 0.8880\n"
     ]
    },
    {
     "data": {
      "text/plain": [
       "[0.28198572993278503, 0.8879600167274475]"
      ]
     },
     "execution_count": 31,
     "metadata": {},
     "output_type": "execute_result"
    }
   ],
   "source": [
    "model.evaluate(test_features_reduced, Y_test)"
   ]
  }
 ],
 "metadata": {
  "colab": {
   "authorship_tag": "ABX9TyMbG/uKJC3itEUb58OjZyV3",
   "name": "09 Embeddings for Text.ipynb",
   "provenance": []
  },
  "kernelspec": {
   "display_name": "Python 3 (ipykernel)",
   "language": "python",
   "name": "python3"
  },
  "language_info": {
   "codemirror_mode": {
    "name": "ipython",
    "version": 3
   },
   "file_extension": ".py",
   "mimetype": "text/x-python",
   "name": "python",
   "nbconvert_exporter": "python",
   "pygments_lexer": "ipython3",
   "version": "3.9.13"
  },
  "vscode": {
   "interpreter": {
    "hash": "35d15a1cd8dadd50efd7dc67d5d4964ef4d6df162d72ab0491992c60321de6b1"
   }
  }
 },
 "nbformat": 4,
 "nbformat_minor": 4
}
