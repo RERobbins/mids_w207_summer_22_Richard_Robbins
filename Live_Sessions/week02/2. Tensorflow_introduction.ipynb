{
 "cells": [
  {
   "cell_type": "markdown",
   "id": "exact-liverpool",
   "metadata": {},
   "source": [
    "## Week 2: TensorFlow introduction\n",
    "\n",
    "Instructor: Cornelia Ilin <br>\n",
    "Email: cilin@ischool.berkeley.edu <br>"
   ]
  },
  {
   "cell_type": "markdown",
   "id": "spiritual-aging",
   "metadata": {},
   "source": [
    "This notebook is intended to familiarize you with some basics of TensorFlow, which you'll use extensively in this course. "
   ]
  },
  {
   "cell_type": "code",
   "execution_count": 1,
   "id": "loose-mailman",
   "metadata": {},
   "outputs": [
    {
     "name": "stdout",
     "output_type": "stream",
     "text": [
      "env: TF_CPP_MIN_LOG_LEVEL=3  # silence some TensorFlow warnings and logs\n"
     ]
    }
   ],
   "source": [
    "import numpy as np\n",
    "import pandas as pd\n",
    "\n",
    "from matplotlib import pyplot as plt\n",
    "import seaborn as sns  # for nicer plots\n",
    "\n",
    "import tensorflow as tf\n",
    "from tensorflow import keras\n",
    "\n",
    "%env TF_CPP_MIN_LOG_LEVEL=3  # silence some TensorFlow warnings and logs"
   ]
  },
  {
   "cell_type": "markdown",
   "id": "accompanied-sessions",
   "metadata": {},
   "source": [
    "``Tensors``"
   ]
  },
  {
   "cell_type": "code",
   "execution_count": 2,
   "id": "pressing-estate",
   "metadata": {},
   "outputs": [
    {
     "name": "stdout",
     "output_type": "stream",
     "text": [
      "tf.Tensor([0 1 2 3 4], shape=(5,), dtype=int64)\n",
      "tf.Tensor([1. 1. 1. 1. 1.], shape=(5,), dtype=float64)\n"
     ]
    }
   ],
   "source": [
    "# Tensors are similar to numpy arrays. They're used to represent inputs and outputs of operations\n",
    "# You can create tensors from numpy arrays using the convert_to_tensor function\n",
    "\n",
    "a = np.arange(5)\n",
    "b = np.ones(5)\n",
    "\n",
    "a = tf.convert_to_tensor(a)\n",
    "b = tf.convert_to_tensor(b)\n",
    "\n",
    "print(a)\n",
    "print(b)"
   ]
  },
  {
   "cell_type": "code",
   "execution_count": 3,
   "id": "eligible-bulletin",
   "metadata": {},
   "outputs": [
    {
     "data": {
      "text/plain": [
       "<tf.Tensor: shape=(5,), dtype=int64, numpy=array([1, 2, 3, 4, 5])>"
      ]
     },
     "execution_count": 3,
     "metadata": {},
     "output_type": "execute_result"
    }
   ],
   "source": [
    "# Tensors support similar operations to numpy arrays\n",
    "# The syntax is a little different\n",
    "\n",
    "b = tf.cast(b, tf.int64)\n",
    "a + b"
   ]
  },
  {
   "cell_type": "code",
   "execution_count": 4,
   "id": "pending-graphics",
   "metadata": {},
   "outputs": [
    {
     "data": {
      "text/plain": [
       "<tf.Tensor: shape=(2, 3, 4), dtype=int64, numpy=\n",
       "array([[[ 0,  1,  2,  3],\n",
       "        [ 4,  5,  6,  7],\n",
       "        [ 8,  9, 10, 11]],\n",
       "\n",
       "       [[12, 13, 14, 15],\n",
       "        [16, 17, 18, 19],\n",
       "        [20, 21, 22, 23]]])>"
      ]
     },
     "execution_count": 4,
     "metadata": {},
     "output_type": "execute_result"
    }
   ],
   "source": [
    "a = np.arange(24)\n",
    "a = tf.convert_to_tensor(a)\n",
    "a = tf.reshape(a, [2, 3, 4])\n",
    "a"
   ]
  },
  {
   "cell_type": "code",
   "execution_count": 5,
   "id": "stopped-valentine",
   "metadata": {},
   "outputs": [
    {
     "data": {
      "text/plain": [
       "<tf.Tensor: shape=(), dtype=int64, numpy=276>"
      ]
     },
     "execution_count": 5,
     "metadata": {},
     "output_type": "execute_result"
    }
   ],
   "source": [
    "total = tf.reduce_sum(a)  # similar to numpy.sum\n",
    "total"
   ]
  },
  {
   "cell_type": "code",
   "execution_count": 6,
   "id": "blocked-rebate",
   "metadata": {},
   "outputs": [
    {
     "data": {
      "text/plain": [
       "<tf.Tensor: shape=(3, 4), dtype=int64, numpy=\n",
       "array([[ 6,  7,  8,  9],\n",
       "       [10, 11, 12, 13],\n",
       "       [14, 15, 16, 17]])>"
      ]
     },
     "execution_count": 6,
     "metadata": {},
     "output_type": "execute_result"
    }
   ],
   "source": [
    "avg = tf.reduce_mean(a, axis=0)\n",
    "avg"
   ]
  },
  {
   "cell_type": "markdown",
   "id": "convertible-destruction",
   "metadata": {},
   "source": [
    "\n",
    "Additional material (highly recommended): [Raschka & Mirjalili, Ch 13_part1](https://github.com/rasbt/python-machine-learning-book-3rd-edition/blob/master/ch13/ch13_part1.ipynb)\n",
    "\n",
    "---"
   ]
  },
  {
   "cell_type": "markdown",
   "id": "failing-reliance",
   "metadata": {},
   "source": [
    "``Models in TF``"
   ]
  },
  {
   "cell_type": "markdown",
   "id": "acceptable-destiny",
   "metadata": {},
   "source": [
    "We'll be using TensorFlow to train ML models. TensorFlow is a large and complex library, including many constantly evolving functions and APIs (Keras is one set of convenient APIs inside TensorFlow). This means you'll want to learn how to use the documentation and the high-level ideas that guide its design.\n",
    "\n",
    "The trickiest thing to understand about TensorFlow is primary way in which it differs from standard programming. In a typical program, each line of code is executed sequentially. In TensorFlow, by contrast, you first define a computation graph. The graph specifies how data flows from input to output. However, no computation actually happens until data is passed into the graph and execution begins.\n",
    "\n",
    "Here's a simple example. Don't worry about understanding the ML details. In a few weeks, you'll understand everything in the code below."
   ]
  },
  {
   "cell_type": "markdown",
   "id": "headed-helmet",
   "metadata": {},
   "source": [
    "Read data:"
   ]
  },
  {
   "cell_type": "code",
   "execution_count": 7,
   "id": "military-cheat",
   "metadata": {},
   "outputs": [
    {
     "data": {
      "text/html": [
       "<div>\n",
       "<style scoped>\n",
       "    .dataframe tbody tr th:only-of-type {\n",
       "        vertical-align: middle;\n",
       "    }\n",
       "\n",
       "    .dataframe tbody tr th {\n",
       "        vertical-align: top;\n",
       "    }\n",
       "\n",
       "    .dataframe thead th {\n",
       "        text-align: right;\n",
       "    }\n",
       "</style>\n",
       "<table border=\"1\" class=\"dataframe\">\n",
       "  <thead>\n",
       "    <tr style=\"text-align: right;\">\n",
       "      <th></th>\n",
       "      <th>age</th>\n",
       "      <th>sex</th>\n",
       "      <th>bmi</th>\n",
       "      <th>map</th>\n",
       "      <th>tc</th>\n",
       "      <th>ldl</th>\n",
       "      <th>hdl</th>\n",
       "      <th>tch</th>\n",
       "      <th>ltg</th>\n",
       "      <th>glu</th>\n",
       "      <th>disease_progression</th>\n",
       "    </tr>\n",
       "  </thead>\n",
       "  <tbody>\n",
       "    <tr>\n",
       "      <th>0</th>\n",
       "      <td>59</td>\n",
       "      <td>2</td>\n",
       "      <td>32.1</td>\n",
       "      <td>101.0</td>\n",
       "      <td>157</td>\n",
       "      <td>93.2</td>\n",
       "      <td>38.0</td>\n",
       "      <td>4.0</td>\n",
       "      <td>4.8598</td>\n",
       "      <td>87</td>\n",
       "      <td>151</td>\n",
       "    </tr>\n",
       "    <tr>\n",
       "      <th>1</th>\n",
       "      <td>48</td>\n",
       "      <td>1</td>\n",
       "      <td>21.6</td>\n",
       "      <td>87.0</td>\n",
       "      <td>183</td>\n",
       "      <td>103.2</td>\n",
       "      <td>70.0</td>\n",
       "      <td>3.0</td>\n",
       "      <td>3.8918</td>\n",
       "      <td>69</td>\n",
       "      <td>75</td>\n",
       "    </tr>\n",
       "  </tbody>\n",
       "</table>\n",
       "</div>"
      ],
      "text/plain": [
       "   age  sex   bmi    map   tc    ldl   hdl  tch     ltg  glu  \\\n",
       "0   59    2  32.1  101.0  157   93.2  38.0  4.0  4.8598   87   \n",
       "1   48    1  21.6   87.0  183  103.2  70.0  3.0  3.8918   69   \n",
       "\n",
       "   disease_progression  \n",
       "0                  151  \n",
       "1                   75  "
      ]
     },
     "execution_count": 7,
     "metadata": {},
     "output_type": "execute_result"
    }
   ],
   "source": [
    "# Note that each example (row) in this dataset describes a patient\n",
    "df = pd.read_csv(\n",
    "    'https://www4.stat.ncsu.edu/~boos/var.select/diabetes.tab.txt',\n",
    "    delimiter='\\t'\n",
    ")\n",
    "\n",
    "# rename columns\n",
    "df.columns = [\n",
    "    'age', 'sex', 'bmi', 'map',\n",
    "    'tc', 'ldl', 'hdl', 'tch',\n",
    "    'ltg', 'glu', 'disease_progression']\n",
    "\n",
    "df.head(2)"
   ]
  },
  {
   "cell_type": "markdown",
   "id": "quantitative-street",
   "metadata": {},
   "source": [
    "Summary stats:"
   ]
  },
  {
   "cell_type": "code",
   "execution_count": 8,
   "id": "oriented-decrease",
   "metadata": {},
   "outputs": [
    {
     "data": {
      "text/html": [
       "<div>\n",
       "<style scoped>\n",
       "    .dataframe tbody tr th:only-of-type {\n",
       "        vertical-align: middle;\n",
       "    }\n",
       "\n",
       "    .dataframe tbody tr th {\n",
       "        vertical-align: top;\n",
       "    }\n",
       "\n",
       "    .dataframe thead th {\n",
       "        text-align: right;\n",
       "    }\n",
       "</style>\n",
       "<table border=\"1\" class=\"dataframe\">\n",
       "  <thead>\n",
       "    <tr style=\"text-align: right;\">\n",
       "      <th></th>\n",
       "      <th>age</th>\n",
       "      <th>sex</th>\n",
       "      <th>bmi</th>\n",
       "      <th>map</th>\n",
       "      <th>tc</th>\n",
       "      <th>ldl</th>\n",
       "      <th>hdl</th>\n",
       "      <th>tch</th>\n",
       "      <th>ltg</th>\n",
       "      <th>glu</th>\n",
       "      <th>disease_progression</th>\n",
       "    </tr>\n",
       "  </thead>\n",
       "  <tbody>\n",
       "    <tr>\n",
       "      <th>count</th>\n",
       "      <td>442.000000</td>\n",
       "      <td>442.000000</td>\n",
       "      <td>442.000000</td>\n",
       "      <td>442.000000</td>\n",
       "      <td>442.000000</td>\n",
       "      <td>442.000000</td>\n",
       "      <td>442.000000</td>\n",
       "      <td>442.000000</td>\n",
       "      <td>442.000000</td>\n",
       "      <td>442.000000</td>\n",
       "      <td>442.000000</td>\n",
       "    </tr>\n",
       "    <tr>\n",
       "      <th>mean</th>\n",
       "      <td>48.518100</td>\n",
       "      <td>1.468326</td>\n",
       "      <td>26.375792</td>\n",
       "      <td>94.647014</td>\n",
       "      <td>189.140271</td>\n",
       "      <td>115.439140</td>\n",
       "      <td>49.788462</td>\n",
       "      <td>4.070249</td>\n",
       "      <td>4.641411</td>\n",
       "      <td>91.260181</td>\n",
       "      <td>152.133484</td>\n",
       "    </tr>\n",
       "    <tr>\n",
       "      <th>std</th>\n",
       "      <td>13.109028</td>\n",
       "      <td>0.499561</td>\n",
       "      <td>4.418122</td>\n",
       "      <td>13.831283</td>\n",
       "      <td>34.608052</td>\n",
       "      <td>30.413081</td>\n",
       "      <td>12.934202</td>\n",
       "      <td>1.290450</td>\n",
       "      <td>0.522391</td>\n",
       "      <td>11.496335</td>\n",
       "      <td>77.093005</td>\n",
       "    </tr>\n",
       "    <tr>\n",
       "      <th>min</th>\n",
       "      <td>19.000000</td>\n",
       "      <td>1.000000</td>\n",
       "      <td>18.000000</td>\n",
       "      <td>62.000000</td>\n",
       "      <td>97.000000</td>\n",
       "      <td>41.600000</td>\n",
       "      <td>22.000000</td>\n",
       "      <td>2.000000</td>\n",
       "      <td>3.258100</td>\n",
       "      <td>58.000000</td>\n",
       "      <td>25.000000</td>\n",
       "    </tr>\n",
       "    <tr>\n",
       "      <th>25%</th>\n",
       "      <td>38.250000</td>\n",
       "      <td>1.000000</td>\n",
       "      <td>23.200000</td>\n",
       "      <td>84.000000</td>\n",
       "      <td>164.250000</td>\n",
       "      <td>96.050000</td>\n",
       "      <td>40.250000</td>\n",
       "      <td>3.000000</td>\n",
       "      <td>4.276700</td>\n",
       "      <td>83.250000</td>\n",
       "      <td>87.000000</td>\n",
       "    </tr>\n",
       "    <tr>\n",
       "      <th>50%</th>\n",
       "      <td>50.000000</td>\n",
       "      <td>1.000000</td>\n",
       "      <td>25.700000</td>\n",
       "      <td>93.000000</td>\n",
       "      <td>186.000000</td>\n",
       "      <td>113.000000</td>\n",
       "      <td>48.000000</td>\n",
       "      <td>4.000000</td>\n",
       "      <td>4.620050</td>\n",
       "      <td>91.000000</td>\n",
       "      <td>140.500000</td>\n",
       "    </tr>\n",
       "    <tr>\n",
       "      <th>75%</th>\n",
       "      <td>59.000000</td>\n",
       "      <td>2.000000</td>\n",
       "      <td>29.275000</td>\n",
       "      <td>105.000000</td>\n",
       "      <td>209.750000</td>\n",
       "      <td>134.500000</td>\n",
       "      <td>57.750000</td>\n",
       "      <td>5.000000</td>\n",
       "      <td>4.997200</td>\n",
       "      <td>98.000000</td>\n",
       "      <td>211.500000</td>\n",
       "    </tr>\n",
       "    <tr>\n",
       "      <th>max</th>\n",
       "      <td>79.000000</td>\n",
       "      <td>2.000000</td>\n",
       "      <td>42.200000</td>\n",
       "      <td>133.000000</td>\n",
       "      <td>301.000000</td>\n",
       "      <td>242.400000</td>\n",
       "      <td>99.000000</td>\n",
       "      <td>9.090000</td>\n",
       "      <td>6.107000</td>\n",
       "      <td>124.000000</td>\n",
       "      <td>346.000000</td>\n",
       "    </tr>\n",
       "  </tbody>\n",
       "</table>\n",
       "</div>"
      ],
      "text/plain": [
       "              age         sex         bmi         map          tc         ldl  \\\n",
       "count  442.000000  442.000000  442.000000  442.000000  442.000000  442.000000   \n",
       "mean    48.518100    1.468326   26.375792   94.647014  189.140271  115.439140   \n",
       "std     13.109028    0.499561    4.418122   13.831283   34.608052   30.413081   \n",
       "min     19.000000    1.000000   18.000000   62.000000   97.000000   41.600000   \n",
       "25%     38.250000    1.000000   23.200000   84.000000  164.250000   96.050000   \n",
       "50%     50.000000    1.000000   25.700000   93.000000  186.000000  113.000000   \n",
       "75%     59.000000    2.000000   29.275000  105.000000  209.750000  134.500000   \n",
       "max     79.000000    2.000000   42.200000  133.000000  301.000000  242.400000   \n",
       "\n",
       "              hdl         tch         ltg         glu  disease_progression  \n",
       "count  442.000000  442.000000  442.000000  442.000000           442.000000  \n",
       "mean    49.788462    4.070249    4.641411   91.260181           152.133484  \n",
       "std     12.934202    1.290450    0.522391   11.496335            77.093005  \n",
       "min     22.000000    2.000000    3.258100   58.000000            25.000000  \n",
       "25%     40.250000    3.000000    4.276700   83.250000            87.000000  \n",
       "50%     48.000000    4.000000    4.620050   91.000000           140.500000  \n",
       "75%     57.750000    5.000000    4.997200   98.000000           211.500000  \n",
       "max     99.000000    9.090000    6.107000  124.000000           346.000000  "
      ]
     },
     "execution_count": 8,
     "metadata": {},
     "output_type": "execute_result"
    }
   ],
   "source": [
    "# show summary statistics for the data\n",
    "df.describe()"
   ]
  },
  {
   "cell_type": "code",
   "execution_count": 9,
   "id": "important-dodge",
   "metadata": {},
   "outputs": [
    {
     "data": {
      "text/plain": [
       "Text(0.5, 1.0, 'Patient BMI')"
      ]
     },
     "execution_count": 9,
     "metadata": {},
     "output_type": "execute_result"
    },
    {
     "data": {
      "image/png": "[encoded data removed]",
      "text/plain": [
       "<Figure size 432x288 with 1 Axes>"
      ]
     },
     "metadata": {
      "needs_background": "light"
     },
     "output_type": "display_data"
    }
   ],
   "source": [
    "# plot a histogram of the BMI\n",
    "plt.hist(df['bmi'], bins=50)\n",
    "plt.title('Patient BMI')"
   ]
  },
  {
   "cell_type": "markdown",
   "id": "capital-dispatch",
   "metadata": {},
   "source": [
    "Create X and Y arrays:"
   ]
  },
  {
   "cell_type": "code",
   "execution_count": 10,
   "id": "middle-tablet",
   "metadata": {},
   "outputs": [],
   "source": [
    "# column names to use as input features.\n",
    "features = ['age', 'sex', 'bmi', 'map',\n",
    "    'tc', 'ldl', 'hdl', 'tch',\n",
    "    'ltg', 'glu']\n",
    "\n",
    "# Apply log transforms to input features and output values.\n",
    "X = df[features]\n",
    "Y = df['disease_progression']"
   ]
  },
  {
   "cell_type": "markdown",
   "id": "mounted-salon",
   "metadata": {},
   "source": [
    "Define and compile model:"
   ]
  },
  {
   "cell_type": "code",
   "execution_count": 11,
   "id": "threatened-tuition",
   "metadata": {},
   "outputs": [],
   "source": [
    "def build_model(num_features):\n",
    "    \"\"\"Return a simple linear regression model using the Keras Sequential API.\"\"\"\n",
    "  # Clear session and set a random seed for consistent behavior.\n",
    "    tf.keras.backend.clear_session()\n",
    "    tf.random.set_seed(0)\n",
    "\n",
    "  # Use Keras Sequential API to build a linear regression model.\n",
    "    model = keras.Sequential()\n",
    "    model.add(keras.layers.Dense(\n",
    "      input_shape=[num_features], # each input has num_features features\n",
    "      units=1,                    # there is a single output\n",
    "      use_bias=True              # include a learned bias parameter\n",
    "      ))\n",
    "  \n",
    "  # Use mean squared error as our loss and the Adam optimizer.\n",
    "    model.compile(loss='mse', optimizer='Adam')\n",
    "    return model\n",
    "\n",
    "# Build a model\n",
    "model = build_model(num_features=len(features))"
   ]
  },
  {
   "cell_type": "markdown",
   "id": "welcome-comment",
   "metadata": {},
   "source": [
    "Train model:"
   ]
  },
  {
   "cell_type": "code",
   "execution_count": 12,
   "id": "expired-defensive",
   "metadata": {},
   "outputs": [
    {
     "name": "stdout",
     "output_type": "stream",
     "text": [
      "Epoch 1/10\n",
      "34/34 [==============================] - 0s 4ms/step - loss: 33466.2461 - val_loss: 29536.9102\n",
      "Epoch 2/10\n",
      "34/34 [==============================] - 0s 1ms/step - loss: 27089.1191 - val_loss: 23751.9922\n",
      "Epoch 3/10\n",
      "34/34 [==============================] - 0s 1ms/step - loss: 21836.4004 - val_loss: 19042.9004\n",
      "Epoch 4/10\n",
      "34/34 [==============================] - 0s 1ms/step - loss: 17668.0566 - val_loss: 15372.5205\n",
      "Epoch 5/10\n",
      "34/34 [==============================] - 0s 1ms/step - loss: 14366.9824 - val_loss: 12557.8135\n",
      "Epoch 6/10\n",
      "34/34 [==============================] - 0s 1ms/step - loss: 11904.7422 - val_loss: 10461.1094\n",
      "Epoch 7/10\n",
      "34/34 [==============================] - 0s 1ms/step - loss: 9990.5850 - val_loss: 8926.9932\n",
      "Epoch 8/10\n",
      "34/34 [==============================] - 0s 1ms/step - loss: 8647.5625 - val_loss: 7841.4180\n",
      "Epoch 9/10\n",
      "34/34 [==============================] - 0s 1ms/step - loss: 7665.1953 - val_loss: 7097.4375\n",
      "Epoch 10/10\n",
      "34/34 [==============================] - 0s 1ms/step - loss: 7004.3350 - val_loss: 6599.0557\n"
     ]
    }
   ],
   "source": [
    "# Train model. Hold out 10% of data for validation/test\n",
    "history = model.fit(x=X, y=Y,\n",
    "          validation_split=0.1, batch_size=12, epochs=10)"
   ]
  },
  {
   "cell_type": "code",
   "execution_count": 13,
   "id": "promotional-photography",
   "metadata": {},
   "outputs": [],
   "source": [
    "def plot_loss(history):\n",
    "    plt.plot(history.history['loss'], label='loss')\n",
    "    plt.plot(history.history['val_loss'], label='test loss') # val_loss is the validation/test data\n",
    "    plt.xlabel('Epoch')\n",
    "    plt.ylabel('MSE (\"BMI\")')\n",
    "    plt.legend()\n",
    "    plt.grid(True)"
   ]
  },
  {
   "cell_type": "code",
   "execution_count": 14,
   "id": "pursuant-stations",
   "metadata": {},
   "outputs": [
    {
     "data": {
      "image/png": "[encoded data removed]",
      "text/plain": [
       "<Figure size 432x288 with 1 Axes>"
      ]
     },
     "metadata": {
      "needs_background": "light"
     },
     "output_type": "display_data"
    }
   ],
   "source": [
    "plot_loss(history)"
   ]
  },
  {
   "cell_type": "markdown",
   "id": "through-female",
   "metadata": {},
   "source": [
    "Predict"
   ]
  },
  {
   "cell_type": "code",
   "execution_count": 15,
   "id": "sacred-singer",
   "metadata": {},
   "outputs": [
    {
     "data": {
      "text/plain": [
       "array([104.50249 , 118.68141 , 101.80789 , 131.14143 , 133.42595 ,\n",
       "        88.17019 , 107.17366 , 182.11844 , 117.25353 , 104.805565],\n",
       "      dtype=float32)"
      ]
     },
     "execution_count": 15,
     "metadata": {},
     "output_type": "execute_result"
    }
   ],
   "source": [
    "# Run the untrained model on the first 10 'BMI' values\n",
    "Y_pred = model.predict(x=X[:10]).flatten()\n",
    "Y_pred"
   ]
  },
  {
   "cell_type": "code",
   "execution_count": 16,
   "id": "forced-dialogue",
   "metadata": {},
   "outputs": [
    {
     "data": {
      "text/plain": [
       "0    151\n",
       "1     75\n",
       "2    141\n",
       "3    206\n",
       "4    135\n",
       "5     97\n",
       "6    138\n",
       "7     63\n",
       "8    110\n",
       "9    310\n",
       "Name: disease_progression, dtype: int64"
      ]
     },
     "execution_count": 16,
     "metadata": {},
     "output_type": "execute_result"
    }
   ],
   "source": [
    "# compare with the actual value for the first 10 'BMI' values\n",
    "Y[:10]"
   ]
  },
  {
   "cell_type": "markdown",
   "id": "sixth-nitrogen",
   "metadata": {},
   "source": [
    "\n",
    "Check here another example (highly recommended): https://www.tensorflow.org/tutorials/keras/regression\n",
    "\n",
    "---"
   ]
  }
 ],
 "metadata": {
  "kernelspec": {
   "display_name": "Python 3",
   "language": "python",
   "name": "python3"
  },
  "language_info": {
   "codemirror_mode": {
    "name": "ipython",
    "version": 3
   },
   "file_extension": ".py",
   "mimetype": "text/x-python",
   "name": "python",
   "nbconvert_exporter": "python",
   "pygments_lexer": "ipython3",
   "version": "3.8.3"
  }
 },
 "nbformat": 4,
 "nbformat_minor": 5
}
