{
 "cells": [
  {
   "cell_type": "markdown",
   "metadata": {},
   "source": [
    "## Week 3: Linear Regression - part II\n",
    "\n",
    "Instructor: Cornelia Ilin <br>\n",
    "Email: cilin@ischool.berkeley.edu <br>"
   ]
  },
  {
   "cell_type": "markdown",
   "metadata": {},
   "source": [
    "---\n",
    "#### ``Objectives:``\n",
    "1.  you will use a real dataset to **predict COVID-19 growth rates of cumulative cases** during the first wave of the pandemic<br>\n",
    "2. work with panel data (contains geospatial and time information) <br>\n",
    "3. perform outcome and feature engineering:\n",
    "    - create outcome from exisiting data: i.e., define growth rates of COVID-19 cumulative cases <br>\n",
    "    - create new features from existing data: categorical (one-hot encodings) and continous (rolling averages of human mobility) <br>\n",
    "    - visualize distributions and correlations of features and outcome\n",
    "4. perform non-random split between training and test data (remember the data has a time dimension!) <br>\n",
    "5. train a **baseline** and a **mobility** model using: <br>\n",
    "    - a closed-form solution for linear regression using statsmodels, and\n",
    "    - an interative solution (gradient descent) using Tensorflow\n",
    "6. evaluate and plot the performance of the two models"
   ]
  },
  {
   "cell_type": "markdown",
   "metadata": {},
   "source": [
    "---\n",
    "#### ``Data:``"
   ]
  },
  {
   "cell_type": "markdown",
   "metadata": {},
   "source": [
    "The data is at the country-day level (panel) and provides information on:\n",
    "* COVID-19 cumulative case numbers\n",
    "* Google residential mobility\n",
    "\n",
    "\n",
    "The data is publically available here:\n",
    " - Covid-19 cumulative cases: https://www.arcgis.com/apps/opsdashboard/index.html#/bda7594740fd40299423467b48e9ecf6 \n",
    " - Residential mobility: https://www.google.com/covid19/mobility/data_documentation.html\n",
    "\n",
    "But to make it easier for you, we combined these data sources in the``03 Features.csv`` file. \n",
    "\n",
    "**Data dictionary**:\n",
    "\n",
    "* adm0_name: administrative region 0 (i.e., country name)\n",
    "* date: date of COVID-19 cumulative cases and mobility data\n",
    "* day_of_week: day of week in date (Monday=0, etc...)\n",
    "* cum_cases: cumulative number of COVID-19 cases at a given point in time\n",
    "* mob_resid: percentage change in residential mobility compared to a baseline period. This baseline is defined as the median value for the corresponding day of the week, during the 5-week period Jan 3–Feb 6, 2020; see [here](https://www.google.com/covid19/mobility/data_documentation.html) for more information"
   ]
  },
  {
   "cell_type": "markdown",
   "metadata": {},
   "source": [
    "---\n",
    "### Step 1: Import packages"
   ]
  },
  {
   "cell_type": "code",
   "execution_count": 1,
   "metadata": {},
   "outputs": [],
   "source": [
    "import pandas as pd\n",
    "import numpy as np\n",
    "\n",
    "# data preprocessing\n",
    "from sklearn import preprocessing\n",
    "\n",
    "# exploratory analysis\n",
    "import matplotlib.pyplot as plt\n",
    "import mlxtend\n",
    "from mlxtend.plotting import scatterplotmatrix\n",
    "from mlxtend.plotting import heatmap\n",
    "import seaborn as sns\n",
    "\n",
    "# model fit\n",
    "import statsmodels.api as sm\n",
    "import tensorflow as tf\n",
    "\n",
    "# ignore warnings (libraries are rapidly changing)\n",
    "import warnings\n",
    "warnings.filterwarnings('ignore')"
   ]
  },
  {
   "cell_type": "markdown",
   "metadata": {},
   "source": [
    "### Step 2: Define functions"
   ]
  },
  {
   "cell_type": "markdown",
   "metadata": {},
   "source": [
    "``plots``"
   ]
  },
  {
   "cell_type": "code",
   "execution_count": 2,
   "metadata": {},
   "outputs": [],
   "source": [
    "def pct_error_plot(df_b, df_m, plot_type, solution):\n",
    "    \"\"\" Plot relationship between (forecast length, training length) and pct_error\n",
    "    \n",
    "    params:\n",
    "    -------\n",
    "    df_b: df, predictions using test data for baseline model\n",
    "    df_m: df, predictions using test data for mobility model\n",
    "    plot_type: str, you can choose between 'violin', 'box'\n",
    "    solution: str, 'closed_form' or 'tf'\n",
    "    \n",
    "    return:\n",
    "    -------\n",
    "    plot\n",
    "    \"\"\"\n",
    "\n",
    "    if solution=='closed_form':\n",
    "        # add test predictions from both models, baseline and mobility\n",
    "        df_b['model'] = 'baseline'\n",
    "        df_m['model'] = \"mobility\"\n",
    "\n",
    "        df = pd.concat(\n",
    "            [df_b, df_m],\n",
    "            axis=0\n",
    "        )\n",
    "    \n",
    "    if solution=='tf':\n",
    "        # keep only test test predictions for baseline model\n",
    "        df = df_b\n",
    "    \n",
    "    # add length of forecast (in days) variable\n",
    "    df['pred_day'] = df.groupby(\n",
    "        ['adm0_name', 'model'],\n",
    "        as_index = False)['date'].cumcount() #we have 10 days in forecast (test), this will start count at 0\n",
    "    \n",
    "    df['pred_day'] = df['pred_day'] + 1 #starts count at one now\n",
    "    \n",
    "    # initialize new figure\n",
    "    sns.set(rc={'figure.figsize':(5,5)})\n",
    "    \n",
    "    \n",
    "    # plot axes\n",
    "    ax = sns.catplot(\n",
    "        x='pred_day',\n",
    "        y='pct_error',\n",
    "        hue='model',\n",
    "        data=df,\n",
    "        kind=plot_type,\n",
    "        palette='muted',\n",
    "        legend=False\n",
    "    )\n",
    "    \n",
    "    # set figure size\n",
    "    ax.fig.set_figwidth(10)\n",
    "    ax.fig.set_figheight(6)\n",
    "\n",
    "    # set title, axes\n",
    "    plt.title(\n",
    "        'Percentage error in predicted number of cases at the country level \\n train_length = 20 days',\n",
    "        fontsize = 16\n",
    "    )\n",
    "    \n",
    "    plt.ylabel('pct_error')\n",
    "    plt.xlabel('length of forecast (days)')\n",
    "    \n",
    "    if solution=='baseline':\n",
    "        ax.set(ylim=(-75, 75))\n",
    "    \n",
    "    # add vertical line at y=0\n",
    "    plt.axhline(y=0, linestyle='--', color='black', linewidth=1)\n",
    "    \n",
    "    # set legend\n",
    "    legend = plt.legend(\n",
    "        loc='upper center',\n",
    "        bbox_to_anchor=(0.5, -0.15),\n",
    "        fancybox=True,\n",
    "        shadow=True,\n",
    "        ncol=10,\n",
    "        prop={'size': 10}\n",
    "    )\n",
    "    \n",
    "    return df"
   ]
  },
  {
   "cell_type": "markdown",
   "metadata": {},
   "source": [
    "---\n",
    "### Step 3: Read data\n",
    "---"
   ]
  },
  {
   "cell_type": "code",
   "execution_count": 3,
   "metadata": {},
   "outputs": [
    {
     "name": "stdout",
     "output_type": "stream",
     "text": [
      "Shape of data:  (19552, 5)\n",
      "Number of counties:  188\n",
      "Time period covered: 2020-02-16 to 2020-05-29\n"
     ]
    },
    {
     "data": {
      "text/html": [
       "<div>\n",
       "<style scoped>\n",
       "    .dataframe tbody tr th:only-of-type {\n",
       "        vertical-align: middle;\n",
       "    }\n",
       "\n",
       "    .dataframe tbody tr th {\n",
       "        vertical-align: top;\n",
       "    }\n",
       "\n",
       "    .dataframe thead th {\n",
       "        text-align: right;\n",
       "    }\n",
       "</style>\n",
       "<table border=\"1\" class=\"dataframe\">\n",
       "  <thead>\n",
       "    <tr style=\"text-align: right;\">\n",
       "      <th></th>\n",
       "      <th>adm0_name</th>\n",
       "      <th>date</th>\n",
       "      <th>day_of_week</th>\n",
       "      <th>cum_cases</th>\n",
       "      <th>mob_resid</th>\n",
       "    </tr>\n",
       "  </thead>\n",
       "  <tbody>\n",
       "    <tr>\n",
       "      <th>0</th>\n",
       "      <td>Afghanistan</td>\n",
       "      <td>2020-02-16</td>\n",
       "      <td>6</td>\n",
       "      <td>0</td>\n",
       "      <td>0.0</td>\n",
       "    </tr>\n",
       "    <tr>\n",
       "      <th>1</th>\n",
       "      <td>Afghanistan</td>\n",
       "      <td>2020-02-17</td>\n",
       "      <td>0</td>\n",
       "      <td>0</td>\n",
       "      <td>-1.0</td>\n",
       "    </tr>\n",
       "  </tbody>\n",
       "</table>\n",
       "</div>"
      ],
      "text/plain": [
       "     adm0_name        date  day_of_week  cum_cases  mob_resid\n",
       "0  Afghanistan  2020-02-16            6          0        0.0\n",
       "1  Afghanistan  2020-02-17            0          0       -1.0"
      ]
     },
     "execution_count": 3,
     "metadata": {},
     "output_type": "execute_result"
    }
   ],
   "source": [
    "# read data (03 Features.csv)\n",
    "url='https://drive.google.com/file/d/1yaF8ImJ2h64CedkKDq56P6iQmJAsZQJW/view?usp=sharing'\n",
    "url='https://drive.google.com/uc?id=' + url.split('/')[-2]\n",
    "\n",
    "init_df = pd.read_csv(url)\n",
    "\n",
    "\n",
    "# print shape of df, number of countries, and time period covered\n",
    "print(\n",
    "    'Shape of data: ',\n",
    "    init_df.shape\n",
    ")\n",
    "\n",
    "print(\n",
    "    'Number of counties: ',\n",
    "    len(init_df.adm0_name.unique())\n",
    ")\n",
    "\n",
    "print(\n",
    "    'Time period covered:',\n",
    "    init_df.date.min(), 'to',\n",
    "    init_df.date.max()\n",
    ")\n",
    "init_df.head(2)"
   ]
  },
  {
   "cell_type": "markdown",
   "metadata": {},
   "source": [
    "Our data contains information on COVID-19 cumulative cases and residential mobility for 188 counties in the world. The time period is between 2020-02-16 and 2020-05-29 (this corresponds with the first wave of the pandemic).\n",
    "\n",
    "Because not all countries began testing for COVID-19 on the same date, these samples are unbalanced panels.\n",
    "\n",
    "There are not too many features to choose from (see shape of data) but you can create additional ones using the exisiting data (we will do this in the Data preprocessing step below)."
   ]
  },
  {
   "cell_type": "markdown",
   "metadata": {},
   "source": [
    "---\n",
    "### Step 4: Data preprocessing\n",
    "---"
   ]
  },
  {
   "cell_type": "markdown",
   "metadata": {},
   "source": [
    "The quality of the data and the time we put into preprocessing it are very good determinants of how well our machine learning algorithm can learn. In the next subsections we will implement essential data preprocessing steps. Note that there are general rules on where one should start but keep in mind that this step often requires knowledge of the domain of study."
   ]
  },
  {
   "cell_type": "markdown",
   "metadata": {},
   "source": [
    "##### ``Step 4.1. Create outcome variable``"
   ]
  },
  {
   "cell_type": "markdown",
   "metadata": {},
   "source": [
    "We are interested to predict the **growth rate of COVID-19 cumulative cases**. This is going to be our outcome variable (denote it 'D_ln_cum_cases'). It's defined as follows:\n",
    "\n",
    "$D\\_ln\\_cum\\_cases = \\frac{cum\\_cases_{t+1} - cum\\_cases_{t}}{cum\\_cases_{t}} = ln(\\frac{cum\\_cases_{t+1}}{cum\\_cases_{t}}) = ln(cum\\_cases_{t+1}) - ln(cum\\_cases_{t})$"
   ]
  },
  {
   "cell_type": "code",
   "execution_count": 4,
   "metadata": {},
   "outputs": [
    {
     "data": {
      "text/html": [
       "<div>\n",
       "<style scoped>\n",
       "    .dataframe tbody tr th:only-of-type {\n",
       "        vertical-align: middle;\n",
       "    }\n",
       "\n",
       "    .dataframe tbody tr th {\n",
       "        vertical-align: top;\n",
       "    }\n",
       "\n",
       "    .dataframe thead th {\n",
       "        text-align: right;\n",
       "    }\n",
       "</style>\n",
       "<table border=\"1\" class=\"dataframe\">\n",
       "  <thead>\n",
       "    <tr style=\"text-align: right;\">\n",
       "      <th></th>\n",
       "      <th>adm0_name</th>\n",
       "      <th>date</th>\n",
       "      <th>day_of_week</th>\n",
       "      <th>cum_cases</th>\n",
       "      <th>mob_resid</th>\n",
       "      <th>ln_cum_cases</th>\n",
       "      <th>D_ln_cum_cases</th>\n",
       "    </tr>\n",
       "  </thead>\n",
       "  <tbody>\n",
       "    <tr>\n",
       "      <th>0</th>\n",
       "      <td>Afghanistan</td>\n",
       "      <td>2020-02-16</td>\n",
       "      <td>6</td>\n",
       "      <td>0</td>\n",
       "      <td>0.0</td>\n",
       "      <td>-inf</td>\n",
       "      <td>NaN</td>\n",
       "    </tr>\n",
       "    <tr>\n",
       "      <th>1</th>\n",
       "      <td>Afghanistan</td>\n",
       "      <td>2020-02-17</td>\n",
       "      <td>0</td>\n",
       "      <td>0</td>\n",
       "      <td>-1.0</td>\n",
       "      <td>-inf</td>\n",
       "      <td>NaN</td>\n",
       "    </tr>\n",
       "    <tr>\n",
       "      <th>2</th>\n",
       "      <td>Afghanistan</td>\n",
       "      <td>2020-02-18</td>\n",
       "      <td>1</td>\n",
       "      <td>0</td>\n",
       "      <td>-1.0</td>\n",
       "      <td>-inf</td>\n",
       "      <td>NaN</td>\n",
       "    </tr>\n",
       "    <tr>\n",
       "      <th>3</th>\n",
       "      <td>Afghanistan</td>\n",
       "      <td>2020-02-19</td>\n",
       "      <td>2</td>\n",
       "      <td>0</td>\n",
       "      <td>1.0</td>\n",
       "      <td>-inf</td>\n",
       "      <td>NaN</td>\n",
       "    </tr>\n",
       "    <tr>\n",
       "      <th>4</th>\n",
       "      <td>Afghanistan</td>\n",
       "      <td>2020-02-20</td>\n",
       "      <td>3</td>\n",
       "      <td>0</td>\n",
       "      <td>1.0</td>\n",
       "      <td>-inf</td>\n",
       "      <td>NaN</td>\n",
       "    </tr>\n",
       "  </tbody>\n",
       "</table>\n",
       "</div>"
      ],
      "text/plain": [
       "     adm0_name        date  day_of_week  cum_cases  mob_resid  ln_cum_cases  \\\n",
       "0  Afghanistan  2020-02-16            6          0        0.0          -inf   \n",
       "1  Afghanistan  2020-02-17            0          0       -1.0          -inf   \n",
       "2  Afghanistan  2020-02-18            1          0       -1.0          -inf   \n",
       "3  Afghanistan  2020-02-19            2          0        1.0          -inf   \n",
       "4  Afghanistan  2020-02-20            3          0        1.0          -inf   \n",
       "\n",
       "   D_ln_cum_cases  \n",
       "0             NaN  \n",
       "1             NaN  \n",
       "2             NaN  \n",
       "3             NaN  \n",
       "4             NaN  "
      ]
     },
     "execution_count": 4,
     "metadata": {},
     "output_type": "execute_result"
    }
   ],
   "source": [
    "## define outcome variable ##\n",
    "#############################\n",
    "\n",
    "# define log of cum_cases\n",
    "init_df['ln_cum_cases'] = np.log(\n",
    "    init_df.cum_cases\n",
    ")\n",
    "    \n",
    "# one period difference of log of cum_cases (remember that we need to do this for each country separately! groupby is esential here)\n",
    "init_df['D_ln_cum_cases'] = init_df.groupby(\n",
    "    ['adm0_name']\n",
    ")['ln_cum_cases'].diff()\n",
    "\n",
    "init_df.head()"
   ]
  },
  {
   "cell_type": "markdown",
   "metadata": {},
   "source": [
    "##### ``Step 4.2: Drop features``"
   ]
  },
  {
   "cell_type": "markdown",
   "metadata": {},
   "source": [
    "For ease of visualization let's keep only columns related to country, date, COVID-19 cumulative cases and associated growth rates, and residential mobility."
   ]
  },
  {
   "cell_type": "code",
   "execution_count": 5,
   "metadata": {},
   "outputs": [
    {
     "data": {
      "text/html": [
       "<div>\n",
       "<style scoped>\n",
       "    .dataframe tbody tr th:only-of-type {\n",
       "        vertical-align: middle;\n",
       "    }\n",
       "\n",
       "    .dataframe tbody tr th {\n",
       "        vertical-align: top;\n",
       "    }\n",
       "\n",
       "    .dataframe thead th {\n",
       "        text-align: right;\n",
       "    }\n",
       "</style>\n",
       "<table border=\"1\" class=\"dataframe\">\n",
       "  <thead>\n",
       "    <tr style=\"text-align: right;\">\n",
       "      <th></th>\n",
       "      <th>adm0_name</th>\n",
       "      <th>date</th>\n",
       "      <th>day_of_week</th>\n",
       "      <th>cum_cases</th>\n",
       "      <th>D_ln_cum_cases</th>\n",
       "      <th>mob_resid</th>\n",
       "    </tr>\n",
       "  </thead>\n",
       "  <tbody>\n",
       "    <tr>\n",
       "      <th>0</th>\n",
       "      <td>Afghanistan</td>\n",
       "      <td>2020-02-16</td>\n",
       "      <td>6</td>\n",
       "      <td>0</td>\n",
       "      <td>NaN</td>\n",
       "      <td>0.0</td>\n",
       "    </tr>\n",
       "    <tr>\n",
       "      <th>1</th>\n",
       "      <td>Afghanistan</td>\n",
       "      <td>2020-02-17</td>\n",
       "      <td>0</td>\n",
       "      <td>0</td>\n",
       "      <td>NaN</td>\n",
       "      <td>-1.0</td>\n",
       "    </tr>\n",
       "  </tbody>\n",
       "</table>\n",
       "</div>"
      ],
      "text/plain": [
       "     adm0_name        date  day_of_week  cum_cases  D_ln_cum_cases  mob_resid\n",
       "0  Afghanistan  2020-02-16            6          0             NaN        0.0\n",
       "1  Afghanistan  2020-02-17            0          0             NaN       -1.0"
      ]
     },
     "execution_count": 5,
     "metadata": {},
     "output_type": "execute_result"
    }
   ],
   "source": [
    "cols = [\n",
    "    'adm0_name', 'date', 'day_of_week',\n",
    "    'cum_cases', 'D_ln_cum_cases', 'mob_resid'\n",
    "]\n",
    "init_df = init_df[cols]  \n",
    "init_df.head(2)"
   ]
  },
  {
   "cell_type": "markdown",
   "metadata": {},
   "source": [
    "##### ``Step 4.3. Add features``"
   ]
  },
  {
   "cell_type": "markdown",
   "metadata": {},
   "source": [
    "Here we will create additional features using existing data. \n",
    "\n",
    "For example, in addition to a **baseline** model we will also fit a **mobility** model. The later will include mobility features. It's likely that residential mobility today (mob_resid, this is what we currently have in the data) and the growth rate of COVID-19 cases are weekly correlated (think how the virus spreads: it takes time to see any effects on cases as a result of more people staying at home). Creating features that show how changes in rolling avarages of mobility 1,2,3 weeks ago affect the growth rate of cases today is instead more informative. \n",
    "\n",
    "One-hot-encodings (a.k.a. dummies or fixed effects in your Stats class) are other useful features that one can create using existing data. We can use them to specify what kind of variation in the data we would like to explore. A fixed effect for country and a fixed effect for day of the week will account for differences across countries and differences across days of the week within a given country (e.g. US vs. Afganistan, and Monday vs. Saturday in Afganistan). "
   ]
  },
  {
   "cell_type": "code",
   "execution_count": 6,
   "metadata": {},
   "outputs": [],
   "source": [
    "## create lagged mobility variables ##\n",
    "######################################\n",
    "\n",
    "# define L0 mob vars\n",
    "L0_vars = ['mob_resid']\n",
    "\n",
    "# define 1 to 21 days\n",
    "days = np.arange(1,22, 1)\n",
    "\n",
    "# define lagged mob variable names for 1 to 21 days\n",
    "L_vars = []\n",
    "for day in days:\n",
    "    L_vars.append('L'+str(day)+'_mob_resid')\n",
    "\n",
    "# create lag variables and add to initial df\n",
    "for i, var in enumerate(L_vars):\n",
    "    init_df[L_vars[i]] = init_df.groupby(\n",
    "        ['adm0_name']\n",
    ")[L0_vars[0]].shift(i+1)"
   ]
  },
  {
   "cell_type": "code",
   "execution_count": 7,
   "metadata": {},
   "outputs": [],
   "source": [
    "## create rolling averages of mobility variables ##\n",
    "###################################################\n",
    "# roling averages for mobility 1,2,and 3 weeks ago\n",
    "rol_mob_resid = ['mob_L1to7', 'mob_L8to14', 'mob_L15to21']\n",
    "\n",
    "for i, var in enumerate(rol_mob_resid):\n",
    "    if i == 0:\n",
    "        init_df[rol_mob_resid[i]] = init_df[\n",
    "            [L_vars[i], L_vars[i+1], L_vars[i+2], L_vars[i+3], L_vars[i+4], L_vars[i+5], L_vars[i+6]]\n",
    "        ].mean(axis=1)\n",
    "        \n",
    "    if i == 1:    \n",
    "        init_df[rol_mob_resid[i]] = init_df[\n",
    "            [L_vars[i+6], L_vars[i+7], L_vars[i+8], L_vars[i+9], L_vars[i+10], L_vars[i+11], L_vars[i+12]]\n",
    "        ].mean(axis=1)\n",
    "        \n",
    "    if i == 2:\n",
    "        init_df[rol_mob_resid[i]] = init_df[\n",
    "            [L_vars[i+12], L_vars[i+13], L_vars[i+14], L_vars[i+15], L_vars[i+16], L_vars[i+17], L_vars[i+18]]\n",
    "        ].mean(axis=1)"
   ]
  },
  {
   "cell_type": "code",
   "execution_count": 8,
   "metadata": {},
   "outputs": [],
   "source": [
    "## create one-hot-encodings ##\n",
    "##############################\n",
    "# for adm0_name (country)\n",
    "adm0_name_d = pd.get_dummies(\n",
    "    init_df['adm0_name'],\n",
    "    drop_first = False\n",
    ") #don't drop first adm0_name (we will drop one for day of week to account for the intercept (bias unit))\n",
    "\n",
    "# for day of week\n",
    "days = ['1', '2', '3', '4', '5', '6'] #dropped the first day == \"0\" (as a result, you don't need an intercept in the model)\n",
    "doy_of_w_d = pd.get_dummies(\n",
    "    init_df['day_of_week'],\n",
    "    prefix='',\n",
    "    prefix_sep='',\n",
    "    drop_first = True\n",
    ") \n",
    "doy_of_w_d = doy_of_w_d.T.reindex(days).T.fillna(0)\n",
    "\n",
    "# join one-hot-encodings\n",
    "dummies = adm0_name_d.join(doy_of_w_d)\n",
    "\n",
    "# add to initial df\n",
    "init_df = pd.concat(\n",
    "    [init_df, dummies],\n",
    "    axis=1\n",
    ")"
   ]
  },
  {
   "cell_type": "code",
   "execution_count": 9,
   "metadata": {},
   "outputs": [
    {
     "name": "stdout",
     "output_type": "stream",
     "text": [
      "Shape of data:  (19552, 224)\n"
     ]
    },
    {
     "data": {
      "text/html": [
       "<div>\n",
       "<style scoped>\n",
       "    .dataframe tbody tr th:only-of-type {\n",
       "        vertical-align: middle;\n",
       "    }\n",
       "\n",
       "    .dataframe tbody tr th {\n",
       "        vertical-align: top;\n",
       "    }\n",
       "\n",
       "    .dataframe thead th {\n",
       "        text-align: right;\n",
       "    }\n",
       "</style>\n",
       "<table border=\"1\" class=\"dataframe\">\n",
       "  <thead>\n",
       "    <tr style=\"text-align: right;\">\n",
       "      <th></th>\n",
       "      <th>adm0_name</th>\n",
       "      <th>date</th>\n",
       "      <th>day_of_week</th>\n",
       "      <th>cum_cases</th>\n",
       "      <th>D_ln_cum_cases</th>\n",
       "      <th>mob_resid</th>\n",
       "      <th>L1_mob_resid</th>\n",
       "      <th>L2_mob_resid</th>\n",
       "      <th>L3_mob_resid</th>\n",
       "      <th>L4_mob_resid</th>\n",
       "      <th>...</th>\n",
       "      <th>Western Sahara</th>\n",
       "      <th>Yemen</th>\n",
       "      <th>Zambia</th>\n",
       "      <th>Zimbabwe</th>\n",
       "      <th>1</th>\n",
       "      <th>2</th>\n",
       "      <th>3</th>\n",
       "      <th>4</th>\n",
       "      <th>5</th>\n",
       "      <th>6</th>\n",
       "    </tr>\n",
       "  </thead>\n",
       "  <tbody>\n",
       "    <tr>\n",
       "      <th>0</th>\n",
       "      <td>Afghanistan</td>\n",
       "      <td>2020-02-16</td>\n",
       "      <td>6</td>\n",
       "      <td>0</td>\n",
       "      <td>NaN</td>\n",
       "      <td>0.0</td>\n",
       "      <td>NaN</td>\n",
       "      <td>NaN</td>\n",
       "      <td>NaN</td>\n",
       "      <td>NaN</td>\n",
       "      <td>...</td>\n",
       "      <td>0</td>\n",
       "      <td>0</td>\n",
       "      <td>0</td>\n",
       "      <td>0</td>\n",
       "      <td>0</td>\n",
       "      <td>0</td>\n",
       "      <td>0</td>\n",
       "      <td>0</td>\n",
       "      <td>0</td>\n",
       "      <td>1</td>\n",
       "    </tr>\n",
       "    <tr>\n",
       "      <th>1</th>\n",
       "      <td>Afghanistan</td>\n",
       "      <td>2020-02-17</td>\n",
       "      <td>0</td>\n",
       "      <td>0</td>\n",
       "      <td>NaN</td>\n",
       "      <td>-1.0</td>\n",
       "      <td>0.0</td>\n",
       "      <td>NaN</td>\n",
       "      <td>NaN</td>\n",
       "      <td>NaN</td>\n",
       "      <td>...</td>\n",
       "      <td>0</td>\n",
       "      <td>0</td>\n",
       "      <td>0</td>\n",
       "      <td>0</td>\n",
       "      <td>0</td>\n",
       "      <td>0</td>\n",
       "      <td>0</td>\n",
       "      <td>0</td>\n",
       "      <td>0</td>\n",
       "      <td>0</td>\n",
       "    </tr>\n",
       "  </tbody>\n",
       "</table>\n",
       "<p>2 rows × 224 columns</p>\n",
       "</div>"
      ],
      "text/plain": [
       "     adm0_name        date  day_of_week  cum_cases  D_ln_cum_cases  mob_resid  \\\n",
       "0  Afghanistan  2020-02-16            6          0             NaN        0.0   \n",
       "1  Afghanistan  2020-02-17            0          0             NaN       -1.0   \n",
       "\n",
       "   L1_mob_resid  L2_mob_resid  L3_mob_resid  L4_mob_resid  ...  \\\n",
       "0           NaN           NaN           NaN           NaN  ...   \n",
       "1           0.0           NaN           NaN           NaN  ...   \n",
       "\n",
       "   Western Sahara  Yemen  Zambia  Zimbabwe  1  2  3  4  5  6  \n",
       "0               0      0       0         0  0  0  0  0  0  1  \n",
       "1               0      0       0         0  0  0  0  0  0  0  \n",
       "\n",
       "[2 rows x 224 columns]"
      ]
     },
     "execution_count": 9,
     "metadata": {},
     "output_type": "execute_result"
    }
   ],
   "source": [
    "# export the data to see value of features\n",
    "init_df.to_csv('init_df.csv')\n",
    "\n",
    "print('Shape of data: ', init_df.shape)\n",
    "init_df.head(2)"
   ]
  },
  {
   "cell_type": "markdown",
   "metadata": {},
   "source": [
    "Note: It's a good idea to export the data at this stage to see how the value of the features look like before we move to the Clean features step below."
   ]
  },
  {
   "cell_type": "markdown",
   "metadata": {},
   "source": [
    "##### ``Step 4.4. Clean features``"
   ]
  },
  {
   "cell_type": "code",
   "execution_count": 10,
   "metadata": {},
   "outputs": [],
   "source": [
    "## redefine features ##\n",
    "#######################\n",
    "# drop year (easier for graph visualizations, all data points are in 2020)\n",
    "init_df['date'] = init_df.date.astype(str);\n",
    "init_df['date'] = init_df.date.str.slice(start=6)"
   ]
  },
  {
   "cell_type": "code",
   "execution_count": 11,
   "metadata": {},
   "outputs": [],
   "source": [
    "## drop observations ##\n",
    "#######################\n",
    "# To ensure data quality, we restrict our analysis to countries after they have reported at least ten cumulative infections.\n",
    "# drop if cum_cases < 10  \n",
    "df = init_df[init_df.cum_cases.ge(10)]\n",
    "\n",
    "# drop if D_ln_cum_cases < 0 or inf/-inf\n",
    "df = df.replace(\n",
    "    [np.inf, -np.inf],\n",
    "    np.nan\n",
    ")\n",
    "df = df[\n",
    "    (df.D_ln_cum_cases >= 0) | (~df.D_ln_cum_cases.isna())\n",
    "]\n",
    "\n",
    "# drop if mobility and rolling averages of mobility are NaN\n",
    "df = df.dropna(\n",
    "    how = 'any',\n",
    "    subset=['mob_resid', 'mob_L1to7', 'mob_L8to14', 'mob_L15to21']\n",
    ")\n",
    "\n",
    "# drop if country is 'Antigua and Barbuda' (this country has lots of missing case data)\n",
    "df = df[~df.adm0_name.isin(['Antigua and Barbuda'])]\n",
    "\n",
    "# reset index\n",
    "df.reset_index(\n",
    "    drop=True,\n",
    "    inplace=True\n",
    ")"
   ]
  },
  {
   "cell_type": "code",
   "execution_count": 12,
   "metadata": {},
   "outputs": [
    {
     "name": "stdout",
     "output_type": "stream",
     "text": [
      "Shape of data:  (9017, 224)\n"
     ]
    },
    {
     "data": {
      "text/html": [
       "<div>\n",
       "<style scoped>\n",
       "    .dataframe tbody tr th:only-of-type {\n",
       "        vertical-align: middle;\n",
       "    }\n",
       "\n",
       "    .dataframe tbody tr th {\n",
       "        vertical-align: top;\n",
       "    }\n",
       "\n",
       "    .dataframe thead th {\n",
       "        text-align: right;\n",
       "    }\n",
       "</style>\n",
       "<table border=\"1\" class=\"dataframe\">\n",
       "  <thead>\n",
       "    <tr style=\"text-align: right;\">\n",
       "      <th></th>\n",
       "      <th>adm0_name</th>\n",
       "      <th>date</th>\n",
       "      <th>day_of_week</th>\n",
       "      <th>cum_cases</th>\n",
       "      <th>D_ln_cum_cases</th>\n",
       "      <th>mob_resid</th>\n",
       "      <th>L1_mob_resid</th>\n",
       "      <th>L2_mob_resid</th>\n",
       "      <th>L3_mob_resid</th>\n",
       "      <th>L4_mob_resid</th>\n",
       "      <th>...</th>\n",
       "      <th>Western Sahara</th>\n",
       "      <th>Yemen</th>\n",
       "      <th>Zambia</th>\n",
       "      <th>Zimbabwe</th>\n",
       "      <th>1</th>\n",
       "      <th>2</th>\n",
       "      <th>3</th>\n",
       "      <th>4</th>\n",
       "      <th>5</th>\n",
       "      <th>6</th>\n",
       "    </tr>\n",
       "  </thead>\n",
       "  <tbody>\n",
       "    <tr>\n",
       "      <th>0</th>\n",
       "      <td>Afghanistan</td>\n",
       "      <td>3-14</td>\n",
       "      <td>5</td>\n",
       "      <td>11</td>\n",
       "      <td>0.451985</td>\n",
       "      <td>0.0</td>\n",
       "      <td>0.0</td>\n",
       "      <td>1.0</td>\n",
       "      <td>1.0</td>\n",
       "      <td>1.0</td>\n",
       "      <td>...</td>\n",
       "      <td>0</td>\n",
       "      <td>0</td>\n",
       "      <td>0</td>\n",
       "      <td>0</td>\n",
       "      <td>0</td>\n",
       "      <td>0</td>\n",
       "      <td>0</td>\n",
       "      <td>0</td>\n",
       "      <td>1</td>\n",
       "      <td>0</td>\n",
       "    </tr>\n",
       "    <tr>\n",
       "      <th>1</th>\n",
       "      <td>Afghanistan</td>\n",
       "      <td>3-15</td>\n",
       "      <td>6</td>\n",
       "      <td>16</td>\n",
       "      <td>0.374693</td>\n",
       "      <td>0.0</td>\n",
       "      <td>0.0</td>\n",
       "      <td>0.0</td>\n",
       "      <td>1.0</td>\n",
       "      <td>1.0</td>\n",
       "      <td>...</td>\n",
       "      <td>0</td>\n",
       "      <td>0</td>\n",
       "      <td>0</td>\n",
       "      <td>0</td>\n",
       "      <td>0</td>\n",
       "      <td>0</td>\n",
       "      <td>0</td>\n",
       "      <td>0</td>\n",
       "      <td>0</td>\n",
       "      <td>1</td>\n",
       "    </tr>\n",
       "  </tbody>\n",
       "</table>\n",
       "<p>2 rows × 224 columns</p>\n",
       "</div>"
      ],
      "text/plain": [
       "     adm0_name  date  day_of_week  cum_cases  D_ln_cum_cases  mob_resid  \\\n",
       "0  Afghanistan  3-14            5         11        0.451985        0.0   \n",
       "1  Afghanistan  3-15            6         16        0.374693        0.0   \n",
       "\n",
       "   L1_mob_resid  L2_mob_resid  L3_mob_resid  L4_mob_resid  ...  \\\n",
       "0           0.0           1.0           1.0           1.0  ...   \n",
       "1           0.0           0.0           1.0           1.0  ...   \n",
       "\n",
       "   Western Sahara  Yemen  Zambia  Zimbabwe  1  2  3  4  5  6  \n",
       "0               0      0       0         0  0  0  0  0  1  0  \n",
       "1               0      0       0         0  0  0  0  0  0  1  \n",
       "\n",
       "[2 rows x 224 columns]"
      ]
     },
     "execution_count": 12,
     "metadata": {},
     "output_type": "execute_result"
    }
   ],
   "source": [
    "# export the data to see value of features\n",
    "df.to_csv('df.csv')\n",
    "\n",
    "print('Shape of data: ', df.shape)\n",
    "df.head(2)"
   ]
  },
  {
   "cell_type": "markdown",
   "metadata": {},
   "source": [
    "Note: You can now export the data again and see how the value of features compare to the previous stage."
   ]
  },
  {
   "cell_type": "markdown",
   "metadata": {},
   "source": [
    "##### ``Step 4.5. Feature selection``"
   ]
  },
  {
   "cell_type": "markdown",
   "metadata": {},
   "source": [
    "We will train two models: a **baseline** model that only includes the one-hot-encodings defined at Step 4.4, and a **mobility** model that improves over the baseline by adding all residential mobility variables (mob_resid, mob_L1to7, mob_L8to14, mob_L15to21)."
   ]
  },
  {
   "cell_type": "code",
   "execution_count": 13,
   "metadata": {},
   "outputs": [
    {
     "name": "stdout",
     "output_type": "stream",
     "text": [
      "Features in baseline model: 194\n",
      "Features in mobility model: 198\n"
     ]
    }
   ],
   "source": [
    "## baseline model ##\n",
    "####################\n",
    "base_model_features = [val for val in dummies.columns]\n",
    "\n",
    "## mobility model ##\n",
    "####################\n",
    "mob_model_features = ['mob_resid','mob_L1to7', 'mob_L8to14', 'mob_L15to21'] + base_model_features\n",
    "\n",
    "print('Features in baseline model:', len(base_model_features))\n",
    "print('Features in mobility model:', len(mob_model_features))"
   ]
  },
  {
   "cell_type": "markdown",
   "metadata": {},
   "source": [
    "##### ``Step 4.6. Define train and test period``"
   ]
  },
  {
   "cell_type": "markdown",
   "metadata": {},
   "source": [
    "When we work with time series data it is important not to split the data at random into training and test sets. Why? For simplicity, and randomly chosen, we will run a model using a 20 day training window betwween April 1-20, and a 10 day testing window between April 21-30. All data refers to year 2020."
   ]
  },
  {
   "cell_type": "code",
   "execution_count": 14,
   "metadata": {},
   "outputs": [],
   "source": [
    "train_period = ['4-01', '4-02', '4-03', '4-04', '4-05', \n",
    "                '4-06', '4-07', '4-08', '4-09', '4-10',\n",
    "                '4-11', '4-12', '4-13', '4-14', '4-15',\n",
    "                '4-16', '4-17', '4-18', '4-19', '4-20']\n",
    "\n",
    "test_period = ['4-21', '4-22', '4-23', '4-24', '4-25',\n",
    "               '4-26', '4-27', '4-28', '4-29', '4-30']"
   ]
  },
  {
   "cell_type": "markdown",
   "metadata": {},
   "source": [
    "##### ``Step 4.7: Define X and y for train and test data``"
   ]
  },
  {
   "cell_type": "markdown",
   "metadata": {},
   "source": [
    "Here we define the **train_test_data()** function to creaye X and y arrays, and the corresponding dataframes for train and test data.\n",
    "\n",
    "We will do this for each of the two models (baseline and mobility). We will use the same countries in the train and test set but keep in mind that the time period will be different in the train and test sets (see Step 4.6). \n",
    "\n",
    "**Notes**: \n",
    "You can train on more countries and do predictions on less, but the code becomes a bit more complicated. Let's keep it simple for the moment."
   ]
  },
  {
   "cell_type": "code",
   "execution_count": 15,
   "metadata": {},
   "outputs": [],
   "source": [
    "def train_test_data(df, model, adm0_names, dates):\n",
    "    \"\"\" Create Y, X arrays, depending on model specification\n",
    "    params:\n",
    "    -------\n",
    "    df: dataframe, cleaned init_df \n",
    "    model: string, defines model of interest: 'baseline' or 'mobility'\n",
    "    adm0_names: list of strings, adm0_names of interest\n",
    "    dates: list of strings, dates of interest\n",
    "    \n",
    "    return:\n",
    "    ------\n",
    "    y: np.array, outcome variable (this is what we are trying to predict)\n",
    "    X: np.array, features corresponding to the chosen model\n",
    "    mini_df: df cleaned based on arguments adm0_names and dates;\n",
    "             you want to return this df because it contains additional variables (e.g., country name, date) that\n",
    "             will be used to compute the performance of the model\n",
    "    \"\"\"\n",
    "    ## keep observations only if adm0_name is in training\n",
    "    mini_df = df[df.adm0_name.isin(adm0_names)]\n",
    "    \n",
    "    ## keep observations only if date is in dates\n",
    "    mini_df = mini_df[mini_df.date.isin(dates)]\n",
    "    \n",
    "    ## create dependent variable\n",
    "    y = mini_df['D_ln_cum_cases']\n",
    "\n",
    "    ## create explanatory variables\n",
    "    if model == \"baseline\":\n",
    "        X = mini_df[base_model_features]\n",
    "        \n",
    "    if model == \"mobility\":\n",
    "        X = mini_df[mob_model_features]\n",
    "\n",
    "    return X, y, mini_df"
   ]
  },
  {
   "cell_type": "markdown",
   "metadata": {},
   "source": [
    "If our implementation of the **train_test_data()** function is correct we should now be able to run the following code to generate train and test data for the **baseline** and **mobility** models."
   ]
  },
  {
   "cell_type": "code",
   "execution_count": 16,
   "metadata": {},
   "outputs": [
    {
     "name": "stdout",
     "output_type": "stream",
     "text": [
      "baseline model\n",
      "--------------\n",
      "Shape of X_train_b (2254, 194)\n",
      "Shape of X_test_b (1159, 194)\n",
      "Number of countries in train set: 116\n",
      "Number of countries in test set: 116\n",
      "Countries in train set but not in test set:  []\n"
     ]
    }
   ],
   "source": [
    "## X, y, mini_df for the baseline model ##\n",
    "##########################################\n",
    "print('baseline model')\n",
    "print('--------------')\n",
    "X_train_b, y_train_b, df_train_b = train_test_data(\n",
    "    df, \n",
    "    model='baseline',\n",
    "    adm0_names=df.adm0_name.unique(),\n",
    "    dates=train_period)\n",
    "\n",
    "X_test_b, y_test_b, df_test_b = train_test_data(\n",
    "    df,\n",
    "    model='baseline', \n",
    "    adm0_names=df_train_b.adm0_name.unique(),\n",
    "    dates=test_period)\n",
    "\n",
    "# check shape of data\n",
    "print('Shape of X_train_b', X_train_b.shape)\n",
    "print('Shape of X_test_b', X_test_b.shape)\n",
    "\n",
    "print(\n",
    "    'Number of countries in train set:',\n",
    "    df_train_b.adm0_name.nunique()\n",
    ")\n",
    "\n",
    "print(\n",
    "    'Number of countries in test set:',\n",
    "    df_test_b.adm0_name.nunique()\n",
    ")\n",
    "\n",
    "# just making sure that we have the same countries in train and test sets\n",
    "set_diff_b = np.setdiff1d(\n",
    "          df_train_b.adm0_name.unique(),\n",
    "          df_test_b.adm0_name.unique()\n",
    "      )\n",
    "\n",
    "print(\n",
    "    'Countries in train set but not in test set: ',\n",
    "    set_diff_b\n",
    ")"
   ]
  },
  {
   "cell_type": "code",
   "execution_count": 17,
   "metadata": {},
   "outputs": [
    {
     "name": "stdout",
     "output_type": "stream",
     "text": [
      "\n",
      "mobility model\n",
      "--------------\n",
      "Shape of X_train_b (2254, 198)\n",
      "Shape of X_test_b (1159, 198)\n",
      "Number of countries in train set: 116\n",
      "Number of countries in test set: 116\n",
      "Countries in train set but not in test set:  []\n"
     ]
    }
   ],
   "source": [
    "## X, y, mini_df for the mobility model ##\n",
    "##########################################\n",
    "print()\n",
    "print('mobility model')\n",
    "print('--------------')\n",
    "X_train_m, y_train_m, df_train_m = train_test_data(\n",
    "    df, \n",
    "    model='mobility',\n",
    "    adm0_names=df.adm0_name.unique(),\n",
    "    dates=train_period)\n",
    "\n",
    "X_test_m, y_test_m, df_test_m = train_test_data(\n",
    "    df,\n",
    "    model='mobility', \n",
    "    adm0_names=df_train_m.adm0_name.unique(),\n",
    "    dates=test_period)\n",
    "\n",
    "\n",
    "# check shape of data\n",
    "print('Shape of X_train_b', X_train_m.shape)\n",
    "print('Shape of X_test_b', X_test_m.shape)\n",
    "\n",
    "print(\n",
    "    'Number of countries in train set:',\n",
    "    df_train_m.adm0_name.nunique()\n",
    ")\n",
    "\n",
    "print(\n",
    "    'Number of countries in test set:',\n",
    "    df_test_m.adm0_name.nunique()\n",
    ")\n",
    "\n",
    "# just making sure that we have the same countries in train and test sets\n",
    "set_diff_m = np.setdiff1d(\n",
    "          df_train_m.adm0_name.unique(),\n",
    "          df_test_m.adm0_name.unique()\n",
    "      )\n",
    "print(\n",
    "    'Countries in train set but not in test set: ',\n",
    "    set_diff_m\n",
    ")"
   ]
  },
  {
   "cell_type": "markdown",
   "metadata": {},
   "source": [
    "---\n",
    "### Step 5: Exploratory Data Analysis (EDA)\n",
    "---"
   ]
  },
  {
   "cell_type": "markdown",
   "metadata": {},
   "source": [
    "Prior to training a model it is important to perform exploratory data analysis. The idea is to detect the presence of outliers, the feature distribution, and the relationship between features and outcome. Note that typically there is a back and forth between Step 4 and 5, depending on how satisfied we are with the results of the EDA."
   ]
  },
  {
   "cell_type": "markdown",
   "metadata": {},
   "source": [
    "##### ``Step 5.1: Scatterplot of outcome and feature variables``"
   ]
  },
  {
   "cell_type": "markdown",
   "metadata": {},
   "source": [
    "Using the **scatterplotmatrix** method in the **mlxtend** package we will print a scatterplot to visualize distributions and relationships between features and outcome variable in one plot. We will focus on the non-dummy variables in the mobility model and the outcome variable (Hint: use df_train_b).\n",
    "\n",
    "We will then answer the following questions:\n",
    "\n",
    "1. What is the relationship between the growth rate of COVID-19 cumulative cases and mobility rolling average 3 weeks ago (mob_L15to21)?\n",
    "2. What can we say about the distribution of the four mobility variables? ('mob_resid', 'mob_L1to7', 'mob_L8to14', 'mob_L15to21')\n",
    "3. How does the distribution of each mobility variable compare relative to the other mobility variables? Do you think feature normalization or standardization will be useful if you want to fit the **mobility** model using an interative solution? (remember that aside from mobility variables there are also dummies in the model)\n",
    "4. Does predictive analysis require the outcome and features to be normally distributed?"
   ]
  },
  {
   "cell_type": "code",
   "execution_count": 18,
   "metadata": {},
   "outputs": [
    {
     "data": {
      "image/png": "[encoded data removed]",
      "text/plain": [
       "<Figure size 1296x1296 with 25 Axes>"
      ]
     },
     "metadata": {
      "needs_background": "light"
     },
     "output_type": "display_data"
    }
   ],
   "source": [
    "variables = ['D_ln_cum_cases', 'mob_resid','mob_L1to7', 'mob_L8to14', 'mob_L15to21']\n",
    "\n",
    "scatterplotmatrix(\n",
    "    df_train_b[variables].values,\n",
    "    names=variables,\n",
    "    figsize=(18,18), alpha=1\n",
    ");"
   ]
  },
  {
   "cell_type": "markdown",
   "metadata": {},
   "source": [
    "1. It appears that an increase in residential mobility 3 weeks ago leads to a lower growth rate of COVID-19 infections.\n",
    "\n",
    "2. The four mobility variables seem to be normally distributed.\n",
    "\n",
    "3. The distribution of the mobility features does not vary, so there is no need to scale (standardize/normalize) them **IF** one-hot encodings are **NOT** added to the model. SGD will fail if features are not normalized when one-hot encodings are added.\n",
    "\n",
    "4. ML prediction does not require the outcome and feature variables to be normally distributed! This is a requirement for inference and hypothesis testing but not for predictive analysis! "
   ]
  },
  {
   "cell_type": "markdown",
   "metadata": {},
   "source": [
    "##### ``Step 5.2: Correlation matrix of outcome and feature variables``"
   ]
  },
  {
   "cell_type": "markdown",
   "metadata": {},
   "source": [
    "Using the **heatmap** method in the **mlxtend** package we will now print the correltation matrix between the growth rate of COVID-19 cumulative cases and mobility features in the **mobility** model. (Hint: use df_train_b).\n",
    "\n",
    "We will then answer the following questions:\n",
    "\n",
    "1. Which mobility features seem to be most informative to predict the growth rate of COVID-19 infections?\n",
    "2. What can you say about the correlation between the four mobility variables?"
   ]
  },
  {
   "cell_type": "code",
   "execution_count": 19,
   "metadata": {},
   "outputs": [
    {
     "data": {
      "image/png": "[encoded data removed]",
      "text/plain": [
       "<Figure size 432x288 with 2 Axes>"
      ]
     },
     "metadata": {
      "needs_background": "light"
     },
     "output_type": "display_data"
    }
   ],
   "source": [
    "variables = ['D_ln_cum_cases', 'mob_resid', 'mob_L1to7', 'mob_L8to14', 'mob_L15to21']\n",
    "cm = df_train_m[variables].corr().values\n",
    "hm = heatmap(\n",
    "    cm,\n",
    "    row_names=variables,\n",
    "    column_names=variables)"
   ]
  },
  {
   "cell_type": "markdown",
   "metadata": {},
   "source": [
    "1. In general, we are interested in those features that have a high correlation with the target variable. We can see a relatively low correlation between mobility today (mob_resid) and the growth rate of Covid-19 cases. Is this surprising? Not really. It's very unlikely to see that an increase in residential mobility today affects the growth rate of cases today. Instead, looking at how changes in mobility 1,2,3 weeks ago affects the growth rate today is more informative.\n",
    "\n",
    "2. The four mobility variables are positively correlated with values ranging between 0.47 and 0.90."
   ]
  },
  {
   "cell_type": "markdown",
   "metadata": {},
   "source": [
    "---\n",
    "### Step 6: Analysis - linear regression (OLS)\n",
    "---"
   ]
  },
  {
   "cell_type": "markdown",
   "metadata": {},
   "source": [
    "The idea behind linear regression is to obtain the best-fitting straight line through the examples in the training data.\n",
    "\n",
    "There are two ways you can fit the training data:\n",
    " - using a closed-form solution: $(X'X)^{-1}(X'y)$\n",
    " - using an iterative solution: gradient descent (stochastic, batch, etc.)"
   ]
  },
  {
   "cell_type": "markdown",
   "metadata": {},
   "source": [
    "##### ``Step 6.2 Fit, predict and evaluate model performance using a closed-form solution``"
   ]
  },
  {
   "cell_type": "markdown",
   "metadata": {},
   "source": [
    "Now that we have all data needed, we can fit, make predictions, and evaluate performance for the **baseline** and **mobility** models using a closed-form solution. We will use the **statsmodels** library for this exercise."
   ]
  },
  {
   "cell_type": "markdown",
   "metadata": {},
   "source": [
    "model fit "
   ]
  },
  {
   "cell_type": "code",
   "execution_count": 20,
   "metadata": {},
   "outputs": [],
   "source": [
    "# baseline model\n",
    "baseline_fit = sm.OLS(y_train_b, X_train_b).fit()\n",
    "#print(baseline_fit.summary())\n",
    "\n",
    "# mobility model\n",
    "mobility_fit = sm.OLS(y_train_m, X_train_m).fit() \n",
    "#print(mobility_fit.summary())"
   ]
  },
  {
   "cell_type": "markdown",
   "metadata": {},
   "source": [
    "model prediction"
   ]
  },
  {
   "cell_type": "code",
   "execution_count": 21,
   "metadata": {},
   "outputs": [],
   "source": [
    "# baseline model\n",
    "baseline_yhat = baseline_fit.predict(X_test_b)\n",
    "\n",
    "# nmobility model\n",
    "mobility_yhat = mobility_fit.predict(X_test_m)"
   ]
  },
  {
   "cell_type": "code",
   "execution_count": 22,
   "metadata": {},
   "outputs": [
    {
     "data": {
      "text/html": [
       "<div>\n",
       "<style scoped>\n",
       "    .dataframe tbody tr th:only-of-type {\n",
       "        vertical-align: middle;\n",
       "    }\n",
       "\n",
       "    .dataframe tbody tr th {\n",
       "        vertical-align: top;\n",
       "    }\n",
       "\n",
       "    .dataframe thead th {\n",
       "        text-align: right;\n",
       "    }\n",
       "</style>\n",
       "<table border=\"1\" class=\"dataframe\">\n",
       "  <thead>\n",
       "    <tr style=\"text-align: right;\">\n",
       "      <th></th>\n",
       "      <th>date</th>\n",
       "      <th>adm0_name</th>\n",
       "      <th>cum_cases</th>\n",
       "      <th>D_ln_cum_cases</th>\n",
       "      <th>yhat</th>\n",
       "    </tr>\n",
       "  </thead>\n",
       "  <tbody>\n",
       "    <tr>\n",
       "      <th>38</th>\n",
       "      <td>4-21</td>\n",
       "      <td>Afghanistan</td>\n",
       "      <td>1092</td>\n",
       "      <td>0.062343</td>\n",
       "      <td>0.084217</td>\n",
       "    </tr>\n",
       "    <tr>\n",
       "      <th>39</th>\n",
       "      <td>4-22</td>\n",
       "      <td>Afghanistan</td>\n",
       "      <td>1176</td>\n",
       "      <td>0.074108</td>\n",
       "      <td>0.101908</td>\n",
       "    </tr>\n",
       "    <tr>\n",
       "      <th>40</th>\n",
       "      <td>4-23</td>\n",
       "      <td>Afghanistan</td>\n",
       "      <td>1279</td>\n",
       "      <td>0.083960</td>\n",
       "      <td>0.097229</td>\n",
       "    </tr>\n",
       "    <tr>\n",
       "      <th>41</th>\n",
       "      <td>4-24</td>\n",
       "      <td>Afghanistan</td>\n",
       "      <td>1351</td>\n",
       "      <td>0.054767</td>\n",
       "      <td>0.091378</td>\n",
       "    </tr>\n",
       "    <tr>\n",
       "      <th>42</th>\n",
       "      <td>4-25</td>\n",
       "      <td>Afghanistan</td>\n",
       "      <td>1463</td>\n",
       "      <td>0.079644</td>\n",
       "      <td>0.081091</td>\n",
       "    </tr>\n",
       "  </tbody>\n",
       "</table>\n",
       "</div>"
      ],
      "text/plain": [
       "    date    adm0_name  cum_cases  D_ln_cum_cases      yhat\n",
       "38  4-21  Afghanistan       1092        0.062343  0.084217\n",
       "39  4-22  Afghanistan       1176        0.074108  0.101908\n",
       "40  4-23  Afghanistan       1279        0.083960  0.097229\n",
       "41  4-24  Afghanistan       1351        0.054767  0.091378\n",
       "42  4-25  Afghanistan       1463        0.079644  0.081091"
      ]
     },
     "execution_count": 22,
     "metadata": {},
     "output_type": "execute_result"
    }
   ],
   "source": [
    "# add predicted growth rate to test dataframes for the two models (call it yhat)\n",
    "df_test_b['yhat'] = baseline_yhat\n",
    "df_test_m['yhat'] = mobility_yhat\n",
    "\n",
    "# keep only cols of interest in test dataframes\n",
    "cols = ['date', 'adm0_name', 'cum_cases', 'D_ln_cum_cases', 'yhat'] \n",
    "df_test_b = df_test_b[cols]\n",
    "df_test_m = df_test_m[cols]\n",
    "\n",
    "# for visualization purposes, print head of the baseline test df\n",
    "df_test_b.head()"
   ]
  },
  {
   "cell_type": "markdown",
   "metadata": {},
   "source": [
    "Our next task is to evaluate performance on the test data.\n",
    "\n",
    "For each country and each day in the test sample of the **baseline** and **mobility** models, we will compute percentage error (compares actual vs. predicted values). Let's call this new variable \"pct_error\" and add it to df_test_b and df_test_m, respectively.  Finally, we will report MSE for both models and comment on model fit."
   ]
  },
  {
   "cell_type": "code",
   "execution_count": 23,
   "metadata": {},
   "outputs": [
    {
     "name": "stdout",
     "output_type": "stream",
     "text": [
      "MSE test baseline model: 0.19073508239290654\n",
      "MSE test mobility model: 0.1689802619594536\n"
     ]
    }
   ],
   "source": [
    "# compute percentage error: actual vs predicted values (for each date/country)\n",
    "df_test_b['pct_error'] = ((df_test_b.yhat - df_test_b.D_ln_cum_cases))*100\n",
    "df_test_m['pct_error'] = ((df_test_m.yhat - df_test_m.D_ln_cum_cases))*100\n",
    "\n",
    "# compute mean square error (MSE) for each model\n",
    "print(\n",
    "    'MSE test baseline model:', np.mean(np.sqrt(df_test_b.yhat - df_test_b.D_ln_cum_cases))\n",
    ")\n",
    "print(\n",
    "    'MSE test mobility model:', np.mean(np.sqrt(df_test_m.yhat - df_test_m.D_ln_cum_cases))\n",
    ")"
   ]
  },
  {
   "cell_type": "markdown",
   "metadata": {},
   "source": [
    "The mobility model seems to do better. However, one needs to do a cross-validation exercise on the train/test split period to accurately evaluate model performance."
   ]
  },
  {
   "cell_type": "markdown",
   "metadata": {},
   "source": [
    "Boxplot visualizations of the percentage error provide nice insights into model performance as well. Unlike MSE, which is aggregating the results acros countries and days, a  percentage error boxplot shows the distribution of predictions at the country/day level.\n",
    "\n",
    "The plot below uses the **pct_error_plot()** function implemented at the top of the notebook."
   ]
  },
  {
   "cell_type": "code",
   "execution_count": 24,
   "metadata": {},
   "outputs": [
    {
     "data": {
      "image/png": "[encoded data removed]",
      "text/plain": [
       "<Figure size 720x432 with 1 Axes>"
      ]
     },
     "metadata": {},
     "output_type": "display_data"
    }
   ],
   "source": [
    "# plot boxplot and return combined df_test for baseline and mobility model\n",
    "df_test_mb = pct_error_plot(\n",
    "    df_test_b,\n",
    "    df_test_m,\n",
    "    'box',\n",
    "    'closed_form'\n",
    ")"
   ]
  },
  {
   "cell_type": "markdown",
   "metadata": {},
   "source": [
    "You can now dive deeper into the predictive results of the two models to investigate what are the countries with the largest outliers. You can also play aroud with the pct_error threshold that you want to investigate."
   ]
  },
  {
   "cell_type": "code",
   "execution_count": 25,
   "metadata": {},
   "outputs": [
    {
     "name": "stdout",
     "output_type": "stream",
     "text": [
      "It seems that ['Ecuador' 'Tanzania'] are outlier countries, i.e the pct_error is pretty high.\n"
     ]
    }
   ],
   "source": [
    "print('It seems that',\n",
    "      df_test_m[df_test_m.pct_error.le(-30)].adm0_name.unique(),\n",
    "      'are outlier countries, i.e the pct_error is pretty high.'\n",
    "     )"
   ]
  },
  {
   "cell_type": "markdown",
   "metadata": {},
   "source": [
    "##### ``Step 6.2 Fit, predict and evaluate model performance using an iterative solution``"
   ]
  },
  {
   "cell_type": "markdown",
   "metadata": {},
   "source": [
    "Closed-form solutions find the optimal solution analytically, which is a good thing, but:\n",
    "- if working with very large data sets, inveting the X'X matrix can be computationally very expensive\n",
    "- X'X may be singular (not-invertible); this happens when two or more features are co-linear\n",
    "- it cannot be used for regularization\n",
    "- the linear model has a closed-form solution, but most other ML models don't have this luxury\n",
    "\n",
    "An iterative solution like gradient descent can overcome these issues. "
   ]
  },
  {
   "cell_type": "markdown",
   "metadata": {},
   "source": [
    "We will now fit, predict and evaluate the performance of the **baseline** model using **TensorFlow**. We will use Keras API - it allows prototyping and building of models with just a few lines of codes, and it was developed with the idea to run on top of libraries such as TensorFlow. \n",
    "\n",
    "Our tasks are as follows:\n",
    "\n",
    "1. Build and compile a TensorFlow model (use the **build_compile_tf_model()** function defined below)\n",
    "2. Fit the TensorFlow model on the training data using a learning rate = [0.0001, 0.1] and 20 epochs of training\n",
    "3. Predict growth rate of COVID-19 cumulative cases using the test data for each of the learning rates defined at point 2.\n",
    "4. Evaluate performance of the model using the test data for each of the learning rates defined at point 2:\n",
    "     * compute MSE. What learning rate leads to better performance of the model?\n",
    "     * create a boxplot to show the pct_error of growth rates of COVID-19 cumulative cases at the country/day level. Our boxplot will compare pct_error using the TensorFlow solution (for both learning rates) and the pct_error using the closed-form solution. Which solution performs better?"
   ]
  },
  {
   "cell_type": "code",
   "execution_count": 26,
   "metadata": {},
   "outputs": [],
   "source": [
    "def build_compile_tf_model(num_features, learning_rate):\n",
    "    \"\"\"Build a TF linear regression model using Keras.\n",
    "\n",
    "    params:\n",
    "    -------\n",
    "    num_features: int, the number of input features\n",
    "    learning_rate: int, the desired learning rate for SGD\n",
    "\n",
    "    returns:\n",
    "    -------\n",
    "    model: a tf.keras model (graph).\n",
    "    \"\"\"\n",
    "    # This is not strictly necessary, but each time you build a model, TF adds\n",
    "    # new nodes (rather than overwriting), so the colab session can end up\n",
    "    # storing lots of copies of the graph when you only care about the most\n",
    "    # recent. Also, as there is some randomness built into training with SGD,\n",
    "    # setting a random seed ensures that results are the same on each identical\n",
    "    # training run.\n",
    "    tf.keras.backend.clear_session()\n",
    "    tf.random.set_seed(0)\n",
    "\n",
    "    # Build a model using keras.Sequential. While this is intended for neural\n",
    "    # networks (which may have multiple layers), we want just a single layer for\n",
    "    # linear regression.\n",
    "    model = tf.keras.Sequential()\n",
    "    model.add(tf.keras.layers.Dense(\n",
    "          activation = None,           # linear activation is used\n",
    "          units=1,                     # output dim\n",
    "          input_shape=[num_features],  # input dim\n",
    "          use_bias=False,              # do not use a bias (intercept) param (see how fixed effects have been added to the model)\n",
    "          kernel_initializer=tf.ones_initializer,  # initialize params to 1\n",
    "      ))\n",
    "    \n",
    "    # We need to choose an optimizer. We'll use SGD, which is actually mini-batch\n",
    "    # SGD. We can specify the batch size to use for training later.\n",
    "    optimizer = tf.keras.optimizers.SGD(learning_rate=learning_rate)\n",
    "\n",
    "    # Finally, we compile the model. We specify the MSE loss.\n",
    "    model.compile(\n",
    "        optimizer=optimizer,\n",
    "        loss='mse', \n",
    "    )\n",
    "    \n",
    "    return model"
   ]
  },
  {
   "cell_type": "code",
   "execution_count": 27,
   "metadata": {},
   "outputs": [
    {
     "name": "stdout",
     "output_type": "stream",
     "text": [
      "learning_rate: 0.0001\n",
      "---------------------\n",
      "Metal device set to: Apple M1 Pro\n"
     ]
    },
    {
     "name": "stderr",
     "output_type": "stream",
     "text": [
      "2022-05-19 06:14:09.458993: I tensorflow/core/common_runtime/pluggable_device/pluggable_device_factory.cc:305] Could not identify NUMA node of platform GPU ID 0, defaulting to 0. Your kernel may not have been built with NUMA support.\n",
      "2022-05-19 06:14:09.459438: I tensorflow/core/common_runtime/pluggable_device/pluggable_device_factory.cc:271] Created TensorFlow device (/job:localhost/replica:0/task:0/device:GPU:0 with 0 MB memory) -> physical PluggableDevice (device: 0, name: METAL, pci bus id: <undefined>)\n",
      "2022-05-19 06:14:09.584747: W tensorflow/core/platform/profile_utils/cpu_utils.cc:128] Failed to get CPU frequency: 0 Hz\n",
      "2022-05-19 06:14:09.657555: I tensorflow/core/grappler/optimizers/custom_graph_optimizer_registry.cc:113] Plugin optimizer for device_type GPU is enabled.\n",
      "2022-05-19 06:15:12.256931: I tensorflow/core/grappler/optimizers/custom_graph_optimizer_registry.cc:113] Plugin optimizer for device_type GPU is enabled.\n",
      "2022-05-19 06:15:12.367143: I tensorflow/core/grappler/optimizers/custom_graph_optimizer_registry.cc:113] Plugin optimizer for device_type GPU is enabled.\n"
     ]
    },
    {
     "name": "stdout",
     "output_type": "stream",
     "text": [
      "MSE baseline model: 0.7620689263755287 \n",
      "\n",
      "learning_rate: 0.1\n",
      "---------------------\n",
      "MSE baseline model: 0.18439097930839127 \n",
      "\n"
     ]
    },
    {
     "name": "stderr",
     "output_type": "stream",
     "text": [
      "2022-05-19 06:16:13.361317: I tensorflow/core/grappler/optimizers/custom_graph_optimizer_registry.cc:113] Plugin optimizer for device_type GPU is enabled.\n"
     ]
    }
   ],
   "source": [
    "# define learning rates\n",
    "learning_rates = [0.0001, 0.1]\n",
    "\n",
    "# create dictionary to keep track of loss\n",
    "growth_rate_mse_dict = {}\n",
    "\n",
    "for idx, eta in enumerate(learning_rates):\n",
    "    print('learning_rate:', eta)\n",
    "    print('---------------------')\n",
    "    \n",
    "    # (1) Build and compile the baseline model #\n",
    "    ############################################\n",
    "    model_b = build_compile_tf_model(\n",
    "        num_features=X_train_b.shape[1],\n",
    "        learning_rate=eta\n",
    "    )\n",
    "\n",
    "    # (2) Fit the model using the train data #\n",
    "    ##########################################\n",
    "    baseline_fit_tf = model_b.fit(\n",
    "      x = X_train_b,\n",
    "      y = y_train_b,\n",
    "      epochs=20,\n",
    "      batch_size=1, #use all the data\n",
    "      verbose=0) # silence the output\n",
    "    \n",
    "    # (3) Predict using the test data #\n",
    "    ###################################\n",
    "    baseline_yhat_tf = model_b.predict(X_test_b)\n",
    "    \n",
    "    # add predicted growth rate of COVID-19 cases to test dataframe\n",
    "    df_test_b['yhat_tf'+'_'+str(eta)] = baseline_yhat_tf\n",
    "    \n",
    "    # (4) Evaluate performance of the model #\n",
    "    ########################################\n",
    "    # compute percentage error (for each date/country)\n",
    "    df_test_b['pct_error_tf_'+str(eta)] = (\n",
    "        (df_test_b['yhat_tf_'+str(eta)] - df_test_b.D_ln_cum_cases))*100\n",
    "    \n",
    "    # compute mean square error (MSE)\n",
    "    print(\n",
    "        'MSE baseline model:', np.mean(np.sqrt(df_test_b['yhat_tf_'+str(eta)] - df_test_b.D_ln_cum_cases)),\n",
    "        '\\n'\n",
    "    )"
   ]
  },
  {
   "cell_type": "markdown",
   "metadata": {},
   "source": [
    "Interpretation: remember that the number of TF epochs is set to 20. In this case, a larger learning rate leads to better performance in the baseline model (MSE for learning rate=0.1 < MSE for learning rate = 0.0001)"
   ]
  },
  {
   "cell_type": "markdown",
   "metadata": {},
   "source": [
    "Let's look at the percentage error boxplot next:"
   ]
  },
  {
   "cell_type": "code",
   "execution_count": 33,
   "metadata": {},
   "outputs": [
    {
     "data": {
      "image/png": "[encoded data removed]",
      "text/plain": [
       "<Figure size 720x432 with 1 Axes>"
      ]
     },
     "metadata": {},
     "output_type": "display_data"
    }
   ],
   "source": [
    "# boxplot of percentage error for baseline model\n",
    "cols = [val for val in df_test_b if 'pct' in val]\n",
    "df_test_b_tf = pd.melt(df_test_b,\n",
    "        id_vars=['adm0_name', 'date'],\n",
    "        var_name='model',\n",
    "        value_vars=cols,\n",
    "        value_name='pct_error')\n",
    "\n",
    "# rename pct_error for closed-form baseline model as pct_error_cf \n",
    "df_test_b_tf['model'] = np.where(\n",
    "    df_test_b_tf.model.eq('pct_error'), 'pct_error_cf', df_test_b_tf.model\n",
    ")\n",
    "\n",
    "df_test_b_tf = pct_error_plot(\n",
    "    df_test_b_tf,\n",
    "    df_test_m,\n",
    "    'box',\n",
    "    'tf'\n",
    ")"
   ]
  },
  {
   "cell_type": "markdown",
   "metadata": {},
   "source": [
    "In the plot above, the blue boxes represents pct_error using the closed-form solution. The orange and green boxes represent TensorFlow pct_errors for learning rates 0.0001 and 0.1, respetively."
   ]
  },
  {
   "cell_type": "markdown",
   "metadata": {},
   "source": [
    "With 20 training epochs, it seems that the closed-form solution and TensorFlow solution with learning rate 0.1 perform equally well. The TensorFlow solution with learning rate 0.0001 has a low performance (likely because 20 epochs is not sufficient given the small learning rate)."
   ]
  },
  {
   "cell_type": "markdown",
   "metadata": {},
   "source": [
    "``How would your answers to the exercise above change if you set the number of training epochs to 200?``"
   ]
  },
  {
   "cell_type": "code",
   "execution_count": 34,
   "metadata": {},
   "outputs": [
    {
     "name": "stdout",
     "output_type": "stream",
     "text": [
      "learning_rate: 0.0001\n",
      "---------------------\n"
     ]
    },
    {
     "name": "stderr",
     "output_type": "stream",
     "text": [
      "2022-05-18 18:23:51.134923: I tensorflow/core/grappler/optimizers/custom_graph_optimizer_registry.cc:113] Plugin optimizer for device_type GPU is enabled.\n",
      "2022-05-18 18:34:12.375796: I tensorflow/core/grappler/optimizers/custom_graph_optimizer_registry.cc:113] Plugin optimizer for device_type GPU is enabled.\n",
      "2022-05-18 18:34:12.480453: I tensorflow/core/grappler/optimizers/custom_graph_optimizer_registry.cc:113] Plugin optimizer for device_type GPU is enabled.\n"
     ]
    },
    {
     "name": "stdout",
     "output_type": "stream",
     "text": [
      "MSE baseline model: 0.2664668207316618 \n",
      "\n",
      "learning_rate: 0.1\n",
      "---------------------\n",
      "MSE baseline model: 0.1972767412235538 \n",
      "\n"
     ]
    },
    {
     "name": "stderr",
     "output_type": "stream",
     "text": [
      "2022-05-18 18:44:33.150758: I tensorflow/core/grappler/optimizers/custom_graph_optimizer_registry.cc:113] Plugin optimizer for device_type GPU is enabled.\n"
     ]
    }
   ],
   "source": [
    "# define learning rates\n",
    "learning_rates = [0.0001, 0.1]\n",
    "\n",
    "# create dictionary to keep track of loss\n",
    "growth_rate_mse_dict = {}\n",
    "\n",
    "for idx, eta in enumerate(learning_rates):\n",
    "    print('learning_rate:', eta)\n",
    "    print('---------------------')\n",
    "    \n",
    "    # (1) Build and compile the baseline model #\n",
    "    ############################################\n",
    "    model_b = build_compile_tf_model(\n",
    "        num_features=X_train_b.shape[1],\n",
    "        learning_rate=eta\n",
    "    )\n",
    "\n",
    "    # (2) Fit the model using the train data #\n",
    "    ##########################################\n",
    "    baseline_fit_tf = model_b.fit(\n",
    "      x = X_train_b,\n",
    "      y = y_train_b,\n",
    "      epochs=200,\n",
    "      batch_size=1, #use all the data\n",
    "      verbose=0) # silence the output\n",
    "    \n",
    "    # (3) Predict using the test data #\n",
    "    ###################################\n",
    "    baseline_yhat_tf = model_b.predict(X_test_b)\n",
    "    \n",
    "    # add predicted growth rate of COVID-19 cases to test dataframe\n",
    "    df_test_b['yhat_tf'+'_'+str(eta)] = baseline_yhat_tf\n",
    "    \n",
    "    # (4) Evaluate performance of the model #\n",
    "    ########################################\n",
    "    # compute percentage error (for each date/country)\n",
    "    df_test_b['pct_error_tf_'+str(eta)] = (\n",
    "        (df_test_b['yhat_tf_'+str(eta)] - df_test_b.D_ln_cum_cases))*100\n",
    "    \n",
    "    # compute mean square error (MSE)\n",
    "    print(\n",
    "        'MSE baseline model:', np.mean(np.sqrt(df_test_b['yhat_tf_'+str(eta)] - df_test_b.D_ln_cum_cases)),\n",
    "        '\\n'\n",
    "    )"
   ]
  },
  {
   "cell_type": "markdown",
   "metadata": {},
   "source": [
    "A larger learning rate leads to better performance in the baseline model even when the number of training epochs is set to 200 (MSE for learning rate=0.1 < MSE for learning rate = 0.0001). The boxplot belows indicates this is likely because of noisy predictions in the 7 day of test."
   ]
  },
  {
   "cell_type": "code",
   "execution_count": 35,
   "metadata": {},
   "outputs": [
    {
     "data": {
      "image/png": "[encoded data removed]",
      "text/plain": [
       "<Figure size 720x432 with 1 Axes>"
      ]
     },
     "metadata": {},
     "output_type": "display_data"
    }
   ],
   "source": [
    "# boxplot of percentage error for baseline model\n",
    "cols = [val for val in df_test_b if 'pct' in val]\n",
    "df_test_b_tf = pd.melt(df_test_b,\n",
    "        id_vars=['adm0_name', 'date'],\n",
    "        var_name='model',\n",
    "        value_vars=cols,\n",
    "        value_name='pct_error')\n",
    "\n",
    "# rename pct_error for closed-form baseline model as pct_error_cf \n",
    "df_test_b_tf['model'] = np.where(\n",
    "    df_test_b_tf.model.eq('pct_error'), 'pct_error_cf', df_test_b_tf.model\n",
    ")\n",
    "\n",
    "df_test_b_tf = pct_error_plot(\n",
    "    df_test_b_tf,\n",
    "    df_test_m,\n",
    "    'box',\n",
    "    'tf'\n",
    ")"
   ]
  },
  {
   "cell_type": "markdown",
   "metadata": {},
   "source": [
    "With 200 training epochs, it seems that the closed-form solution and TensorFlow solutions with learning rates 0.0001 and 0.1, respectively perform equally well on average for all days of test except day=7. The TensorFlow solution with learning rate 0.0001 has a low performance on the 7 day, it will be worth investigating why."
   ]
  },
  {
   "cell_type": "markdown",
   "metadata": {},
   "source": [
    "---\n",
    "#### References\n",
    "---"
   ]
  },
  {
   "cell_type": "markdown",
   "metadata": {},
   "source": [
    "This Demo was motivated by a recently published paper in Nature - Scientific Reports: [Public mobility data enables COVID-19 forecasting and management at local and global scales](https://www.nature.com/articles/s41598-021-92892-8). "
   ]
  }
 ],
 "metadata": {
  "kernelspec": {
   "display_name": "Python 3 (ipykernel)",
   "language": "python",
   "name": "python3"
  },
  "language_info": {
   "codemirror_mode": {
    "name": "ipython",
    "version": 3
   },
   "file_extension": ".py",
   "mimetype": "text/x-python",
   "name": "python",
   "nbconvert_exporter": "python",
   "pygments_lexer": "ipython3",
   "version": "3.9.12"
  }
 },
 "nbformat": 4,
 "nbformat_minor": 4
}
