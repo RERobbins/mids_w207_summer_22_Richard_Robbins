{
 "cells": [
  {
   "cell_type": "markdown",
   "id": "domestic-pathology",
   "metadata": {},
   "source": [
    "# TensorFlow basics"
   ]
  },
  {
   "cell_type": "code",
   "execution_count": 1,
   "id": "conventional-infrared",
   "metadata": {},
   "outputs": [
    {
     "name": "stdout",
     "output_type": "stream",
     "text": [
      "env: TF_CPP_MIN_LOG_LEVEL=3  # silence some TensorFlow warnings and logs.\n"
     ]
    }
   ],
   "source": [
    "# Tensorflow is a library which enables you to build efficient deep learning models.\n",
    "# You can create models with custom layers, losses, optimizers and more\n",
    "# TF also provides tools to create custom data processing pipelines\n",
    "\n",
    "%env TF_CPP_MIN_LOG_LEVEL=3  # silence some TensorFlow warnings and logs.\n",
    "\n",
    "import numpy as np\n",
    "import tensorflow as tf"
   ]
  },
  {
   "cell_type": "markdown",
   "id": "worldwide-expression",
   "metadata": {},
   "source": [
    "## Tensor"
   ]
  },
  {
   "cell_type": "code",
   "execution_count": 2,
   "id": "binding-tunnel",
   "metadata": {},
   "outputs": [
    {
     "name": "stdout",
     "output_type": "stream",
     "text": [
      "tf.Tensor([0 1 2 3 4], shape=(5,), dtype=int64)\n",
      "tf.Tensor([1. 1. 1. 1. 1.], shape=(5,), dtype=float64)\n"
     ]
    }
   ],
   "source": [
    "# Tensors are similar to numpy arrays. They're used to represent inputs and outputs of operations\n",
    "# You can create tensors from numpy arrays using the convert_to_tensor function\n",
    "\n",
    "a = np.arange(5)\n",
    "b = np.ones(5)\n",
    "\n",
    "a = tf.convert_to_tensor(a)\n",
    "b = tf.convert_to_tensor(b)\n",
    "\n",
    "print(a)\n",
    "print(b)"
   ]
  },
  {
   "cell_type": "code",
   "execution_count": 3,
   "id": "foster-gambling",
   "metadata": {},
   "outputs": [
    {
     "data": {
      "text/plain": [
       "<tf.Tensor: shape=(5,), dtype=int64, numpy=array([1, 2, 3, 4, 5])>"
      ]
     },
     "execution_count": 3,
     "metadata": {},
     "output_type": "execute_result"
    }
   ],
   "source": [
    "# Tensors support similar operations to numpy arrays\n",
    "# The syntax is a little different\n",
    "\n",
    "b = tf.cast(b, tf.int64)\n",
    "a + b"
   ]
  },
  {
   "cell_type": "code",
   "execution_count": 4,
   "id": "urban-privilege",
   "metadata": {},
   "outputs": [
    {
     "data": {
      "text/plain": [
       "<tf.Tensor: shape=(2, 3, 4), dtype=int64, numpy=\n",
       "array([[[ 0,  1,  2,  3],\n",
       "        [ 4,  5,  6,  7],\n",
       "        [ 8,  9, 10, 11]],\n",
       "\n",
       "       [[12, 13, 14, 15],\n",
       "        [16, 17, 18, 19],\n",
       "        [20, 21, 22, 23]]])>"
      ]
     },
     "execution_count": 4,
     "metadata": {},
     "output_type": "execute_result"
    }
   ],
   "source": [
    "a = np.arange(24)\n",
    "a = tf.convert_to_tensor(a)\n",
    "a = tf.reshape(a, [2, 3, 4])\n",
    "a"
   ]
  },
  {
   "cell_type": "code",
   "execution_count": 5,
   "id": "unable-guess",
   "metadata": {},
   "outputs": [
    {
     "data": {
      "text/plain": [
       "<tf.Tensor: shape=(), dtype=int64, numpy=276>"
      ]
     },
     "execution_count": 5,
     "metadata": {},
     "output_type": "execute_result"
    }
   ],
   "source": [
    "total = tf.reduce_sum(a)  # similar to numpy.sum\n",
    "total"
   ]
  },
  {
   "cell_type": "code",
   "execution_count": 6,
   "id": "flying-acrylic",
   "metadata": {},
   "outputs": [
    {
     "data": {
      "text/plain": [
       "<tf.Tensor: shape=(3, 4), dtype=int64, numpy=\n",
       "array([[ 6,  7,  8,  9],\n",
       "       [10, 11, 12, 13],\n",
       "       [14, 15, 16, 17]])>"
      ]
     },
     "execution_count": 6,
     "metadata": {},
     "output_type": "execute_result"
    }
   ],
   "source": [
    "avg = tf.reduce_mean(a, axis=0)\n",
    "avg"
   ]
  },
  {
   "cell_type": "markdown",
   "id": "blank-manufacturer",
   "metadata": {},
   "source": [
    "## Layer"
   ]
  },
  {
   "cell_type": "code",
   "execution_count": 7,
   "id": "planned-provincial",
   "metadata": {},
   "outputs": [],
   "source": [
    "# Layers are the building blocks of models. You can specify custom layers like so\n",
    "# Broadly two steps - 1. initialize layer parameters, define trainable weights\n",
    "# 2. Specify the forward prop operation\n",
    "# backprop is automatically calculated for you thanks to auto differentiation.\n",
    "\n",
    "# https://www.tensorflow.org/guide/keras/custom_layers_and_models\n",
    "\n",
    "class Linear(tf.keras.layers.Layer):\n",
    "    def __init__(self, units=32, input_dim=32):\n",
    "        super(Linear, self).__init__()\n",
    "        w_init = tf.random_normal_initializer()\n",
    "        self.w = tf.Variable(  # The weights of the layer\n",
    "            initial_value=w_init(shape=(input_dim, units), dtype=\"float32\"),\n",
    "            trainable=True,\n",
    "        )\n",
    "        b_init = tf.zeros_initializer()\n",
    "        self.b = tf.Variable(   # bias term\n",
    "            initial_value=b_init(shape=(units,), dtype=\"float32\"), trainable=True\n",
    "        )\n",
    "\n",
    "    def call(self, inputs):  # forward prop\n",
    "        return tf.matmul(inputs, self.w) + self.b\n"
   ]
  },
  {
   "cell_type": "code",
   "execution_count": 8,
   "id": "answering-partnership",
   "metadata": {},
   "outputs": [
    {
     "name": "stdout",
     "output_type": "stream",
     "text": [
      "tf.Tensor(\n",
      "[[-0.03293652 -0.02361627 -0.07453395 -0.06298013]\n",
      " [-0.03293652 -0.02361627 -0.07453395 -0.06298013]\n",
      " [-0.03293652 -0.02361627 -0.07453395 -0.06298013]\n",
      " [-0.03293652 -0.02361627 -0.07453395 -0.06298013]\n",
      " [-0.03293652 -0.02361627 -0.07453395 -0.06298013]\n",
      " [-0.03293652 -0.02361627 -0.07453395 -0.06298013]\n",
      " [-0.03293652 -0.02361627 -0.07453395 -0.06298013]\n",
      " [-0.03293652 -0.02361627 -0.07453395 -0.06298013]\n",
      " [-0.03293652 -0.02361627 -0.07453395 -0.06298013]\n",
      " [-0.03293652 -0.02361627 -0.07453395 -0.06298013]], shape=(10, 4), dtype=float32)\n"
     ]
    }
   ],
   "source": [
    "x = tf.ones((10, 2))\n",
    "linear_layer = Linear(4, 2)\n",
    "y = linear_layer(x)\n",
    "print(y)"
   ]
  },
  {
   "cell_type": "code",
   "execution_count": 9,
   "id": "imposed-august",
   "metadata": {},
   "outputs": [
    {
     "name": "stdout",
     "output_type": "stream",
     "text": [
      "tf.Tensor(\n",
      "[[-1.203716    0.44254613  0.6185038  -0.6611192 ]\n",
      " [-1.203716    0.44254613  0.6185038  -0.6611192 ]\n",
      " [-1.203716    0.44254613  0.6185038  -0.6611192 ]\n",
      " [-1.203716    0.44254613  0.6185038  -0.6611192 ]\n",
      " [-1.203716    0.44254613  0.6185038  -0.6611192 ]\n",
      " [-1.203716    0.44254613  0.6185038  -0.6611192 ]\n",
      " [-1.203716    0.44254613  0.6185038  -0.6611192 ]\n",
      " [-1.203716    0.44254613  0.6185038  -0.6611192 ]\n",
      " [-1.203716    0.44254613  0.6185038  -0.6611192 ]\n",
      " [-1.203716    0.44254613  0.6185038  -0.6611192 ]], shape=(10, 4), dtype=float32)\n"
     ]
    }
   ],
   "source": [
    "# Tensorflow provides a large number of pre-defined layers\n",
    "# You can use them out of the box instead of having to define them yourself\n",
    "\n",
    "x = tf.ones((10, 2))\n",
    "linear_layer = tf.keras.layers.Dense(4)  # built in linear layer\n",
    "y = linear_layer(x)\n",
    "print(y)"
   ]
  },
  {
   "cell_type": "markdown",
   "id": "integral-kingston",
   "metadata": {},
   "source": [
    "## Model"
   ]
  },
  {
   "cell_type": "code",
   "execution_count": 10,
   "id": "welcome-paradise",
   "metadata": {},
   "outputs": [],
   "source": [
    "# A model is a collection of layers which transform the inputs to predictions\n",
    "# Simple types of models are sequential where there output of one layer feeds into the next\n",
    "\n",
    "model = tf.keras.models.Sequential([\n",
    "  tf.keras.layers.Flatten(input_shape=(28, 28, 1)),\n",
    "  tf.keras.layers.Dense(128, activation=\"relu\"),\n",
    "  tf.keras.layers.Dense(3, activation=\"softmax\")\n",
    "])"
   ]
  },
  {
   "cell_type": "code",
   "execution_count": 12,
   "id": "reasonable-variation",
   "metadata": {},
   "outputs": [],
   "source": [
    "# You can define custom models similar to custom layers.\n",
    "# Sublcass Model only if you will be calling fit / predict. Otherwise sublcass layer\n",
    "\n",
    "class ResNet(tf.keras.Model):\n",
    "\n",
    "    def __init__(self, num_classes=1000):\n",
    "        super(ResNet, self).__init__()\n",
    "        self.block_1 = ResNetBlock()  # a custom layer\n",
    "        self.block_2 = ResNetBlock()\n",
    "        self.global_pool = layers.GlobalAveragePooling2D()\n",
    "        self.classifier = Dense(num_classes)\n",
    "\n",
    "    def call(self, inputs):  # forward prop through layers\n",
    "        x = self.block_1(inputs)\n",
    "        x = self.block_2(x)\n",
    "        x = self.global_pool(x)\n",
    "        return self.classifier(x)"
   ]
  },
  {
   "cell_type": "code",
   "execution_count": 13,
   "id": "opponent-checkout",
   "metadata": {},
   "outputs": [
    {
     "data": {
      "text/plain": [
       "array([[0.65325093, 0.10713692, 0.23961219],\n",
       "       [0.5890078 , 0.13832372, 0.27266842],\n",
       "       [0.3121852 , 0.21279208, 0.4750228 ],\n",
       "       [0.55179036, 0.28033993, 0.16786964],\n",
       "       [0.5258448 , 0.26954064, 0.20461458],\n",
       "       [0.6607254 , 0.21453238, 0.1247422 ],\n",
       "       [0.5956045 , 0.21557495, 0.18882057],\n",
       "       [0.5819955 , 0.19054753, 0.22745697],\n",
       "       [0.45831108, 0.2663511 , 0.2753378 ],\n",
       "       [0.6027861 , 0.11960161, 0.2776123 ]], dtype=float32)"
      ]
     },
     "execution_count": 13,
     "metadata": {},
     "output_type": "execute_result"
    }
   ],
   "source": [
    "# You can call a model on a numpy array or tensor to get the output as a tensor\n",
    "\n",
    "X = np.random.random((10, 28, 28, 1))\n",
    "y_pred = model(X).numpy()   # convert output tensor to numpy array\n",
    "y_pred"
   ]
  },
  {
   "cell_type": "markdown",
   "id": "suitable-sociology",
   "metadata": {},
   "source": [
    "# Training a model"
   ]
  },
  {
   "cell_type": "code",
   "execution_count": 14,
   "id": "unable-graph",
   "metadata": {},
   "outputs": [
    {
     "name": "stdout",
     "output_type": "stream",
     "text": [
      "(60000, 28, 28) (60000,)\n"
     ]
    }
   ],
   "source": [
    "# https://www.tensorflow.org/guide/keras/train_and_evaluate\n",
    "# https://www.tensorflow.org/tutorials/quickstart/beginner\n",
    "\n",
    "# let's download some data\n",
    "mnist = tf.keras.datasets.mnist\n",
    "\n",
    "(x_train, y_train), (x_test, y_test) = mnist.load_data()\n",
    "x_train, x_test = x_train / 255.0, x_test / 255.0\n",
    "\n",
    "print(x_train.shape, y_train.shape)"
   ]
  },
  {
   "cell_type": "code",
   "execution_count": 16,
   "id": "single-membrane",
   "metadata": {},
   "outputs": [],
   "source": [
    "# create a model\n",
    "\n",
    "model = tf.keras.models.Sequential([\n",
    "  tf.keras.layers.Flatten(input_shape=(28, 28)),\n",
    "  tf.keras.layers.Dense(128, activation='relu'),\n",
    "  tf.keras.layers.Dropout(0.2),\n",
    "  tf.keras.layers.Dense(10, activation=\"softmax\")\n",
    "])"
   ]
  },
  {
   "cell_type": "code",
   "execution_count": 17,
   "id": "accompanied-bones",
   "metadata": {},
   "outputs": [],
   "source": [
    "# Specify model training parameters\n",
    "\n",
    "optimizer = tf.keras.optimizers.Adam(lr=1e-5)\n",
    "loss = tf.keras.losses.SparseCategoricalCrossentropy()\n",
    "metrics = [\"accuracy\"]\n",
    "\n",
    "model.compile(optimizer, loss, metrics)"
   ]
  },
  {
   "cell_type": "code",
   "execution_count": 18,
   "id": "pleased-greek",
   "metadata": {},
   "outputs": [
    {
     "name": "stdout",
     "output_type": "stream",
     "text": [
      "Epoch 1/5\n",
      "1875/1875 [==============================] - 3s 2ms/step - loss: 2.0460 - accuracy: 0.3131\n",
      "Epoch 2/5\n",
      "1875/1875 [==============================] - 3s 1ms/step - loss: 1.1138 - accuracy: 0.7472\n",
      "Epoch 3/5\n",
      "1875/1875 [==============================] - 3s 1ms/step - loss: 0.7590 - accuracy: 0.8133\n",
      "Epoch 4/5\n",
      "1875/1875 [==============================] - 3s 1ms/step - loss: 0.6048 - accuracy: 0.8453\n",
      "Epoch 5/5\n",
      "1875/1875 [==============================] - 3s 1ms/step - loss: 0.5291 - accuracy: 0.8580\n"
     ]
    }
   ],
   "source": [
    "# Train the model\n",
    "# https://www.tensorflow.org/api_docs/python/tf/keras/Model#fit\n",
    "\n",
    "history = model.fit(x_train, y_train, epochs=5)  # read docs for more params"
   ]
  },
  {
   "cell_type": "markdown",
   "id": "western-species",
   "metadata": {},
   "source": [
    "## Dataset objects"
   ]
  },
  {
   "cell_type": "code",
   "execution_count": 19,
   "id": "excited-muslim",
   "metadata": {},
   "outputs": [
    {
     "data": {
      "text/plain": [
       "<tf.Tensor: shape=(5, 2), dtype=int64, numpy=\n",
       "array([[0, 1],\n",
       "       [2, 3],\n",
       "       [4, 5],\n",
       "       [6, 7],\n",
       "       [8, 9]])>"
      ]
     },
     "execution_count": 19,
     "metadata": {},
     "output_type": "execute_result"
    }
   ],
   "source": [
    "# Dataset objects enable you to create efficient data processing pipelines\n",
    "# You can think of them sort of as data generators\n",
    "# https://www.tensorflow.org/api_docs/python/tf/data/Dataset\n",
    "\n",
    "x = np.arange(10).reshape(5,2)\n",
    "x = tf.convert_to_tensor(x)\n",
    "x"
   ]
  },
  {
   "cell_type": "code",
   "execution_count": 20,
   "id": "veterinary-peace",
   "metadata": {},
   "outputs": [
    {
     "name": "stdout",
     "output_type": "stream",
     "text": [
      "tf.Tensor([0 1], shape=(2,), dtype=int64)\n",
      "tf.Tensor([2 3], shape=(2,), dtype=int64)\n",
      "tf.Tensor([4 5], shape=(2,), dtype=int64)\n",
      "tf.Tensor([6 7], shape=(2,), dtype=int64)\n",
      "tf.Tensor([8 9], shape=(2,), dtype=int64)\n"
     ]
    }
   ],
   "source": [
    "# We can create a dataset directly from a tensor.\n",
    "# The tensor is sliced along axis 0 to yield individual training elements.\n",
    "\n",
    "dataset = tf.data.Dataset.from_tensor_slices(x)\n",
    "for element in dataset:\n",
    "  print(element)"
   ]
  },
  {
   "cell_type": "code",
   "execution_count": 21,
   "id": "opening-technician",
   "metadata": {},
   "outputs": [
    {
     "name": "stdout",
     "output_type": "stream",
     "text": [
      "tf.Tensor([0 1], shape=(2,), dtype=int64)\n",
      "tf.Tensor([4 9], shape=(2,), dtype=int64)\n",
      "tf.Tensor([16 25], shape=(2,), dtype=int64)\n",
      "tf.Tensor([36 49], shape=(2,), dtype=int64)\n",
      "tf.Tensor([64 81], shape=(2,), dtype=int64)\n"
     ]
    }
   ],
   "source": [
    "# You can transform items in a dataset as they're being generated\n",
    "# This example squares elements of each tensor\n",
    "\n",
    "dataset1 = dataset.map(lambda x: x * x)\n",
    "for element in dataset1:\n",
    "  print(element)"
   ]
  },
  {
   "cell_type": "code",
   "execution_count": 22,
   "id": "narrative-cover",
   "metadata": {},
   "outputs": [
    {
     "name": "stdout",
     "output_type": "stream",
     "text": [
      "tf.Tensor([36 49], shape=(2,), dtype=int64)\n",
      "tf.Tensor([4 9], shape=(2,), dtype=int64)\n",
      "tf.Tensor([0 1], shape=(2,), dtype=int64)\n",
      "tf.Tensor([64 81], shape=(2,), dtype=int64)\n",
      "tf.Tensor([16 25], shape=(2,), dtype=int64)\n"
     ]
    }
   ],
   "source": [
    "# You can shuffle elements in a dataset\n",
    "\n",
    "dataset2 = dataset1.shuffle(5)\n",
    "for element in dataset2:\n",
    "  print(element)"
   ]
  },
  {
   "cell_type": "code",
   "execution_count": 23,
   "id": "abroad-glucose",
   "metadata": {},
   "outputs": [
    {
     "name": "stdout",
     "output_type": "stream",
     "text": [
      "tf.Tensor(\n",
      "[[36 49]\n",
      " [64 81]], shape=(2, 2), dtype=int64)\n",
      "tf.Tensor(\n",
      "[[0 1]\n",
      " [4 9]], shape=(2, 2), dtype=int64)\n",
      "tf.Tensor([[16 25]], shape=(1, 2), dtype=int64)\n"
     ]
    }
   ],
   "source": [
    "# You can group elements of a dataset to create a batch of inputs\n",
    "# Here, each batch consists of 2 tensors, each tensor has 2 elements\n",
    "\n",
    "dataset3 = dataset2.batch(2).prefetch(2)\n",
    "for element in dataset3:\n",
    "  print(element)"
   ]
  },
  {
   "cell_type": "code",
   "execution_count": 24,
   "id": "moral-panel",
   "metadata": {},
   "outputs": [],
   "source": [
    "# You can create a dataset which yields both the inputs as well as target labels as a pair\n",
    "# A complete pipeline looks something like this\n",
    "\n",
    "x = np.random.random((10, 5))\n",
    "y = np.random.random((10, 1))\n",
    "\n",
    "x = tf.convert_to_tensor(x)\n",
    "y = tf.convert_to_tensor(y)\n",
    "\n",
    "xdata = tf.data.Dataset.from_tensor_slices(x)\n",
    "ydata = tf.data.Dataset.from_tensor_slices(y)\n",
    "\n",
    "dataset4 = tf.data.Dataset.zip((xdata, ydata))\n",
    "dataset5 = dataset4.batch(2).prefetch(2)"
   ]
  },
  {
   "cell_type": "code",
   "execution_count": 25,
   "id": "broadband-mailman",
   "metadata": {},
   "outputs": [
    {
     "name": "stdout",
     "output_type": "stream",
     "text": [
      "tf.Tensor(\n",
      "[[0.70635636 0.85159591 0.07282059 0.94387339 0.31047997]\n",
      " [0.5027618  0.40976972 0.50072862 0.17573116 0.65300608]], shape=(2, 5), dtype=float64)\n",
      "tf.Tensor(\n",
      "[[0.39496892]\n",
      " [0.08595213]], shape=(2, 1), dtype=float64)\n",
      "tf.Tensor(\n",
      "[[0.43742094 0.22395794 0.19410001 0.04797289 0.57758319]\n",
      " [0.82328528 0.96187715 0.62288375 0.76993745 0.02660908]], shape=(2, 5), dtype=float64)\n",
      "tf.Tensor(\n",
      "[[0.98174687]\n",
      " [0.58336443]], shape=(2, 1), dtype=float64)\n",
      "tf.Tensor(\n",
      "[[0.32513469 0.63147515 0.89962316 0.34758512 0.35159264]\n",
      " [0.35372105 0.44819417 0.49637524 0.35303088 0.08571832]], shape=(2, 5), dtype=float64)\n",
      "tf.Tensor(\n",
      "[[0.23170723]\n",
      " [0.73871271]], shape=(2, 1), dtype=float64)\n",
      "tf.Tensor(\n",
      "[[0.39499834 0.72287297 0.23275004 0.38118985 0.41914835]\n",
      " [0.48593847 0.63683236 0.12377803 0.79514066 0.99470932]], shape=(2, 5), dtype=float64)\n",
      "tf.Tensor(\n",
      "[[0.12895231]\n",
      " [0.71868287]], shape=(2, 1), dtype=float64)\n",
      "tf.Tensor(\n",
      "[[0.26353255 0.01301953 0.03679202 0.60177822 0.86128574]\n",
      " [0.57731539 0.52758255 0.78939895 0.50229886 0.47059267]], shape=(2, 5), dtype=float64)\n",
      "tf.Tensor(\n",
      "[[0.64203451]\n",
      " [0.89568141]], shape=(2, 1), dtype=float64)\n"
     ]
    }
   ],
   "source": [
    "for element in dataset5:\n",
    "  print(element[0])\n",
    "  print(element[1])"
   ]
  }
 ],
 "metadata": {
  "kernelspec": {
   "display_name": "Python 3",
   "language": "python",
   "name": "python3"
  },
  "language_info": {
   "codemirror_mode": {
    "name": "ipython",
    "version": 3
   },
   "file_extension": ".py",
   "mimetype": "text/x-python",
   "name": "python",
   "nbconvert_exporter": "python",
   "pygments_lexer": "ipython3",
   "version": "3.8.3"
  }
 },
 "nbformat": 4,
 "nbformat_minor": 5
}
