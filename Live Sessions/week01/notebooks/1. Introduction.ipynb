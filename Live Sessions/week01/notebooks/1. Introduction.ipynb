{
 "cells": [
  {
   "cell_type": "markdown",
   "metadata": {},
   "source": [
    "## Week 1: Introduction\n",
    "\n",
    "Instructor: Cornelia Ilin <br>\n",
    "Email: cilin@ischool.berkeley.edu <br>"
   ]
  },
  {
   "cell_type": "markdown",
   "metadata": {},
   "source": [
    "#### ``Objectives``"
   ]
  },
  {
   "cell_type": "markdown",
   "metadata": {},
   "source": [
    "1. Introduce you to a typical workflow for using Machine Learning in predictive modeling.\n",
    "\n",
    "2. Read through the commands, try making changes, and make sure you understand how the functions work.\n",
    "\n",
    "3. Focus on making your code as organized and readable as possible. Use lots of comments!!"
   ]
  },
  {
   "cell_type": "markdown",
   "metadata": {},
   "source": [
    "#### ``Motivation``"
   ]
  },
  {
   "cell_type": "markdown",
   "metadata": {},
   "source": [
    "1. Machine learning is an exciting field that can help you turn massive data into knowledge.\n",
    "\n",
    "2. Use powerful algorithms to learn patterns from data and make predictions about future events.\n",
    "\n",
    "3. Easyto break into the field, thanks to the many open source libraries (sklearn, tensorflow, etc.)"
   ]
  },
  {
   "cell_type": "markdown",
   "metadata": {},
   "source": [
    "#### ``Data``"
   ]
  },
  {
   "cell_type": "markdown",
   "metadata": {},
   "source": [
    "1. Generated using numpy\n",
    "2. Size = (200, 1)"
   ]
  },
  {
   "cell_type": "markdown",
   "metadata": {},
   "source": [
    "---"
   ]
  },
  {
   "cell_type": "markdown",
   "metadata": {},
   "source": [
    "### Step 1: Import packages"
   ]
  },
  {
   "cell_type": "code",
   "execution_count": 31,
   "metadata": {},
   "outputs": [],
   "source": [
    "# standard \n",
    "import numpy as np\n",
    "\n",
    "# plots\n",
    "import matplotlib.pyplot as plt\n",
    "import seaborn as sb\n",
    "\n",
    "# prediction\n",
    "from sklearn.model_selection import train_test_split\n",
    "from sklearn.linear_model import LinearRegression\n",
    "from sklearn.preprocessing import PolynomialFeatures\n",
    "from sklearn.pipeline import Pipeline\n",
    "\n",
    "# This tells matplolib not to try opening a new window for each plot\n",
    "%matplotlib inline\n",
    "\n",
    "# silence warnings\n",
    "import warnings\n",
    "warnings.filterwarnings('ignore')"
   ]
  },
  {
   "cell_type": "markdown",
   "metadata": {},
   "source": [
    "### Step 2: Set working directories"
   ]
  },
  {
   "cell_type": "code",
   "execution_count": 2,
   "metadata": {},
   "outputs": [],
   "source": [
    "# ADD HERE"
   ]
  },
  {
   "cell_type": "markdown",
   "metadata": {},
   "source": [
    "### Step 3: Define functions"
   ]
  },
  {
   "cell_type": "code",
   "execution_count": 3,
   "metadata": {},
   "outputs": [],
   "source": [
    "# ADD HERE"
   ]
  },
  {
   "cell_type": "markdown",
   "metadata": {},
   "source": [
    "### Step 4: Read data"
   ]
  },
  {
   "cell_type": "markdown",
   "metadata": {},
   "source": [
    "This time we will generate our own data, y and X, by using a random number generator."
   ]
  },
  {
   "cell_type": "markdown",
   "metadata": {},
   "source": [
    "generate X:"
   ]
  },
  {
   "cell_type": "code",
   "execution_count": 4,
   "metadata": {},
   "outputs": [],
   "source": [
    "# set a randomizer seeds (this will ensure the results are the same each time)\n",
    "np.random.seed(100)\n",
    "\n",
    "# set len(X)\n",
    "len_X = 50\n",
    "\n",
    "# generate evenly spaced X values in [0, 1]. Set len(X) = 20\n",
    "X = np.linspace(0, 1, len_X)"
   ]
  },
  {
   "cell_type": "code",
   "execution_count": 5,
   "metadata": {},
   "outputs": [
    {
     "name": "stdout",
     "output_type": "stream",
     "text": [
      "Question 1: What is the data type of X?\n",
      "<class 'numpy.ndarray'>\n",
      "[0.         0.02040816 0.04081633 0.06122449 0.08163265 0.10204082\n",
      " 0.12244898 0.14285714 0.16326531 0.18367347 0.20408163 0.2244898\n",
      " 0.24489796 0.26530612 0.28571429 0.30612245 0.32653061 0.34693878\n",
      " 0.36734694 0.3877551  0.40816327 0.42857143 0.44897959 0.46938776\n",
      " 0.48979592 0.51020408 0.53061224 0.55102041 0.57142857 0.59183673\n",
      " 0.6122449  0.63265306 0.65306122 0.67346939 0.69387755 0.71428571\n",
      " 0.73469388 0.75510204 0.7755102  0.79591837 0.81632653 0.83673469\n",
      " 0.85714286 0.87755102 0.89795918 0.91836735 0.93877551 0.95918367\n",
      " 0.97959184 1.        ]\n"
     ]
    }
   ],
   "source": [
    "print(\"Question 1: What is the data type of X?\")\n",
    "print(type(X))\n",
    "print(X)"
   ]
  },
  {
   "cell_type": "markdown",
   "metadata": {},
   "source": [
    "generate y:"
   ]
  },
  {
   "cell_type": "code",
   "execution_count": 6,
   "metadata": {},
   "outputs": [
    {
     "name": "stdout",
     "output_type": "stream",
     "text": [
      "1.0\n",
      "-0.7071067811865475\n",
      "[ 1.         -0.70710678]\n"
     ]
    }
   ],
   "source": [
    "# create a \"true\" function (a piece of a cosine curve) that we will try to approximate with a model\n",
    "true_function = lambda x: np.cos(1.5 * np.pi * x)\n",
    "\n",
    "# try this function out. Notice that you can apply it to a scalar, an array, or you can use it even in pandas\n",
    "print(true_function(0))\n",
    "print(true_function(0.5))\n",
    "print(true_function(np.array([0, 0.5])))"
   ]
  },
  {
   "cell_type": "code",
   "execution_count": 7,
   "metadata": {},
   "outputs": [
    {
     "name": "stdout",
     "output_type": "stream",
     "text": [
      "['1.00', '1.00', '0.98', '0.96', '0.93', '0.89', '0.84', '0.78', '0.72', '0.65', '0.57', '0.49', '0.40', '0.32', '0.22', '0.13', '0.03', '-0.06', '-0.16', '-0.25', '-0.35', '-0.43', '-0.52', '-0.60', '-0.67', '-0.74', '-0.80', '-0.86', '-0.90', '-0.94', '-0.97', '-0.99', '-1.00', '-1.00', '-0.99', '-0.97', '-0.95', '-0.91', '-0.87', '-0.82', '-0.76', '-0.70', '-0.62', '-0.55', '-0.46', '-0.38', '-0.28', '-0.19', '-0.10', '-0.00']\n"
     ]
    }
   ],
   "source": [
    "# generate true y values\n",
    "y = true_function(X)\n",
    "\n",
    "# print the values of y to the nearest hundredth\n",
    "print (['%.2f' %i for i in y])"
   ]
  },
  {
   "cell_type": "code",
   "execution_count": 8,
   "metadata": {},
   "outputs": [
    {
     "name": "stdout",
     "output_type": "stream",
     "text": [
      "['0.65', '1.06', '1.21', '0.91', '1.12', '0.99', '0.88', '0.57', '0.68', '0.70', '0.48', '0.58', '0.29', '0.48', '0.36', '0.11', '-0.07', '0.14', '-0.25', '-0.48', '-0.02', '-0.13', '-0.57', '-0.77', '-0.64', '-0.55', '-0.66', '-0.58', '-0.97', '-0.93', '-0.92', '-1.28', '-1.15', '-0.84', '-0.84', '-1.07', '-0.71', '-1.25', '-1.14', '-1.07', '-0.87', '-0.83', '-0.62', '-0.67', '-0.20', '-0.72', '-0.48', '-0.12', '-0.42', '0.29']\n"
     ]
    }
   ],
   "source": [
    "# add random noise to y\n",
    "# the randn function samples random numbers from the standard Normal distribution\n",
    "# multiplying adjusts the standard deviation of the distribution\n",
    "noise = np.random.randn(len_X) * 0.2\n",
    "y += noise\n",
    "\n",
    "# print the noise-added values of y for comparison.\n",
    "print (['%.2f' %i for i in y])"
   ]
  },
  {
   "cell_type": "markdown",
   "metadata": {},
   "source": [
    "Next, we want to predict y, using the feature vector X. \n",
    "\n",
    "In this course, our outputs (y) will always be 1-dimensional. Our inputs (X) will usually have more than 1 dimension. Today, for simplicity, we have just a single feature. \n",
    "\n",
    "Since the machine learning classes in sklearn expect input feature vectors, we need to turn each input x in X into a feature vector [x]."
   ]
  },
  {
   "cell_type": "markdown",
   "metadata": {},
   "source": [
    "### Step 5: Preprocess data"
   ]
  },
  {
   "cell_type": "markdown",
   "metadata": {},
   "source": [
    "``labels and features``"
   ]
  },
  {
   "cell_type": "markdown",
   "metadata": {},
   "source": [
    "y -> labels <br>\n",
    "X -> features (1 in this case)"
   ]
  },
  {
   "cell_type": "code",
   "execution_count": 9,
   "metadata": {},
   "outputs": [],
   "source": [
    "# transform X into a vector (an alternative command is X = np.transpose(X))\n",
    "X = X[:, np.newaxis]"
   ]
  },
  {
   "cell_type": "markdown",
   "metadata": {},
   "source": [
    "``create training and test sets``"
   ]
  },
  {
   "cell_type": "code",
   "execution_count": 10,
   "metadata": {},
   "outputs": [
    {
     "name": "stdout",
     "output_type": "stream",
     "text": [
      "Size of X_train (35, 1)\n",
      "Size of y_train (35,)\n",
      "Size of X_test (15, 1)\n",
      "Size of y_test (15,)\n"
     ]
    }
   ],
   "source": [
    "# split data\n",
    "X_train, X_test, y_train, y_test = train_test_split(\n",
    "       X, y, test_size=0.30\n",
    ")\n",
    "\n",
    "# print size\n",
    "print('Size of X_train', X_train.shape)\n",
    "print('Size of y_train', y_train.shape)\n",
    "\n",
    "print('Size of X_test', X_test.shape)\n",
    "print('Size of y_test', y_test.shape)"
   ]
  },
  {
   "cell_type": "markdown",
   "metadata": {},
   "source": [
    "### Step 6: Learning Model"
   ]
  },
  {
   "cell_type": "markdown",
   "metadata": {},
   "source": [
    "###### Linear model"
   ]
  },
  {
   "cell_type": "code",
   "execution_count": 11,
   "metadata": {},
   "outputs": [
    {
     "name": "stdout",
     "output_type": "stream",
     "text": [
      "Estimated function: y = 0.79 + -2.10x\n"
     ]
    }
   ],
   "source": [
    "# model fit\n",
    "lm = LinearRegression(fit_intercept = True)\n",
    "lm.fit(X_train, y_train)\n",
    "print ('Estimated function: y = %.2f + %.2fx' %(lm.intercept_, lm.coef_[0]))"
   ]
  },
  {
   "cell_type": "markdown",
   "metadata": {},
   "source": [
    "Approximating a cosine function with a linear model doesn't work so well. By adding polynomial transformations of our feature(s), we can fit more complex functions. This is often called polynomial (nonlinear) regression. "
   ]
  },
  {
   "cell_type": "markdown",
   "metadata": {},
   "source": [
    "###### Nonlinear model (poly degree==4)"
   ]
  },
  {
   "cell_type": "code",
   "execution_count": 12,
   "metadata": {},
   "outputs": [
    {
     "name": "stdout",
     "output_type": "stream",
     "text": [
      "[[8.36734694e-01 7.00124948e-01 5.85818834e-01 4.90174943e-01]\n",
      " [8.16326531e-01 6.66389005e-01 5.43991024e-01 4.44074305e-01]\n",
      " [8.97959184e-01 8.06330696e-01 7.24052053e-01 6.50169191e-01]\n",
      " [0.00000000e+00 0.00000000e+00 0.00000000e+00 0.00000000e+00]\n",
      " [8.77551020e-01 7.70095793e-01 6.75798349e-01 5.93047531e-01]\n",
      " [5.91836735e-01 3.50270721e-01 2.07303079e-01 1.22689578e-01]\n",
      " [5.51020408e-01 3.03623490e-01 1.67302740e-01 9.21872238e-02]\n",
      " [9.18367347e-01 8.43398584e-01 7.74549720e-01 7.11321171e-01]\n",
      " [1.63265306e-01 2.66555602e-02 4.35192819e-03 7.10518889e-04]\n",
      " [2.04081633e-01 4.16493128e-02 8.49985975e-03 1.73466526e-03]]\n"
     ]
    }
   ],
   "source": [
    "# create polinomial transformations\n",
    "poly = PolynomialFeatures(degree=4, include_bias=False)\n",
    "X4_train = poly.fit_transform(X_train)\n",
    "print(X4_train[0:10])"
   ]
  },
  {
   "cell_type": "code",
   "execution_count": 13,
   "metadata": {},
   "outputs": [
    {
     "name": "stdout",
     "output_type": "stream",
     "text": [
      "Estimated function: y = 0.87 + 2.66x + -25.07x^2 + 32.74x^3 + -11.36x^4\n"
     ]
    }
   ],
   "source": [
    "# model fit\n",
    "lm4 = LinearRegression(fit_intercept=True)\n",
    "lm4.fit(X4_train, y_train)\n",
    "\n",
    "print ('Estimated function: y = %.2f + %.2fx + %.2fx^2 + %.2fx^3 + %.2fx^4' %(lm4.intercept_, lm4.coef_[0], lm4.coef_[1], lm4.coef_[2], lm4.coef_[3]))"
   ]
  },
  {
   "cell_type": "markdown",
   "metadata": {},
   "source": [
    "###### Nonlinear model (poly degree==15)"
   ]
  },
  {
   "cell_type": "code",
   "execution_count": 14,
   "metadata": {},
   "outputs": [
    {
     "name": "stdout",
     "output_type": "stream",
     "text": [
      "[[0.83673469 0.70012495 0.58581883 0.49017494 0.41014638 0.34318371\n",
      "  0.28715371 0.24027147 0.20104348 0.16822005 0.14075556 0.11777506\n",
      "  0.09854648 0.08245726 0.06899485]\n",
      " [0.81632653 0.666389   0.54399102 0.44407431 0.36250964 0.29592623\n",
      "  0.24157244 0.19720199 0.16098122 0.13141324 0.10727611 0.08757234\n",
      "  0.07148762 0.05835724 0.04763856]\n",
      " [0.89795918 0.8063307  0.72405205 0.65016919 0.5838254  0.52425138\n",
      "  0.47075634 0.42271998 0.37958528 0.34085209 0.30607127 0.2748395\n",
      "  0.24679466 0.22161153 0.19899811]]\n"
     ]
    }
   ],
   "source": [
    "# create polinomial transformations\n",
    "poly = PolynomialFeatures(degree=15, include_bias=False)\n",
    "X15_train = poly.fit_transform(X_train)\n",
    "print(X15_train[0:3])"
   ]
  },
  {
   "cell_type": "code",
   "execution_count": 15,
   "metadata": {},
   "outputs": [
    {
     "name": "stdout",
     "output_type": "stream",
     "text": [
      "Print intercept: 0.6515990931800895\n",
      "\n",
      "Print slope coefficients: [ 1.00589333e+02 -4.96007507e+03  1.12016220e+05 -1.45156165e+06\n",
      "  1.19859235e+07 -6.72033977e+07  2.66159648e+08 -7.62262212e+08\n",
      "  1.59635519e+09 -2.44509799e+09  2.70724280e+09 -2.10811194e+09\n",
      "  1.09437139e+09 -3.39804901e+08  4.77099181e+07]\n"
     ]
    }
   ],
   "source": [
    "# model fit\n",
    "lm15 = LinearRegression(fit_intercept=True)\n",
    "lm15.fit(X15_train, y_train)\n",
    "print('Print intercept:', lm15.intercept_)\n",
    "print('\\nPrint slope coefficients:', lm15.coef_)"
   ]
  },
  {
   "cell_type": "markdown",
   "metadata": {},
   "source": [
    "<span style=\"color:orange\">What is the estimated function?</span>"
   ]
  },
  {
   "cell_type": "markdown",
   "metadata": {},
   "source": [
    "### Step 7: Evaluation"
   ]
  },
  {
   "cell_type": "code",
   "execution_count": 40,
   "metadata": {},
   "outputs": [
    {
     "data": {
      "image/png": "[encoded data removed]",
      "text/plain": [
       "<Figure size 1008x288 with 3 Axes>"
      ]
     },
     "metadata": {
      "needs_background": "light"
     },
     "output_type": "display_data"
    }
   ],
   "source": [
    "degrees = [1, 4, 15]\n",
    "\n",
    "# Initialize a new plot and set plot size\n",
    "plt.figure(figsize=(14, 4)) \n",
    "\n",
    "for i in range(len(degrees)):\n",
    "    # create sublots that are all on the same row\n",
    "    ax = plt.subplot(1, len(degrees), i+1)\n",
    "    \n",
    "    # create the polynomial feature vector (or matrix)\n",
    "    poly = PolynomialFeatures(degree = degrees[i], include_bias = False)\n",
    "    temp_X_train = poly.fit_transform(X_train)\n",
    "    temp_X_test = poly.fit_transform(X_test)\n",
    "    \n",
    "    # model fit\n",
    "    lm = LinearRegression()\n",
    "    lm.fit(temp_X_train, y_train)\n",
    "    lm_yhat_train = lm.predict(temp_X_train)\n",
    "    lm_yhat_test = lm.predict(temp_X_test)\n",
    "    \n",
    "    \n",
    "    # plot the true function\n",
    "    #sb.lineplot(np.squeeze(X_train), np.squeeze(true_function(X_train)), label=\"True function\");\n",
    "    \n",
    "    # plot the true function with noise added\n",
    "    sb.scatterplot(np.squeeze(X_train), y_train, label=\"Function with noise\");\n",
    "\n",
    "    # Show the fitted function for the linear model using training data\n",
    "    sb.lineplot(np.squeeze(X_train), lm_yhat_train, color='black', label='Evaluation, train data')\n",
    "    \n",
    "    sb.lineplot(np.squeeze(X_test), lm_yhat_test, color='red', label='Prediction, test data')\n",
    "\n",
    "    \n",
    "    # Add labels, title, legend to the plot\n",
    "    plt.xlabel(\"x\")\n",
    "    plt.ylabel(\"y\")\n",
    "    plt.xlim((-.05, 1.05))\n",
    "    plt.ylim((-2, 2))\n",
    "    plt.legend(loc=\"best\")\n",
    "    plt.title(\"Degree %d\" %degrees[i])\n",
    "   "
   ]
  },
  {
   "cell_type": "markdown",
   "metadata": {},
   "source": [
    "### Conclusions"
   ]
  },
  {
   "cell_type": "markdown",
   "metadata": {},
   "source": [
    "The lesson here is that we are interested in the model that generalizes well. \n",
    "\n",
    "Clearly, the degree 1 model, while very small (only 2 parameters), doesn't fit the observed training data well. The degree 15 model fits the observed training data extremely well, but is unlikely to generalize to new (test) data.\n",
    "\n",
    "This is a case of \"over-fitting\", which often happens when we try to estimate too many parameters from just a few examples. The degree 4 model appears to be a good blend of small model size and good generalization."
   ]
  },
  {
   "cell_type": "markdown",
   "metadata": {},
   "source": [
    "---\n",
    "Exaplain what we did in this notebook by using the \"Roadmap for building ML systems\""
   ]
  },
  {
   "cell_type": "code",
   "execution_count": null,
   "metadata": {},
   "outputs": [],
   "source": [
    "Image(filename='./images/roadmap_ml_systems.PNG', width = 400)"
   ]
  }
 ],
 "metadata": {
  "kernelspec": {
   "display_name": "Python 3",
   "language": "python",
   "name": "python3"
  },
  "language_info": {
   "codemirror_mode": {
    "name": "ipython",
    "version": 3
   },
   "file_extension": ".py",
   "mimetype": "text/x-python",
   "name": "python",
   "nbconvert_exporter": "python",
   "pygments_lexer": "ipython3",
   "version": "3.8.3"
  }
 },
 "nbformat": 4,
 "nbformat_minor": 4
}
