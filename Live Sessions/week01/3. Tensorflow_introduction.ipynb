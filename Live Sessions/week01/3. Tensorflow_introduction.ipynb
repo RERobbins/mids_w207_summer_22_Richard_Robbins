{
 "cells": [
  {
   "cell_type": "markdown",
   "id": "brazilian-numbers",
   "metadata": {},
   "source": [
    "## Week 1: TensorFlow review\n",
    "\n",
    "Instructor: Cornelia Ilin <br>\n",
    "Email: cilin@ischool.berkeley.edu <br>"
   ]
  },
  {
   "cell_type": "markdown",
   "id": "governmental-fifty",
   "metadata": {},
   "source": [
    "This notebook is intended to familiarize you with some basics of TensorFlow, which you'll use extensively in this course. "
   ]
  },
  {
   "cell_type": "code",
   "execution_count": 2,
   "id": "worldwide-policy",
   "metadata": {},
   "outputs": [
    {
     "name": "stdout",
     "output_type": "stream",
     "text": [
      "env: TF_CPP_MIN_LOG_LEVEL=3  # silence some TensorFlow warnings and logs\n"
     ]
    }
   ],
   "source": [
    "import numpy as np\n",
    "import tensorflow as tf\n",
    "\n",
    "%env TF_CPP_MIN_LOG_LEVEL=3  # silence some TensorFlow warnings and logs"
   ]
  },
  {
   "cell_type": "code",
   "execution_count": null,
   "id": "welcome-republican",
   "metadata": {},
   "outputs": [],
   "source": []
  }
 ],
 "metadata": {
  "kernelspec": {
   "display_name": "Python 3",
   "language": "python",
   "name": "python3"
  },
  "language_info": {
   "codemirror_mode": {
    "name": "ipython",
    "version": 3
   },
   "file_extension": ".py",
   "mimetype": "text/x-python",
   "name": "python",
   "nbconvert_exporter": "python",
   "pygments_lexer": "ipython3",
   "version": "3.8.3"
  }
 },
 "nbformat": 4,
 "nbformat_minor": 5
}
